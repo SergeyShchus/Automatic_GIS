{
 "cells": [
  {
   "cell_type": "code",
   "execution_count": 85,
   "metadata": {},
   "outputs": [],
   "source": [
    "import os\n",
    "import datetime as dt\n",
    "\n",
    "import pandas \n",
    "\n",
    "from arcgis.gis import GIS"
   ]
  },
  {
   "cell_type": "code",
   "execution_count": 86,
   "metadata": {},
   "outputs": [],
   "source": [
    "gis = GIS(\"\", \"\", \"\")"
   ]
  },
  {
   "cell_type": "code",
   "execution_count": 95,
   "metadata": {},
   "outputs": [
    {
     "data": {
      "text/plain": [
       "[<Item title:\"Неспівпадіння по площі Прикарпаття\" type:Feature Layer Collection owner:ShchusS>, <Item title:\"Неспівпадіння з 1С Прикарпаття\" type:Feature Layer Collection owner:ShchusS>]"
      ]
     },
     "execution_count": 95,
     "metadata": {},
     "output_type": "execute_result"
    }
   ],
   "source": [
    "# Search for Feature Layers owned by the logged-in user\n",
    "my_content = gis.content.search(query=\"title:Неспівпадіння з 1С Прикарпаття\", item_type=\"Feature Layer\")\n",
    "\n",
    "my_content"
   ]
  },
  {
   "cell_type": "code",
   "execution_count": 96,
   "metadata": {},
   "outputs": [
    {
     "ename": "NameError",
     "evalue": "name 'data_path' is not defined",
     "output_type": "error",
     "traceback": [
      "\u001b[0;31m---------------------------------------------------------------------------\u001b[0m\n\u001b[0;31mNameError\u001b[0m                                 Traceback (most recent call last)",
      "In  \u001b[0;34m[96]\u001b[0m:\nLine \u001b[0;34m1\u001b[0m:     ports_df = pandas.read_csv(os.path.join(data_path, \u001b[33m\"\u001b[39;49;00m\u001b[33mНеспівпадіння по площі Прикарпаття\u001b[39;49;00m\u001b[33m\"\u001b[39;49;00m))\n",
      "\u001b[0;31mNameError\u001b[0m: name 'data_path' is not defined\n\u001b[0;31m---------------------------------------------------------------------------\u001b[0m"
     ]
    }
   ],
   "source": [
    "ports_df = pandas.read_csv(os.path.join(data_path, \"Неспівпадіння по площі Прикарпаття\"))\n",
    "ports_df"
   ]
  },
  {
   "cell_type": "code",
   "execution_count": 98,
   "metadata": {},
   "outputs": [
    {
     "data": {
      "text/plain": [
       "[<Item title:\"Хрінницька сільська рада. Неспівпадіння з 1С\" type:Feature Layer Collection owner:ShchusS>, <Item title:\"Неспівпадіння по площі\" type:Feature Layer Collection owner:MuzykaS>, <Item title:\"Неспівпадіння по площі Прикарпаття_1\" type:Feature Layer Collection owner:ShchusS>, <Item title:\"Неспівпадіння по площі Західна Агровиробнича Компанія ТОВ\" type:Feature Layer Collection owner:MuzykaS>, <Item title:\"Неспівпадіння з 1С Західна Агровиробнича Компанія ТОВ\" type:Feature Layer Collection owner:MuzykaS>, <Item title:\"Неспівпадіння з 1С Придніпровське АП ТОВ\" type:Feature Layer Collection owner:MuzykaS>, <Item title:\"Неспівпадіння по площі Придніпровське АП ТОВ\" type:Feature Layer Collection owner:MuzykaS>, <Item title:\"Неспівпадіння з 1С ЮТС-Агропродукт\" type:Feature Layer Collection owner:MuzykaS>, <Item title:\"Неспівпадіння по площі ЮТС-Агропродукт\" type:Feature Layer Collection owner:MuzykaS>, <Item title:\"Неспівпадіння по площі Поділля Агропродукт ТОВ\" type:Feature Layer Collection owner:ShchusS>]"
      ]
     },
     "execution_count": 98,
     "metadata": {},
     "output_type": "execute_result"
    }
   ],
   "source": [
    "search_result = gis.content.search(query=\"title:Неспівпадіння\", item_type=\"Feature Layer\")\n",
    "search_result"
   ]
  },
  {
   "cell_type": "code",
   "execution_count": 99,
   "metadata": {},
   "outputs": [
    {
     "data": {
      "text/plain": [
       "[<Item title:\"Harvest_wheat\" type:Feature Layer Collection owner:ShchusS>, <Item title:\"dispatchers_f1dac8eaa2424e09993eacaf4a142dec\" type:Feature Layer Collection owner:ShchusS>, <Item title:\"location_f1dac8eaa2424e09993eacaf4a142dec\" type:Feature Layer Collection owner:ShchusS>, <Item title:\"assignments_f1dac8eaa2424e09993eacaf4a142dec\" type:Feature Layer Collection owner:portaladmin>, <Item title:\"dispatchers_00b63939cae046438f4720e730d9da72\" type:Feature Layer Collection owner:portaladmin>, <Item title:\"workers_00b63939cae046438f4720e730d9da72\" type:Feature Layer Collection owner:portaladmin>, <Item title:\"location_f1dac8eaa2424e09993eacaf4a142dec\" type:Feature Layer Collection owner:portaladmin>, <Item title:\"workers_f1dac8eaa2424e09993eacaf4a142dec\" type:Feature Layer Collection owner:portaladmin>, <Item title:\"assignments_00b63939cae046438f4720e730d9da72\" type:Feature Layer Collection owner:portaladmin>, <Item title:\"dispatchers_f1dac8eaa2424e09993eacaf4a142dec\" type:Feature Layer Collection owner:portaladmin>]"
      ]
     },
     "execution_count": 99,
     "metadata": {},
     "output_type": "execute_result"
    }
   ],
   "source": [
    "# search and list all feature layers in my contents\n",
    "search_result = gis.content.search(query=\"\", item_type=\"Feature Layer\")\n",
    "search_result"
   ]
  },
  {
   "cell_type": "code",
   "execution_count": 101,
   "metadata": {},
   "outputs": [
    {
     "data": {
      "text/plain": [
       "[<Item title:\"Harvest_wheat\" type:Feature Layer Collection owner:ShchusS>, <Item title:\"dispatchers_f1dac8eaa2424e09993eacaf4a142dec\" type:Feature Layer Collection owner:ShchusS>, <Item title:\"location_f1dac8eaa2424e09993eacaf4a142dec\" type:Feature Layer Collection owner:ShchusS>, <Item title:\"assignments_f1dac8eaa2424e09993eacaf4a142dec\" type:Feature Layer Collection owner:ShchusS>, <Item title:\"workers_f1dac8eaa2424e09993eacaf4a142dec\" type:Feature Layer Collection owner:ShchusS>, <Item title:\"dispatchers_3489c4e9b87f48b1823d23d2121f7959\" type:Feature Layer Collection owner:ShchusS>, <Item title:\"location_3489c4e9b87f48b1823d23d2121f7959\" type:Feature Layer Collection owner:ShchusS>, <Item title:\"assignments_3489c4e9b87f48b1823d23d2121f7959\" type:Feature Layer Collection owner:ShchusS>, <Item title:\"workers_3489c4e9b87f48b1823d23d2121f7959\" type:Feature Layer Collection owner:ShchusS>, <Item title:\"Ділянки для редагування\" type:Feature Layer Collection owner:ShchusS>]"
      ]
     },
     "execution_count": 101,
     "metadata": {},
     "output_type": "execute_result"
    }
   ],
   "source": [
    "search_my_contents = gis.content.search(query=\"owner:ShchusS\", \n",
    "                                        item_type=\"Feature *\")\n",
    "search_my_contents"
   ]
  },
  {
   "cell_type": "code",
   "execution_count": 106,
   "metadata": {},
   "outputs": [
    {
     "data": {
      "text/plain": [
       "[<Item title:\"USA MD-OH-PA-WV Region\" type:Mobile Map Package owner:esri_nav>, <Item title:\"USA Midwest Region\" type:Mobile Map Package owner:esri_nav>, <Item title:\"USA Northeast Region\" type:Mobile Map Package owner:esri_nav>, <Item title:\"USA South Region\" type:Mobile Map Package owner:esri_nav>, <Item title:\"USA West Region\" type:Mobile Map Package owner:esri_nav>, <Item title:\"USA Bureau of Reclamation Lands-map\" type:Feature Layer Collection owner:ShchusS>, <Item title:\"USAFederalLands_CopyRows\" type:Service Definition owner:ShchusS>, <Item title:\"USAFederalLands_CopyRows\" type:Service Definition owner:ShchusS>]"
      ]
     },
     "execution_count": 106,
     "metadata": {},
     "output_type": "execute_result"
    }
   ],
   "source": [
    "search_result_USA = gis.content.search(query=\"title:USA*\")                  \n",
    "search_result_USA"
   ]
  },
  {
   "cell_type": "code",
   "execution_count": 105,
   "metadata": {},
   "outputs": [
    {
     "data": {
      "text/plain": [
       "[<Item title:\"Ukraine Country Boundary 2015\" type:Feature Layer Collection owner:esri_livingatlas>, <Item title:\"Ukraine Postcodes2 Boundaries 2015\" type:Feature Layer Collection owner:esri_livingatlas>, <Item title:\"Ukraine Postcodes3 Boundaries 2015\" type:Feature Layer Collection owner:esri_livingatlas>, <Item title:\"Ukraine Raioni Boundaries 2015\" type:Feature Layer Collection owner:esri_livingatlas>, <Item title:\"Ukraine Oblaste Boundaries 2015\" type:Feature Layer Collection owner:esri_livingatlas>, <Item title:\"Ukraine Raioni Boundaries 2017\" type:Feature Layer Collection owner:esri_livingatlas>, <Item title:\"Ukraine\" type:Mobile Map Package owner:esri_nav>, <Item title:\"Ukraine_Poland_region\" type:Map Image Layer owner:ShchusS>, <Item title:\"Ukraine Postcodes2 Boundaries 2017\" type:Feature Layer Collection owner:esri_livingatlas>, <Item title:\"Ukraine Postcodes3 Boundaries 2017\" type:Feature Layer Collection owner:esri_livingatlas>]"
      ]
     },
     "execution_count": 105,
     "metadata": {},
     "output_type": "execute_result"
    }
   ],
   "source": [
    "# search for content that begin with a prefix - say 'USA'\n",
    "search_result_Ukraine = gis.content.search(query=\"title:Ukraine*\", outside_org=True)                  \n",
    "search_result_Ukraine"
   ]
  },
  {
   "cell_type": "code",
   "execution_count": 107,
   "metadata": {},
   "outputs": [
    {
     "data": {
      "text/html": [
       "<div class=\"item_container\" style=\"height: auto; overflow: hidden; border: 1px solid #cfcfcf; border-radius: 2px; background: #f6fafa; line-height: 1.21429em; padding: 10px;\">\n",
       "                    <div class=\"item_left\" style=\"width: 210px; float: left;\">\n",
       "                       <a href='https://gis.ulf.com.ua/portal/home/item.html?id=dc02c606fa9b416eafa7e0c0f222c613' target='_blank'>\n",
       "                        <img src='data:image/png;base64,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' width='200' height='133' class=\"itemThumbnail\">\n",
       "                       </a>\n",
       "                    </div>\n",
       "\n",
       "                    <div class=\"item_right\"     style=\"float: none; width: auto; overflow: hidden;\">\n",
       "                        <a href='https://gis.ulf.com.ua/portal/home/item.html?id=dc02c606fa9b416eafa7e0c0f222c613' target='_blank'><b>Ukraine Country Boundary 2015</b>\n",
       "                        </a>\n",
       "                        <br/>This layer shows the Country boundary of Ukraine in 2015. The boundaries are optimized to improve Data Enrichment analysis performance.<img src='https://gis.ulf.com.ua/portal/home/js/jsapi/esri/css/images/item_type_icons/featureshosted16.png' style=\"vertical-align:middle;\">Feature Layer Collection by esri_livingatlas\n",
       "                        <br/>Last Modified: Октябрь 18, 2019\n",
       "                        <br/>0 comments, 0 views\n",
       "                    </div>\n",
       "                </div>\n",
       "                "
      ],
      "text/plain": [
       "<Item title:\"Ukraine Country Boundary 2015\" type:Feature Layer Collection owner:esri_livingatlas>"
      ]
     },
     "metadata": {},
     "output_type": "display_data"
    },
    {
     "data": {
      "text/html": [
       "<div class=\"item_container\" style=\"height: auto; overflow: hidden; border: 1px solid #cfcfcf; border-radius: 2px; background: #f6fafa; line-height: 1.21429em; padding: 10px;\">\n",
       "                    <div class=\"item_left\" style=\"width: 210px; float: left;\">\n",
       "                       <a href='https://gis.ulf.com.ua/portal/home/item.html?id=33b7d2be493f4bffa116ef9d010e8f95' target='_blank'>\n",
       "                        <img src='data:image/png;base64,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' width='200' height='133' class=\"itemThumbnail\">\n",
       "                       </a>\n",
       "                    </div>\n",
       "\n",
       "                    <div class=\"item_right\"     style=\"float: none; width: auto; overflow: hidden;\">\n",
       "                        <a href='https://gis.ulf.com.ua/portal/home/item.html?id=33b7d2be493f4bffa116ef9d010e8f95' target='_blank'><b>Ukraine Postcodes2 Boundaries 2015</b>\n",
       "                        </a>\n",
       "                        <br/>This layer shows the Postcodes2 level boundaries of Ukraine in 2015. The boundaries are optimized to improve Data Enrichment analysis performance.<img src='https://gis.ulf.com.ua/portal/home/js/jsapi/esri/css/images/item_type_icons/featureshosted16.png' style=\"vertical-align:middle;\">Feature Layer Collection by esri_livingatlas\n",
       "                        <br/>Last Modified: Октябрь 18, 2019\n",
       "                        <br/>0 comments, 0 views\n",
       "                    </div>\n",
       "                </div>\n",
       "                "
      ],
      "text/plain": [
       "<Item title:\"Ukraine Postcodes2 Boundaries 2015\" type:Feature Layer Collection owner:esri_livingatlas>"
      ]
     },
     "metadata": {},
     "output_type": "display_data"
    },
    {
     "data": {
      "text/html": [
       "<div class=\"item_container\" style=\"height: auto; overflow: hidden; border: 1px solid #cfcfcf; border-radius: 2px; background: #f6fafa; line-height: 1.21429em; padding: 10px;\">\n",
       "                    <div class=\"item_left\" style=\"width: 210px; float: left;\">\n",
       "                       <a href='https://gis.ulf.com.ua/portal/home/item.html?id=f02f19d493c64fd0aad34b96cdcba043' target='_blank'>\n",
       "                        <img src='data:image/png;base64,/9j/4AAQSkZJRgABAAEAYABgAAD//gAfTEVBRCBUZWNobm9sb2dpZXMgSW5jLiBWMS4wMQD/2wCEAAUFBQgFCAwHBwwMCQkJDA0MDAwMDQ0NDQ0NDQ0NDQ0NDQ0NDQ0NDQ0NDQ0NDQ0NDQ0NDQ0NDQ0NDQ0NDQ0NDQ0BBQgICgcKDAcHDA0MCgwNDQ0NDQ0NDQ0NDQ0NDQ0NDQ0NDQ0NDQ0NDQ0NDQ0NDQ0NDQ0NDQ0NDQ0NDQ0NDQ0NDf/EAaIAAAEFAQEBAQEBAAAAAAAAAAABAgMEBQYHCAkKCwEAAwEBAQEBAQEBAQAAAAAAAAECAwQFBgcICQoLEAACAQMDAgQDBQUEBAAAAX0BAgMABBEFEiExQQYTUWEHInEUMoGRoQgjQrHBFVLR8CQzYnKCCQoWFxgZGiUmJygpKjQ1Njc4OTpDREVGR0hJSlNUVVZXWFlaY2RlZmdoaWpzdHV2d3h5eoOEhYaHiImKkpOUlZaXmJmaoqOkpaanqKmqsrO0tba3uLm6wsPExcbHyMnK0tPU1dbX2Nna4eLj5OXm5+jp6vHy8/T19vf4+foRAAIBAgQEAwQHBQQEAAECdwABAgMRBAUhMQYSQVEHYXETIjKBCBRCkaGxwQkjM1LwFWJy0QoWJDThJfEXGBkaJicoKSo1Njc4OTpDREVGR0hJSlNUVVZXWFlaY2RlZmdoaWpzdHV2d3h5eoKDhIWGh4iJipKTlJWWl5iZmqKjpKWmp6ipqrKztLW2t7i5usLDxMXGx8jJytLT1NXW19jZ2uLj5OXm5+jp6vLz9PX29/j5+v/AABEIAIUAyAMBEQACEQEDEQH/2gAMAwEAAhEDEQA/APVbhpLqZ7OERPGgVtzZbYzbhkbSCroVJGCD3DDt5K91c2pwrTU34IvJjWMszlQBuY5ZsDqT3J71D7kktIQUAFAFW+QSW8qHo0bjj3UiqWjXqNboktpDLEjk5LIrZHfIBzSegGfqtktwnmL8kq42uOoxyM9Ny56qeCCRxk007adATt6FaO++1Iq/ceMBXTPKuOOenBxlW/iXBFNq3oDVjQuLmKxlWSRgolHA/izxyB1I9cDjvSSb2C3YpanfJcIqwMXjVwZwmRII8HkLwxTdgtt+8FKANkrVRVt9O3a5SVv0JE017lFX7Q0toSGC8NuA5UeZgsyZwcEknoxK8UXt0sxXt01N5VCAAcAdBWZIjHFADd5+lAGZd3LiVYIiqFkZ2ZgW2qCAAFBHzMSdpJx8jcHpVJK12NdyE2pKSeXl5ZEKmWTG7GDhQAFVV9lVRnLEFiSS+3RLoO/3FZIru4SCKSNI1gdGLeYWY7ARjb5agZ9dxx709Fe1/u7/ADDRbG/UEhQAUAFAGWoMWoEcYnh+mDC39fOz+FV9n0f5/wDDFdPn+f8AwxtI2Pkbp2Pp/wDWqSRxG3igDLsrFLCMRpye7HGWPcnGOSabdxt3LlIQUAFABQAUAZ2k8WkY7KCo9gpIA/AACqluynuaBUEYPQ1JJi3emiTDDOV+6ynDr9Pr3BBVv4gapOw07FPTgRctHeNl3AETcqrKozs68OCXcj+IHK8KVW3t7uy3G9tC3qMNuH8vbIzqA3yA5QNkAhwwZd20jhskA546zG61WgK61Qmn3MOnR+Ukc+CzNyucFjk8s2cZ55Oc8nJpu71bX4A9expLqDv9y3nYDv8Aul/9DlU/pU281+P6ILeaEa8uOiWzD/rpJGv/AKA0h/SiyXX8H/wAsu/5jPMve0UI/wC2zn9PIH86Pd7v7v8Aghp5/d/wRlnbv5jzzENIwC/KMKoXJCoDzhdzZJ5ZmJ4GFA30WyE+yNKpEFABQAUAFABQBkXMiteQLH8zxOxkx0VHRl+Y9BlipVerbc4wCRa0Tv8AL1v/AMOV0NsgHpUEk33lB7jj/CgDCEz6fhbgl4egmPVPabHb0lGB/wA9ApG9rtfbR9v8v8vuK3237f5GnUEhQAUARyzJbqXkYIq9SxAA/E00uiD0M19VA2hIpi0mRGCmwMdpYDLFdvygn5sHAPGeKrl81puVbzRdsoDawRwnkooBPq2PmP4nJ/Gpbu2xMs0hB0oA5nWJ4jGrHCfvYhk4HSRWJ9iFDHPbrWkb307P8il5dmWL4G3cXZwYpljDkH7jfwtjujZCkj7pAJBVmZUtVbqg8jRtcOmGGcH0qdiSwYE9MfQmkAnkDsWH40AHk4/ib86AJEQIMCgB1AB0oApNqdohwZ4QfQyIP61XK+z+4dn2Y+C+t7likMiSMBnCsDx0zxxjJHTpketJprdWCzQ2e/htzsJ3Sdo0G5/b5RyAf7zYX1IoSe/QLFYm7uugFsh78NJ/VE9wBJx0YGnovP8ABf5/kPRFq2so7UYT1zkkklj1Yk5JY92JJPc0m7iLoGfakInjzgg+lAFagDGuopdMiea0ZRHGpcwuCVAUZPlkMpjGM/L8yD+FVyc6K0nZ/f8A5lLXRlgW10R81xj12xIPrt3bse2d3vmpuu34sLrsL/ZwY5klnkP/AF0Mf6Q+UP0ov2S+7/O4Xttb+vUp3+m20cRlYsjoQySMzysrg/KFDlydxwuxeXyAOcVSbvZfdshpvb/gCX6SXNinnhY5WaENxnYXdYyV54YBz0JxyMkc0Kylptr+GoLR6bakaz37wrsj8pok+cyYPmMijKqAWIVmyA55xyB0y7RT39LdAskbkEyzxrKn3XUMO/BGe3FZ7aEbaDncRjceg/rSA52NBc3xzyIlXaPQuzl/x2qg9gSO5rTaPqytkW7vR4WjYQ5h3A7ghwpBGDlDuQ5HU7d3oaSk09df677hc0bSPyolTOcAc9z71L3uSWaQBQAUAFAFO5vo7QhX3FiM7URnIGQMkKDgZPfr0GTxVJN7f5DSKNxqpiBYwuIVUs8kpWGNVAJJYyEYGOckAD+LFNR81fstfyHbzKeh6pFc2iR2QW4aICN2jZfKDJhSWlGVO4Dd+7EjYIyKqUbNt6dfP7v87Das9dA1ESrJEZyrscqI4TIkiq5XceH/AHkY2qXLCMDAOOQtC2fLp62t/wAB9twXlp6/1obNlbJAnyKqAnICgAfXA6VnvuQXaQBQA5c5460AWDhBgde/+AoA5xtTM8pjs2ikVEVmfcWGWLjaNmRkBMnJ/iHFXblXvX/Iq1t7kwk/tO0kjHySMjxupP3HKkYPtyGU4+ZCGAwaPhafTf5B8LLNpdC4XB+WVMCRDwytjuO4P8LDKsOVJqWrenQTVircyXJuBFbsigR7yHUkN823GQcjjkY79apWtdjVramFPLc3ZjuJiY7dJMBos9VfG9kdSxU4IBGMdeQedEktFvbr/wAAtWWi3NNoH1aUPIJIrZF+VSShdtylXKgggDHAcHOfujnMX5NrX/L+vIn4fU3qzIMuPFjcMhG2K4O5MfdEuDvXHRS+N4xwzB8gMfnvdX6r8v60K3XoaEsfmqV6VBJhWYMN/Ij9XVWX3Cghse4JGR/tL61o/hRXQ2Z5MAovLEdPbvWZJFaRlfnPcYA/+tTAYdWtRkeYPlJBwGIyDg8gY4IINPlfYqzLnnxhQ+5QpAIORjB6HPoe1T5EkdxdxWieZMwReg9z6ADJJ9gDTSb0Q7djMn1CW4KQ2qtE8pyHljIUKqlidpIJJ4GDg884xVqKWr2XZlWtv+Bas7FoHNxM5kncbWIyECjoETJCjjJ5JJJyTxhN9FovxE30Wxn+Lf8AkDXv/XrN/wCgGiHxR9UEd16mZ4r1S/0tdSnJiW+ePzVMLtPHbQwb41LGWKFjLJPOsf8Aqtm0IRvET12NKWl72l56a7enp28zosnpvZ/0ie4sGs7q8tzdzRC0iSZpmW233DyPcLliYCq29usAGxR5h80ZlTIzm1Fa2vZ8qV/xIaXbraxIbq7crbIxhn1CKye2UqmYfOCi6+Ur8xtVdJm37skkbQoAK9mr27PX0auv8g5V9z/Dp/kPvL9/twFu8/kpfWtkwY2qw7rhocrhlN1LKsc6SExFIgOucMKIwUltvezvr92wRin872G2c1wtnHqM9xIwN3MsibYFiS3S9ubUEnyt/wAihJXbzB8sOOrOWOWOkbauN736v+vx+5WWi7r8Tf0lpZLRbmYnfdF5Y1wo2QMx8hRgA5aIJKxYsd0hGcAAYzSjZLe2vqRJctkt+pfGQOazIKaW6xktzkjkn+tAHOxXe1bme3YFd0ccbkcF8hCADjdgnAxwT0zWttk/X5F22TJ7rzoAJLlS5QYWe24kGT0aMggqxC5Hzpk5ZAF3AVto/c9vv/4YF2X3Mdp8swuP9NUrM6bY8KAmxfmPIZvnJPzZIGANoHOU7Je7t/XoD202H3O7SXWaLd9mO4zL8zCMctvQZJXnIKgbcHIAIwwve0e/T/IFrp16G2GBGe3WsyCKO5ilUujqyKSCwIIBHUZ6cd/SnZrQdrCzQpcxmOQbkbqP1BB7EHBBHIIBHNCdtg22KaW93EAiTIwAABkiLNx6lJYwT6nbVXXb7n/wB6dvx/4Bzl9PI5FyrGR7c7h5MLiPK8ENI24HIJUhD8uckNgVoklptfu/0X6lJW0NRNSEjJKkU3zgEjZ6j1z71HLbqvvJt6GrBeRzN5eGjfBOx1KnHqM8MBkZKk4yAcE1Fra9BWsV9NcFp1TOxZ22nt8wVnA+kpk/OqfT0/r8Bvp6EFpoyR4NyEmMapHHlB8iR7tvXJ3HcdxGAcKMcZLcv5dOr+Y2+2hdt9OgtiGRcso2qzFnKr/dUsTtHA4XA4qW3/WhN2VkkF1fEK3Fqo4A/jk3Bsn/AGVCkAf3sk4xT2j6/oPZeprVBI2S3S6RopEWSNwVdXAZCp4IYNlSCOCDwe9G2wbFaXS7M201nHFDbxXIIlW3ghiDZBwX2RqHxngMGHtWvtJXTb2/roXzvqZd0zC6jS/S1v2kcMpaKNpFJyd4gdZANpBy6kY7ACqTavKN132a/r5Du9Wrr8v6+R07Rl5fPZQZQGAcqCyhxhtpIJXcODtxxx0rLmavrvuTdr5kC2EKyi4METTAoRK0EbSAowZMOyFxtZVZcHggEcimpyjomCk46IrX2lG+t/sKEWtu+5ZdkQLGKQu0qx4aNUkld2JmbfgszbGYghqWqcr6bfp/X/DDT1V+hq3D73JA2gcADoAOgHsBwKmT5m2S3d3IakRzs9vdX2yG5SLyldWdgzHeBzt2FAME4yGbA/2qtNR1V79P6uVotiefSYnw0OYHTBUx4Ayo+TcmCrbegyMgZAIFCk1vr6hexNbXm4+TOBFOBypPDerRn+Nf/Hl6OFNJq2q2/rcVuq2KFxcxR3waeRYlgjwqs2DI0vdV6naBt+XJYtjA2jNJPl0W7+6xVtNDOkHn2kszSyktI6xIz7cnfiMFSORuwQBklMdSarZpWW13/X9aj2drGky3d+RBPGsUSlTIdxYSjOdiAYO04G8N1B2/MNwqdI6rfp5C0Wq/4YrX8DWsU8GB5M+WjJwESQ4/dydlRiBtbpyUJDbNzjrZ9V+Xl5jXTyK8V01p+8tQVijeOOa3kBBV3IXMTEn1+6pZX2/IMvuLtfSW+6a/X+tAt0fyf+Z1p5HHBrEzOThklljOlJ/rEJSWXBACHneAeC8gJIUZVepyNqts0l7/AE6L+uiLemv4G+ka2rqo+VAgVfw9fwrLcgddW/2lQUbbJGwaN+u1hxyMjKsCVYZGVJwQcENO3oNaFTRdyW/lyBUkjkkVlXPB3FhkkDO5WVs4G4MDgZxTlvptZDe+hrdKgkzNUuGtUVw3lR7wJXABZFIPIyGUfNtBLKQFJwM4q4q+n3FLsW7K2jVPNiJIlAYyMxYvxwcsc4x0CgAdgKTvs+gn2LmVXp8314H5VIhrMT/h0FADaAMm1K/2hLjnfDGQfdGkB/Rl59qr7K9X+hXT5/5G9mpJGlsUALQA9+GoAZQBCAewoAXaQM44Bx+NAFS7txcRlRgOOUbH3XHKt+DAEjuODwaadhrQo3EZ1S0jkTajnyZlJz8hBVzyOc4yufQmqXutr1Q/hdvVGVcvBfQi4uW2SYlSIxs2HUH7yjBbaxA5HUY5IIq1eLsvJspaaIvwWVxJbI5mlScopw5XaDgHayoqgjsep55JqW0nayt8/wDMV1fbQnj1AEi2u0McjEqRtZomHPIfG3DAHCsQ2eCOmVy21jt+P3Ct1RzNpME1CJGWRba6kl+zDKbc20Lyl2YvuEQjSTYvOCVGNoAG1rrS3Mlr6P8AXv8A5mltNN0tTdi1K41Ng+moptUkkR7iY4ilKLyLfYWkkxJ8hcosOQw8wkVHJyq89L7dyeWyvLTsVY702t+7XMbRB41DsAXjVl6NvAwFYNjLBcbDuAHJLXjp39H/AFp+IraaGlfXe2FzGQ2VBjbquTgAjB+Yc56jPIyM1CWtmSlrYgg8ywKM7mWKRhG5cAMjnhTlcAqWwNu3Kls7towDR7KzHv5F2T/R7tZMfJOoiYjtIpJj3f7wLKD/AHtq87lwt1btr8g6ehLcSyJMttHsV2QvufJwAQDhBjceRkFkABByehEtLsSXUVLJFIeTM8i8hpMEKfVIwAiEdmCl/VjRfotAv20LhJPX/P8An6VIhKACgAoA51WmuNR3R7YhCNjq5O94zyGVNgGCxxu34yCCMjFaaKP5eReiR0m4isyBKAJQaAHyfeP1oAbQBzd5NeX8LQCFlD4G4yjgZGeOuMZGKtWWt/wKVkSabCdPmktFwInTzlUADad6qwXHb5h244oburvdaA9Vc2agk5HULWXZ/Z6sxjYs6pEpDFDJnZIxOBGoYqQoyw25IGQ20X9q33+nTzNE+p0Fpp1tZH9wioQNvHUDrjnoD1wMZrNtvchtvcvVIivd2kd7GYZRlT+h7Ee4pp21Q07bHC6zp09ze6fphbygwvFjniUqAP7Oug0bJuJG4AByroxRj5ZRhuXrpte9Lyd0bwe78tjRS8jvNQ0yAwpbSWs1xG9soGyHbpt4Y/KGADC23dC4Azg7gsqyKrs3zN6pxdv8vVD7vdWdv68jC+zRTGRL65tLbUZbqfy2lsnnvFVZiLf7NIbyMmMRCMqsMIQ5ZZQ7+Zm1aMVZO1tbJW873GrJKydrdLW+Zb1TRFa/k0a1Bjt9TuVnIAOfs+P9Pyf4GjSCPad2C90VPzFSFC0lf+Vv1t0v6CjZ6/y/l0O02299buyhfJlyyxx/KEXHCDA+QgfLgDIPB5zXG37ze2pg977ame5vBalJ9sqEffjUiRCvKOVH+sKMA52bDkfLGelNWvpp5dP+B/Wo9L6af1+BFdXhubJb+DAkhYnKsGUEExvknG+LqxzglMOMMBTStLlfX/h18wSs+UpznVdQC27xrANwLSocDjPKfvCSAcMM8nA4HOKXJHVP5f0ivdWq/r8DsBwOawMgoAKACgCnd2S3OGyUkTlJF4ZT7eoPdSCrDhgRTTsNOxSt9SK3K2c3lyO+7DxE8EAHDp820nnHz5OPugZxTjpdXXr/AF+g7aXN0JioJH0AOf7x+p/nQBGzBAWYgADJJ4AA6kn0oAjI28UAUJ/3dzBIeFJeInp/rFBUHtguigf7RUDrVLZr5/cUtmi9UklG7sFu2VmZk2hlIUgblYoWUnBIBKLypDYyARmqTt/X9dxp2K0kMelsJ4EVYztSVVAUnLAI4H8TKzEEfeYMTlmVVLvzaP5D30ZJfebO6W1u/lMP3jtjOFU4CEZB/eNnkMp2o+DmhWWrV+n9egLTVkcWrKGkjmUr5AJkkQM0QwASN20EPg5KYOOxJo5dmuuy6hbt/wAEhutajiQ7450SRflZcIWRwQxUhwU46hyjYYcZyKpRa2av/X3/AIjStsxtpqt9OiQW+9WBbzWkR1UrtIUlcqA8qkBgM7MnK7cU/hvrp2T+/wDrqPbrp2TKGjX81qubeRUmkd99ushAmAZsODxiYgEbmUeYEwQAAyW21om7aa9v+B+RTdtr2/r8DfstaimICM0bvldjhkZu5XnAbOMkAnIBIyBmsbOO34PoZ2a/4BmSs2jTSOAXtmO9lGNyZ5LqDgEMMMwBBDZYBixAfxabMN9OpPZ6izJhYZjydvCYI7Hdv2D/AL6/Xik426r+vxC1uqLC6hatGAuCXBzEo3SZOdwaNMkEHIckYBzk0crX+fT7wsyG1vRYxRw3eUkwVRQC7sq8KcJvy2MFgpb174ptXd47den52G1fVGlb3CXKCRM4JYYYFTlSVYFTggggggjtUNW0JtYnpCCgAoAoX8roEiiJV5nEYYAHaMFmYZ4ztU7c5GcZB6Gl3fQaEOmQ+StuAQEOVYHDq3XeGGCG5PI9SOhxRd3uF+okN1NaSLBdkOshxHMBjLDnZIAMByMkFcK2DwpwCWT1XzX+Q/NfcbFSSPcc59eaAMaRv7SfyU5t42/et2kZT/ql9VB/1p6HHlc5kC38OvXp5ef+X39ivh9fyNFuDUEkE0KXCNFIMq4wR357g9iOoI5B5HNNaaoNimlxJbuIrrkMcJNwAxPRXAwFc9MgBXb7u1iENWvqvu/y8ivNfcaNQSYmoXsEdzHFM4RIg0rbjtUkcJjON7A5baAdpAY4OzOkU7Nr0/rt/XmWlpp6EVvqIRpJ3jlw0m1nK7UjjQ7VJZiPk6yEgceYx+6Cabjslbb73/n0+QW6EU8CXH2yXLIg2DIwFLRDcSQQQwJ2q2RhlGPUkWnKvX8dBrSy/rUbcTnVylihaJ1Cyyt5ZwF2goV3fIys/Azu+6Rt4JAlye89tlr/AEwXu6nSr8gCk5PQE4ySBk/jgE8dsnpWRmcSTBKs9tb/ALwh3aJyACkzGTzHcjAWOPPDuBkZVQ/y56NVZvTTX00t9/8AVjXazf8ASNqyso1uHjk+c2/lmLcWOxSmOAScncHJkOWbOCflFZt6aaXvf+v0Jb00NDUFB2yAgqyqB79cfXI/SoWhBS0F1Ft5QwGiZ1I9CHYf049setVLf+upT3NoIFJIABPJwMZ+vrUEkc9vHcLskG4dR2II6MpGCrDsykEdQRTTtsPbY5ptNMEwiQr9oZzPFOwDNhSN6SDjaGDEFo8KxYllD/f1vpfps1/X6l3+7axq2up+Y6wTxvBM2cKRlW29SrgbSM5wDh++3BBqHG2qd1/XT+kTbqthWmkvZPLtmMcUZIeUBSSw42R7gynbzvYggHCjLbtpZR337f5htuSCxdOUnm3erFWH4qUxj127T2BFK/kgv5IRbWaSZJLhoysO4qEVhlmG3cQzMFwCwGCTz1AyCXSVkF+xo1JJh6jMrzx2026O3yrs5VtruGzHGHxtX5gGOSGJ2quctjRKyut/yXVlLRXR0dZkma0jagWhhJS3UkSyg4LMOscR7HtJIPu8oh35Md/Dq9+i/V/ov03rb1L8cawqI4wFVQAqgYAA6AD0qCRxANADCv4UAQyxLMhRxuVgQQehB4P/AOr86Ntg2MuG8FohhuBMXjYqreVK4kX+A7kRgW2/eGeSpYgdBdr6q33pFWvqrfeWp401G3ZUYbZUIDjkYPB7jIPQgEE8jINJe6/QXwsg33zAo8UBHIP75wGHTp5JxnkkHPpnvT91bN/d/wAEei7/AHf8Ez5BHDGkUkP2aCOQSSlirRnH3QpBYuWkK4yowFJIU7Qa9Hd7LuP03Jrq+s5mQOrMoIXzgGQRMxwo8z5WUsePlOBxvIyuUk1t93f5Ak1/kRJE00ubVpDCOMu0jKXCy7trPuYLjC7lJXL5XJBFJ6LW1/ktPkJ/iW4dPZEK27mGJyxMbRq20sfnAJwcFieCWHJAYrjBfugv3RStln0+cS3BMyS7YAyKAwKyFU3KXyRgs25BxliwwM09GrLS2uvpr0Ho1ZaGpPG32RVIKsiR4BGCCoXAI7en0JrMgwdNt3muJ8SSQ5wwCbQQzKoBOVOcBR8p4JySDnjVuyWi/pl3slobsF4Y/MS7aNDCVBcHahDDIOGPynOQRuYdME5wJtty316Ct2CS/wDOQraLJKxB2sq7UBxwfMk2RnHHAYn0BoUbb2X9dkFrb6Fix0+OyQcjzWUb25ZmI5OWPJGSSB0GTgc0m7ibJrixgvAFmCSKp3AMCcH1GR15NJNrbQE7bFY3ENmwtkDHy1HyxRu4QHIUERq20kA4Hpz3GXZvX82l+Y7PcQana52mVEbptc+W3/fL7WH5Ucr7Cs+xcR1kG5CGB7g5H6VIgd1jG5iFHqTgUegDXRJ0KOA6MMEHkEH+dG2wbGCLRjK0NvLIlsoCy5ZmO84IihdmLKxU/vOTsBXZtYkjS9ldpX6dPm1+X4l7avfodIu2JRHGoREACqOAAOgArMgfuAoACwFADS3pQAgOPpQBJQBlz27WbG4twWVjmaEfx/7aDp5q9cdJR8r5O0rS10fyfb/gfkV5MtxyLKgeMhlYAqR0IPf+hHUEEHBBpWtoydtDIlgluLowTSHycLNGqqg5R1JViysTtYKcqVJDYOMZa00ldLXb7y9ldFHUZ7q5t3MTIqSSNCiKhZ3Adoyd5dUG7BYfLgDGWqopRa7pX3str9hqyf4m7p4ZbaJWTymVFBTjCkDBA28YyOMcYxWct3Yh7lupEZ9wQ91BFx8vmTEHvtURAY+s24e6Va0Tfovv1/QpaJv5Fu5mZI8cHnAyAffuD6fWoRJnaM5cS3G1R58m5cLj5VVUX04YKHHH8Z96uXRdv+HZT007F9raJpftBRDKMYfaNwx0wcZH4EVN2lboK/QnpCK93P8AZYZJsZ8tGbHrgZ/Aep7DmmldpDWuhnHTriUbJpy0bYZwq7G3ddqOrArF6Dl+xcgkVd0tlr9/4d/w8h3S2RpW9tHaLsiGATkkkkk4ALMxOSSAMkkniobvuLcn7bT0PUdjS2EVWsoG5CiNv70Z8tvxKY3D0DhgPSqu/wDhx3MmW2X7bFHcOJkKOFDqu9OR8zbRtw2du8ImMBSGyTVfZ001+RXTTQ1P7Dt4/mg3w56+S5RD9VB2k++3PvU8z66+uorsmjtPICqMBI/uqPfkkk8liSSWOWJJJyTSeuoi2eBz1pCIwM0AKATQAMNvFAAg5oAl6UAVL68j0+FppM4XAwO5JAA5wBkkDJIUdSQMmmld2Q0r6FXTIXRXaYgGZzJtX7kZYDhe5zjLn+J8vgE4pt326aA/ImurNLggSbgUzgqzIcHqMqQSp4JGcHAPYGknbYE7GLc3ttHcw2QIjSFtzYACKQoEalui8uvHGSUGecHRJ2cu/wDTKSdmzoVYMAVIIPQjkVlsQLQBBd2kV1GFkHzZJVhw6HGAUbqDznj8c007bDTtsc7f37NALaTcs7usRIRtp3NtMiOBs5Qlwu7K9CMitEtbrbf/AIBSXVbbnQWiCOJVUYHoO3YfoKzZBZpAFAFK/u7e0ib7SyhSrfKSMuMcqq9WJHGB61STe3/DDSfQdp6ultEJDlxGgJznJ2jnPf3PQnkUPd27g99Ctq8kkUIKErHvHmsuN6x4O5kzxkdTkHC52gtgURtf8vUaEazmsfms2MkfeKVmYfVZDudfx3r/ALAJzTunv960/Db+twv3/Aq26vc75JnniYu22MMPlXjH3dw9ec896G0tFb7gvbRWLdrbwwSfJkl+WZySxYdCSeTjoOyjgYHFS3cVzVGVPHFIRMsrdP5//XzQAGQDsp/DH8sUAIHT0K/Tn+eKAFHHFAEb0AC8c0AITzQBn6nuNpMFBLGJwABk5KkDAHJ/DJ9ATVR3XqhrdFSLVrOGFmikjkYEiOJXXLHgKABk7SSBnGByT0NPlfVNdx2fUsRX0+9I7pUHmnajoT94gkKwYdDggEN94hSuDmlZPboGnQutFGm7cqjd97IAz/vev41JJn6QCkToQFKTTDA6DMjMAvsAwx0+gGBVy6eiKf6GpUEjZ4hIi9iCcH0+7RsBzupWzRKCPmMbCQAdW2nlR7kZ29Ocdq0X/AGjYsJlmhVkOVIyCO4PIqGrOwttC07hBn0pARMzx4ZgApOPfH8qAOe1KSJrk7z+7226t2Gx5Jtysf7rFUBHRvunIOK1jtp5/ki1t9/5I6dSCAV6HpjpWRBkanGryW6y8wtLtdc/K2Y5Cu4d13BeDlT3B4q46Xt2/VFLS9jeAxwOAOlQSAAHTigAwOvFAC9KACgBjL6UAASgB9ABQAdKAEIoAAgT5m6dh6//AFqAIZIY5cEqOOnHT6UAZesYijic/LtnjOTwO/ftVR6+jKX6FjUHSezlEmHiMTZ78bSeCOfpj8qFdNW3uJaPQfZ2i2cKoqiMEBiFAA3EDdwOAc9h+VDd2D3LWDUiM+TV7VEGGaQ5PEccj8cc/Kp4469OnrV8r9PVpFWZC15DdI5G5DAAWDq0ZAORn5gAR8p5GRx1os1/wBWsZsB8gfabB1eOXJaIn5S2fmwwBMbk5zwVJzldxLVXlL7/AOtx+TLBvLiaBbz92sIILxAMzBchXLP8uGjOSy+WcbWG49QrJPl69P68/UdlsaY1SB8r87FThgkUsgB9CURgD7ZqeV/00ibDLWAXLTyyoRHNtjVJFxmNV6lSMjc7ycEDgA45pvSyXTt3/qw9rJdCAaGsP+olljC/6pA3yR+oAxhgf7sm9VHCgCjm7pefn/XkFye30zDiacmWReQWwSP90ABEz0OxRn+Ik80r9FovIV+mxrVIgoAKACgAoAKACgAoAKACgByDPXtQBCSXOT/+r2oAVeOKAKl1homDAMMHhhkZ7cUAcJFLIYY1JHl2vkr5YBCSbnCFpBnkjO4dgwB55B6Or87/AC66GvX1ueho5HTj8j/SucyKmozSR27lWIbGAc9C3yg/hnP4VUd0NblhFESqi8KgCgegAwB+VSIr3FlDcsryruMecA5xzg/MvRgCAwDAgMARyM002tEO9tjnrm2V79mUmMRhCVQkCRip5cZ2nAwB8uTtGWIwBpe0bevy9Cr2Vie1jH2p7Q/6qZDIV7BshG49HBBI9QTyWOE9k+q0F0udJbWsdmnlwqEXJOB6nknnrUN33ET0hBQAUAFABQAUAFABQAUAFAH/2Q==' width='200' height='133' class=\"itemThumbnail\">\n",
       "                       </a>\n",
       "                    </div>\n",
       "\n",
       "                    <div class=\"item_right\"     style=\"float: none; width: auto; overflow: hidden;\">\n",
       "                        <a href='https://gis.ulf.com.ua/portal/home/item.html?id=f02f19d493c64fd0aad34b96cdcba043' target='_blank'><b>Ukraine Postcodes3 Boundaries 2015</b>\n",
       "                        </a>\n",
       "                        <br/>This layer shows the Postcodes3 level boundaries of Ukraine in 2015. The boundaries are optimized to improve Data Enrichment analysis performance.<img src='https://gis.ulf.com.ua/portal/home/js/jsapi/esri/css/images/item_type_icons/featureshosted16.png' style=\"vertical-align:middle;\">Feature Layer Collection by esri_livingatlas\n",
       "                        <br/>Last Modified: Октябрь 18, 2019\n",
       "                        <br/>0 comments, 0 views\n",
       "                    </div>\n",
       "                </div>\n",
       "                "
      ],
      "text/plain": [
       "<Item title:\"Ukraine Postcodes3 Boundaries 2015\" type:Feature Layer Collection owner:esri_livingatlas>"
      ]
     },
     "metadata": {},
     "output_type": "display_data"
    },
    {
     "data": {
      "text/html": [
       "<div class=\"item_container\" style=\"height: auto; overflow: hidden; border: 1px solid #cfcfcf; border-radius: 2px; background: #f6fafa; line-height: 1.21429em; padding: 10px;\">\n",
       "                    <div class=\"item_left\" style=\"width: 210px; float: left;\">\n",
       "                       <a href='https://gis.ulf.com.ua/portal/home/item.html?id=14987ad9444e4782a9b4093ddabf25a0' target='_blank'>\n",
       "                        <img src='data:image/png;base64,/9j/4AAQSkZJRgABAAEAYABgAAD//gAfTEVBRCBUZWNobm9sb2dpZXMgSW5jLiBWMS4wMQD/2wCEAAUFBQgFCAwHBwwMCQkJDA0MDAwMDQ0NDQ0NDQ0NDQ0NDQ0NDQ0NDQ0NDQ0NDQ0NDQ0NDQ0NDQ0NDQ0NDQ0NDQ0BBQgICgcKDAcHDA0MCgwNDQ0NDQ0NDQ0NDQ0NDQ0NDQ0NDQ0NDQ0NDQ0NDQ0NDQ0NDQ0NDQ0NDQ0NDQ0NDQ0NDf/EAaIAAAEFAQEBAQEBAAAAAAAAAAABAgMEBQYHCAkKCwEAAwEBAQEBAQEBAQAAAAAAAAECAwQFBgcICQoLEAACAQMDAgQDBQUEBAAAAX0BAgMABBEFEiExQQYTUWEHInEUMoGRoQgjQrHBFVLR8CQzYnKCCQoWFxgZGiUmJygpKjQ1Njc4OTpDREVGR0hJSlNUVVZXWFlaY2RlZmdoaWpzdHV2d3h5eoOEhYaHiImKkpOUlZaXmJmaoqOkpaanqKmqsrO0tba3uLm6wsPExcbHyMnK0tPU1dbX2Nna4eLj5OXm5+jp6vHy8/T19vf4+foRAAIBAgQEAwQHBQQEAAECdwABAgMRBAUhMQYSQVEHYXETIjKBCBRCkaGxwQkjM1LwFWJy0QoWJDThJfEXGBkaJicoKSo1Njc4OTpDREVGR0hJSlNUVVZXWFlaY2RlZmdoaWpzdHV2d3h5eoKDhIWGh4iJipKTlJWWl5iZmqKjpKWmp6ipqrKztLW2t7i5usLDxMXGx8jJytLT1NXW19jZ2uLj5OXm5+jp6vLz9PX29/j5+v/AABEIAIUAyAMBEQACEQEDEQH/2gAMAwEAAhEDEQA/APYnit9VUQ3Csk0WCUJw4z15BIeN8YyCVOBnDrgeTrHVbP8Ar7zh+HbY11UIMAYA6VmSLQAUAFABQBn6kMRo/TZNCfzlVD/46xq4/o/yGv0f5GhUCGugcbT0oA5+50fZuaBmiLZyU6HPUshBUn/aAD/7VaKXR6juWNDEYjNrIqiWAKDgfKyHhXX0yVYEHlWBHIwxJfzLqD7lK9FjeZUpMw+ZdyKRkchgGyrFScg/wt15GDTV49UvIauupqpq0cahBFOAoAGY+w/Gpt5oVvNEy6kzDKwTEf70A/Qzgj8RRZd1+P8AkFvNfj/kNN3dPwkAUf8ATSVR/wCi1losu/3L/hgsu/4EbyXoUkJBH/teY8mP+A+VHn6bhn1FHurv+X6sNPMsWVv9liCZLEksxPUs5LMTgAckknAAyeBik3fURaqQCgAoAKACgBGIQEkgADJJ4AHf6UwMuwmWa7mmiB8p44wHxgMyF8le7Lhxh8bTj5Sw6U9Ek97v9CnorG16EdagkpXFqlyBuyrJyjqcOhPdT79wcqw4YEcVSdgTsVkuXtWEV3jBICzAYRiTgK4/5Zueg/gY42kMdgdr6x+7+v6/Mdu33GjUCCgAoAKAM++HmmO2/wCejhm9kjIdj9CwRD/v57Va0u+35v8Aq/yGtNTQqBBQAyVzGpYDOKYHNC8ii1EFnSItGAQWVf4zwckckZIHvkVpZ8ui6lW00Jiv2WdoFIKNukiIPYtl0P8AuMRjsUZQMlWpb6/f/XmLzN6PlBkdqgQpiQ/wj8sUgG+Qnp/OgBBboO36mgCagAoAZJKkKl5GCKOpYgAfieKfoBS/tS2Jwj+af+mStLj6+WHx+NVyvtb10/Mdn/WhLFfRSI0mdixttbzAY9pwG5DhSMqykZxwRSs1oFrFC41qNBm3Hm84352xA+m/B3ng8Rq/Q7to5qlHvp5dfu/zsOxnux1AiMSLcynqgBWGIf3pE6t2KLIWZ25TYu5lr4dbWX4v0/4H4j28vzNmznKt9mmASZRnj7si/wB9M8+m9SSUJwcqVZs2rarb8v6/ElrqtjUUZ6dakQygBkkayqUcBlYEEEZBB6gintsGxnQK9pcLb72kieJ2UPgshjaMYDABmBEg++WbI5aqeqvs7/nf/Irpc1KgkKACgDPcYvYz6wTfo8H/AMUc+uB6Vf2X6r9R9Pmv1NCoEFAFS8nEKHIz8rE+wA5poDK0W1QwLvUNuQF8gHczgFifUk9SauT1G9yWbSLeJ0liXytrZwhKpkgg/IDs5BIJ2596XM9n/Xz3C72NoEEcHI9qjYQtABQAUAFABQBh67dpbRRqUklkkmj8qKGKSaR2jbznVEiR2yIo5DkgKADkitYJt2XZ/wCRcU27Ingnn1CNZo8W8TjILDMuM4OVYBYmBBBDCXByCARik0oOz3+5f5/kJrl0e5gSSwxTNI6fasHP2pURgqccuwAG6PofLBOwKSMggXZ2snby2+718+pWuy08jftQ126z4CwRhvK65ckBfN7ALt3hOu5W3cZArN+6rdevl5EbadTVwByOp61Iitc2q3S7TlWU7kdeGRh0ZT69iDkMCVYFSQWnYadipHcXdqyvd+WICyxMUzu3MQqScnozEKYwGKZ3b2ANVZP4b33/AOB/wfwHZdDT3AHbkZ9KzJIjOAcYOAcE9s0AVLsNDNHcBWdEWRHCjLBXKHcFHLAFBkKC2Dwp5q1s1/X9ajXYuwzJOgkiYOp6EHI//WOhHUHg1NraMW2hJSAKAM69DQyR3SgusQdXVeW2PtJZR/EVKKSo5IztywCm11X3DXYvo6yKHQhlYAgjkEHkEH0IqdtBDqQFW8tvtMbKDtYqwB+oxTWgFDSJlW3+YhdigNk42lPlYE9MKwIz07jirlvoN7kdzq1tL8scisFPO0hj9cLnj60uVrp+gWfYnh1G1hXbv9/uv/8AE0cr/poLMnTU7Z2CK4yxwMhhknoMkAZPb1PFHKwsy/UCCgAoAKAOZ1+4Fpc2EpnhswJrgGadd0aZsLscr50GS2dq/vV+Yjr909FL7S/uvbc1h19GYsQN9Jp9kk0n2J5L2MSQs0P20paXVzNPuQ5EZnkUIqsVVg+xnCqy9Fl8Vto9d1bY0st7bLr5Fuy8vz4Igz/2jJePG1v58xWKzW4eIEQNIU8pbRBP58iMzSEDzMnZUWTtorNXb7P19SbJ200avfszQ0sOZfJleTy9KWfzSXf948p/0PcSf3irbO7uCSvmxKcDAAhpcvNbdW+fX/MVlbm7r8TjJNRmubW7ntpzBu0q4uwsdzPPNFIkluFWZpf3VvLtnbfBbKjREAM2QprbkSSuldNdLbv8TTlS6K6t+J2euafLps5tdPkuFa6BtoWaWSYrc+aSjN5pkCoY5JpJCoQhLeNVIArNKMm42Wj09L2ZGjbVlozUvreWcf2ciFYkwonL7/kTAWQFj5n2g4BywwjZfe+AGxbim5R+S/rp/wANoZ6J3X3f10LBiBk29d3JHpjvmsSB8iJGpU8Z7DrmgB8Wdoz1oAoXdt5Qe5gPlSqpY4GVfaM4kXIDdMBgQ46BsZBtP7L2/L0Guwtnfifakq+TKy7gpOQwxnMbcBhjqOHX+JQCCRq2239bg1bYnu52gVRGA0kjBEB4GTkknHZVDMfXGByRSS+5AjPe8vLco08UaxFsSMheQqOcNtCDAJwP4gASWIxVWT2evToOy6EKSQKQlndCMuWZIj5bIDn5htKiQDdn5BIpHIUDGA9ftR+ev/DfOw9eqL6aigi8yQFXVhG8Y+ZhIeNoA5OfvK3AKEPwpqeXWy23v5f1+JNhf7Q/6Yz/APfv/wCvRbzQW80c/II0v0laKQRzHlZUOwSBchlGSoYqCCSM8DBHO6/s2T27ditl6HSwDa7BOE6fj7fmazILlSBl6oSUjiXAaSaILnsVYSZA742Zx6deKuP5JjRp1AgoAKAI5Zkt13yssajuxCj9cU0uiD0IY7ybO61Rwe0jkwr07ZBlOR0Ij2HP3qpe7rez8t/6+ZW3W3oQXFrc3MizvcsZU3AZDeWAylThFkV87SVy0rjDN8uDgVz+va99fv8A+APm/q+pBZ6neLI1pGEnAXLeTcDYDkjDhlXaxx905OO9FrLRtJ9P6eobLdpGh9hnulK3blUY58mJ9qDt8z/K7tjqQUU9NhHJV7aR/H/Lb+txXtojVUuiCMMQigALu4AGMADOMcDj2FTd7XdhXexWFkr3a3sru8kKt5SFk8tJHV0ebATzGlMbtGC0mxVJITcS1Upcqfd9Rp2v37klZklR4wxyMg9iKAGqh3bnO44wOKAJaAK95/qJP+ub/wDoJqluvUa3IYreO5to0lUMuxD9CFGCCOQR2III7Gi9noG2wkWnxwyCUNIxTO0PI7gbhg43knn3J9qL9NPusF+hfqRED20Mmd6I27rlQc9ucjninewbHJq0el3SrdvGRChKFQ4f5mZYl2gkSEKXCgKSgB2nlgN/iXup/p5+nQ03Wn9dzroZknQSRMGU9CP1HsQeCDyDweawtbRmexlWpGpT/aTnyYfliB6Fujvj3+4D6KSpw5zb91W+/wDRfr/ww9tDQjYQsyNwSSQfUGpEWQQRkdDSArXULSqrR4EkbB0J4GRkEHAOAyllJwcZ3AEgU1p6DWglvdeYxikUxSqASpwQQcjcjDhlyCOdrDjcq5GRq2q2C1tiaeYW8bStkhByAOfQADjqeOcD1IFJK+gvIh2XE33iLZfRcSS9fXmJD9POHPY1Wi8/wX+f5D0X9f1+hJDaxQNvVcyD/lo5Lye+GbO0H+6m1eTgCld7dOwXLFSIax2gn+X/ANagDO0QhYnjxjy5pR+BdnH5bsfhVy6ei/yG/wBDbqBDd3OKAJE60AM6UARCNj0B/KgBGUp97C/UgfzIpgDIU69/Q0gIZo/NjaPpuUrn0yMU1pqBiyzXlhEkY8h3wEjQb9zkADgc8AcseirkngVaSfcqyfcui4uo8eZAH46wyKefcSiHA+jN/WlZdH96/wArisu/9fiA1SBcebvg/wCuqPGoPpvYeWfwc57Ucr6a+moWfQuxSpMoeNldT0KkEH6EcVO2gtjCu9XhgluUnjyLNLUqV+eWWS7adY4oo9ud+6DC4YlmZeAFJrVQbSa72LUW1dd7FTTk1GwRoLmS1jkgiSV7dcyypv8AMLCeVZE/eErkssJVn8zDvtObmop9b7eX9LsVJJd/0KXh/wASWixtBNJFGY8tnzEYIDyRKVJ8ooTtzIEDYyvXaFOD3X9enf5ClHsdC17CY0ZpEBZgIiXX95uBYBDnDkqCwC5yoJHGays/66GdjRjIVio4DAMPx6/rz+NSBaVCeeg9Tx/n8KQGfqASEx3A+Z45FXp95ZWEbJ2OPmDgdCyLVrqvL8tRrsS3qm7ie3VghI47gEHIJXIJGQM8jI70lpqC0C0uPtUKTY2+Yitj0yM8dOPQ45HNDVnbsJ6aFjpUgU5NQt4hkyKewCncxJ6BVXLMT6AE1STHYgkubzaXigUgDhHl2yH8ArIPoZOnUg8U7La/4af5/gFl3ItG5WSYuCZZCzIAR5TYAZDu+bIIydwXk8ADAolpZdvx8xvTQ2txqCRBweKALScH8D/KgBlAGIby9ztNuM+pmG38xGx/8dFXZd/wHZdynNp0uozK93HCsaI67Q7OcuVwwyiBSu0gEc/MeemHflXut3+79WO9tjS02R2twkhLNFJLGSeuFc7c9ASUI5xz9al6PTsvyE9C7UiMvTI96m5k+aaQsCT/AAqrECNf7qrjkDq2SfmJq5aaLZf1cb7LY1KgQUAZY0+SJmeGZ03Oz7CqGPLdQRtDnJ5/1g9sc5u66r/P/L8Cr+Ryxguk1G71NY2W6s1sBB8kjQzErqKyAYV9paNsLMAXtnbGWUskvXBqMNHo33s1p+a/4JtGyj5X+7Qj1CzvtYi1P7NDPbte21giGVGh5C6nuBZsAhWKqxjLqdwILI2SJKnFc2ylf10Be6te5u2NhHcSwh11NorSKRVint7aC0jV4THs3x2UKSqMqwWGaRWkRWJYLmnN2TstOj5vxsOTsnpp3uZmkadNYT/aLoPHb6ZGbOB2UhDJOxijlj6k+VYiOF2U7RLMx+UiTA2nHmW7Vvn1/wA/u8hN6cy3en+Z17ssSI0QBxwGb0PU4zgenOa4TnLRYtyaQEMsSTqUkUOp6hgCPyPp29Ke2wbGedGtEO9E8o4IYxs0e4ejFCpI4B5PXk9TmuZ9/v1KuxY7xXUJYp5iqAA33IlA6Ycg7hjp5av2ztBzRa3xafn93+Yrd9BfsUlwQbx1kReREiFUJ9X3O5kx/CDtXPzFdwUgvb4dPP8Ay7Be2xcS3iiO5EVT6hQD+gqbsRNSAoT2RaTz7dvJmxhjjcrgdBIuV3Y/hYEMOmduVNJ9Ht/Ww79B9jdPM7wTKqyQ7clCSrBhkEZCke4wcepoatqgtbY0woWpESJ1/A/yNADKAExxg0AQ4xQBn2/+jTywHgTHzo/qFCyqPcYWTsSGbAO01b1SfbR/p/l8h9C/0qBGfH/otwY+iT5dPaQf6xR/vDEgA5JErGr3V+39L/L7h9PQ0KgQUAFAFW4tFnKuCY5EztkXG4Z6jkEMp4yrAjIB4YAik7adOw72MuxuGnuv3m3esbxkr91ijqSwHJAIdGwScbsAsBk21Zad/wA/+GG9Fob1ZEiPEtwjQuMrIpQg9Dkd/wAaa01A5qC4ezH2W4yyt8scnqw6K/o/HX7rnkYY7a0snqvu/wAh+a+46RPuj6D+VZCKbX8eSkIadxwRHggH0ZyRGpHcMwb0Bqrd9PX+rjt8iP7HJcjN42VPWFMiP6MfvSehztRh1jp3t8P39f8Agfn5he2xpAY4FSIKQBQAUAFAFK5sVmYTRsYZ1GFkX0/uuvR09jyMkqVPNUnbTp2GnbToOsbx3dre4AWaPB4+6yt0dc44OCMdQysvOMkatqtgtbY1VO089P8AGpEQXMyWaGSU4Vce5OeAFA5ZmJAVQMknAGaaV9EHkiWkBARjigCvcQeeoAJR1O5HHVHHRgDweCQQeGUlSCpIqk7DWgy1uDMDHKAk0eN6jpz910zyY3wdp5KnKN8ymhq2q2Bq22w65tluU2NlSCCrD7yMpyrDPcH1GCMgggkETsJaFC01VJBHHLnz3OwqEcDcNxPUYUYUtgt0BAJIqnG17bFNW22NesyQoAyNYvFtYgm4qZCAdmS4jyPMZAOcgHAIGVLAjJwDpFXfp+fQpIz/ALNb6bm8t22RAxzGMrhQrjy3YZAbLoNxTkmSNSRk81dv3Xvt/l+Og730e50jOqYycbjge5wTj8gev068ViQJ9ojiHmswVEbBY8AENt/LPfp36UwOS1WaSYF7eMhVxOrS/KSFbd8qDLHcARtfyzg9q2iknZvy08/P/hy0raM27a3W9jWSZzOpHC/di/74H3h0P7wydiMVne22n5/16WJvbbQ1FUIAqgKoGAAMAD0A7CpEOpAFABQAUAFABQAUAY2nyr9pma4+WcttVTxtiUkJt55DZLFhxvZlOCu0W9Erbfr1KfS236m5NOluhlkIVEGSev4ADkkngAZJJAAJNSlfRE+RUgt3mYXN0MMP9VF1EQPduxmYcMeiAlEP3mem7aL5vv8A8D8x7aI0KgQUARFMCgDN1KBjC00Qbz4lYxFPvBscKOuVY4DIQVbuCQKuO9nt1Gu3QifV4YjhlmCqm55DDIqr9QyhwDjqFZR/Ewp8r6W9Lodh9sHupBdONkYUiFT94hsEyN6FgAEA5VCdxy5VE/d91fP/ACFtoaPSoEZ1zqUds/lbZJHABYRoz7QxwudvqQcfQnpVqLeu3q7DSHWSO7yXEilDIQqK2NwjQcAgZwWcu3XOGUHBGAPSyX9MHpohtzamaQuyiRNiqUbBDg7wwwe4UjGccErkZ3CdtULYglsLhIjHDMcKPkV0DEY5VSwZWbBwASd3HzFjkmrrqvudh3XYH065uohBMyCIbFKx5BcblyCzn5RtDE7fmY4ww5DF0tVv59A0WwazCzqAOCQyntgMACefTg/h70loLYfobF7OM4xlFP8A46o49uOKctG15jejNgRN6Y+vH86gQuwL1IH6/wD1qADCDu35D/GgBdqdmP5f/XoATy89Cp/HH88UAHlMOgz9Of5UAR4xx0oAqz31vasEmkjjY8gMyg49cE5x79KpJvZDs+hHeLbTRebORsXlZASCuf7jL8wLcDCnLZ24OcUK60X3Ar9CnYWshkV7jJCfNDGwAYDtJMo+XzB/AoC7QdzKJOEptLSPz/yX9fhu3pov69De3HNZkgDtPNAClsdKAGbqAHKcUAPxQBkCMaZKEX5bac4AHAilPp6JL/dHAlxjLSAVfxLzX5f8D8vQrf1RWudRd3+z2iFmZinm4JiVl+/8wzkp6/dLfKGLAqGo21enl1C3Vlu0sRasZC7ySMqqxZs525IwO3LMfxpN302Qm/kXqgQtABQBIflQD1yf6D+RoAxNYupIYmVCcsu0DJwWf5FB57sRye1XHca3NK0LxQomfuqBnocY46Y7VIiXP+f/ANeaQCUAFABQAFgvU4+tAC9KAH+aR97BHv8A48H8zTAw9IETvK5O5ZZGdJNv317E8k4XJRGxtZFUqNpBNy6Lstu39bsp9jTTSbaN/NhjRXByGXBwf7wXoG56gZ96m72uK7J1gMRzySepNSIex9KAEYHvQAKnrQAw8GgCROlAD80AYOqTm4Y6eoCCRNzu390nH7od3BxlukRKNhiQBovd97+vn/WpS01/r5mrawLDElunRFCp9B2P9D78+0PXUkcRjj0pAJQAUAFABNKiEgnG0D+Q/wAaYHN3sq3N5HGpysamRvr9xM+x3OR3ymR0rRaJv5f5/oPZHSAY4HasxBSAKAKf9o23mCASoZCSoQMC2QMkEDJBwD1x0NVZ2vbQdnuXKkRjXAFzerbTMVjMW9VQlS7KcNuZSGAUFSACu4nksAVq1orrv939albK4+e1u7VGW3bzYypAWQkOuQQMSKCcDP8AErscfeHWi666en+X9egtCKHTIPLUPCXO0BsliCcc8E4IJ9Rg0OTvoO/Y1LVQNygEY5HGPwqSS0FIpASq7DuRigBDM3fB+oFAC4oAKAImHNADuVFAEfSgDI1MmN4pSrMqeYDtVnILLxwoJ5IxnGM4yeatbNenkNdhW1QSBbexIaU8SMyt+6A4w6HawYngKdp4Zui4Ja2sv+H9P8wtbcs2lzLNK1rcAedGquGXhXRiQDgk7XBUgjJDDBBzlQNaXQbaoukFeDxioEJQAUAMurdZWzyDgdO/Ap3sBzNyn2K58w/dkxGx7Agkxk+gJYoT6lB0ya0Wqt21/wA/69R9Ldjp0cOoYVmIa5IIRMZb1pANJeFsOcgjsO9AHOaVNHvhV+CltEyA4Hzy7jKwB5OcKNw6AsP4jW0tL+r/AA2Len3/AJHU1iQZNiY0vrhMh3bY+4HJUYK+Wf7u0qzgdMPnGSTVvZfP/h/67FPZG9UEhQAUAFABQAwpQA+gAoAKADpQAm3PFABkRcDr3Pp7UAMMa53AAE98CmBiSOlvqDbmC74osZIGcNMMLnsOCR6t71XRer/QfT7/ANDbVs/K3Ttnt/n8sdqgQhjIOMZ+nP40AKImPQUALL97A7AD8hQBmXlusq/MoZT8rDGcj6fQ1Sdtg22Mb7RNpTCKPbNC7BUaRipjJ6B2CuWBOFUkBskKxYndV2UtdvT9NitH5FuS6l06QTXbxtG4IBVWUKwwdvLuTuXcQfl5UjGWAE2T+FO4WvsW7rUBLA6WyTNK6MI/3MqjcRhSWdFULkgklsY5pqNnra3qgS7/AJl5rGF4Vt3UPGihQGGcAAAEHqCMdRgg8jFTd3uK/UoHRIkH7tpRnO5WmlKtn1Bfn6dCODkU+Z+X3IL+n3GjbWqWo2xgAegAUDvwBwOe1T6iLNIAoAKACgAoAKACgAoAKACgB5+QYH3j+lAEOzAoAbnAx0oAytUsWvY1VNgdXRgXXIwrKxHHODjBGRkce9XF8v4jTsUrKe4S6kheTzEiUNIXATDHkGIDnysZGXydwIDHDGm0rJpf15+Y3tp/X/BNmC9iuMrDIr7eoRwf0BPH6VLTW6sTaxaTgE+w/U/4ZqQI6AF6UwMy6sftYZHwFYEccEehHHUHBB6g8jpTTtsGxX0phPmK4AaWJtrZ6blxhgPRgQ6+mcZyKbVtVsN6bHRVAgoAKACgAoAKACgAoAKACgAoAKACgB6DnPpQAz/9dABQA1hxQAzZQBVn0yC7ZXlVWZehIB649foPyFUm1toF7bEV3YROA2B8vT1B9VYEMh91INCbWwbDNHmaayjdyWZlUkk5P3c/U9cZ6nqeaJaNpdxvdl+pEFAEU5KoSpwaYHPLIY71HHWVWDf8AZdp/wDIjZ9ePStPs+j/ADH0OuFZCCgAoAKACgAoAKACgAoAKAP/2Q==' width='200' height='133' class=\"itemThumbnail\">\n",
       "                       </a>\n",
       "                    </div>\n",
       "\n",
       "                    <div class=\"item_right\"     style=\"float: none; width: auto; overflow: hidden;\">\n",
       "                        <a href='https://gis.ulf.com.ua/portal/home/item.html?id=14987ad9444e4782a9b4093ddabf25a0' target='_blank'><b>Ukraine Raioni Boundaries 2015</b>\n",
       "                        </a>\n",
       "                        <br/>This layer shows the Raioni level boundaries of Ukraine in 2015. The boundaries are optimized to improve Data Enrichment analysis performance.<img src='https://gis.ulf.com.ua/portal/home/js/jsapi/esri/css/images/item_type_icons/featureshosted16.png' style=\"vertical-align:middle;\">Feature Layer Collection by esri_livingatlas\n",
       "                        <br/>Last Modified: Октябрь 18, 2019\n",
       "                        <br/>0 comments, 0 views\n",
       "                    </div>\n",
       "                </div>\n",
       "                "
      ],
      "text/plain": [
       "<Item title:\"Ukraine Raioni Boundaries 2015\" type:Feature Layer Collection owner:esri_livingatlas>"
      ]
     },
     "metadata": {},
     "output_type": "display_data"
    },
    {
     "data": {
      "text/html": [
       "<div class=\"item_container\" style=\"height: auto; overflow: hidden; border: 1px solid #cfcfcf; border-radius: 2px; background: #f6fafa; line-height: 1.21429em; padding: 10px;\">\n",
       "                    <div class=\"item_left\" style=\"width: 210px; float: left;\">\n",
       "                       <a href='https://gis.ulf.com.ua/portal/home/item.html?id=6d615fb4eabf414298c09b637b5ed671' target='_blank'>\n",
       "                        <img src='data:image/png;base64,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' width='200' height='133' class=\"itemThumbnail\">\n",
       "                       </a>\n",
       "                    </div>\n",
       "\n",
       "                    <div class=\"item_right\"     style=\"float: none; width: auto; overflow: hidden;\">\n",
       "                        <a href='https://gis.ulf.com.ua/portal/home/item.html?id=6d615fb4eabf414298c09b637b5ed671' target='_blank'><b>Ukraine Oblaste Boundaries 2015</b>\n",
       "                        </a>\n",
       "                        <br/>This layer shows the Oblaste level boundaries of Ukraine in 2015. The boundaries are optimized to improve Data Enrichment analysis performance.<img src='https://gis.ulf.com.ua/portal/home/js/jsapi/esri/css/images/item_type_icons/featureshosted16.png' style=\"vertical-align:middle;\">Feature Layer Collection by esri_livingatlas\n",
       "                        <br/>Last Modified: Октябрь 18, 2019\n",
       "                        <br/>0 comments, 0 views\n",
       "                    </div>\n",
       "                </div>\n",
       "                "
      ],
      "text/plain": [
       "<Item title:\"Ukraine Oblaste Boundaries 2015\" type:Feature Layer Collection owner:esri_livingatlas>"
      ]
     },
     "metadata": {},
     "output_type": "display_data"
    },
    {
     "data": {
      "text/html": [
       "<div class=\"item_container\" style=\"height: auto; overflow: hidden; border: 1px solid #cfcfcf; border-radius: 2px; background: #f6fafa; line-height: 1.21429em; padding: 10px;\">\n",
       "                    <div class=\"item_left\" style=\"width: 210px; float: left;\">\n",
       "                       <a href='https://gis.ulf.com.ua/portal/home/item.html?id=b0961f5d0d114d0997d05d8109f8b206' target='_blank'>\n",
       "                        <img src='data:image/png;base64,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' width='200' height='133' class=\"itemThumbnail\">\n",
       "                       </a>\n",
       "                    </div>\n",
       "\n",
       "                    <div class=\"item_right\"     style=\"float: none; width: auto; overflow: hidden;\">\n",
       "                        <a href='https://gis.ulf.com.ua/portal/home/item.html?id=b0961f5d0d114d0997d05d8109f8b206' target='_blank'><b>Ukraine Raioni Boundaries 2017</b>\n",
       "                        </a>\n",
       "                        <br/>This layer shows the Raioni level boundaries of Ukraine in 2017. The boundaries are optimized to improve Data Enrichment analysis performance.<img src='https://gis.ulf.com.ua/portal/home/js/jsapi/esri/css/images/item_type_icons/featureshosted16.png' style=\"vertical-align:middle;\">Feature Layer Collection by esri_livingatlas\n",
       "                        <br/>Last Modified: Октябрь 18, 2019\n",
       "                        <br/>0 comments, 0 views\n",
       "                    </div>\n",
       "                </div>\n",
       "                "
      ],
      "text/plain": [
       "<Item title:\"Ukraine Raioni Boundaries 2017\" type:Feature Layer Collection owner:esri_livingatlas>"
      ]
     },
     "metadata": {},
     "output_type": "display_data"
    },
    {
     "data": {
      "text/html": [
       "<div class=\"item_container\" style=\"height: auto; overflow: hidden; border: 1px solid #cfcfcf; border-radius: 2px; background: #f6fafa; line-height: 1.21429em; padding: 10px;\">\n",
       "                    <div class=\"item_left\" style=\"width: 210px; float: left;\">\n",
       "                       <a href='https://gis.ulf.com.ua/portal/home/item.html?id=016a1da800b94f2d8b189a9a3a88eda0' target='_blank'>\n",
       "                        <img src='data:image/png;base64,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' width='200' height='133' class=\"itemThumbnail\">\n",
       "                       </a>\n",
       "                    </div>\n",
       "\n",
       "                    <div class=\"item_right\"     style=\"float: none; width: auto; overflow: hidden;\">\n",
       "                        <a href='https://gis.ulf.com.ua/portal/home/item.html?id=016a1da800b94f2d8b189a9a3a88eda0' target='_blank'><b>Ukraine</b>\n",
       "                        </a>\n",
       "                        <br/>This map is designed for use in Navigator for ArcGIS and contains data for Ukraine supporting map display, geocoding and routing.<img src='https://gis.ulf.com.ua/portal/home/js/jsapi/esri/css/images/item_type_icons/layers16.png' style=\"vertical-align:middle;\">Mobile Map Package by esri_nav\n",
       "                        <br/>Last Modified: Октябрь 08, 2015\n",
       "                        <br/>0 comments, 0 views\n",
       "                    </div>\n",
       "                </div>\n",
       "                "
      ],
      "text/plain": [
       "<Item title:\"Ukraine\" type:Mobile Map Package owner:esri_nav>"
      ]
     },
     "metadata": {},
     "output_type": "display_data"
    },
    {
     "data": {
      "text/html": [
       "<div class=\"item_container\" style=\"height: auto; overflow: hidden; border: 1px solid #cfcfcf; border-radius: 2px; background: #f6fafa; line-height: 1.21429em; padding: 10px;\">\n",
       "                    <div class=\"item_left\" style=\"width: 210px; float: left;\">\n",
       "                       <a href='https://gis.ulf.com.ua/portal/home/item.html?id=51f7d19e90a94a7a9948505fe6545991' target='_blank'>\n",
       "                        <img src='https://gis.ulf.com.ua/portal/portalimages/desktopapp.png' class=\"itemThumbnail\">\n",
       "                       </a>\n",
       "                    </div>\n",
       "\n",
       "                    <div class=\"item_right\"     style=\"float: none; width: auto; overflow: hidden;\">\n",
       "                        <a href='https://gis.ulf.com.ua/portal/home/item.html?id=51f7d19e90a94a7a9948505fe6545991' target='_blank'><b>Ukraine_Poland_region</b>\n",
       "                        </a>\n",
       "                        <br/><img src='https://gis.ulf.com.ua/portal/home/js/jsapi/esri/css/images/item_type_icons/mapimages16.png' style=\"vertical-align:middle;\">Map Image Layer by ShchusS\n",
       "                        <br/>Last Modified: Июль 08, 2020\n",
       "                        <br/>0 comments, 1 views\n",
       "                    </div>\n",
       "                </div>\n",
       "                "
      ],
      "text/plain": [
       "<Item title:\"Ukraine_Poland_region\" type:Map Image Layer owner:ShchusS>"
      ]
     },
     "metadata": {},
     "output_type": "display_data"
    },
    {
     "data": {
      "text/html": [
       "<div class=\"item_container\" style=\"height: auto; overflow: hidden; border: 1px solid #cfcfcf; border-radius: 2px; background: #f6fafa; line-height: 1.21429em; padding: 10px;\">\n",
       "                    <div class=\"item_left\" style=\"width: 210px; float: left;\">\n",
       "                       <a href='https://gis.ulf.com.ua/portal/home/item.html?id=a7972289fedd41c98a29ad61b70403c3' target='_blank'>\n",
       "                        <img src='data:image/png;base64,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' width='200' height='133' class=\"itemThumbnail\">\n",
       "                       </a>\n",
       "                    </div>\n",
       "\n",
       "                    <div class=\"item_right\"     style=\"float: none; width: auto; overflow: hidden;\">\n",
       "                        <a href='https://gis.ulf.com.ua/portal/home/item.html?id=a7972289fedd41c98a29ad61b70403c3' target='_blank'><b>Ukraine Postcodes2 Boundaries 2017</b>\n",
       "                        </a>\n",
       "                        <br/>This layer shows the Postcodes2 level boundaries of Ukraine in 2017. The boundaries are optimized to improve Data Enrichment analysis performance.<img src='https://gis.ulf.com.ua/portal/home/js/jsapi/esri/css/images/item_type_icons/featureshosted16.png' style=\"vertical-align:middle;\">Feature Layer Collection by esri_livingatlas\n",
       "                        <br/>Last Modified: Октябрь 18, 2019\n",
       "                        <br/>0 comments, 1 views\n",
       "                    </div>\n",
       "                </div>\n",
       "                "
      ],
      "text/plain": [
       "<Item title:\"Ukraine Postcodes2 Boundaries 2017\" type:Feature Layer Collection owner:esri_livingatlas>"
      ]
     },
     "metadata": {},
     "output_type": "display_data"
    },
    {
     "data": {
      "text/html": [
       "<div class=\"item_container\" style=\"height: auto; overflow: hidden; border: 1px solid #cfcfcf; border-radius: 2px; background: #f6fafa; line-height: 1.21429em; padding: 10px;\">\n",
       "                    <div class=\"item_left\" style=\"width: 210px; float: left;\">\n",
       "                       <a href='https://gis.ulf.com.ua/portal/home/item.html?id=528950438f72442892363f488df5559d' target='_blank'>\n",
       "                        <img src='data:image/png;base64,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' width='200' height='133' class=\"itemThumbnail\">\n",
       "                       </a>\n",
       "                    </div>\n",
       "\n",
       "                    <div class=\"item_right\"     style=\"float: none; width: auto; overflow: hidden;\">\n",
       "                        <a href='https://gis.ulf.com.ua/portal/home/item.html?id=528950438f72442892363f488df5559d' target='_blank'><b>Ukraine Postcodes3 Boundaries 2017</b>\n",
       "                        </a>\n",
       "                        <br/>This layer shows the Postcodes3 level boundaries of Ukraine in 2017. The boundaries are optimized to improve Data Enrichment analysis performance.<img src='https://gis.ulf.com.ua/portal/home/js/jsapi/esri/css/images/item_type_icons/featureshosted16.png' style=\"vertical-align:middle;\">Feature Layer Collection by esri_livingatlas\n",
       "                        <br/>Last Modified: Октябрь 18, 2019\n",
       "                        <br/>0 comments, 1 views\n",
       "                    </div>\n",
       "                </div>\n",
       "                "
      ],
      "text/plain": [
       "<Item title:\"Ukraine Postcodes3 Boundaries 2017\" type:Feature Layer Collection owner:esri_livingatlas>"
      ]
     },
     "metadata": {},
     "output_type": "display_data"
    }
   ],
   "source": [
    "from IPython.display import display\n",
    "for item in search_result_Ukraine:\n",
    "    display(item)"
   ]
  },
  {
   "cell_type": "code",
   "execution_count": 114,
   "metadata": {},
   "outputs": [
    {
     "name": "stdout",
     "output_type": "stream",
     "text": [
      "fe05fd4c6859406fb8a974a2e31457ca\n"
     ]
    }
   ],
   "source": [
    "# lets get the itemid of first item from previous query\n",
    "first_item = search_result_USA[2]\n",
    "known_item_id = first_item.id\n",
    "print(known_item_id)"
   ]
  },
  {
   "cell_type": "code",
   "execution_count": 115,
   "metadata": {},
   "outputs": [
    {
     "data": {
      "text/html": [
       "<div class=\"item_container\" style=\"height: auto; overflow: hidden; border: 1px solid #cfcfcf; border-radius: 2px; background: #f6fafa; line-height: 1.21429em; padding: 10px;\">\n",
       "                    <div class=\"item_left\" style=\"width: 210px; float: left;\">\n",
       "                       <a href='https://gis.ulf.com.ua/portal/home/item.html?id=fe05fd4c6859406fb8a974a2e31457ca' target='_blank'>\n",
       "                        <img src='data:image/png;base64,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' width='200' height='133' class=\"itemThumbnail\">\n",
       "                       </a>\n",
       "                    </div>\n",
       "\n",
       "                    <div class=\"item_right\"     style=\"float: none; width: auto; overflow: hidden;\">\n",
       "                        <a href='https://gis.ulf.com.ua/portal/home/item.html?id=fe05fd4c6859406fb8a974a2e31457ca' target='_blank'><b>USA Northeast Region</b>\n",
       "                        </a>\n",
       "                        <br/>This map is designed for use in Navigator for ArcGIS and contains data for the USA Northeast Region supporting map display, geocoding and routing.<img src='https://gis.ulf.com.ua/portal/home/js/jsapi/esri/css/images/item_type_icons/layers16.png' style=\"vertical-align:middle;\">Mobile Map Package by esri_nav\n",
       "                        <br/>Last Modified: Октябрь 08, 2015\n",
       "                        <br/>0 comments, 0 views\n",
       "                    </div>\n",
       "                </div>\n",
       "                "
      ],
      "text/plain": [
       "<Item title:\"USA Northeast Region\" type:Mobile Map Package owner:esri_nav>"
      ]
     },
     "execution_count": 115,
     "metadata": {},
     "output_type": "execute_result"
    }
   ],
   "source": [
    "# lets use the get() to access this item\n",
    "online_historic_item = gis.content.get(known_item_id)\n",
    "online_historic_item"
   ]
  },
  {
   "cell_type": "code",
   "execution_count": 117,
   "metadata": {},
   "outputs": [],
   "source": [
    "# connect to ArcGIS Online\n",
    "gis2 = GIS()"
   ]
  },
  {
   "cell_type": "code",
   "execution_count": 118,
   "metadata": {},
   "outputs": [
    {
     "data": {
      "text/html": [
       "<div class=\"item_container\" style=\"height: auto; overflow: hidden; border: 1px solid #cfcfcf; border-radius: 2px; background: #f6fafa; line-height: 1.21429em; padding: 10px;\">\n",
       "                    <div class=\"item_left\" style=\"width: 210px; float: left;\">\n",
       "                       <a href='https://www.arcgis.com/home/item.html?id=80790f8f9a854685a2fb6b3a9f1b859d' target='_blank'>\n",
       "                        <img src='http://static.arcgis.com/images/desktopapp.png' class=\"itemThumbnail\">\n",
       "                       </a>\n",
       "                    </div>\n",
       "\n",
       "                    <div class=\"item_right\"     style=\"float: none; width: auto; overflow: hidden;\">\n",
       "                        <a href='https://www.arcgis.com/home/item.html?id=80790f8f9a854685a2fb6b3a9f1b859d' target='_blank'><b>WorldPop_CX</b>\n",
       "                        </a>\n",
       "                        <br/>Population of major cities<img src='https://www.arcgis.com/home/js/jsapi/esri/css/images/item_type_icons/websceneglobal16.png' style=\"vertical-align:middle;\">Web Scene by holistic_user19\n",
       "                        <br/>Last Modified: Июнь 11, 2020\n",
       "                        <br/>0 comments, 4 views\n",
       "                    </div>\n",
       "                </div>\n",
       "                "
      ],
      "text/plain": [
       "<Item title:\"WorldPop_CX\" type:Web Scene owner:holistic_user19>"
      ]
     },
     "metadata": {},
     "output_type": "display_data"
    },
    {
     "data": {
      "text/html": [
       "<div class=\"item_container\" style=\"height: auto; overflow: hidden; border: 1px solid #cfcfcf; border-radius: 2px; background: #f6fafa; line-height: 1.21429em; padding: 10px;\">\n",
       "                    <div class=\"item_left\" style=\"width: 210px; float: left;\">\n",
       "                       <a href='https://www.arcgis.com/home/item.html?id=16bb004a6ead4e6e9ced584253239998' target='_blank'>\n",
       "                        <img src='http://static.arcgis.com/images/desktopapp.png' class=\"itemThumbnail\">\n",
       "                       </a>\n",
       "                    </div>\n",
       "\n",
       "                    <div class=\"item_right\"     style=\"float: none; width: auto; overflow: hidden;\">\n",
       "                        <a href='https://www.arcgis.com/home/item.html?id=16bb004a6ead4e6e9ced584253239998' target='_blank'><b>WorldPop_sar</b>\n",
       "                        </a>\n",
       "                        <br/>Population of major cities<img src='https://www.arcgis.com/home/js/jsapi/esri/css/images/item_type_icons/websceneglobal16.png' style=\"vertical-align:middle;\">Web Scene by muth5521\n",
       "                        <br/>Last Modified: Август 04, 2020\n",
       "                        <br/>0 comments, 5 views\n",
       "                    </div>\n",
       "                </div>\n",
       "                "
      ],
      "text/plain": [
       "<Item title:\"WorldPop_sar\" type:Web Scene owner:muth5521>"
      ]
     },
     "metadata": {},
     "output_type": "display_data"
    },
    {
     "data": {
      "text/html": [
       "<div class=\"item_container\" style=\"height: auto; overflow: hidden; border: 1px solid #cfcfcf; border-radius: 2px; background: #f6fafa; line-height: 1.21429em; padding: 10px;\">\n",
       "                    <div class=\"item_left\" style=\"width: 210px; float: left;\">\n",
       "                       <a href='https://www.arcgis.com/home/item.html?id=966e7822395649618bfbe35fb10ccfb1' target='_blank'>\n",
       "                        <img src='https://www.arcgis.com/sharing/rest//content/items/966e7822395649618bfbe35fb10ccfb1/info/thumbnail/_7B1D75522B-D430-48D0-846B-A571DAF5DA13_7D.png' class=\"itemThumbnail\">\n",
       "                       </a>\n",
       "                    </div>\n",
       "\n",
       "                    <div class=\"item_right\"     style=\"float: none; width: auto; overflow: hidden;\">\n",
       "                        <a href='https://www.arcgis.com/home/item.html?id=966e7822395649618bfbe35fb10ccfb1' target='_blank'><b>gismallku_WorldPop</b>\n",
       "                        </a>\n",
       "                        <br/>Population of major cities<img src='https://www.arcgis.com/home/js/jsapi/esri/css/images/item_type_icons/websceneglobal16.png' style=\"vertical-align:middle;\">Web Scene by holistic_user20\n",
       "                        <br/>Last Modified: Июнь 13, 2020\n",
       "                        <br/>0 comments, 5 views\n",
       "                    </div>\n",
       "                </div>\n",
       "                "
      ],
      "text/plain": [
       "<Item title:\"gismallku_WorldPop\" type:Web Scene owner:holistic_user20>"
      ]
     },
     "metadata": {},
     "output_type": "display_data"
    },
    {
     "data": {
      "text/html": [
       "<div class=\"item_container\" style=\"height: auto; overflow: hidden; border: 1px solid #cfcfcf; border-radius: 2px; background: #f6fafa; line-height: 1.21429em; padding: 10px;\">\n",
       "                    <div class=\"item_left\" style=\"width: 210px; float: left;\">\n",
       "                       <a href='https://www.arcgis.com/home/item.html?id=c8d4baa7b9144d46a758177ee0628929' target='_blank'>\n",
       "                        <img src='http://static.arcgis.com/images/desktopapp.png' class=\"itemThumbnail\">\n",
       "                       </a>\n",
       "                    </div>\n",
       "\n",
       "                    <div class=\"item_right\"     style=\"float: none; width: auto; overflow: hidden;\">\n",
       "                        <a href='https://www.arcgis.com/home/item.html?id=c8d4baa7b9144d46a758177ee0628929' target='_blank'><b>WorldPop19943</b>\n",
       "                        </a>\n",
       "                        <br/>Population of major cities<img src='https://www.arcgis.com/home/js/jsapi/esri/css/images/item_type_icons/websceneglobal16.png' style=\"vertical-align:middle;\">Web Scene by susantran\n",
       "                        <br/>Last Modified: Июнь 13, 2019\n",
       "                        <br/>0 comments, 5 views\n",
       "                    </div>\n",
       "                </div>\n",
       "                "
      ],
      "text/plain": [
       "<Item title:\"WorldPop19943\" type:Web Scene owner:susantran>"
      ]
     },
     "metadata": {},
     "output_type": "display_data"
    },
    {
     "data": {
      "text/html": [
       "<div class=\"item_container\" style=\"height: auto; overflow: hidden; border: 1px solid #cfcfcf; border-radius: 2px; background: #f6fafa; line-height: 1.21429em; padding: 10px;\">\n",
       "                    <div class=\"item_left\" style=\"width: 210px; float: left;\">\n",
       "                       <a href='https://www.arcgis.com/home/item.html?id=1f5677a008a44aecaac82c489577b44a' target='_blank'>\n",
       "                        <img src='http://static.arcgis.com/images/desktopapp.png' class=\"itemThumbnail\">\n",
       "                       </a>\n",
       "                    </div>\n",
       "\n",
       "                    <div class=\"item_right\"     style=\"float: none; width: auto; overflow: hidden;\">\n",
       "                        <a href='https://www.arcgis.com/home/item.html?id=1f5677a008a44aecaac82c489577b44a' target='_blank'><b>San Leanna Scene Ethan Ham</b>\n",
       "                        </a>\n",
       "                        <br/>Mini Muni GIS Scene<img src='https://www.arcgis.com/home/js/jsapi/esri/css/images/item_type_icons/websceneglobal16.png' style=\"vertical-align:middle;\">Web Scene by ethan.ham@g.austincc.edu\n",
       "                        <br/>Last Modified: Август 04, 2020\n",
       "                        <br/>0 comments, 5 views\n",
       "                    </div>\n",
       "                </div>\n",
       "                "
      ],
      "text/plain": [
       "<Item title:\"San Leanna Scene Ethan Ham\" type:Web Scene owner:ethan.ham@g.austincc.edu>"
      ]
     },
     "metadata": {},
     "output_type": "display_data"
    },
    {
     "data": {
      "text/html": [
       "<div class=\"item_container\" style=\"height: auto; overflow: hidden; border: 1px solid #cfcfcf; border-radius: 2px; background: #f6fafa; line-height: 1.21429em; padding: 10px;\">\n",
       "                    <div class=\"item_left\" style=\"width: 210px; float: left;\">\n",
       "                       <a href='https://www.arcgis.com/home/item.html?id=6f29dd483c1e47be811924ddf946a23a' target='_blank'>\n",
       "                        <img src='http://static.arcgis.com/images/desktopapp.png' class=\"itemThumbnail\">\n",
       "                       </a>\n",
       "                    </div>\n",
       "\n",
       "                    <div class=\"item_right\"     style=\"float: none; width: auto; overflow: hidden;\">\n",
       "                        <a href='https://www.arcgis.com/home/item.html?id=6f29dd483c1e47be811924ddf946a23a' target='_blank'><b>San Leanna Scene Kevin Silva</b>\n",
       "                        </a>\n",
       "                        <br/>Mini Muni GIS Scene<img src='https://www.arcgis.com/home/js/jsapi/esri/css/images/item_type_icons/websceneglobal16.png' style=\"vertical-align:middle;\">Web Scene by kevin.silva2@g.austincc.edu\n",
       "                        <br/>Last Modified: Май 19, 2020\n",
       "                        <br/>0 comments, 5 views\n",
       "                    </div>\n",
       "                </div>\n",
       "                "
      ],
      "text/plain": [
       "<Item title:\"San Leanna Scene Kevin Silva\" type:Web Scene owner:kevin.silva2@g.austincc.edu>"
      ]
     },
     "metadata": {},
     "output_type": "display_data"
    },
    {
     "data": {
      "text/html": [
       "<div class=\"item_container\" style=\"height: auto; overflow: hidden; border: 1px solid #cfcfcf; border-radius: 2px; background: #f6fafa; line-height: 1.21429em; padding: 10px;\">\n",
       "                    <div class=\"item_left\" style=\"width: 210px; float: left;\">\n",
       "                       <a href='https://www.arcgis.com/home/item.html?id=9c9dd57fbcdc4db4b9389810a4e997de' target='_blank'>\n",
       "                        <img src='http://static.arcgis.com/images/desktopapp.png' class=\"itemThumbnail\">\n",
       "                       </a>\n",
       "                    </div>\n",
       "\n",
       "                    <div class=\"item_right\"     style=\"float: none; width: auto; overflow: hidden;\">\n",
       "                        <a href='https://www.arcgis.com/home/item.html?id=9c9dd57fbcdc4db4b9389810a4e997de' target='_blank'><b>WorldPop_YW0702</b>\n",
       "                        </a>\n",
       "                        <br/>Population of major cities<img src='https://www.arcgis.com/home/js/jsapi/esri/css/images/item_type_icons/websceneglobal16.png' style=\"vertical-align:middle;\">Web Scene by holistic_user10\n",
       "                        <br/>Last Modified: Июль 03, 2020\n",
       "                        <br/>0 comments, 5 views\n",
       "                    </div>\n",
       "                </div>\n",
       "                "
      ],
      "text/plain": [
       "<Item title:\"WorldPop_YW0702\" type:Web Scene owner:holistic_user10>"
      ]
     },
     "metadata": {},
     "output_type": "display_data"
    },
    {
     "data": {
      "text/html": [
       "<div class=\"item_container\" style=\"height: auto; overflow: hidden; border: 1px solid #cfcfcf; border-radius: 2px; background: #f6fafa; line-height: 1.21429em; padding: 10px;\">\n",
       "                    <div class=\"item_left\" style=\"width: 210px; float: left;\">\n",
       "                       <a href='https://www.arcgis.com/home/item.html?id=3aa5b8331781457abcf661404fb0e304' target='_blank'>\n",
       "                        <img src='http://static.arcgis.com/images/desktopapp.png' class=\"itemThumbnail\">\n",
       "                       </a>\n",
       "                    </div>\n",
       "\n",
       "                    <div class=\"item_right\"     style=\"float: none; width: auto; overflow: hidden;\">\n",
       "                        <a href='https://www.arcgis.com/home/item.html?id=3aa5b8331781457abcf661404fb0e304' target='_blank'><b>Airports_VMU</b>\n",
       "                        </a>\n",
       "                        <br/>Test<img src='https://www.arcgis.com/home/js/jsapi/esri/css/images/item_type_icons/websceneglobal16.png' style=\"vertical-align:middle;\">Web Scene by holistic_user02\n",
       "                        <br/>Last Modified: Ноябрь 20, 2019\n",
       "                        <br/>0 comments, 5 views\n",
       "                    </div>\n",
       "                </div>\n",
       "                "
      ],
      "text/plain": [
       "<Item title:\"Airports_VMU\" type:Web Scene owner:holistic_user02>"
      ]
     },
     "metadata": {},
     "output_type": "display_data"
    },
    {
     "data": {
      "text/html": [
       "<div class=\"item_container\" style=\"height: auto; overflow: hidden; border: 1px solid #cfcfcf; border-radius: 2px; background: #f6fafa; line-height: 1.21429em; padding: 10px;\">\n",
       "                    <div class=\"item_left\" style=\"width: 210px; float: left;\">\n",
       "                       <a href='https://www.arcgis.com/home/item.html?id=08dfe154838949c688e2b03f5d062d96' target='_blank'>\n",
       "                        <img src='https://www.arcgis.com/sharing/rest//content/items/08dfe154838949c688e2b03f5d062d96/info/thumbnail/_7B512B5A25-B925-4B49-84C1-E55956176393_7D.png' class=\"itemThumbnail\">\n",
       "                       </a>\n",
       "                    </div>\n",
       "\n",
       "                    <div class=\"item_right\"     style=\"float: none; width: auto; overflow: hidden;\">\n",
       "                        <a href='https://www.arcgis.com/home/item.html?id=08dfe154838949c688e2b03f5d062d96' target='_blank'><b>Rollingwood Scene Austin K Vidich</b>\n",
       "                        </a>\n",
       "                        <br/>Mini Muni GIS Scene<img src='https://www.arcgis.com/home/js/jsapi/esri/css/images/item_type_icons/websceneglobal16.png' style=\"vertical-align:middle;\">Web Scene by austin.vidich@g.austincc.edu\n",
       "                        <br/>Last Modified: Август 23, 2020\n",
       "                        <br/>0 comments, 5 views\n",
       "                    </div>\n",
       "                </div>\n",
       "                "
      ],
      "text/plain": [
       "<Item title:\"Rollingwood Scene Austin K Vidich\" type:Web Scene owner:austin.vidich@g.austincc.edu>"
      ]
     },
     "metadata": {},
     "output_type": "display_data"
    },
    {
     "data": {
      "text/html": [
       "<div class=\"item_container\" style=\"height: auto; overflow: hidden; border: 1px solid #cfcfcf; border-radius: 2px; background: #f6fafa; line-height: 1.21429em; padding: 10px;\">\n",
       "                    <div class=\"item_left\" style=\"width: 210px; float: left;\">\n",
       "                       <a href='https://www.arcgis.com/home/item.html?id=d11bc8773f8e428aac3753c0782f236d' target='_blank'>\n",
       "                        <img src='http://static.arcgis.com/images/desktopapp.png' class=\"itemThumbnail\">\n",
       "                       </a>\n",
       "                    </div>\n",
       "\n",
       "                    <div class=\"item_right\"     style=\"float: none; width: auto; overflow: hidden;\">\n",
       "                        <a href='https://www.arcgis.com/home/item.html?id=d11bc8773f8e428aac3753c0782f236d' target='_blank'><b>WorldPop_CX1</b>\n",
       "                        </a>\n",
       "                        <br/>Population of major cities<img src='https://www.arcgis.com/home/js/jsapi/esri/css/images/item_type_icons/websceneglobal16.png' style=\"vertical-align:middle;\">Web Scene by holistic_user15\n",
       "                        <br/>Last Modified: Июнь 18, 2020\n",
       "                        <br/>0 comments, 5 views\n",
       "                    </div>\n",
       "                </div>\n",
       "                "
      ],
      "text/plain": [
       "<Item title:\"WorldPop_CX1\" type:Web Scene owner:holistic_user15>"
      ]
     },
     "metadata": {},
     "output_type": "display_data"
    },
    {
     "data": {
      "text/html": [
       "<div class=\"item_container\" style=\"height: auto; overflow: hidden; border: 1px solid #cfcfcf; border-radius: 2px; background: #f6fafa; line-height: 1.21429em; padding: 10px;\">\n",
       "                    <div class=\"item_left\" style=\"width: 210px; float: left;\">\n",
       "                       <a href='https://www.arcgis.com/home/item.html?id=9da39996d3d34195bd67791d6cdc3a5e' target='_blank'>\n",
       "                        <img src='http://static.arcgis.com/images/desktopapp.png' class=\"itemThumbnail\">\n",
       "                       </a>\n",
       "                    </div>\n",
       "\n",
       "                    <div class=\"item_right\"     style=\"float: none; width: auto; overflow: hidden;\">\n",
       "                        <a href='https://www.arcgis.com/home/item.html?id=9da39996d3d34195bd67791d6cdc3a5e' target='_blank'><b>WorldPop_Holistic08</b>\n",
       "                        </a>\n",
       "                        <br/>Population of major cities Holistic08<img src='https://www.arcgis.com/home/js/jsapi/esri/css/images/item_type_icons/websceneglobal16.png' style=\"vertical-align:middle;\">Web Scene by holistic_user08\n",
       "                        <br/>Last Modified: Июнь 06, 2020\n",
       "                        <br/>0 comments, 6 views\n",
       "                    </div>\n",
       "                </div>\n",
       "                "
      ],
      "text/plain": [
       "<Item title:\"WorldPop_Holistic08\" type:Web Scene owner:holistic_user08>"
      ]
     },
     "metadata": {},
     "output_type": "display_data"
    },
    {
     "data": {
      "text/html": [
       "<div class=\"item_container\" style=\"height: auto; overflow: hidden; border: 1px solid #cfcfcf; border-radius: 2px; background: #f6fafa; line-height: 1.21429em; padding: 10px;\">\n",
       "                    <div class=\"item_left\" style=\"width: 210px; float: left;\">\n",
       "                       <a href='https://www.arcgis.com/home/item.html?id=03a975a7698c4e77b10a9bf32d760928' target='_blank'>\n",
       "                        <img src='http://static.arcgis.com/images/desktopapp.png' class=\"itemThumbnail\">\n",
       "                       </a>\n",
       "                    </div>\n",
       "\n",
       "                    <div class=\"item_right\"     style=\"float: none; width: auto; overflow: hidden;\">\n",
       "                        <a href='https://www.arcgis.com/home/item.html?id=03a975a7698c4e77b10a9bf32d760928' target='_blank'><b>Damage Assessment Demo GXW - Capital City (Web 3D) (prod)</b>\n",
       "                        </a>\n",
       "                        <br/><img src='https://www.arcgis.com/home/js/jsapi/esri/css/images/item_type_icons/websceneglobal16.png' style=\"vertical-align:middle;\">Web Scene by p.Haddrill\n",
       "                        <br/>Last Modified: Март 29, 2020\n",
       "                        <br/>0 comments, 6 views\n",
       "                    </div>\n",
       "                </div>\n",
       "                "
      ],
      "text/plain": [
       "<Item title:\"Damage Assessment Demo GXW - Capital City (Web 3D) (prod)\" type:Web Scene owner:p.Haddrill>"
      ]
     },
     "metadata": {},
     "output_type": "display_data"
    },
    {
     "data": {
      "text/html": [
       "<div class=\"item_container\" style=\"height: auto; overflow: hidden; border: 1px solid #cfcfcf; border-radius: 2px; background: #f6fafa; line-height: 1.21429em; padding: 10px;\">\n",
       "                    <div class=\"item_left\" style=\"width: 210px; float: left;\">\n",
       "                       <a href='https://www.arcgis.com/home/item.html?id=25e80f24f1054e169d7c42dbbac69fef' target='_blank'>\n",
       "                        <img src='https://www.arcgis.com/sharing/rest//content/items/25e80f24f1054e169d7c42dbbac69fef/info/thumbnail/ago_downloaded.jpg' class=\"itemThumbnail\">\n",
       "                       </a>\n",
       "                    </div>\n",
       "\n",
       "                    <div class=\"item_right\"     style=\"float: none; width: auto; overflow: hidden;\">\n",
       "                        <a href='https://www.arcgis.com/home/item.html?id=25e80f24f1054e169d7c42dbbac69fef' target='_blank'><b>Boston development visualizations de scene_viewer AJRO</b>\n",
       "                        </a>\n",
       "                        <br/>Scene with development projects in the city of Boston.<img src='https://www.arcgis.com/home/js/jsapi/esri/css/images/item_type_icons/websceneglobal16.png' style=\"vertical-align:middle;\">Web Scene by ifn_estudiante006\n",
       "                        <br/>Last Modified: Июль 20, 2020\n",
       "                        <br/>0 comments, 6 views\n",
       "                    </div>\n",
       "                </div>\n",
       "                "
      ],
      "text/plain": [
       "<Item title:\"Boston development visualizations de scene_viewer AJRO\" type:Web Scene owner:ifn_estudiante006>"
      ]
     },
     "metadata": {},
     "output_type": "display_data"
    },
    {
     "data": {
      "text/html": [
       "<div class=\"item_container\" style=\"height: auto; overflow: hidden; border: 1px solid #cfcfcf; border-radius: 2px; background: #f6fafa; line-height: 1.21429em; padding: 10px;\">\n",
       "                    <div class=\"item_left\" style=\"width: 210px; float: left;\">\n",
       "                       <a href='https://www.arcgis.com/home/item.html?id=c7af42b24d8b42e08b75ee4c7964e80e' target='_blank'>\n",
       "                        <img src='https://www.arcgis.com/sharing/rest//content/items/c7af42b24d8b42e08b75ee4c7964e80e/info/thumbnail/ago_downloaded.jpg' class=\"itemThumbnail\">\n",
       "                       </a>\n",
       "                    </div>\n",
       "\n",
       "                    <div class=\"item_right\"     style=\"float: none; width: auto; overflow: hidden;\">\n",
       "                        <a href='https://www.arcgis.com/home/item.html?id=c7af42b24d8b42e08b75ee4c7964e80e' target='_blank'><b>esri_3d制作的Visualize New Developments副本</b>\n",
       "                        </a>\n",
       "                        <br/>Understand proposed changes in the context of your 3D City. Communicate changes with stakeholders and solicit public feedback.<img src='https://www.arcgis.com/home/js/jsapi/esri/css/images/item_type_icons/websceneglobal16.png' style=\"vertical-align:middle;\">Web Scene by shirleyhome\n",
       "                        <br/>Last Modified: Июнь 23, 2020\n",
       "                        <br/>0 comments, 6 views\n",
       "                    </div>\n",
       "                </div>\n",
       "                "
      ],
      "text/plain": [
       "<Item title:\"esri_3d制作的Visualize New Developments副本\" type:Web Scene owner:shirleyhome>"
      ]
     },
     "metadata": {},
     "output_type": "display_data"
    },
    {
     "data": {
      "text/html": [
       "<div class=\"item_container\" style=\"height: auto; overflow: hidden; border: 1px solid #cfcfcf; border-radius: 2px; background: #f6fafa; line-height: 1.21429em; padding: 10px;\">\n",
       "                    <div class=\"item_left\" style=\"width: 210px; float: left;\">\n",
       "                       <a href='https://www.arcgis.com/home/item.html?id=7bcedc66232a497a8f1f6770126481e7' target='_blank'>\n",
       "                        <img src='https://www.arcgis.com/sharing/rest//content/items/7bcedc66232a497a8f1f6770126481e7/info/thumbnail/_7B1FED647A-7C45-4C0E-9233-039AF12A65AB_7D.png' class=\"itemThumbnail\">\n",
       "                       </a>\n",
       "                    </div>\n",
       "\n",
       "                    <div class=\"item_right\"     style=\"float: none; width: auto; overflow: hidden;\">\n",
       "                        <a href='https://www.arcgis.com/home/item.html?id=7bcedc66232a497a8f1f6770126481e7' target='_blank'><b>San Leanna Floodplain Analysis by Rusty Merrell_2</b>\n",
       "                        </a>\n",
       "                        <br/>Floodplain analysis of the city of San Leanna<img src='https://www.arcgis.com/home/js/jsapi/esri/css/images/item_type_icons/websceneglobal16.png' style=\"vertical-align:middle;\">Web Scene by rusty.merrell@g.austincc.edu\n",
       "                        <br/>Last Modified: Декабрь 10, 2019\n",
       "                        <br/>0 comments, 6 views\n",
       "                    </div>\n",
       "                </div>\n",
       "                "
      ],
      "text/plain": [
       "<Item title:\"San Leanna Floodplain Analysis by Rusty Merrell_2\" type:Web Scene owner:rusty.merrell@g.austincc.edu>"
      ]
     },
     "metadata": {},
     "output_type": "display_data"
    }
   ],
   "source": [
    "public_3d_city_scenes = gis2.content.search(query=\"3d cities\", item_type = \"web scene\",\n",
    "                                           sort_field=\"numViews\" ,sort_order=\"asc\",\n",
    "                                           max_items = 15, outside_org=True)\n",
    "for item in public_3d_city_scenes:\n",
    "    display(item)"
   ]
  },
  {
   "cell_type": "code",
   "execution_count": 119,
   "metadata": {},
   "outputs": [],
   "source": [
    "data_path = (r\"D:\\ArcGIS Users\\shchuss\\ArcGIS\\API\\earthquake\")"
   ]
  },
  {
   "cell_type": "code",
   "execution_count": 120,
   "metadata": {},
   "outputs": [],
   "source": [
    "csv_path = os.path.join(data_path, \"earthquakes.csv\")\n",
    "csv_properties={'title':'Earthquakes around the world from 1800s to early 1900s',\n",
    "                'description':'Measurements from globally distributed seismometers',\n",
    "                'tags':'arcgis, python, earthquake, natural disaster, emergency'}\n",
    "thumbnail_path = os.path.join(data_path, \"earthquake.png\")\n",
    "\n",
    "earthquake_csv_item = gis.content.add(item_properties=csv_properties, data=csv_path,\n",
    "                                     thumbnail = thumbnail_path)"
   ]
  },
  {
   "cell_type": "code",
   "execution_count": 121,
   "metadata": {},
   "outputs": [
    {
     "data": {
      "text/html": [
       "<div class=\"item_container\" style=\"height: auto; overflow: hidden; border: 1px solid #cfcfcf; border-radius: 2px; background: #f6fafa; line-height: 1.21429em; padding: 10px;\">\n",
       "                    <div class=\"item_left\" style=\"width: 210px; float: left;\">\n",
       "                       <a href='https://gis.ulf.com.ua/portal/home/item.html?id=c9e17806fa1e43318a5330ef42a86d8a' target='_blank'>\n",
       "                        <img src='data:image/png;base64,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' width='200' height='133' class=\"itemThumbnail\">\n",
       "                       </a>\n",
       "                    </div>\n",
       "\n",
       "                    <div class=\"item_right\"     style=\"float: none; width: auto; overflow: hidden;\">\n",
       "                        <a href='https://gis.ulf.com.ua/portal/home/item.html?id=c9e17806fa1e43318a5330ef42a86d8a' target='_blank'><b>Earthquakes around the world from 1800s to early 1900s</b>\n",
       "                        </a>\n",
       "                        <br/><img src='https://gis.ulf.com.ua/portal/home/js/jsapi/esri/css/images/item_type_icons/layers16.png' style=\"vertical-align:middle;\">CSV by ShchusS\n",
       "                        <br/>Last Modified: Сентябрь 04, 2020\n",
       "                        <br/>0 comments, 0 views\n",
       "                    </div>\n",
       "                </div>\n",
       "                "
      ],
      "text/plain": [
       "<Item title:\"Earthquakes around the world from 1800s to early 1900s\" type:CSV owner:ShchusS>"
      ]
     },
     "execution_count": 121,
     "metadata": {},
     "output_type": "execute_result"
    }
   ],
   "source": [
    "earthquake_csv_item"
   ]
  },
  {
   "cell_type": "code",
   "execution_count": 122,
   "metadata": {},
   "outputs": [
    {
     "ename": "Exception",
     "evalue": "Job failed.",
     "output_type": "error",
     "traceback": [
      "\u001b[0;31m---------------------------------------------------------------------------\u001b[0m\n\u001b[0;31mException\u001b[0m                                 Traceback (most recent call last)",
      "In  \u001b[0;34m[122]\u001b[0m:\nLine \u001b[0;34m1\u001b[0m:     earthquake_feature_layer_item = earthquake_csv_item.publish()\n",
      "File \u001b[0;34mC:\\Program Files\\ArcGIS\\Pro\\bin\\Python\\envs\\arcgispro-py3\\Lib\\site-packages\\arcgis\\gis\\__init__.py\u001b[0m, in \u001b[0;32mpublish\u001b[0m:\nLine \u001b[0;34m8865\u001b[0m:  serviceitem_id = \u001b[36mself\u001b[39;49;00m._check_publish_status(ret, folder)\n",
      "File \u001b[0;34mC:\\Program Files\\ArcGIS\\Pro\\bin\\Python\\envs\\arcgispro-py3\\Lib\\site-packages\\arcgis\\gis\\__init__.py\u001b[0m, in \u001b[0;32m_check_publish_status\u001b[0m:\nLine \u001b[0;34m9092\u001b[0m:  \u001b[34mraise\u001b[39;49;00m \u001b[36mException\u001b[39;49;00m(\u001b[33m\"\u001b[39;49;00m\u001b[33mJob failed.\u001b[39;49;00m\u001b[33m\"\u001b[39;49;00m)\n",
      "\u001b[0;31mException\u001b[0m: Job failed.\n\u001b[0;31m---------------------------------------------------------------------------\u001b[0m"
     ]
    }
   ],
   "source": [
    "earthquake_feature_layer_item = earthquake_csv_item.publish()"
   ]
  },
  {
   "cell_type": "code",
   "execution_count": 141,
   "metadata": {},
   "outputs": [],
   "source": [
    "data_path = (r\"D:\\ArcGIS Users\\shchuss\\ArcGIS\\API\\earthquake\")"
   ]
  },
  {
   "cell_type": "code",
   "execution_count": 144,
   "metadata": {},
   "outputs": [
    {
     "data": {
      "text/html": [
       "<div>\n",
       "<style scoped>\n",
       "    .dataframe tbody tr th:only-of-type {\n",
       "        vertical-align: middle;\n",
       "    }\n",
       "\n",
       "    .dataframe tbody tr th {\n",
       "        vertical-align: top;\n",
       "    }\n",
       "\n",
       "    .dataframe thead th {\n",
       "        text-align: right;\n",
       "    }\n",
       "</style>\n",
       "<table border=\"1\" class=\"dataframe\">\n",
       "  <thead>\n",
       "    <tr style=\"text-align: right;\">\n",
       "      <th></th>\n",
       "      <th>datetime</th>\n",
       "      <th>latitude</th>\n",
       "      <th>longitude</th>\n",
       "      <th>depth</th>\n",
       "      <th>magnitude</th>\n",
       "      <th>magtype</th>\n",
       "      <th>nbstations</th>\n",
       "      <th>gap</th>\n",
       "      <th>distance</th>\n",
       "      <th>rms</th>\n",
       "      <th>source</th>\n",
       "      <th>eventid</th>\n",
       "    </tr>\n",
       "  </thead>\n",
       "  <tbody>\n",
       "    <tr>\n",
       "      <td>0</td>\n",
       "      <td>1898/06/29 18:36:00.00</td>\n",
       "      <td>52.000</td>\n",
       "      <td>172.000</td>\n",
       "      <td>0.0</td>\n",
       "      <td>7.6</td>\n",
       "      <td>ML</td>\n",
       "      <td>0.0</td>\n",
       "      <td>NaN</td>\n",
       "      <td>NaN</td>\n",
       "      <td>NaN</td>\n",
       "      <td>AK</td>\n",
       "      <td>NaN</td>\n",
       "    </tr>\n",
       "    <tr>\n",
       "      <td>1</td>\n",
       "      <td>1898/10/11 16:37:32.70</td>\n",
       "      <td>50.710</td>\n",
       "      <td>-179.500</td>\n",
       "      <td>0.0</td>\n",
       "      <td>6.9</td>\n",
       "      <td>ML</td>\n",
       "      <td>0.0</td>\n",
       "      <td>NaN</td>\n",
       "      <td>NaN</td>\n",
       "      <td>NaN</td>\n",
       "      <td>AK</td>\n",
       "      <td>NaN</td>\n",
       "    </tr>\n",
       "    <tr>\n",
       "      <td>2</td>\n",
       "      <td>1899/07/14 13:32:00.00</td>\n",
       "      <td>60.000</td>\n",
       "      <td>-150.000</td>\n",
       "      <td>0.0</td>\n",
       "      <td>7.2</td>\n",
       "      <td>ML</td>\n",
       "      <td>0.0</td>\n",
       "      <td>NaN</td>\n",
       "      <td>NaN</td>\n",
       "      <td>NaN</td>\n",
       "      <td>AK</td>\n",
       "      <td>NaN</td>\n",
       "    </tr>\n",
       "    <tr>\n",
       "      <td>3</td>\n",
       "      <td>1899/09/04 00:22:00.00</td>\n",
       "      <td>60.000</td>\n",
       "      <td>-142.000</td>\n",
       "      <td>25.0</td>\n",
       "      <td>8.3</td>\n",
       "      <td>ML</td>\n",
       "      <td>0.0</td>\n",
       "      <td>NaN</td>\n",
       "      <td>NaN</td>\n",
       "      <td>NaN</td>\n",
       "      <td>AK</td>\n",
       "      <td>NaN</td>\n",
       "    </tr>\n",
       "    <tr>\n",
       "      <td>4</td>\n",
       "      <td>1899/09/04 04:40:00.00</td>\n",
       "      <td>60.000</td>\n",
       "      <td>-142.000</td>\n",
       "      <td>0.0</td>\n",
       "      <td>6.9</td>\n",
       "      <td>ML</td>\n",
       "      <td>0.0</td>\n",
       "      <td>NaN</td>\n",
       "      <td>NaN</td>\n",
       "      <td>NaN</td>\n",
       "      <td>AK</td>\n",
       "      <td>NaN</td>\n",
       "    </tr>\n",
       "    <tr>\n",
       "      <td>...</td>\n",
       "      <td>...</td>\n",
       "      <td>...</td>\n",
       "      <td>...</td>\n",
       "      <td>...</td>\n",
       "      <td>...</td>\n",
       "      <td>...</td>\n",
       "      <td>...</td>\n",
       "      <td>...</td>\n",
       "      <td>...</td>\n",
       "      <td>...</td>\n",
       "      <td>...</td>\n",
       "      <td>...</td>\n",
       "    </tr>\n",
       "    <tr>\n",
       "      <td>77032</td>\n",
       "      <td>2011/12/30 12:17:44.77</td>\n",
       "      <td>-58.360</td>\n",
       "      <td>-149.047</td>\n",
       "      <td>10.0</td>\n",
       "      <td>5.0</td>\n",
       "      <td>Mb</td>\n",
       "      <td>23.0</td>\n",
       "      <td>NaN</td>\n",
       "      <td>NaN</td>\n",
       "      <td>1.05</td>\n",
       "      <td>NEI</td>\n",
       "      <td>2.011123e+09</td>\n",
       "    </tr>\n",
       "    <tr>\n",
       "      <td>77033</td>\n",
       "      <td>2011/12/30 16:34:34.71</td>\n",
       "      <td>-56.230</td>\n",
       "      <td>-27.166</td>\n",
       "      <td>109.7</td>\n",
       "      <td>5.2</td>\n",
       "      <td>Mb</td>\n",
       "      <td>85.0</td>\n",
       "      <td>NaN</td>\n",
       "      <td>NaN</td>\n",
       "      <td>0.74</td>\n",
       "      <td>NEI</td>\n",
       "      <td>2.011123e+09</td>\n",
       "    </tr>\n",
       "    <tr>\n",
       "      <td>77034</td>\n",
       "      <td>2011/12/30 17:07:23.39</td>\n",
       "      <td>30.799</td>\n",
       "      <td>138.254</td>\n",
       "      <td>405.8</td>\n",
       "      <td>5.0</td>\n",
       "      <td>Mb</td>\n",
       "      <td>329.0</td>\n",
       "      <td>NaN</td>\n",
       "      <td>NaN</td>\n",
       "      <td>0.64</td>\n",
       "      <td>NEI</td>\n",
       "      <td>2.011123e+09</td>\n",
       "    </tr>\n",
       "    <tr>\n",
       "      <td>77035</td>\n",
       "      <td>2011/12/30 17:29:58.38</td>\n",
       "      <td>-32.820</td>\n",
       "      <td>-178.099</td>\n",
       "      <td>37.5</td>\n",
       "      <td>5.0</td>\n",
       "      <td>Mb</td>\n",
       "      <td>91.0</td>\n",
       "      <td>NaN</td>\n",
       "      <td>NaN</td>\n",
       "      <td>1.19</td>\n",
       "      <td>NEI</td>\n",
       "      <td>2.011123e+09</td>\n",
       "    </tr>\n",
       "    <tr>\n",
       "      <td>77036</td>\n",
       "      <td>2011/12/30 21:43:19.69</td>\n",
       "      <td>-32.567</td>\n",
       "      <td>-178.388</td>\n",
       "      <td>35.0</td>\n",
       "      <td>5.1</td>\n",
       "      <td>Mb</td>\n",
       "      <td>53.0</td>\n",
       "      <td>NaN</td>\n",
       "      <td>NaN</td>\n",
       "      <td>1.38</td>\n",
       "      <td>NEI</td>\n",
       "      <td>2.011123e+09</td>\n",
       "    </tr>\n",
       "  </tbody>\n",
       "</table>\n",
       "<p>77037 rows × 12 columns</p>\n",
       "</div>"
      ],
      "text/plain": [
       "                     datetime  latitude  longitude  ...   rms  source       eventid\n",
       "0      1898/06/29 18:36:00.00    52.000    172.000  ...   NaN      AK           NaN\n",
       "1      1898/10/11 16:37:32.70    50.710   -179.500  ...   NaN      AK           NaN\n",
       "2      1899/07/14 13:32:00.00    60.000   -150.000  ...   NaN      AK           NaN\n",
       "3      1899/09/04 00:22:00.00    60.000   -142.000  ...   NaN      AK           NaN\n",
       "4      1899/09/04 04:40:00.00    60.000   -142.000  ...   NaN      AK           NaN\n",
       "...                       ...       ...        ...  ...   ...     ...           ...\n",
       "77032  2011/12/30 12:17:44.77   -58.360   -149.047  ...  1.05     NEI  2.011123e+09\n",
       "77033  2011/12/30 16:34:34.71   -56.230    -27.166  ...  0.74     NEI  2.011123e+09\n",
       "77034  2011/12/30 17:07:23.39    30.799    138.254  ...  0.64     NEI  2.011123e+09\n",
       "77035  2011/12/30 17:29:58.38   -32.820   -178.099  ...  1.19     NEI  2.011123e+09\n",
       "77036  2011/12/30 21:43:19.69   -32.567   -178.388  ...  1.38     NEI  2.011123e+09\n",
       "\n",
       "[77037 rows x 12 columns]"
      ]
     },
     "execution_count": 144,
     "metadata": {},
     "output_type": "execute_result"
    }
   ],
   "source": [
    "# read csv as a pandas dataframe\n",
    "earthquakes_df = pandas.read_csv(os.path.join(data_path, \"earthquakes.csv\"))\n",
    "earthquakes_df"
   ]
  },
  {
   "cell_type": "code",
   "execution_count": 145,
   "metadata": {},
   "outputs": [
    {
     "data": {
      "text/plain": [
       "77032   -58.36\n",
       "Name: latitude, dtype: float64"
      ]
     },
     "execution_count": 145,
     "metadata": {},
     "output_type": "execute_result"
    }
   ],
   "source": [
    "# find latitude of SFO\n",
    "lat = earthquakes_df.loc[earthquakes_df.datetime == '2011/12/30 12:17:44.77']['latitude']\n",
    "lat"
   ]
  },
  {
   "cell_type": "code",
   "execution_count": 164,
   "metadata": {},
   "outputs": [
    {
     "data": {
      "text/html": [
       "<div>\n",
       "<style scoped>\n",
       "    .dataframe tbody tr th:only-of-type {\n",
       "        vertical-align: middle;\n",
       "    }\n",
       "\n",
       "    .dataframe tbody tr th {\n",
       "        vertical-align: top;\n",
       "    }\n",
       "\n",
       "    .dataframe thead th {\n",
       "        text-align: right;\n",
       "    }\n",
       "</style>\n",
       "<table border=\"1\" class=\"dataframe\">\n",
       "  <thead>\n",
       "    <tr style=\"text-align: right;\">\n",
       "      <th></th>\n",
       "      <th>datetime</th>\n",
       "      <th>latitude</th>\n",
       "      <th>longitude</th>\n",
       "      <th>depth</th>\n",
       "      <th>magnitude</th>\n",
       "      <th>magtype</th>\n",
       "      <th>nbstations</th>\n",
       "      <th>gap</th>\n",
       "      <th>distance</th>\n",
       "      <th>rms</th>\n",
       "      <th>source</th>\n",
       "      <th>eventid</th>\n",
       "    </tr>\n",
       "  </thead>\n",
       "  <tbody>\n",
       "    <tr>\n",
       "      <td>3</td>\n",
       "      <td>1899/09/04 00:22:00.00</td>\n",
       "      <td>60.000</td>\n",
       "      <td>-142.000</td>\n",
       "      <td>25.0</td>\n",
       "      <td>8.30</td>\n",
       "      <td>ML</td>\n",
       "      <td>0.0</td>\n",
       "      <td>NaN</td>\n",
       "      <td>NaN</td>\n",
       "      <td>NaN</td>\n",
       "      <td>AK</td>\n",
       "      <td>NaN</td>\n",
       "    </tr>\n",
       "    <tr>\n",
       "      <td>6</td>\n",
       "      <td>1899/09/10 21:40:00.00</td>\n",
       "      <td>60.000</td>\n",
       "      <td>-140.000</td>\n",
       "      <td>25.0</td>\n",
       "      <td>8.60</td>\n",
       "      <td>ML</td>\n",
       "      <td>0.0</td>\n",
       "      <td>NaN</td>\n",
       "      <td>NaN</td>\n",
       "      <td>NaN</td>\n",
       "      <td>AK</td>\n",
       "      <td>NaN</td>\n",
       "    </tr>\n",
       "    <tr>\n",
       "      <td>11</td>\n",
       "      <td>1900/10/10 12:28:17.60</td>\n",
       "      <td>57.090</td>\n",
       "      <td>-153.480</td>\n",
       "      <td>0.0</td>\n",
       "      <td>8.30</td>\n",
       "      <td>ML</td>\n",
       "      <td>0.0</td>\n",
       "      <td>NaN</td>\n",
       "      <td>NaN</td>\n",
       "      <td>NaN</td>\n",
       "      <td>AK</td>\n",
       "      <td>NaN</td>\n",
       "    </tr>\n",
       "    <tr>\n",
       "      <td>18</td>\n",
       "      <td>1903/06/02 13:17:21.40</td>\n",
       "      <td>61.560</td>\n",
       "      <td>-158.540</td>\n",
       "      <td>0.0</td>\n",
       "      <td>8.30</td>\n",
       "      <td>ML</td>\n",
       "      <td>0.0</td>\n",
       "      <td>NaN</td>\n",
       "      <td>NaN</td>\n",
       "      <td>NaN</td>\n",
       "      <td>AK</td>\n",
       "      <td>NaN</td>\n",
       "    </tr>\n",
       "    <tr>\n",
       "      <td>81</td>\n",
       "      <td>1929/03/07 01:34:39.00</td>\n",
       "      <td>51.000</td>\n",
       "      <td>-170.000</td>\n",
       "      <td>50.0</td>\n",
       "      <td>8.60</td>\n",
       "      <td>ML</td>\n",
       "      <td>0.0</td>\n",
       "      <td>NaN</td>\n",
       "      <td>NaN</td>\n",
       "      <td>NaN</td>\n",
       "      <td>AK</td>\n",
       "      <td>NaN</td>\n",
       "    </tr>\n",
       "    <tr>\n",
       "      <td>174</td>\n",
       "      <td>1938/11/10 20:18:43.00</td>\n",
       "      <td>55.500</td>\n",
       "      <td>-158.000</td>\n",
       "      <td>25.0</td>\n",
       "      <td>8.70</td>\n",
       "      <td>ML</td>\n",
       "      <td>0.0</td>\n",
       "      <td>NaN</td>\n",
       "      <td>NaN</td>\n",
       "      <td>NaN</td>\n",
       "      <td>AK</td>\n",
       "      <td>NaN</td>\n",
       "    </tr>\n",
       "    <tr>\n",
       "      <td>301</td>\n",
       "      <td>1949/08/22 04:01:12.20</td>\n",
       "      <td>53.620</td>\n",
       "      <td>-133.270</td>\n",
       "      <td>0.0</td>\n",
       "      <td>8.10</td>\n",
       "      <td>ML</td>\n",
       "      <td>0.0</td>\n",
       "      <td>NaN</td>\n",
       "      <td>NaN</td>\n",
       "      <td>NaN</td>\n",
       "      <td>AK</td>\n",
       "      <td>NaN</td>\n",
       "    </tr>\n",
       "    <tr>\n",
       "      <td>454</td>\n",
       "      <td>1957/03/09 14:22:32.15</td>\n",
       "      <td>51.470</td>\n",
       "      <td>-175.720</td>\n",
       "      <td>33.0</td>\n",
       "      <td>8.60</td>\n",
       "      <td>ML</td>\n",
       "      <td>0.0</td>\n",
       "      <td>NaN</td>\n",
       "      <td>NaN</td>\n",
       "      <td>NaN</td>\n",
       "      <td>AK</td>\n",
       "      <td>NaN</td>\n",
       "    </tr>\n",
       "    <tr>\n",
       "      <td>1143</td>\n",
       "      <td>1963/10/13 05:17:57.10</td>\n",
       "      <td>44.800</td>\n",
       "      <td>149.500</td>\n",
       "      <td>60.0</td>\n",
       "      <td>8.25</td>\n",
       "      <td>Unk</td>\n",
       "      <td>75.0</td>\n",
       "      <td>NaN</td>\n",
       "      <td>NaN</td>\n",
       "      <td>0.00</td>\n",
       "      <td>NEI</td>\n",
       "      <td>1.963101e+09</td>\n",
       "    </tr>\n",
       "    <tr>\n",
       "      <td>1586</td>\n",
       "      <td>1964/03/28 03:36:13.90</td>\n",
       "      <td>61.050</td>\n",
       "      <td>-147.480</td>\n",
       "      <td>23.0</td>\n",
       "      <td>8.50</td>\n",
       "      <td>ML</td>\n",
       "      <td>0.0</td>\n",
       "      <td>NaN</td>\n",
       "      <td>NaN</td>\n",
       "      <td>NaN</td>\n",
       "      <td>AK</td>\n",
       "      <td>NaN</td>\n",
       "    </tr>\n",
       "    <tr>\n",
       "      <td>10842</td>\n",
       "      <td>1971/01/10 07:17:03.70</td>\n",
       "      <td>-3.132</td>\n",
       "      <td>139.697</td>\n",
       "      <td>33.0</td>\n",
       "      <td>8.10</td>\n",
       "      <td>Ms</td>\n",
       "      <td>113.0</td>\n",
       "      <td>NaN</td>\n",
       "      <td>NaN</td>\n",
       "      <td>0.00</td>\n",
       "      <td>NEI</td>\n",
       "      <td>1.971011e+09</td>\n",
       "    </tr>\n",
       "    <tr>\n",
       "      <td>33762</td>\n",
       "      <td>1985/09/19 13:17:47.35</td>\n",
       "      <td>18.190</td>\n",
       "      <td>-102.533</td>\n",
       "      <td>27.9</td>\n",
       "      <td>8.10</td>\n",
       "      <td>Ms</td>\n",
       "      <td>311.0</td>\n",
       "      <td>NaN</td>\n",
       "      <td>NaN</td>\n",
       "      <td>1.25</td>\n",
       "      <td>NEI</td>\n",
       "      <td>1.985092e+09</td>\n",
       "    </tr>\n",
       "    <tr>\n",
       "      <td>35593</td>\n",
       "      <td>1986/10/20 06:46:09.98</td>\n",
       "      <td>-28.117</td>\n",
       "      <td>-176.367</td>\n",
       "      <td>29.1</td>\n",
       "      <td>8.10</td>\n",
       "      <td>Ms</td>\n",
       "      <td>489.0</td>\n",
       "      <td>NaN</td>\n",
       "      <td>NaN</td>\n",
       "      <td>1.21</td>\n",
       "      <td>NEI</td>\n",
       "      <td>1.986102e+09</td>\n",
       "    </tr>\n",
       "    <tr>\n",
       "      <td>39622</td>\n",
       "      <td>1989/05/23 10:54:46.32</td>\n",
       "      <td>-52.341</td>\n",
       "      <td>160.568</td>\n",
       "      <td>10.0</td>\n",
       "      <td>8.20</td>\n",
       "      <td>Ms</td>\n",
       "      <td>399.0</td>\n",
       "      <td>NaN</td>\n",
       "      <td>NaN</td>\n",
       "      <td>1.25</td>\n",
       "      <td>NEI</td>\n",
       "      <td>1.989052e+09</td>\n",
       "    </tr>\n",
       "    <tr>\n",
       "      <td>47549</td>\n",
       "      <td>1994/06/09 00:33:16.23</td>\n",
       "      <td>-13.841</td>\n",
       "      <td>-67.553</td>\n",
       "      <td>631.3</td>\n",
       "      <td>8.20</td>\n",
       "      <td>Unk</td>\n",
       "      <td>676.0</td>\n",
       "      <td>NaN</td>\n",
       "      <td>NaN</td>\n",
       "      <td>1.13</td>\n",
       "      <td>NEI</td>\n",
       "      <td>1.994061e+09</td>\n",
       "    </tr>\n",
       "    <tr>\n",
       "      <td>48068</td>\n",
       "      <td>1994/10/04 13:22:55.84</td>\n",
       "      <td>43.773</td>\n",
       "      <td>147.321</td>\n",
       "      <td>14.0</td>\n",
       "      <td>8.10</td>\n",
       "      <td>Ms</td>\n",
       "      <td>672.0</td>\n",
       "      <td>NaN</td>\n",
       "      <td>NaN</td>\n",
       "      <td>0.93</td>\n",
       "      <td>NEI</td>\n",
       "      <td>1.994100e+09</td>\n",
       "    </tr>\n",
       "    <tr>\n",
       "      <td>50129</td>\n",
       "      <td>1996/02/17 05:59:30.55</td>\n",
       "      <td>-0.891</td>\n",
       "      <td>136.952</td>\n",
       "      <td>33.0</td>\n",
       "      <td>8.20</td>\n",
       "      <td>Me</td>\n",
       "      <td>370.0</td>\n",
       "      <td>NaN</td>\n",
       "      <td>NaN</td>\n",
       "      <td>1.33</td>\n",
       "      <td>NEI</td>\n",
       "      <td>1.996022e+09</td>\n",
       "    </tr>\n",
       "    <tr>\n",
       "      <td>52812</td>\n",
       "      <td>1998/03/25 03:12:25.07</td>\n",
       "      <td>-62.877</td>\n",
       "      <td>149.527</td>\n",
       "      <td>10.0</td>\n",
       "      <td>8.10</td>\n",
       "      <td>Mw</td>\n",
       "      <td>418.0</td>\n",
       "      <td>NaN</td>\n",
       "      <td>NaN</td>\n",
       "      <td>1.10</td>\n",
       "      <td>NEI</td>\n",
       "      <td>1.998033e+09</td>\n",
       "    </tr>\n",
       "    <tr>\n",
       "      <td>56961</td>\n",
       "      <td>2001/06/23 20:33:14.13</td>\n",
       "      <td>-16.265</td>\n",
       "      <td>-73.641</td>\n",
       "      <td>33.0</td>\n",
       "      <td>8.40</td>\n",
       "      <td>Mw</td>\n",
       "      <td>518.0</td>\n",
       "      <td>NaN</td>\n",
       "      <td>NaN</td>\n",
       "      <td>1.05</td>\n",
       "      <td>NEI</td>\n",
       "      <td>2.001062e+09</td>\n",
       "    </tr>\n",
       "    <tr>\n",
       "      <td>59940</td>\n",
       "      <td>2003/09/25 19:50:06.36</td>\n",
       "      <td>41.815</td>\n",
       "      <td>143.910</td>\n",
       "      <td>27.0</td>\n",
       "      <td>8.30</td>\n",
       "      <td>Mw</td>\n",
       "      <td>669.0</td>\n",
       "      <td>NaN</td>\n",
       "      <td>NaN</td>\n",
       "      <td>0.88</td>\n",
       "      <td>NEI</td>\n",
       "      <td>2.003093e+09</td>\n",
       "    </tr>\n",
       "    <tr>\n",
       "      <td>61820</td>\n",
       "      <td>2004/12/23 14:59:04.41</td>\n",
       "      <td>-49.312</td>\n",
       "      <td>161.345</td>\n",
       "      <td>10.0</td>\n",
       "      <td>8.10</td>\n",
       "      <td>Mw</td>\n",
       "      <td>331.0</td>\n",
       "      <td>NaN</td>\n",
       "      <td>NaN</td>\n",
       "      <td>1.12</td>\n",
       "      <td>NEI</td>\n",
       "      <td>2.004122e+09</td>\n",
       "    </tr>\n",
       "    <tr>\n",
       "      <td>61831</td>\n",
       "      <td>2004/12/26 00:58:53.45</td>\n",
       "      <td>3.295</td>\n",
       "      <td>95.982</td>\n",
       "      <td>30.0</td>\n",
       "      <td>9.00</td>\n",
       "      <td>Mw</td>\n",
       "      <td>601.0</td>\n",
       "      <td>NaN</td>\n",
       "      <td>NaN</td>\n",
       "      <td>1.17</td>\n",
       "      <td>NEI</td>\n",
       "      <td>2.004123e+09</td>\n",
       "    </tr>\n",
       "    <tr>\n",
       "      <td>62700</td>\n",
       "      <td>2005/03/28 16:09:36.53</td>\n",
       "      <td>2.085</td>\n",
       "      <td>97.108</td>\n",
       "      <td>30.0</td>\n",
       "      <td>8.60</td>\n",
       "      <td>Mw</td>\n",
       "      <td>510.0</td>\n",
       "      <td>NaN</td>\n",
       "      <td>NaN</td>\n",
       "      <td>0.91</td>\n",
       "      <td>NEI</td>\n",
       "      <td>2.005033e+09</td>\n",
       "    </tr>\n",
       "    <tr>\n",
       "      <td>65542</td>\n",
       "      <td>2006/11/15 11:14:13.57</td>\n",
       "      <td>46.592</td>\n",
       "      <td>153.266</td>\n",
       "      <td>10.0</td>\n",
       "      <td>8.30</td>\n",
       "      <td>Mw</td>\n",
       "      <td>576.0</td>\n",
       "      <td>NaN</td>\n",
       "      <td>NaN</td>\n",
       "      <td>1.07</td>\n",
       "      <td>NEI</td>\n",
       "      <td>2.006112e+09</td>\n",
       "    </tr>\n",
       "    <tr>\n",
       "      <td>65888</td>\n",
       "      <td>2007/01/13 04:23:21.16</td>\n",
       "      <td>46.243</td>\n",
       "      <td>154.524</td>\n",
       "      <td>10.0</td>\n",
       "      <td>8.10</td>\n",
       "      <td>Mw</td>\n",
       "      <td>606.0</td>\n",
       "      <td>NaN</td>\n",
       "      <td>NaN</td>\n",
       "      <td>1.12</td>\n",
       "      <td>NEI</td>\n",
       "      <td>2.007011e+09</td>\n",
       "    </tr>\n",
       "    <tr>\n",
       "      <td>66371</td>\n",
       "      <td>2007/04/01 20:39:58.71</td>\n",
       "      <td>-8.466</td>\n",
       "      <td>157.043</td>\n",
       "      <td>24.0</td>\n",
       "      <td>8.10</td>\n",
       "      <td>Mw</td>\n",
       "      <td>439.0</td>\n",
       "      <td>NaN</td>\n",
       "      <td>NaN</td>\n",
       "      <td>1.32</td>\n",
       "      <td>NEI</td>\n",
       "      <td>2.007040e+09</td>\n",
       "    </tr>\n",
       "    <tr>\n",
       "      <td>67346</td>\n",
       "      <td>2007/09/12 11:10:26.83</td>\n",
       "      <td>-4.438</td>\n",
       "      <td>101.367</td>\n",
       "      <td>34.0</td>\n",
       "      <td>8.50</td>\n",
       "      <td>Me</td>\n",
       "      <td>411.0</td>\n",
       "      <td>NaN</td>\n",
       "      <td>NaN</td>\n",
       "      <td>1.03</td>\n",
       "      <td>NEI</td>\n",
       "      <td>2.007091e+09</td>\n",
       "    </tr>\n",
       "    <tr>\n",
       "      <td>71552</td>\n",
       "      <td>2009/09/29 17:48:10.99</td>\n",
       "      <td>-15.489</td>\n",
       "      <td>-172.095</td>\n",
       "      <td>18.0</td>\n",
       "      <td>8.10</td>\n",
       "      <td>Mw</td>\n",
       "      <td>520.0</td>\n",
       "      <td>NaN</td>\n",
       "      <td>NaN</td>\n",
       "      <td>1.01</td>\n",
       "      <td>NEI</td>\n",
       "      <td>2.009093e+09</td>\n",
       "    </tr>\n",
       "    <tr>\n",
       "      <td>72520</td>\n",
       "      <td>2010/02/27 06:34:11.53</td>\n",
       "      <td>-36.122</td>\n",
       "      <td>-72.898</td>\n",
       "      <td>22.9</td>\n",
       "      <td>8.80</td>\n",
       "      <td>Mw</td>\n",
       "      <td>454.0</td>\n",
       "      <td>NaN</td>\n",
       "      <td>NaN</td>\n",
       "      <td>1.09</td>\n",
       "      <td>NEI</td>\n",
       "      <td>2.010023e+09</td>\n",
       "    </tr>\n",
       "    <tr>\n",
       "      <td>74935</td>\n",
       "      <td>2011/03/11 05:46:24.12</td>\n",
       "      <td>38.297</td>\n",
       "      <td>142.373</td>\n",
       "      <td>29.0</td>\n",
       "      <td>9.10</td>\n",
       "      <td>Mw</td>\n",
       "      <td>541.0</td>\n",
       "      <td>NaN</td>\n",
       "      <td>NaN</td>\n",
       "      <td>1.16</td>\n",
       "      <td>NEI</td>\n",
       "      <td>2.011031e+09</td>\n",
       "    </tr>\n",
       "  </tbody>\n",
       "</table>\n",
       "</div>"
      ],
      "text/plain": [
       "                     datetime  latitude  longitude  ...   rms  source       eventid\n",
       "3      1899/09/04 00:22:00.00    60.000   -142.000  ...   NaN      AK           NaN\n",
       "6      1899/09/10 21:40:00.00    60.000   -140.000  ...   NaN      AK           NaN\n",
       "11     1900/10/10 12:28:17.60    57.090   -153.480  ...   NaN      AK           NaN\n",
       "18     1903/06/02 13:17:21.40    61.560   -158.540  ...   NaN      AK           NaN\n",
       "81     1929/03/07 01:34:39.00    51.000   -170.000  ...   NaN      AK           NaN\n",
       "174    1938/11/10 20:18:43.00    55.500   -158.000  ...   NaN      AK           NaN\n",
       "301    1949/08/22 04:01:12.20    53.620   -133.270  ...   NaN      AK           NaN\n",
       "454    1957/03/09 14:22:32.15    51.470   -175.720  ...   NaN      AK           NaN\n",
       "1143   1963/10/13 05:17:57.10    44.800    149.500  ...  0.00     NEI  1.963101e+09\n",
       "1586   1964/03/28 03:36:13.90    61.050   -147.480  ...   NaN      AK           NaN\n",
       "10842  1971/01/10 07:17:03.70    -3.132    139.697  ...  0.00     NEI  1.971011e+09\n",
       "33762  1985/09/19 13:17:47.35    18.190   -102.533  ...  1.25     NEI  1.985092e+09\n",
       "35593  1986/10/20 06:46:09.98   -28.117   -176.367  ...  1.21     NEI  1.986102e+09\n",
       "39622  1989/05/23 10:54:46.32   -52.341    160.568  ...  1.25     NEI  1.989052e+09\n",
       "47549  1994/06/09 00:33:16.23   -13.841    -67.553  ...  1.13     NEI  1.994061e+09\n",
       "48068  1994/10/04 13:22:55.84    43.773    147.321  ...  0.93     NEI  1.994100e+09\n",
       "50129  1996/02/17 05:59:30.55    -0.891    136.952  ...  1.33     NEI  1.996022e+09\n",
       "52812  1998/03/25 03:12:25.07   -62.877    149.527  ...  1.10     NEI  1.998033e+09\n",
       "56961  2001/06/23 20:33:14.13   -16.265    -73.641  ...  1.05     NEI  2.001062e+09\n",
       "59940  2003/09/25 19:50:06.36    41.815    143.910  ...  0.88     NEI  2.003093e+09\n",
       "61820  2004/12/23 14:59:04.41   -49.312    161.345  ...  1.12     NEI  2.004122e+09\n",
       "61831  2004/12/26 00:58:53.45     3.295     95.982  ...  1.17     NEI  2.004123e+09\n",
       "62700  2005/03/28 16:09:36.53     2.085     97.108  ...  0.91     NEI  2.005033e+09\n",
       "65542  2006/11/15 11:14:13.57    46.592    153.266  ...  1.07     NEI  2.006112e+09\n",
       "65888  2007/01/13 04:23:21.16    46.243    154.524  ...  1.12     NEI  2.007011e+09\n",
       "66371  2007/04/01 20:39:58.71    -8.466    157.043  ...  1.32     NEI  2.007040e+09\n",
       "67346  2007/09/12 11:10:26.83    -4.438    101.367  ...  1.03     NEI  2.007091e+09\n",
       "71552  2009/09/29 17:48:10.99   -15.489   -172.095  ...  1.01     NEI  2.009093e+09\n",
       "72520  2010/02/27 06:34:11.53   -36.122    -72.898  ...  1.09     NEI  2.010023e+09\n",
       "74935  2011/03/11 05:46:24.12    38.297    142.373  ...  1.16     NEI  2.011031e+09\n",
       "\n",
       "[30 rows x 12 columns]"
      ]
     },
     "execution_count": 164,
     "metadata": {},
     "output_type": "execute_result"
    }
   ],
   "source": [
    "earthquakes_max = earthquakes_df.loc[earthquakes_df.magnitude > 8.0]\n",
    "earthquakes_max"
   ]
  },
  {
   "cell_type": "code",
   "execution_count": 165,
   "metadata": {},
   "outputs": [
    {
     "data": {
      "text/plain": [
       "<FeatureCollection>"
      ]
     },
     "execution_count": 165,
     "metadata": {},
     "output_type": "execute_result"
    }
   ],
   "source": [
    "earthquakes_max = gis.content.import_data(earthquakes_max)\n",
    "earthquakes_max"
   ]
  },
  {
   "cell_type": "code",
   "execution_count": 166,
   "metadata": {},
   "outputs": [],
   "source": [
    "import json\n",
    "earthquakes_max_dict = dict(earthquakes_max.properties)\n",
    "earthquakes_json = json.dumps({\"featureCollection\": {\"layers\": [earthquakes_max_dict]}})"
   ]
  },
  {
   "cell_type": "code",
   "execution_count": 168,
   "metadata": {},
   "outputs": [
    {
     "data": {
      "text/html": [
       "<div class=\"item_container\" style=\"height: auto; overflow: hidden; border: 1px solid #cfcfcf; border-radius: 2px; background: #f6fafa; line-height: 1.21429em; padding: 10px;\">\n",
       "                    <div class=\"item_left\" style=\"width: 210px; float: left;\">\n",
       "                       <a href='https://gis.ulf.com.ua/portal/home/item.html?id=fe0cda51515d42aaacba0ac7d6d83125' target='_blank'>\n",
       "                        <img src='https://gis.ulf.com.ua/portal/portalimages/desktopapp.png' class=\"itemThumbnail\">\n",
       "                       </a>\n",
       "                    </div>\n",
       "\n",
       "                    <div class=\"item_right\"     style=\"float: none; width: auto; overflow: hidden;\">\n",
       "                        <a href='https://gis.ulf.com.ua/portal/home/item.html?id=fe0cda51515d42aaacba0ac7d6d83125' target='_blank'><b>Earthquakes (max)</b>\n",
       "                        </a>\n",
       "                        <br/><img src='https://gis.ulf.com.ua/portal/home/js/jsapi/esri/css/images/item_type_icons/features16.png' style=\"vertical-align:middle;\">Feature Collection by ShchusS\n",
       "                        <br/>Last Modified: Сентябрь 04, 2020\n",
       "                        <br/>0 comments, 0 views\n",
       "                    </div>\n",
       "                </div>\n",
       "                "
      ],
      "text/plain": [
       "<Item title:\"Earthquakes (max)\" type:Feature Collection owner:ShchusS>"
      ]
     },
     "execution_count": 168,
     "metadata": {},
     "output_type": "execute_result"
    }
   ],
   "source": [
    "\n",
    "earthquakes_item_properties = {'title': 'Earthquakes (max)',\n",
    "                        'description':'Example demonstrating conversion of pandas ' + \\\n",
    "                         'dataframe object to a GIS item',\n",
    "                        'tags': 'arcgis python api, pandas, csv',\n",
    "                        'text':earthquakes_json,\n",
    "                        'type':'Feature Collection'}\n",
    "earthquakes_item = gis.content.add(earthquakes_item_properties)\n",
    "earthquakes_item"
   ]
  },
  {
   "cell_type": "code",
   "execution_count": 169,
   "metadata": {},
   "outputs": [
    {
     "data": {
      "text/plain": [
       "True"
      ]
     },
     "execution_count": 169,
     "metadata": {},
     "output_type": "execute_result"
    }
   ],
   "source": [
    "# check if service name is available\n",
    "gis.content.is_service_name_available(service_name= \"awesome_python\", service_type = 'featureService')"
   ]
  },
  {
   "cell_type": "code",
   "execution_count": 170,
   "metadata": {},
   "outputs": [
    {
     "data": {
      "text/html": [
       "<div class=\"item_container\" style=\"height: auto; overflow: hidden; border: 1px solid #cfcfcf; border-radius: 2px; background: #f6fafa; line-height: 1.21429em; padding: 10px;\">\n",
       "                    <div class=\"item_left\" style=\"width: 210px; float: left;\">\n",
       "                       <a href='https://gis.ulf.com.ua/portal/home/item.html?id=9e8b7b97c88b4e77b58df415f47081b5' target='_blank'>\n",
       "                        <img src='https://gis.ulf.com.ua/portal/portalimages/desktopapp.png' class=\"itemThumbnail\">\n",
       "                       </a>\n",
       "                    </div>\n",
       "\n",
       "                    <div class=\"item_right\"     style=\"float: none; width: auto; overflow: hidden;\">\n",
       "                        <a href='https://gis.ulf.com.ua/portal/home/item.html?id=9e8b7b97c88b4e77b58df415f47081b5' target='_blank'><b>awesome_python</b>\n",
       "                        </a>\n",
       "                        <br/><img src='https://gis.ulf.com.ua/portal/home/js/jsapi/esri/css/images/item_type_icons/featureshosted16.png' style=\"vertical-align:middle;\">Feature Layer Collection by ShchusS\n",
       "                        <br/>Last Modified: Сентябрь 04, 2020\n",
       "                        <br/>0 comments, 0 views\n",
       "                    </div>\n",
       "                </div>\n",
       "                "
      ],
      "text/plain": [
       "<Item title:\"awesome_python\" type:Feature Layer Collection owner:ShchusS>"
      ]
     },
     "execution_count": 170,
     "metadata": {},
     "output_type": "execute_result"
    }
   ],
   "source": [
    "# let us publish an empty service\n",
    "empty_service_item = gis.content.create_service(name='awesome_python', service_type='featureService')\n",
    "empty_service_item"
   ]
  },
  {
   "cell_type": "code",
   "execution_count": 171,
   "metadata": {},
   "outputs": [
    {
     "data": {
      "text/plain": [
       "[]"
      ]
     },
     "execution_count": 171,
     "metadata": {},
     "output_type": "execute_result"
    }
   ],
   "source": [
    "# access the layers property of the item\n",
    "empty_service_item.layers"
   ]
  },
  {
   "cell_type": "code",
   "execution_count": 172,
   "metadata": {},
   "outputs": [
    {
     "data": {
      "text/plain": [
       "{'username': 'ShchusS', 'id': '7a53cde1f6e4447a9e7e8f054981a0e8', 'title': 'API'}"
      ]
     },
     "execution_count": 172,
     "metadata": {},
     "output_type": "execute_result"
    }
   ],
   "source": [
    "# create new folder\n",
    "gis.content.create_folder(folder='API')"
   ]
  },
  {
   "cell_type": "code",
   "execution_count": 175,
   "metadata": {},
   "outputs": [
    {
     "data": {
      "text/plain": [
       "{'success': True, 'itemId': 'fe0cda51515d42aaacba0ac7d6d83125', 'owner': 'ShchusS', 'folder': '7a53cde1f6e4447a9e7e8f054981a0e8'}"
      ]
     },
     "execution_count": 175,
     "metadata": {},
     "output_type": "execute_result"
    }
   ],
   "source": [
    "# move the ports_item into this folder\n",
    "earthquakes_item.move(folder='API')"
   ]
  },
  {
   "cell_type": "code",
   "execution_count": null,
   "metadata": {},
   "outputs": [],
   "source": []
  }
 ],
 "metadata": {
  "kernelspec": {
   "display_name": "ArcGISPro",
   "language": "Python",
   "name": "python3"
  },
  "language_info": {
   "file_extension": ".py",
   "name": "python",
   "version": "3"
  }
 },
 "nbformat": 4,
 "nbformat_minor": 2
}
