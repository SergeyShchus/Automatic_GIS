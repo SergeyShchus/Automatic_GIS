{
 "cells": [
  {
   "cell_type": "code",
   "execution_count": 1,
   "metadata": {},
   "outputs": [],
   "source": [
    "import os\n",
    "import imageio\n",
    "import pandas as pd\n",
    "import datetime as dt\n",
    "from platform import system\n",
    "from PIL import Image, ImageFont, ImageDraw\n",
    "\n",
    "import arcgis\n",
    "from arcgis.gis import GIS\n",
    "from arcgis import geometry\n",
    "from arcgis.raster.functions import apply"
   ]
  },
  {
   "cell_type": "code",
   "execution_count": 2,
   "metadata": {},
   "outputs": [],
   "source": [
    "gis = GIS(\"https://www.arcgis.com\", \"arcgis_python\", \"P@ssword123\")"
   ]
  },
  {
   "cell_type": "code",
   "execution_count": 3,
   "metadata": {},
   "outputs": [
    {
     "data": {
      "text/html": [
       "<div class=\"item_container\" style=\"height: auto; overflow: hidden; border: 1px solid #cfcfcf; border-radius: 2px; background: #f6fafa; line-height: 1.21429em; padding: 10px;\">\n",
       "                    <div class=\"item_left\" style=\"width: 210px; float: left;\">\n",
       "                       <a href='https://geosaurus.maps.arcgis.com/home/item.html?id=d9b466d6a9e647ce8d1dd5fe12eb434b' target='_blank'>\n",
       "                        <img src='data:image/png;base64,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' width='200' height='133' class=\"itemThumbnail\">\n",
       "                       </a>\n",
       "                    </div>\n",
       "\n",
       "                    <div class=\"item_right\"     style=\"float: none; width: auto; overflow: hidden;\">\n",
       "                        <a href='https://geosaurus.maps.arcgis.com/home/item.html?id=d9b466d6a9e647ce8d1dd5fe12eb434b' target='_blank'><b>Multispectral Landsat</b>\n",
       "                        </a>\n",
       "                        <br/>Landsat multispectral and multitemporal imagery with on-the-fly renderings and indices for visualization and analysis.  The Landsat 8 imagery in this layer is updated daily and is directly sourced from the Landsat on AWS collection.<img src='https://geosaurus.maps.arcgis.com/home/js/jsapi/esri/css/images/item_type_icons/imagery16.png' style=\"vertical-align:middle;\">Imagery Layer by esri\n",
       "                        <br/>Last Modified: декабрь 19, 2019\n",
       "                        <br/>0 comments, 312 928 views\n",
       "                    </div>\n",
       "                </div>\n",
       "                "
      ],
      "text/plain": [
       "<Item title:\"Multispectral Landsat\" type:Imagery Layer owner:esri>"
      ]
     },
     "execution_count": 3,
     "metadata": {},
     "output_type": "execute_result"
    }
   ],
   "source": [
    "def exact_search(my_gis, title, owner_value, item_type_value):\n",
    "    final_match = None\n",
    "    search_result = my_gis.content.search(query= title + ' AND owner:' + owner_value,\n",
    "                                          item_type=item_type_value,\n",
    "                                          outside_org=True)\n",
    "    \n",
    "    if \"Imagery Layer\" in item_type_value:\n",
    "        item_type_value = item_type_value.replace(\"Imagery Layer\", \"Image Service\")\n",
    "    elif \"Layer\" in item_type_value:\n",
    "        item_type_value = item_type_value.replace(\"Layer\", \"Service\")\n",
    "    \n",
    "    for result in search_result:\n",
    "        if result.title == title and result.type == item_type_value:\n",
    "            final_match = result\n",
    "            break\n",
    "    return final_match\n",
    "\n",
    "landsat_item = exact_search(gis, 'Multispectral Landsat', 'esri', 'Imagery Layer')\n",
    "landsat = landsat_item.layers[0]\n",
    "landsat_item"
   ]
  },
  {
   "cell_type": "code",
   "execution_count": 4,
   "metadata": {},
   "outputs": [],
   "source": [
    "rgb_collection = apply(landsat, 'Natural Color with DRA')"
   ]
  },
  {
   "cell_type": "code",
   "execution_count": 6,
   "metadata": {},
   "outputs": [
    {
     "data": {
      "application/vnd.jupyter.widget-view+json": {
       "model_id": "3166d8f369ea46eabe42c42a166cfcf2",
       "version_major": 2,
       "version_minor": 0
      },
      "text/plain": [
       "MapView(layout=Layout(height='400px', width='100%'))"
      ]
     },
     "metadata": {},
     "output_type": "display_data"
    },
    {
     "data": {
      "text/html": [
       "<div class=\"map-static-img-preview-ed65fad8-667f-403b-b7a8-163634709884\"><img src=\"\"></img></div>"
      ],
      "text/plain": [
       "<IPython.core.display.HTML object>"
      ]
     },
     "metadata": {},
     "output_type": "display_data"
    }
   ],
   "source": [
    "m = gis.map('Hirakund reservoir, Odisha', 10)\n",
    "\n",
    "\n",
    "m"
   ]
  },
  {
   "cell_type": "code",
   "execution_count": 7,
   "metadata": {},
   "outputs": [
    {
     "data": {
      "text/plain": [
       "{'spatialReference': {'latestWkid': 3857, 'wkid': 102100},\n",
       " 'xmin': 9202564.185655857,\n",
       " 'ymin': 2397108.3807668495,\n",
       " 'xmax': 9503420.328986166,\n",
       " 'ymax': 2519407.6260230723}"
      ]
     },
     "execution_count": 7,
     "metadata": {},
     "output_type": "execute_result"
    }
   ],
   "source": [
    "extent = m.extent\n",
    "extent"
   ]
  },
  {
   "cell_type": "code",
   "execution_count": 8,
   "metadata": {},
   "outputs": [],
   "source": [
    "def collection(df, interval, start, end, height, width):\n",
    "    images=[]\n",
    "    if(interval=='m'):                                                                                     # monthly\n",
    "        for i in range(int(start.split('-')[0]), int(end.split('-')[0])+1):\n",
    "            for j in range(1,13):\n",
    "                selected = df[(df['AcquisitionDate'].dt.year == i) & (df['AcquisitionDate'].dt.month == j)]\n",
    "                id = selected['OBJECTID'].values.tolist()\n",
    "                if(len(id)>0):\n",
    "                    rgb_collection.mosaic_by(method=\"LockRaster\",lock_rasters=id)\n",
    "                    img_name = 'img_'+str(i)+\"-\"+str(j)+\".jpg\"\n",
    "                    rgb_collection.export_image(bbox=extent, size=[height,width], f='image', \n",
    "                                                  save_folder='.', \n",
    "                                                  save_file=img_name)\n",
    "                    img = Image.open(img_name).convert('RGB')\n",
    "                    if system()=='Windows':\n",
    "                        font = ImageFont.truetype(\"arial.ttf\", 30)\n",
    "                    elif system()=='Linux':\n",
    "                        font = ImageFont.truetype(\"~/.fonts/truetype/dejavu/DejaVuSans.ttf\", 30)\n",
    "                    else:\n",
    "                        font = ImageFont.truetype(\"Arial.ttf\", 30)\n",
    "                    draw = ImageDraw.Draw(img)\n",
    "                    draw.text((550, 0),str(j)+\"-\"+str(i),(255,255,255),font=font)\n",
    "                    images.append(img)\n",
    "                    os.remove(img_name)\n",
    "                    \n",
    "    elif(interval=='y'):                                                                                  # yearly\n",
    "        for i in range(int(start.split('-')[0]), int(end.split('-')[0])+1):\n",
    "            selected = df[df['AcquisitionDate'].dt.year == i]\n",
    "            id = selected['OBJECTID'].values.tolist()\n",
    "            if(len(id)>0):\n",
    "                rgb_collection.mosaic_by(method=\"LockRaster\",lock_rasters=id)\n",
    "                img_name = 'img_'+str(i)+\".jpg\"\n",
    "                rgb_collection.export_image(bbox=extent, size=[height,width], f='image', \n",
    "                                              save_folder='.', \n",
    "                                              save_file=img_name)\n",
    "                img = Image.open(img_name).convert('RGB')\n",
    "                if system()=='Windows':\n",
    "                    font = ImageFont.truetype(\"arial.ttf\", 30)\n",
    "                elif system()=='Linux':\n",
    "                    font = ImageFont.truetype(\"~/.fonts/truetype/dejavu/DejaVuSans.ttf\", 30)\n",
    "                else:\n",
    "                    font = ImageFont.truetype(\"Arial.ttf\", 30)\n",
    "                draw = ImageDraw.Draw(img)\n",
    "                draw.text((550, 0),str(i),(255,255,255),font=font)    \n",
    "                images.append(img)\n",
    "                os.remove(img_name)\n",
    "    \n",
    "    return images"
   ]
  },
  {
   "cell_type": "code",
   "execution_count": 9,
   "metadata": {},
   "outputs": [],
   "source": [
    "def create_movie(target, interval, start, end, height, width, extent, duration):\n",
    "    start_date = dt.datetime.strptime(start, '%Y-%m-%d')\n",
    "    end_date = dt.datetime.strptime(end, '%Y-%m-%d')\n",
    "    selected = target.filter_by(where=\"(Category = 1) AND (CloudCover <=0.5)\",\n",
    "                             time=[start_date, end_date],\n",
    "                             geometry=arcgis.geometry.filters.intersects(extent))\n",
    "\n",
    "    df = selected.query(out_fields=\"AcquisitionDate, GroupName, CloudCover, DayOfYear\", \n",
    "                        order_by_fields=\"AcquisitionDate\").sdf\n",
    "    df['AcquisitionDate'] = pd.to_datetime(df['AcquisitionDate'], unit='ms')\n",
    "    frames = collection(df, interval, start, end, height, width)\n",
    "    imageio.mimsave('movie'+'_'+interval+'.gif', frames, duration=duration)\n",
    "    print(\"Movie Created\")"
   ]
  },
  {
   "cell_type": "code",
   "execution_count": 10,
   "metadata": {},
   "outputs": [
    {
     "name": "stdout",
     "output_type": "stream",
     "text": [
      "Movie Created\n"
     ]
    }
   ],
   "source": [
    "create_movie(rgb_collection,'m' ,'2019-01-01','2019-12-31', 1250, 450, extent, 0.4)          # calling create_movie function"
   ]
  },
  {
   "cell_type": "code",
   "execution_count": null,
   "metadata": {},
   "outputs": [],
   "source": []
  }
 ],
 "metadata": {
  "kernelspec": {
   "display_name": "Python 3",
   "language": "python",
   "name": "python3"
  },
  "language_info": {
   "codemirror_mode": {
    "name": "ipython",
    "version": 3
   },
   "file_extension": ".py",
   "mimetype": "text/x-python",
   "name": "python",
   "nbconvert_exporter": "python",
   "pygments_lexer": "ipython3",
   "version": "3.8.3"
  }
 },
 "nbformat": 4,
 "nbformat_minor": 4
}
