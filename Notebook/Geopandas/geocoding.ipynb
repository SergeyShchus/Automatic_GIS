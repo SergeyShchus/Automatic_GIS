{
  "nbformat": 4,
  "nbformat_minor": 0,
  "metadata": {
    "colab": {
      "name": "geocoding.ipynb",
      "provenance": [],
      "authorship_tag": "ABX9TyMPXd4LUgIMcsIAFMEd5OkH",
      "include_colab_link": true
    },
    "kernelspec": {
      "name": "python3",
      "display_name": "Python 3"
    }
  },
  "cells": [
    {
      "cell_type": "markdown",
      "metadata": {
        "id": "view-in-github",
        "colab_type": "text"
      },
      "source": [
        "<a href=\"https://colab.research.google.com/github/SergeyShchus/Automatic_GIS/blob/master/Notebook/Geopandas/geocoding.ipynb\" target=\"_parent\"><img src=\"https://colab.research.google.com/assets/colab-badge.svg\" alt=\"Open In Colab\"/></a>"
      ]
    },
    {
      "cell_type": "code",
      "metadata": {
        "colab": {
          "base_uri": "https://localhost:8080/"
        },
        "id": "HOoAJk83JrX5",
        "outputId": "e4801b9f-2c74-4bdb-f812-a0c1a0b23de2"
      },
      "source": [
        "#@title\r\n",
        "# Install OpticalRS. This also installs GeoPandas because GeoPandas is a dependency of OpticalRS\r\n",
        "!apt-get install software-properties-common python-software-properties > /dev/null\r\n",
        "!add-apt-repository ppa:ubuntugis/ppa -y > /dev/null\r\n",
        "!apt-get update > /dev/null\r\n",
        "!apt-get install -y --fix-missing python-gdal gdal-bin libgdal-dev > /dev/null\r\n",
        "!pip2 install OpticalRS > /dev/null\r\n",
        "\r\n",
        "! pip install geopandas\r\n",
        "\r\n",
        "import pandas as pd\r\n",
        "import geopandas as gpd\r\n",
        "from shapely.geometry import Point\r\n",
        "\r\n",
        "from google.colab import drive\r\n",
        "drive.mount('/content/gdrive')"
      ],
      "execution_count": 1,
      "outputs": [
        {
          "output_type": "stream",
          "text": [
            "E: Package 'python-software-properties' has no installation candidate\n",
            "Extracting templates from packages: 100%\n",
            "Collecting geopandas\n",
            "\u001b[?25l  Downloading https://files.pythonhosted.org/packages/2a/9f/e8a440a993e024c0d3d4e5c7d3346367c50c9a1a3d735caf5ee3bde0aab1/geopandas-0.8.2-py2.py3-none-any.whl (962kB)\n",
            "\u001b[K     |████████████████████████████████| 972kB 13.4MB/s \n",
            "\u001b[?25hRequirement already satisfied: shapely in /usr/local/lib/python3.6/dist-packages (from geopandas) (1.7.1)\n",
            "Collecting pyproj>=2.2.0\n",
            "\u001b[?25l  Downloading https://files.pythonhosted.org/packages/e4/ab/280e80a67cfc109d15428c0ec56391fc03a65857b7727cf4e6e6f99a4204/pyproj-3.0.0.post1-cp36-cp36m-manylinux2010_x86_64.whl (6.4MB)\n",
            "\u001b[K     |████████████████████████████████| 6.5MB 50.5MB/s \n",
            "\u001b[?25hRequirement already satisfied: pandas>=0.23.0 in /usr/local/lib/python3.6/dist-packages (from geopandas) (1.1.5)\n",
            "Collecting fiona\n",
            "\u001b[?25l  Downloading https://files.pythonhosted.org/packages/37/94/4910fd55246c1d963727b03885ead6ef1cd3748a465f7b0239ab25dfc9a3/Fiona-1.8.18-cp36-cp36m-manylinux1_x86_64.whl (14.8MB)\n",
            "\u001b[K     |████████████████████████████████| 14.8MB 169kB/s \n",
            "\u001b[?25hRequirement already satisfied: certifi in /usr/local/lib/python3.6/dist-packages (from pyproj>=2.2.0->geopandas) (2020.12.5)\n",
            "Requirement already satisfied: python-dateutil>=2.7.3 in /usr/local/lib/python3.6/dist-packages (from pandas>=0.23.0->geopandas) (2.8.1)\n",
            "Requirement already satisfied: pytz>=2017.2 in /usr/local/lib/python3.6/dist-packages (from pandas>=0.23.0->geopandas) (2018.9)\n",
            "Requirement already satisfied: numpy>=1.15.4 in /usr/local/lib/python3.6/dist-packages (from pandas>=0.23.0->geopandas) (1.19.5)\n",
            "Requirement already satisfied: click<8,>=4.0 in /usr/local/lib/python3.6/dist-packages (from fiona->geopandas) (7.1.2)\n",
            "Collecting munch\n",
            "  Downloading https://files.pythonhosted.org/packages/cc/ab/85d8da5c9a45e072301beb37ad7f833cd344e04c817d97e0cc75681d248f/munch-2.5.0-py2.py3-none-any.whl\n",
            "Collecting click-plugins>=1.0\n",
            "  Downloading https://files.pythonhosted.org/packages/e9/da/824b92d9942f4e472702488857914bdd50f73021efea15b4cad9aca8ecef/click_plugins-1.1.1-py2.py3-none-any.whl\n",
            "Requirement already satisfied: six>=1.7 in /usr/local/lib/python3.6/dist-packages (from fiona->geopandas) (1.15.0)\n",
            "Collecting cligj>=0.5\n",
            "  Downloading https://files.pythonhosted.org/packages/42/1e/947eadf10d6804bf276eb8a038bd5307996dceaaa41cfd21b7a15ec62f5d/cligj-0.7.1-py3-none-any.whl\n",
            "Requirement already satisfied: attrs>=17 in /usr/local/lib/python3.6/dist-packages (from fiona->geopandas) (20.3.0)\n",
            "Installing collected packages: pyproj, munch, click-plugins, cligj, fiona, geopandas\n",
            "Successfully installed click-plugins-1.1.1 cligj-0.7.1 fiona-1.8.18 geopandas-0.8.2 munch-2.5.0 pyproj-3.0.0.post1\n",
            "Mounted at /content/gdrive\n"
          ],
          "name": "stdout"
        }
      ]
    },
    {
      "cell_type": "code",
      "metadata": {
        "id": "lVJxf6pLKzn8"
      },
      "source": [
        "url = r'https://raw.githubusercontent.com/SergeyShchus/Automatic_GIS/master/DATA/addresses.txt'\r\n",
        "# Read the data\r\n",
        "data = pd.read_csv(url, sep=';')"
      ],
      "execution_count": 31,
      "outputs": []
    },
    {
      "cell_type": "code",
      "metadata": {
        "colab": {
          "base_uri": "https://localhost:8080/",
          "height": 204
        },
        "id": "tXFDHsT3RMye",
        "outputId": "7b60a10d-6acf-49dd-8a2b-2437524f3bf9"
      },
      "source": [
        "\r\n",
        "data.head()"
      ],
      "execution_count": 33,
      "outputs": [
        {
          "output_type": "execute_result",
          "data": {
            "text/html": [
              "<div>\n",
              "<style scoped>\n",
              "    .dataframe tbody tr th:only-of-type {\n",
              "        vertical-align: middle;\n",
              "    }\n",
              "\n",
              "    .dataframe tbody tr th {\n",
              "        vertical-align: top;\n",
              "    }\n",
              "\n",
              "    .dataframe thead th {\n",
              "        text-align: right;\n",
              "    }\n",
              "</style>\n",
              "<table border=\"1\" class=\"dataframe\">\n",
              "  <thead>\n",
              "    <tr style=\"text-align: right;\">\n",
              "      <th></th>\n",
              "      <th>id</th>\n",
              "      <th>addr</th>\n",
              "    </tr>\n",
              "  </thead>\n",
              "  <tbody>\n",
              "    <tr>\n",
              "      <th>0</th>\n",
              "      <td>1000</td>\n",
              "      <td>Itämerenkatu 14, 00101 Helsinki, Finland</td>\n",
              "    </tr>\n",
              "    <tr>\n",
              "      <th>1</th>\n",
              "      <td>1001</td>\n",
              "      <td>Kampinkuja 1, 00100 Helsinki, Finland</td>\n",
              "    </tr>\n",
              "    <tr>\n",
              "      <th>2</th>\n",
              "      <td>1002</td>\n",
              "      <td>Kaivokatu 8, 00101 Helsinki, Finland</td>\n",
              "    </tr>\n",
              "    <tr>\n",
              "      <th>3</th>\n",
              "      <td>1003</td>\n",
              "      <td>Hermannin rantatie 1, 00580 Helsinki, Finland</td>\n",
              "    </tr>\n",
              "    <tr>\n",
              "      <th>4</th>\n",
              "      <td>1005</td>\n",
              "      <td>Tyynenmerenkatu 9, 00220 Helsinki, Finland</td>\n",
              "    </tr>\n",
              "  </tbody>\n",
              "</table>\n",
              "</div>"
            ],
            "text/plain": [
              "     id                                           addr\n",
              "0  1000       Itämerenkatu 14, 00101 Helsinki, Finland\n",
              "1  1001          Kampinkuja 1, 00100 Helsinki, Finland\n",
              "2  1002           Kaivokatu 8, 00101 Helsinki, Finland\n",
              "3  1003  Hermannin rantatie 1, 00580 Helsinki, Finland\n",
              "4  1005     Tyynenmerenkatu 9, 00220 Helsinki, Finland"
            ]
          },
          "metadata": {
            "tags": []
          },
          "execution_count": 33
        }
      ]
    },
    {
      "cell_type": "code",
      "metadata": {
        "colab": {
          "base_uri": "https://localhost:8080/"
        },
        "id": "DdzIoC4fRbya",
        "outputId": "801bc035-f6c4-47e6-af95-f0c13cecb36b"
      },
      "source": [
        "len(data)"
      ],
      "execution_count": 34,
      "outputs": [
        {
          "output_type": "execute_result",
          "data": {
            "text/plain": [
              "34"
            ]
          },
          "metadata": {
            "tags": []
          },
          "execution_count": 34
        }
      ]
    },
    {
      "cell_type": "code",
      "metadata": {
        "id": "QOnk164WRwtT"
      },
      "source": [
        "# Import the geocoding tool\r\n",
        "from geopandas.tools import geocode\r\n",
        "\r\n",
        "# Geocode addresses using Nominatim. Remember to provide a custom \"application name\" in the user_agent parameter!\r\n",
        "geo = geocode(data['addr'], provider='nominatim', user_agent='autogis_xx', timeout=4)"
      ],
      "execution_count": 35,
      "outputs": []
    },
    {
      "cell_type": "code",
      "metadata": {
        "colab": {
          "base_uri": "https://localhost:8080/",
          "height": 204
        },
        "id": "2RvHz549R61a",
        "outputId": "021a7789-fb39-4023-f154-f542aeede3f0"
      },
      "source": [
        "geo.head()"
      ],
      "execution_count": 36,
      "outputs": [
        {
          "output_type": "execute_result",
          "data": {
            "text/html": [
              "<div>\n",
              "<style scoped>\n",
              "    .dataframe tbody tr th:only-of-type {\n",
              "        vertical-align: middle;\n",
              "    }\n",
              "\n",
              "    .dataframe tbody tr th {\n",
              "        vertical-align: top;\n",
              "    }\n",
              "\n",
              "    .dataframe thead th {\n",
              "        text-align: right;\n",
              "    }\n",
              "</style>\n",
              "<table border=\"1\" class=\"dataframe\">\n",
              "  <thead>\n",
              "    <tr style=\"text-align: right;\">\n",
              "      <th></th>\n",
              "      <th>geometry</th>\n",
              "      <th>address</th>\n",
              "    </tr>\n",
              "  </thead>\n",
              "  <tbody>\n",
              "    <tr>\n",
              "      <th>0</th>\n",
              "      <td>POINT (24.91556 60.16320)</td>\n",
              "      <td>Ruoholahti, 14, Itämerenkatu, Ruoholahti, Läns...</td>\n",
              "    </tr>\n",
              "    <tr>\n",
              "      <th>1</th>\n",
              "      <td>POINT (24.93169 60.16902)</td>\n",
              "      <td>Kamppi, 1, Kampinkuja, Kamppi, Eteläinen suurp...</td>\n",
              "    </tr>\n",
              "    <tr>\n",
              "      <th>2</th>\n",
              "      <td>POINT (24.94179 60.16989)</td>\n",
              "      <td>Kauppakeskus Citycenter, 8, Kaivokatu, Keskust...</td>\n",
              "    </tr>\n",
              "    <tr>\n",
              "      <th>3</th>\n",
              "      <td>POINT (24.97759 60.19361)</td>\n",
              "      <td>Hermannin rantatie, Hermanninmäki, Hermanni, K...</td>\n",
              "    </tr>\n",
              "    <tr>\n",
              "      <th>4</th>\n",
              "      <td>POINT (24.92160 60.15665)</td>\n",
              "      <td>Hesburger, 9, Tyynenmerenkatu, Jätkäsaari, Län...</td>\n",
              "    </tr>\n",
              "  </tbody>\n",
              "</table>\n",
              "</div>"
            ],
            "text/plain": [
              "                    geometry                                            address\n",
              "0  POINT (24.91556 60.16320)  Ruoholahti, 14, Itämerenkatu, Ruoholahti, Läns...\n",
              "1  POINT (24.93169 60.16902)  Kamppi, 1, Kampinkuja, Kamppi, Eteläinen suurp...\n",
              "2  POINT (24.94179 60.16989)  Kauppakeskus Citycenter, 8, Kaivokatu, Keskust...\n",
              "3  POINT (24.97759 60.19361)  Hermannin rantatie, Hermanninmäki, Hermanni, K...\n",
              "4  POINT (24.92160 60.15665)  Hesburger, 9, Tyynenmerenkatu, Jätkäsaari, Län..."
            ]
          },
          "metadata": {
            "tags": []
          },
          "execution_count": 36
        }
      ]
    },
    {
      "cell_type": "code",
      "metadata": {
        "colab": {
          "base_uri": "https://localhost:8080/",
          "height": 204
        },
        "id": "ViGqjqpIR7am",
        "outputId": "032f1c7a-50ee-4bf1-931f-dc7ff54341b7"
      },
      "source": [
        "join = geo.join(data)\r\n",
        "join.head()"
      ],
      "execution_count": 37,
      "outputs": [
        {
          "output_type": "execute_result",
          "data": {
            "text/html": [
              "<div>\n",
              "<style scoped>\n",
              "    .dataframe tbody tr th:only-of-type {\n",
              "        vertical-align: middle;\n",
              "    }\n",
              "\n",
              "    .dataframe tbody tr th {\n",
              "        vertical-align: top;\n",
              "    }\n",
              "\n",
              "    .dataframe thead th {\n",
              "        text-align: right;\n",
              "    }\n",
              "</style>\n",
              "<table border=\"1\" class=\"dataframe\">\n",
              "  <thead>\n",
              "    <tr style=\"text-align: right;\">\n",
              "      <th></th>\n",
              "      <th>geometry</th>\n",
              "      <th>address</th>\n",
              "      <th>id</th>\n",
              "      <th>addr</th>\n",
              "    </tr>\n",
              "  </thead>\n",
              "  <tbody>\n",
              "    <tr>\n",
              "      <th>0</th>\n",
              "      <td>POINT (24.91556 60.16320)</td>\n",
              "      <td>Ruoholahti, 14, Itämerenkatu, Ruoholahti, Läns...</td>\n",
              "      <td>1000</td>\n",
              "      <td>Itämerenkatu 14, 00101 Helsinki, Finland</td>\n",
              "    </tr>\n",
              "    <tr>\n",
              "      <th>1</th>\n",
              "      <td>POINT (24.93169 60.16902)</td>\n",
              "      <td>Kamppi, 1, Kampinkuja, Kamppi, Eteläinen suurp...</td>\n",
              "      <td>1001</td>\n",
              "      <td>Kampinkuja 1, 00100 Helsinki, Finland</td>\n",
              "    </tr>\n",
              "    <tr>\n",
              "      <th>2</th>\n",
              "      <td>POINT (24.94179 60.16989)</td>\n",
              "      <td>Kauppakeskus Citycenter, 8, Kaivokatu, Keskust...</td>\n",
              "      <td>1002</td>\n",
              "      <td>Kaivokatu 8, 00101 Helsinki, Finland</td>\n",
              "    </tr>\n",
              "    <tr>\n",
              "      <th>3</th>\n",
              "      <td>POINT (24.97759 60.19361)</td>\n",
              "      <td>Hermannin rantatie, Hermanninmäki, Hermanni, K...</td>\n",
              "      <td>1003</td>\n",
              "      <td>Hermannin rantatie 1, 00580 Helsinki, Finland</td>\n",
              "    </tr>\n",
              "    <tr>\n",
              "      <th>4</th>\n",
              "      <td>POINT (24.92160 60.15665)</td>\n",
              "      <td>Hesburger, 9, Tyynenmerenkatu, Jätkäsaari, Län...</td>\n",
              "      <td>1005</td>\n",
              "      <td>Tyynenmerenkatu 9, 00220 Helsinki, Finland</td>\n",
              "    </tr>\n",
              "  </tbody>\n",
              "</table>\n",
              "</div>"
            ],
            "text/plain": [
              "                    geometry  ...                                           addr\n",
              "0  POINT (24.91556 60.16320)  ...       Itämerenkatu 14, 00101 Helsinki, Finland\n",
              "1  POINT (24.93169 60.16902)  ...          Kampinkuja 1, 00100 Helsinki, Finland\n",
              "2  POINT (24.94179 60.16989)  ...           Kaivokatu 8, 00101 Helsinki, Finland\n",
              "3  POINT (24.97759 60.19361)  ...  Hermannin rantatie 1, 00580 Helsinki, Finland\n",
              "4  POINT (24.92160 60.15665)  ...     Tyynenmerenkatu 9, 00220 Helsinki, Finland\n",
              "\n",
              "[5 rows x 4 columns]"
            ]
          },
          "metadata": {
            "tags": []
          },
          "execution_count": 37
        }
      ]
    },
    {
      "cell_type": "code",
      "metadata": {
        "id": "Mo-ay-QzSXRk"
      },
      "source": [
        "# Output file path\r\n",
        "outfp = r\"/content/addresses.shp\"\r\n",
        "\r\n",
        "# Save to Shapefile\r\n",
        "join.to_file(outfp)"
      ],
      "execution_count": 38,
      "outputs": []
    },
    {
      "cell_type": "code",
      "metadata": {
        "colab": {
          "base_uri": "https://localhost:8080/",
          "height": 204
        },
        "id": "3kG4g-UPTQxL",
        "outputId": "1799759e-d869-4f57-a147-66acb56f6ab0"
      },
      "source": [
        "fp = \"/content/addresses.shp\"\r\n",
        "data = gpd.read_file(fp)\r\n",
        "\r\n",
        "data.head()"
      ],
      "execution_count": 39,
      "outputs": [
        {
          "output_type": "execute_result",
          "data": {
            "text/html": [
              "<div>\n",
              "<style scoped>\n",
              "    .dataframe tbody tr th:only-of-type {\n",
              "        vertical-align: middle;\n",
              "    }\n",
              "\n",
              "    .dataframe tbody tr th {\n",
              "        vertical-align: top;\n",
              "    }\n",
              "\n",
              "    .dataframe thead th {\n",
              "        text-align: right;\n",
              "    }\n",
              "</style>\n",
              "<table border=\"1\" class=\"dataframe\">\n",
              "  <thead>\n",
              "    <tr style=\"text-align: right;\">\n",
              "      <th></th>\n",
              "      <th>address</th>\n",
              "      <th>id</th>\n",
              "      <th>addr</th>\n",
              "      <th>geometry</th>\n",
              "    </tr>\n",
              "  </thead>\n",
              "  <tbody>\n",
              "    <tr>\n",
              "      <th>0</th>\n",
              "      <td>Ruoholahti, 14, Itämerenkatu, Ruoholahti, Läns...</td>\n",
              "      <td>1000</td>\n",
              "      <td>Itämerenkatu 14, 00101 Helsinki, Finland</td>\n",
              "      <td>POINT (24.91556 60.16320)</td>\n",
              "    </tr>\n",
              "    <tr>\n",
              "      <th>1</th>\n",
              "      <td>Kamppi, 1, Kampinkuja, Kamppi, Eteläinen suurp...</td>\n",
              "      <td>1001</td>\n",
              "      <td>Kampinkuja 1, 00100 Helsinki, Finland</td>\n",
              "      <td>POINT (24.93169 60.16902)</td>\n",
              "    </tr>\n",
              "    <tr>\n",
              "      <th>2</th>\n",
              "      <td>Kauppakeskus Citycenter, 8, Kaivokatu, Keskust...</td>\n",
              "      <td>1002</td>\n",
              "      <td>Kaivokatu 8, 00101 Helsinki, Finland</td>\n",
              "      <td>POINT (24.94179 60.16989)</td>\n",
              "    </tr>\n",
              "    <tr>\n",
              "      <th>3</th>\n",
              "      <td>Hermannin rantatie, Hermanninmäki, Hermanni, K...</td>\n",
              "      <td>1003</td>\n",
              "      <td>Hermannin rantatie 1, 00580 Helsinki, Finland</td>\n",
              "      <td>POINT (24.97759 60.19361)</td>\n",
              "    </tr>\n",
              "    <tr>\n",
              "      <th>4</th>\n",
              "      <td>Hesburger, 9, Tyynenmerenkatu, Jätkäsaari, Län...</td>\n",
              "      <td>1005</td>\n",
              "      <td>Tyynenmerenkatu 9, 00220 Helsinki, Finland</td>\n",
              "      <td>POINT (24.92160 60.15665)</td>\n",
              "    </tr>\n",
              "  </tbody>\n",
              "</table>\n",
              "</div>"
            ],
            "text/plain": [
              "                                             address  ...                   geometry\n",
              "0  Ruoholahti, 14, Itämerenkatu, Ruoholahti, Läns...  ...  POINT (24.91556 60.16320)\n",
              "1  Kamppi, 1, Kampinkuja, Kamppi, Eteläinen suurp...  ...  POINT (24.93169 60.16902)\n",
              "2  Kauppakeskus Citycenter, 8, Kaivokatu, Keskust...  ...  POINT (24.94179 60.16989)\n",
              "3  Hermannin rantatie, Hermanninmäki, Hermanni, K...  ...  POINT (24.97759 60.19361)\n",
              "4  Hesburger, 9, Tyynenmerenkatu, Jätkäsaari, Län...  ...  POINT (24.92160 60.15665)\n",
              "\n",
              "[5 rows x 4 columns]"
            ]
          },
          "metadata": {
            "tags": []
          },
          "execution_count": 39
        }
      ]
    },
    {
      "cell_type": "code",
      "metadata": {
        "colab": {
          "base_uri": "https://localhost:8080/"
        },
        "id": "Vh2gt1GoTT9M",
        "outputId": "504e8c5b-2224-44cb-a3a5-7d8373e8c6ec"
      },
      "source": [
        "gpd.io.file.fiona.drvsupport.supported_drivers"
      ],
      "execution_count": 40,
      "outputs": [
        {
          "output_type": "execute_result",
          "data": {
            "text/plain": [
              "{'ARCGEN': 'r',\n",
              " 'AeronavFAA': 'r',\n",
              " 'BNA': 'rw',\n",
              " 'CSV': 'raw',\n",
              " 'DGN': 'raw',\n",
              " 'DXF': 'rw',\n",
              " 'ESRI Shapefile': 'raw',\n",
              " 'ESRIJSON': 'r',\n",
              " 'GML': 'rw',\n",
              " 'GPKG': 'raw',\n",
              " 'GPSTrackMaker': 'rw',\n",
              " 'GPX': 'rw',\n",
              " 'GeoJSON': 'raw',\n",
              " 'GeoJSONSeq': 'rw',\n",
              " 'Idrisi': 'r',\n",
              " 'MapInfo File': 'raw',\n",
              " 'OGR_GMT': 'rw',\n",
              " 'OGR_PDS': 'r',\n",
              " 'OpenFileGDB': 'r',\n",
              " 'S57': 'r',\n",
              " 'SEGY': 'r',\n",
              " 'SUA': 'r',\n",
              " 'TopoJSON': 'r'}"
            ]
          },
          "metadata": {
            "tags": []
          },
          "execution_count": 40
        }
      ]
    },
    {
      "cell_type": "code",
      "metadata": {
        "id": "x1l92ZHNTd0W"
      },
      "source": [
        "gpd.io.file.fiona.drvsupport.supported_drivers['KML'] = 'rw'"
      ],
      "execution_count": 41,
      "outputs": []
    },
    {
      "cell_type": "code",
      "metadata": {
        "colab": {
          "base_uri": "https://localhost:8080/"
        },
        "id": "gUAvphGTTgpB",
        "outputId": "4f033274-8707-4be1-c444-182b2f0bf12d"
      },
      "source": [
        "# Filepath to KML file\r\n",
        "fp = \"https://raw.githubusercontent.com/SergeyShchus/Automatic_GIS/master/DATA/PKS_suuralue.kml\"\r\n",
        "polys = gpd.read_file(fp, driver='KML')"
      ],
      "execution_count": 42,
      "outputs": [
        {
          "output_type": "stream",
          "text": [
            "/usr/local/lib/python3.6/dist-packages/geopandas/geodataframe.py:422: RuntimeWarning: Sequential read of iterator was interrupted. Resetting iterator. This can negatively impact the performance.\n",
            "  for feature in features_lst:\n"
          ],
          "name": "stderr"
        }
      ]
    },
    {
      "cell_type": "code",
      "metadata": {
        "colab": {
          "base_uri": "https://localhost:8080/",
          "height": 407
        },
        "id": "XSyXviHeV98r",
        "outputId": "8a9ae112-d82f-4411-bd8f-2cdc8832bdb2"
      },
      "source": [
        "#Check the data\r\n",
        "print(\"Number of rows:\",len(polys))\r\n",
        "polys.head(11)"
      ],
      "execution_count": 43,
      "outputs": [
        {
          "output_type": "stream",
          "text": [
            "Number of rows: 23\n"
          ],
          "name": "stdout"
        },
        {
          "output_type": "execute_result",
          "data": {
            "text/html": [
              "<div>\n",
              "<style scoped>\n",
              "    .dataframe tbody tr th:only-of-type {\n",
              "        vertical-align: middle;\n",
              "    }\n",
              "\n",
              "    .dataframe tbody tr th {\n",
              "        vertical-align: top;\n",
              "    }\n",
              "\n",
              "    .dataframe thead th {\n",
              "        text-align: right;\n",
              "    }\n",
              "</style>\n",
              "<table border=\"1\" class=\"dataframe\">\n",
              "  <thead>\n",
              "    <tr style=\"text-align: right;\">\n",
              "      <th></th>\n",
              "      <th>Name</th>\n",
              "      <th>Description</th>\n",
              "      <th>geometry</th>\n",
              "    </tr>\n",
              "  </thead>\n",
              "  <tbody>\n",
              "    <tr>\n",
              "      <th>0</th>\n",
              "      <td>Suur-Espoonlahti</td>\n",
              "      <td></td>\n",
              "      <td>POLYGON Z ((24.77506 60.10906 0.00000, 24.7766...</td>\n",
              "    </tr>\n",
              "    <tr>\n",
              "      <th>1</th>\n",
              "      <td>Suur-Kauklahti</td>\n",
              "      <td></td>\n",
              "      <td>POLYGON Z ((24.61578 60.17257 0.00000, 24.6155...</td>\n",
              "    </tr>\n",
              "    <tr>\n",
              "      <th>2</th>\n",
              "      <td>Vanha-Espoo</td>\n",
              "      <td></td>\n",
              "      <td>POLYGON Z ((24.67576 60.21201 0.00000, 24.6752...</td>\n",
              "    </tr>\n",
              "    <tr>\n",
              "      <th>3</th>\n",
              "      <td>Pohjois-Espoo</td>\n",
              "      <td></td>\n",
              "      <td>POLYGON Z ((24.76792 60.26920 0.00000, 24.7699...</td>\n",
              "    </tr>\n",
              "    <tr>\n",
              "      <th>4</th>\n",
              "      <td>Suur-Matinkylä</td>\n",
              "      <td></td>\n",
              "      <td>POLYGON Z ((24.75361 60.16631 0.00000, 24.7537...</td>\n",
              "    </tr>\n",
              "    <tr>\n",
              "      <th>5</th>\n",
              "      <td>Kauniainen</td>\n",
              "      <td></td>\n",
              "      <td>POLYGON Z ((24.69075 60.21958 0.00000, 24.6924...</td>\n",
              "    </tr>\n",
              "    <tr>\n",
              "      <th>6</th>\n",
              "      <td>Suur-Leppävaara</td>\n",
              "      <td></td>\n",
              "      <td>POLYGON Z ((24.79747 60.20827 0.00000, 24.7954...</td>\n",
              "    </tr>\n",
              "    <tr>\n",
              "      <th>7</th>\n",
              "      <td>Suur-Tapiola</td>\n",
              "      <td></td>\n",
              "      <td>POLYGON Z ((24.84436 60.16598 0.00000, 24.8443...</td>\n",
              "    </tr>\n",
              "    <tr>\n",
              "      <th>8</th>\n",
              "      <td>Myyrmäki</td>\n",
              "      <td></td>\n",
              "      <td>POLYGON Z ((24.82459 60.29025 0.00000, 24.8243...</td>\n",
              "    </tr>\n",
              "    <tr>\n",
              "      <th>9</th>\n",
              "      <td>Kivistö</td>\n",
              "      <td></td>\n",
              "      <td>POLYGON Z ((24.94309 60.33845 0.00000, 24.9421...</td>\n",
              "    </tr>\n",
              "    <tr>\n",
              "      <th>10</th>\n",
              "      <td>Eteläinen</td>\n",
              "      <td></td>\n",
              "      <td>POLYGON Z ((24.78277 60.09997 0.00000, 24.8197...</td>\n",
              "    </tr>\n",
              "  </tbody>\n",
              "</table>\n",
              "</div>"
            ],
            "text/plain": [
              "                Name  ...                                           geometry\n",
              "0   Suur-Espoonlahti  ...  POLYGON Z ((24.77506 60.10906 0.00000, 24.7766...\n",
              "1     Suur-Kauklahti  ...  POLYGON Z ((24.61578 60.17257 0.00000, 24.6155...\n",
              "2        Vanha-Espoo  ...  POLYGON Z ((24.67576 60.21201 0.00000, 24.6752...\n",
              "3      Pohjois-Espoo  ...  POLYGON Z ((24.76792 60.26920 0.00000, 24.7699...\n",
              "4     Suur-Matinkylä  ...  POLYGON Z ((24.75361 60.16631 0.00000, 24.7537...\n",
              "5         Kauniainen  ...  POLYGON Z ((24.69075 60.21958 0.00000, 24.6924...\n",
              "6    Suur-Leppävaara  ...  POLYGON Z ((24.79747 60.20827 0.00000, 24.7954...\n",
              "7       Suur-Tapiola  ...  POLYGON Z ((24.84436 60.16598 0.00000, 24.8443...\n",
              "8           Myyrmäki  ...  POLYGON Z ((24.82459 60.29025 0.00000, 24.8243...\n",
              "9            Kivistö  ...  POLYGON Z ((24.94309 60.33845 0.00000, 24.9421...\n",
              "10         Eteläinen  ...  POLYGON Z ((24.78277 60.09997 0.00000, 24.8197...\n",
              "\n",
              "[11 rows x 3 columns]"
            ]
          },
          "metadata": {
            "tags": []
          },
          "execution_count": 43
        }
      ]
    },
    {
      "cell_type": "code",
      "metadata": {
        "colab": {
          "base_uri": "https://localhost:8080/",
          "height": 282
        },
        "id": "soJg3p4cWG1O",
        "outputId": "1ac431ed-2ea1-4a45-d8df-d52ce29ef72c"
      },
      "source": [
        "polys.plot()"
      ],
      "execution_count": 44,
      "outputs": [
        {
          "output_type": "execute_result",
          "data": {
            "text/plain": [
              "<matplotlib.axes._subplots.AxesSubplot at 0x7fa24f7ce198>"
            ]
          },
          "metadata": {
            "tags": []
          },
          "execution_count": 44
        },
        {
          "output_type": "display_data",
          "data": {
            "image/png": "[encoded data removed]",
            "text/plain": [
              "<Figure size 432x288 with 1 Axes>"
            ]
          },
          "metadata": {
            "tags": [],
            "needs_background": "light"
          }
        }
      ]
    },
    {
      "cell_type": "code",
      "metadata": {
        "id": "CZJePpaEWHTs"
      },
      "source": [
        "# Select data \r\n",
        "southern = polys.loc[polys['Name']=='Eteläinen']"
      ],
      "execution_count": 45,
      "outputs": []
    },
    {
      "cell_type": "code",
      "metadata": {
        "id": "b2hb8wTBWKPD"
      },
      "source": [
        "# Reset index for the selection\r\n",
        "southern.reset_index(drop=True, inplace=True)"
      ],
      "execution_count": 46,
      "outputs": []
    },
    {
      "cell_type": "code",
      "metadata": {
        "colab": {
          "base_uri": "https://localhost:8080/",
          "height": 80
        },
        "id": "iD3nei57WM0f",
        "outputId": "11b09760-a375-4580-eeb4-f06f39a4cab6"
      },
      "source": [
        "# Check the selction\r\n",
        "southern.head()"
      ],
      "execution_count": 47,
      "outputs": [
        {
          "output_type": "execute_result",
          "data": {
            "text/html": [
              "<div>\n",
              "<style scoped>\n",
              "    .dataframe tbody tr th:only-of-type {\n",
              "        vertical-align: middle;\n",
              "    }\n",
              "\n",
              "    .dataframe tbody tr th {\n",
              "        vertical-align: top;\n",
              "    }\n",
              "\n",
              "    .dataframe thead th {\n",
              "        text-align: right;\n",
              "    }\n",
              "</style>\n",
              "<table border=\"1\" class=\"dataframe\">\n",
              "  <thead>\n",
              "    <tr style=\"text-align: right;\">\n",
              "      <th></th>\n",
              "      <th>Name</th>\n",
              "      <th>Description</th>\n",
              "      <th>geometry</th>\n",
              "    </tr>\n",
              "  </thead>\n",
              "  <tbody>\n",
              "    <tr>\n",
              "      <th>0</th>\n",
              "      <td>Eteläinen</td>\n",
              "      <td></td>\n",
              "      <td>POLYGON Z ((24.78277 60.09997 0.00000, 24.8197...</td>\n",
              "    </tr>\n",
              "  </tbody>\n",
              "</table>\n",
              "</div>"
            ],
            "text/plain": [
              "        Name Description                                           geometry\n",
              "0  Eteläinen              POLYGON Z ((24.78277 60.09997 0.00000, 24.8197..."
            ]
          },
          "metadata": {
            "tags": []
          },
          "execution_count": 47
        }
      ]
    },
    {
      "cell_type": "code",
      "metadata": {
        "colab": {
          "base_uri": "https://localhost:8080/",
          "height": 297
        },
        "id": "7vdMW9jWWO8b",
        "outputId": "dc8b015b-30ec-43e7-d5b7-1580b9491ad6"
      },
      "source": [
        "import matplotlib.pyplot as plt\r\n",
        "\r\n",
        "# Create a figure with one subplot\r\n",
        "fig, ax = plt.subplots()\r\n",
        "\r\n",
        "# Plot polygons\r\n",
        "polys.plot(ax=ax, facecolor='gray')\r\n",
        "southern.plot(ax=ax, facecolor='red')\r\n",
        "\r\n",
        "# Plot points\r\n",
        "data.plot(ax=ax, color='blue', markersize=5)\r\n",
        "\r\n",
        "plt.tight_layout()"
      ],
      "execution_count": 48,
      "outputs": [
        {
          "output_type": "display_data",
          "data": {
            "image/png": "[encoded data removed]",
            "text/plain": [
              "<Figure size 432x288 with 1 Axes>"
            ]
          },
          "metadata": {
            "tags": [],
            "needs_background": "light"
          }
        }
      ]
    },
    {
      "cell_type": "code",
      "metadata": {
        "colab": {
          "base_uri": "https://localhost:8080/"
        },
        "id": "SrV9IUZ1WSK7",
        "outputId": "c03bfb24-f38b-4467-fa8d-0b6762466f0c"
      },
      "source": [
        "#import shapely.speedups\r\n",
        "from shapely import speedups\r\n",
        "speedups.enabled\r\n",
        "\r\n",
        "# If false, run this line:\r\n",
        "#shapely.speedups.enable()"
      ],
      "execution_count": 49,
      "outputs": [
        {
          "output_type": "execute_result",
          "data": {
            "text/plain": [
              "True"
            ]
          },
          "metadata": {
            "tags": []
          },
          "execution_count": 49
        }
      ]
    },
    {
      "cell_type": "code",
      "metadata": {
        "colab": {
          "base_uri": "https://localhost:8080/"
        },
        "id": "vjO6gbhqWV7O",
        "outputId": "3f2b5f0b-c85a-4e45-9e55-57a75a56bb4c"
      },
      "source": [
        "pip_mask = data.within(southern.at[0, 'geometry'])\r\n",
        "print(pip_mask)"
      ],
      "execution_count": 50,
      "outputs": [
        {
          "output_type": "stream",
          "text": [
            "0      True\n",
            "1      True\n",
            "2      True\n",
            "3     False\n",
            "4      True\n",
            "5     False\n",
            "6     False\n",
            "7     False\n",
            "8     False\n",
            "9     False\n",
            "10     True\n",
            "11    False\n",
            "12    False\n",
            "13    False\n",
            "14    False\n",
            "15    False\n",
            "16    False\n",
            "17    False\n",
            "18    False\n",
            "19    False\n",
            "20    False\n",
            "21    False\n",
            "22    False\n",
            "23    False\n",
            "24    False\n",
            "25    False\n",
            "26    False\n",
            "27    False\n",
            "28    False\n",
            "29    False\n",
            "30     True\n",
            "31     True\n",
            "32     True\n",
            "33     True\n",
            "dtype: bool\n"
          ],
          "name": "stdout"
        }
      ]
    },
    {
      "cell_type": "code",
      "metadata": {
        "colab": {
          "base_uri": "https://localhost:8080/",
          "height": 328
        },
        "id": "nL-uxJh8WX_L",
        "outputId": "e8b7eb12-7fe8-45a2-d11e-22af63862391"
      },
      "source": [
        "pip_data = data.loc[pip_mask]\r\n",
        "pip_data"
      ],
      "execution_count": 51,
      "outputs": [
        {
          "output_type": "execute_result",
          "data": {
            "text/html": [
              "<div>\n",
              "<style scoped>\n",
              "    .dataframe tbody tr th:only-of-type {\n",
              "        vertical-align: middle;\n",
              "    }\n",
              "\n",
              "    .dataframe tbody tr th {\n",
              "        vertical-align: top;\n",
              "    }\n",
              "\n",
              "    .dataframe thead th {\n",
              "        text-align: right;\n",
              "    }\n",
              "</style>\n",
              "<table border=\"1\" class=\"dataframe\">\n",
              "  <thead>\n",
              "    <tr style=\"text-align: right;\">\n",
              "      <th></th>\n",
              "      <th>address</th>\n",
              "      <th>id</th>\n",
              "      <th>addr</th>\n",
              "      <th>geometry</th>\n",
              "    </tr>\n",
              "  </thead>\n",
              "  <tbody>\n",
              "    <tr>\n",
              "      <th>0</th>\n",
              "      <td>Ruoholahti, 14, Itämerenkatu, Ruoholahti, Läns...</td>\n",
              "      <td>1000</td>\n",
              "      <td>Itämerenkatu 14, 00101 Helsinki, Finland</td>\n",
              "      <td>POINT (24.91556 60.16320)</td>\n",
              "    </tr>\n",
              "    <tr>\n",
              "      <th>1</th>\n",
              "      <td>Kamppi, 1, Kampinkuja, Kamppi, Eteläinen suurp...</td>\n",
              "      <td>1001</td>\n",
              "      <td>Kampinkuja 1, 00100 Helsinki, Finland</td>\n",
              "      <td>POINT (24.93169 60.16902)</td>\n",
              "    </tr>\n",
              "    <tr>\n",
              "      <th>2</th>\n",
              "      <td>Kauppakeskus Citycenter, 8, Kaivokatu, Keskust...</td>\n",
              "      <td>1002</td>\n",
              "      <td>Kaivokatu 8, 00101 Helsinki, Finland</td>\n",
              "      <td>POINT (24.94179 60.16989)</td>\n",
              "    </tr>\n",
              "    <tr>\n",
              "      <th>4</th>\n",
              "      <td>Hesburger, 9, Tyynenmerenkatu, Jätkäsaari, Län...</td>\n",
              "      <td>1005</td>\n",
              "      <td>Tyynenmerenkatu 9, 00220 Helsinki, Finland</td>\n",
              "      <td>POINT (24.92160 60.15665)</td>\n",
              "    </tr>\n",
              "    <tr>\n",
              "      <th>10</th>\n",
              "      <td>Rautatientori, 2, Kaivokatu, Keskusta, Kluuvi,...</td>\n",
              "      <td>1011</td>\n",
              "      <td>Rautatientori 1, 00100 Helsinki, Finland</td>\n",
              "      <td>POINT (24.93985 60.17038)</td>\n",
              "    </tr>\n",
              "    <tr>\n",
              "      <th>30</th>\n",
              "      <td>Kampin keskus, 1, Urho Kekkosen katu, Kamppi, ...</td>\n",
              "      <td>1031</td>\n",
              "      <td>Urho Kekkosen katu 1, 00100 Helsinki, Finland</td>\n",
              "      <td>POINT (24.93312 60.16909)</td>\n",
              "    </tr>\n",
              "    <tr>\n",
              "      <th>31</th>\n",
              "      <td>Ruoholahdenkatu, Hietalahti, Kamppi, Eteläinen...</td>\n",
              "      <td>1032</td>\n",
              "      <td>Ruoholahdenkatu 17, 00101 Helsinki, Finland</td>\n",
              "      <td>POINT (24.92477 60.16488)</td>\n",
              "    </tr>\n",
              "    <tr>\n",
              "      <th>32</th>\n",
              "      <td>Easy Cycles, 3, Tyynenmerenkatu, Jätkäsaari, L...</td>\n",
              "      <td>1033</td>\n",
              "      <td>Tyynenmerenkatu 3, 00220 Helsinki, Finland</td>\n",
              "      <td>POINT (24.92119 60.15890)</td>\n",
              "    </tr>\n",
              "    <tr>\n",
              "      <th>33</th>\n",
              "      <td>Oluthuone Kaisla, 4, Vilhonkatu, Kaisaniemi, K...</td>\n",
              "      <td>1034</td>\n",
              "      <td>Vilhonkatu 4, 00101 Helsinki, Finland</td>\n",
              "      <td>POINT (24.94709 60.17191)</td>\n",
              "    </tr>\n",
              "  </tbody>\n",
              "</table>\n",
              "</div>"
            ],
            "text/plain": [
              "                                              address  ...                   geometry\n",
              "0   Ruoholahti, 14, Itämerenkatu, Ruoholahti, Läns...  ...  POINT (24.91556 60.16320)\n",
              "1   Kamppi, 1, Kampinkuja, Kamppi, Eteläinen suurp...  ...  POINT (24.93169 60.16902)\n",
              "2   Kauppakeskus Citycenter, 8, Kaivokatu, Keskust...  ...  POINT (24.94179 60.16989)\n",
              "4   Hesburger, 9, Tyynenmerenkatu, Jätkäsaari, Län...  ...  POINT (24.92160 60.15665)\n",
              "10  Rautatientori, 2, Kaivokatu, Keskusta, Kluuvi,...  ...  POINT (24.93985 60.17038)\n",
              "30  Kampin keskus, 1, Urho Kekkosen katu, Kamppi, ...  ...  POINT (24.93312 60.16909)\n",
              "31  Ruoholahdenkatu, Hietalahti, Kamppi, Eteläinen...  ...  POINT (24.92477 60.16488)\n",
              "32  Easy Cycles, 3, Tyynenmerenkatu, Jätkäsaari, L...  ...  POINT (24.92119 60.15890)\n",
              "33  Oluthuone Kaisla, 4, Vilhonkatu, Kaisaniemi, K...  ...  POINT (24.94709 60.17191)\n",
              "\n",
              "[9 rows x 4 columns]"
            ]
          },
          "metadata": {
            "tags": []
          },
          "execution_count": 51
        }
      ]
    },
    {
      "cell_type": "code",
      "metadata": {
        "colab": {
          "base_uri": "https://localhost:8080/",
          "height": 297
        },
        "id": "_YewMCIqWclr",
        "outputId": "40be1d89-3381-4926-d59b-48474a642ef4"
      },
      "source": [
        "# Create a figure with one subplot\r\n",
        "fig, ax = plt.subplots()\r\n",
        "\r\n",
        "# Plot polygons\r\n",
        "polys.plot(ax=ax, facecolor='gray')\r\n",
        "southern.plot(ax=ax, facecolor='red')\r\n",
        "\r\n",
        "# Plot points\r\n",
        "pip_data.plot(ax=ax, color='gold', markersize=2)\r\n",
        "\r\n",
        "plt.tight_layout()"
      ],
      "execution_count": 56,
      "outputs": [
        {
          "output_type": "display_data",
          "data": {
            "image/png": "[encoded data removed]",
            "text/plain": [
              "<Figure size 432x288 with 1 Axes>"
            ]
          },
          "metadata": {
            "tags": [],
            "needs_background": "light"
          }
        }
      ]
    }
  ]
}