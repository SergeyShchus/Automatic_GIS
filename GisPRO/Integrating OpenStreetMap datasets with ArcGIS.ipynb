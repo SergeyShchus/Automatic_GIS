{
 "cells": [
  {
   "cell_type": "code",
   "execution_count": null,
   "metadata": {
    "extensions": {
     "jupyter_dashboards": {
      "version": 1,
      "views": {
       "grid_default": {},
       "report_default": {}
      }
     }
    }
   },
   "outputs": [],
   "source": [
    "# Libraries for Creating Buttons & Handling Output\n",
    "from IPython.display import display, clear_output\n",
    "import ipywidgets as widgets\n",
    "\n",
    "# OSM Runner & GIS Object\n",
    "try:\n",
    "    from osmapi import gen_osm_sdf\n",
    "except:\n",
    "    !conda install -c conda-forge osmapi\n",
    "    from osmapi import gen_osm_sdf\n",
    "    \n",
    "    \n",
    "from arcgis.gis import GIS\n",
    "\n",
    "# Transformations & Geometries for ArcGIS Item Creation\n",
    "try:\n",
    "    from pyproj import Proj, transform\n",
    "    import shapefile\n",
    "except:\n",
    "    !conda install pyproj --yes\n",
    "    from pyproj import Proj, transform\n",
    "    import shapefile\n",
    "\n",
    "# Other Libraries\n",
    "from collections import OrderedDict\n",
    "import time\n",
    "\n",
    "# Organization Login\n",
    "gis = GIS()"
   ]
  },
  {
   "cell_type": "code",
   "execution_count": null,
   "metadata": {
    "extensions": {
     "jupyter_dashboards": {
      "version": 1,
      "views": {
       "grid_default": {},
       "report_default": {}
      }
     }
    }
   },
   "outputs": [],
   "source": []
  }
 ],
 "metadata": {
  "extensions": {
   "jupyter_dashboards": {
    "activeView": "grid_default",
    "version": 1,
    "views": {
     "grid_default": {
      "cellMargin": 10,
      "defaultCellHeight": 20,
      "maxColumns": 12,
      "name": "grid",
      "type": "grid"
     },
     "report_default": {
      "name": "report",
      "type": "report"
     }
    }
   }
  },
  "kernelspec": {
   "display_name": "Python 3",
   "language": "python",
   "name": "python3"
  },
  "language_info": {
   "codemirror_mode": {
    "name": "ipython",
    "version": 3
   },
   "file_extension": ".py",
   "mimetype": "text/x-python",
   "name": "python",
   "nbconvert_exporter": "python",
   "pygments_lexer": "ipython3",
   "version": "3.8.3"
  }
 },
 "nbformat": 4,
 "nbformat_minor": 4
}
