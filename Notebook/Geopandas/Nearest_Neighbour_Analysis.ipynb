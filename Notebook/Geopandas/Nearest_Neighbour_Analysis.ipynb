{
  "nbformat": 4,
  "nbformat_minor": 0,
  "metadata": {
    "colab": {
      "name": "Nearest Neighbour Analysis.ipynb",
      "provenance": [],
      "authorship_tag": "ABX9TyOII+3Sp1eSwsbxkWGxZS9z",
      "include_colab_link": true
    },
    "kernelspec": {
      "name": "python3",
      "display_name": "Python 3"
    }
  },
  "cells": [
    {
      "cell_type": "markdown",
      "metadata": {
        "id": "view-in-github",
        "colab_type": "text"
      },
      "source": [
        "<a href=\"https://colab.research.google.com/github/SergeyShchus/Automatic_GIS/blob/master/Notebook/Geopandas/Nearest_Neighbour_Analysis.ipynb\" target=\"_parent\"><img src=\"https://colab.research.google.com/assets/colab-badge.svg\" alt=\"Open In Colab\"/></a>"
      ]
    },
    {
      "cell_type": "code",
      "metadata": {
        "id": "5UN_VqqFroon"
      },
      "source": [
        "%%time \r\n",
        "\r\n",
        "# Important library for many geopython libraries\r\n",
        "!apt install gdal-bin python-gdal python3-gdal \r\n",
        "# Install rtree - Geopandas requirment\r\n",
        "!apt install python3-rtree \r\n",
        "# Install Geopandas\r\n",
        "!pip install git+git://github.com/geopandas/geopandas.git\r\n",
        "# Install descartes - Geopandas requirment\r\n",
        "!pip install descartes \r\n",
        "# Install Folium for Geographic data visualization\r\n",
        "!pip install folium\r\n",
        "# Install plotlyExpress\r\n",
        "!pip install plotly_express\r\n",
        "\r\n",
        "import pandas as pd\r\n",
        "import geopandas as gpd\r\n",
        "from shapely.geometry import Point\r\n",
        "\r\n",
        "from google.colab import drive\r\n",
        "drive.mount('/content/gdrive')"
      ],
      "execution_count": null,
      "outputs": []
    },
    {
      "cell_type": "code",
      "metadata": {
        "id": "46zzvjewsWZQ"
      },
      "source": [
        "from shapely.geometry import Point, MultiPoint\r\n",
        "from shapely.ops import nearest_points\r\n",
        "\r\n",
        "# Origin point\r\n",
        "orig = Point(1, 1.67)\r\n",
        "\r\n",
        "# Destination points\r\n",
        "dest1 = Point(0, 1.45)\r\n",
        "dest2 =Point(2, 2)\r\n",
        "dest3 = Point(0, 2.5)"
      ],
      "execution_count": 3,
      "outputs": []
    },
    {
      "cell_type": "code",
      "metadata": {
        "id": "3pVFkdSXsZ5G",
        "colab": {
          "base_uri": "https://localhost:8080/"
        },
        "outputId": "9f1c38c8-82d7-44fa-d969-981f378446b9"
      },
      "source": [
        "destinations = MultiPoint([dest1, dest2, dest3])\r\n",
        "print(destinations)"
      ],
      "execution_count": 4,
      "outputs": [
        {
          "output_type": "stream",
          "text": [
            "MULTIPOINT (0 1.45, 2 2, 0 2.5)\n"
          ],
          "name": "stdout"
        }
      ]
    },
    {
      "cell_type": "code",
      "metadata": {
        "colab": {
          "base_uri": "https://localhost:8080/",
          "height": 121
        },
        "id": "3iO7KlAVrSol",
        "outputId": "8eb4a544-0bf0-4176-c226-19fd116fcad2"
      },
      "source": [
        "destinations"
      ],
      "execution_count": 5,
      "outputs": [
        {
          "output_type": "execute_result",
          "data": {
            "text/plain": [
              "<shapely.geometry.multipoint.MultiPoint at 0x7fceb063e090>"
            ],
            "image/svg+xml": "<svg xmlns=\"http://www.w3.org/2000/svg\" xmlns:xlink=\"http://www.w3.org/1999/xlink\" width=\"100.0\" height=\"100.0\" viewBox=\"-0.08 1.3699999999999999 2.16 1.2100000000000002\" preserveAspectRatio=\"xMinYMin meet\"><g transform=\"matrix(1,0,0,-1,0,3.95)\"><g><circle cx=\"0.0\" cy=\"1.45\" r=\"0.0648\" stroke=\"#555555\" stroke-width=\"0.0216\" fill=\"#66cc99\" opacity=\"0.6\" /><circle cx=\"2.0\" cy=\"2.0\" r=\"0.0648\" stroke=\"#555555\" stroke-width=\"0.0216\" fill=\"#66cc99\" opacity=\"0.6\" /><circle cx=\"0.0\" cy=\"2.5\" r=\"0.0648\" stroke=\"#555555\" stroke-width=\"0.0216\" fill=\"#66cc99\" opacity=\"0.6\" /></g></g></svg>"
          },
          "metadata": {
            "tags": []
          },
          "execution_count": 5
        }
      ]
    },
    {
      "cell_type": "code",
      "metadata": {
        "id": "yD4K4nCZrjAi"
      },
      "source": [
        "nearest_geoms = nearest_points(orig, destinations)"
      ],
      "execution_count": 6,
      "outputs": []
    },
    {
      "cell_type": "code",
      "metadata": {
        "colab": {
          "base_uri": "https://localhost:8080/"
        },
        "id": "j7i2QYcerlTr",
        "outputId": "e0ca8669-01bf-4d02-e1e2-8838b771cbaf"
      },
      "source": [
        "type(nearest_geoms)"
      ],
      "execution_count": 7,
      "outputs": [
        {
          "output_type": "execute_result",
          "data": {
            "text/plain": [
              "tuple"
            ]
          },
          "metadata": {
            "tags": []
          },
          "execution_count": 7
        }
      ]
    },
    {
      "cell_type": "code",
      "metadata": {
        "colab": {
          "base_uri": "https://localhost:8080/"
        },
        "id": "aGZkfgcgr_LB",
        "outputId": "9ef9b6f2-e489-4340-c239-658e52fffd18"
      },
      "source": [
        "print(nearest_geoms)"
      ],
      "execution_count": 8,
      "outputs": [
        {
          "output_type": "stream",
          "text": [
            "(<shapely.geometry.point.Point object at 0x7fceadba6750>, <shapely.geometry.point.Point object at 0x7fceadba6850>)\n"
          ],
          "name": "stdout"
        }
      ]
    },
    {
      "cell_type": "code",
      "metadata": {
        "colab": {
          "base_uri": "https://localhost:8080/"
        },
        "id": "Ds1ObgxksUQB",
        "outputId": "5075e965-6035-4594-96e7-3add3340c3f2"
      },
      "source": [
        "print(nearest_geoms[0])"
      ],
      "execution_count": 9,
      "outputs": [
        {
          "output_type": "stream",
          "text": [
            "POINT (1 1.67)\n"
          ],
          "name": "stdout"
        }
      ]
    },
    {
      "cell_type": "code",
      "metadata": {
        "colab": {
          "base_uri": "https://localhost:8080/"
        },
        "id": "t2Y8sSSdsUmD",
        "outputId": "99ee99a8-9159-4cdb-aefd-c324b4fe9b0b"
      },
      "source": [
        "print(nearest_geoms[1])"
      ],
      "execution_count": 13,
      "outputs": [
        {
          "output_type": "stream",
          "text": [
            "POINT (0 1.45)\n"
          ],
          "name": "stdout"
        }
      ]
    },
    {
      "cell_type": "code",
      "metadata": {
        "id": "RmzLZGgJts6K"
      },
      "source": [
        "# Define filepaths\r\n",
        "fp1 = \"/content/PKS_suuralue.kml\"\r\n",
        "fp2 = \"/content/addresses.shp\""
      ],
      "execution_count": 17,
      "outputs": []
    },
    {
      "cell_type": "code",
      "metadata": {
        "id": "pKwjxAJ1t1AO"
      },
      "source": [
        "# Enable KML driver\r\n",
        "gpd.io.file.fiona.drvsupport.supported_drivers['KML'] = 'rw'"
      ],
      "execution_count": 18,
      "outputs": []
    },
    {
      "cell_type": "code",
      "metadata": {
        "colab": {
          "base_uri": "https://localhost:8080/"
        },
        "id": "ieocm8JGuIDd",
        "outputId": "2ddf1884-654a-4cc6-cae7-cb012efa8936"
      },
      "source": [
        "# Read in data with geopandas\r\n",
        "df1 = gpd.read_file(fp1, driver='KML')\r\n",
        "df2 = gpd.read_file(fp2)"
      ],
      "execution_count": 19,
      "outputs": [
        {
          "output_type": "stream",
          "text": [
            "/usr/local/lib/python3.7/dist-packages/geopandas/geodataframe.py:565: RuntimeWarning: Sequential read of iterator was interrupted. Resetting iterator. This can negatively impact the performance.\n",
            "  for feature in features_lst:\n"
          ],
          "name": "stderr"
        }
      ]
    },
    {
      "cell_type": "code",
      "metadata": {
        "colab": {
          "base_uri": "https://localhost:8080/",
          "height": 204
        },
        "id": "7AvxDyI5uIki",
        "outputId": "323beb54-50ad-4d7e-a4d8-4c0657167377"
      },
      "source": [
        "# District polygons:\r\n",
        "df1.head()"
      ],
      "execution_count": 20,
      "outputs": [
        {
          "output_type": "execute_result",
          "data": {
            "text/html": [
              "<div>\n",
              "<style scoped>\n",
              "    .dataframe tbody tr th:only-of-type {\n",
              "        vertical-align: middle;\n",
              "    }\n",
              "\n",
              "    .dataframe tbody tr th {\n",
              "        vertical-align: top;\n",
              "    }\n",
              "\n",
              "    .dataframe thead th {\n",
              "        text-align: right;\n",
              "    }\n",
              "</style>\n",
              "<table border=\"1\" class=\"dataframe\">\n",
              "  <thead>\n",
              "    <tr style=\"text-align: right;\">\n",
              "      <th></th>\n",
              "      <th>Name</th>\n",
              "      <th>Description</th>\n",
              "      <th>geometry</th>\n",
              "    </tr>\n",
              "  </thead>\n",
              "  <tbody>\n",
              "    <tr>\n",
              "      <th>0</th>\n",
              "      <td>Suur-Espoonlahti</td>\n",
              "      <td></td>\n",
              "      <td>POLYGON Z ((24.77506 60.10906 0.00000, 24.7766...</td>\n",
              "    </tr>\n",
              "    <tr>\n",
              "      <th>1</th>\n",
              "      <td>Suur-Kauklahti</td>\n",
              "      <td></td>\n",
              "      <td>POLYGON Z ((24.61578 60.17257 0.00000, 24.6155...</td>\n",
              "    </tr>\n",
              "    <tr>\n",
              "      <th>2</th>\n",
              "      <td>Vanha-Espoo</td>\n",
              "      <td></td>\n",
              "      <td>POLYGON Z ((24.67576 60.21201 0.00000, 24.6752...</td>\n",
              "    </tr>\n",
              "    <tr>\n",
              "      <th>3</th>\n",
              "      <td>Pohjois-Espoo</td>\n",
              "      <td></td>\n",
              "      <td>POLYGON Z ((24.76792 60.26920 0.00000, 24.7699...</td>\n",
              "    </tr>\n",
              "    <tr>\n",
              "      <th>4</th>\n",
              "      <td>Suur-Matinkylä</td>\n",
              "      <td></td>\n",
              "      <td>POLYGON Z ((24.75361 60.16631 0.00000, 24.7537...</td>\n",
              "    </tr>\n",
              "  </tbody>\n",
              "</table>\n",
              "</div>"
            ],
            "text/plain": [
              "               Name  ...                                           geometry\n",
              "0  Suur-Espoonlahti  ...  POLYGON Z ((24.77506 60.10906 0.00000, 24.7766...\n",
              "1    Suur-Kauklahti  ...  POLYGON Z ((24.61578 60.17257 0.00000, 24.6155...\n",
              "2       Vanha-Espoo  ...  POLYGON Z ((24.67576 60.21201 0.00000, 24.6752...\n",
              "3     Pohjois-Espoo  ...  POLYGON Z ((24.76792 60.26920 0.00000, 24.7699...\n",
              "4    Suur-Matinkylä  ...  POLYGON Z ((24.75361 60.16631 0.00000, 24.7537...\n",
              "\n",
              "[5 rows x 3 columns]"
            ]
          },
          "metadata": {
            "tags": []
          },
          "execution_count": 20
        }
      ]
    },
    {
      "cell_type": "code",
      "metadata": {
        "colab": {
          "base_uri": "https://localhost:8080/",
          "height": 204
        },
        "id": "-xWPJSnquWhu",
        "outputId": "7e85b567-f90f-42c5-bf3b-5f590588c055"
      },
      "source": [
        "# Address points:\r\n",
        "df2.head()"
      ],
      "execution_count": 21,
      "outputs": [
        {
          "output_type": "execute_result",
          "data": {
            "text/html": [
              "<div>\n",
              "<style scoped>\n",
              "    .dataframe tbody tr th:only-of-type {\n",
              "        vertical-align: middle;\n",
              "    }\n",
              "\n",
              "    .dataframe tbody tr th {\n",
              "        vertical-align: top;\n",
              "    }\n",
              "\n",
              "    .dataframe thead th {\n",
              "        text-align: right;\n",
              "    }\n",
              "</style>\n",
              "<table border=\"1\" class=\"dataframe\">\n",
              "  <thead>\n",
              "    <tr style=\"text-align: right;\">\n",
              "      <th></th>\n",
              "      <th>address</th>\n",
              "      <th>id</th>\n",
              "      <th>geometry</th>\n",
              "    </tr>\n",
              "  </thead>\n",
              "  <tbody>\n",
              "    <tr>\n",
              "      <th>0</th>\n",
              "      <td>Kampinkuja 1, 00100 Helsinki, Finland</td>\n",
              "      <td>1001</td>\n",
              "      <td>POINT (24.93017 60.16837)</td>\n",
              "    </tr>\n",
              "    <tr>\n",
              "      <th>1</th>\n",
              "      <td>Kaivokatu 8, 00101 Helsinki, Finland</td>\n",
              "      <td>1002</td>\n",
              "      <td>POINT (24.94189 60.16987)</td>\n",
              "    </tr>\n",
              "    <tr>\n",
              "      <th>2</th>\n",
              "      <td>Hermanstads strandsväg 1, 00580 Helsingfors, F...</td>\n",
              "      <td>1003</td>\n",
              "      <td>POINT (24.97740 60.18736)</td>\n",
              "    </tr>\n",
              "    <tr>\n",
              "      <th>3</th>\n",
              "      <td>Itäväylä, 00900 Helsinki, Finland</td>\n",
              "      <td>1004</td>\n",
              "      <td>POINT (25.09196 60.21448)</td>\n",
              "    </tr>\n",
              "    <tr>\n",
              "      <th>4</th>\n",
              "      <td>Tyynenmerenkatu 9, 00220 Helsinki, Finland</td>\n",
              "      <td>1005</td>\n",
              "      <td>POINT (24.92148 60.15658)</td>\n",
              "    </tr>\n",
              "  </tbody>\n",
              "</table>\n",
              "</div>"
            ],
            "text/plain": [
              "                                             address  ...                   geometry\n",
              "0              Kampinkuja 1, 00100 Helsinki, Finland  ...  POINT (24.93017 60.16837)\n",
              "1               Kaivokatu 8, 00101 Helsinki, Finland  ...  POINT (24.94189 60.16987)\n",
              "2  Hermanstads strandsväg 1, 00580 Helsingfors, F...  ...  POINT (24.97740 60.18736)\n",
              "3                  Itäväylä, 00900 Helsinki, Finland  ...  POINT (25.09196 60.21448)\n",
              "4         Tyynenmerenkatu 9, 00220 Helsinki, Finland  ...  POINT (24.92148 60.15658)\n",
              "\n",
              "[5 rows x 3 columns]"
            ]
          },
          "metadata": {
            "tags": []
          },
          "execution_count": 21
        }
      ]
    },
    {
      "cell_type": "code",
      "metadata": {
        "id": "fLrzZ2QkuZGg"
      },
      "source": [
        "df1 = df1.to_crs(epsg=3067)\r\n",
        "df2 = df2.to_crs(epsg=3067)"
      ],
      "execution_count": 22,
      "outputs": []
    },
    {
      "cell_type": "code",
      "metadata": {
        "colab": {
          "base_uri": "https://localhost:8080/",
          "height": 204
        },
        "id": "8cESKnZQuelv",
        "outputId": "79091be4-eaf5-4e00-8e2c-4144ff905a98"
      },
      "source": [
        "df1['centroid'] = df1.centroid\r\n",
        "df1.head()"
      ],
      "execution_count": 23,
      "outputs": [
        {
          "output_type": "execute_result",
          "data": {
            "text/html": [
              "<div>\n",
              "<style scoped>\n",
              "    .dataframe tbody tr th:only-of-type {\n",
              "        vertical-align: middle;\n",
              "    }\n",
              "\n",
              "    .dataframe tbody tr th {\n",
              "        vertical-align: top;\n",
              "    }\n",
              "\n",
              "    .dataframe thead th {\n",
              "        text-align: right;\n",
              "    }\n",
              "</style>\n",
              "<table border=\"1\" class=\"dataframe\">\n",
              "  <thead>\n",
              "    <tr style=\"text-align: right;\">\n",
              "      <th></th>\n",
              "      <th>Name</th>\n",
              "      <th>Description</th>\n",
              "      <th>geometry</th>\n",
              "      <th>centroid</th>\n",
              "    </tr>\n",
              "  </thead>\n",
              "  <tbody>\n",
              "    <tr>\n",
              "      <th>0</th>\n",
              "      <td>Suur-Espoonlahti</td>\n",
              "      <td></td>\n",
              "      <td>POLYGON Z ((376322.317 6665639.417 0.000, 3764...</td>\n",
              "      <td>POINT (375676.529 6658405.261)</td>\n",
              "    </tr>\n",
              "    <tr>\n",
              "      <th>1</th>\n",
              "      <td>Suur-Kauklahti</td>\n",
              "      <td></td>\n",
              "      <td>POLYGON Z ((367726.077 6673018.023 0.000, 3677...</td>\n",
              "      <td>POINT (365520.906 6675893.101)</td>\n",
              "    </tr>\n",
              "    <tr>\n",
              "      <th>2</th>\n",
              "      <td>Vanha-Espoo</td>\n",
              "      <td></td>\n",
              "      <td>POLYGON Z ((371207.712 6677289.881 0.000, 3711...</td>\n",
              "      <td>POINT (367400.175 6681941.088)</td>\n",
              "    </tr>\n",
              "    <tr>\n",
              "      <th>3</th>\n",
              "      <td>Pohjois-Espoo</td>\n",
              "      <td></td>\n",
              "      <td>POLYGON Z ((376528.523 6683480.345 0.000, 3766...</td>\n",
              "      <td>POINT (372191.037 6687785.458)</td>\n",
              "    </tr>\n",
              "    <tr>\n",
              "      <th>4</th>\n",
              "      <td>Suur-Matinkylä</td>\n",
              "      <td></td>\n",
              "      <td>POLYGON Z ((375347.271 6672052.630 0.000, 3753...</td>\n",
              "      <td>POINT (375678.189 6670243.076)</td>\n",
              "    </tr>\n",
              "  </tbody>\n",
              "</table>\n",
              "</div>"
            ],
            "text/plain": [
              "               Name  ...                        centroid\n",
              "0  Suur-Espoonlahti  ...  POINT (375676.529 6658405.261)\n",
              "1    Suur-Kauklahti  ...  POINT (365520.906 6675893.101)\n",
              "2       Vanha-Espoo  ...  POINT (367400.175 6681941.088)\n",
              "3     Pohjois-Espoo  ...  POINT (372191.037 6687785.458)\n",
              "4    Suur-Matinkylä  ...  POINT (375678.189 6670243.076)\n",
              "\n",
              "[5 rows x 4 columns]"
            ]
          },
          "metadata": {
            "tags": []
          },
          "execution_count": 23
        }
      ]
    },
    {
      "cell_type": "code",
      "metadata": {
        "id": "8E9PJoDmug3d"
      },
      "source": [
        "def get_nearest_values(row, other_gdf, point_column='geometry', value_column=\"geometry\"):\r\n",
        "    \"\"\"Find the nearest point and return the corresponding value from specified value column.\"\"\"\r\n",
        "    \r\n",
        "    # Create an union of the other GeoDataFrame's geometries:\r\n",
        "    other_points = other_gdf[\"geometry\"].unary_union\r\n",
        "    \r\n",
        "    # Find the nearest points\r\n",
        "    nearest_geoms = nearest_points(row[point_column], other_points)\r\n",
        "    \r\n",
        "    # Get corresponding values from the other df\r\n",
        "    nearest_data = other_gdf.loc[other_gdf[\"geometry\"] == nearest_geoms[1]]\r\n",
        "    \r\n",
        "    nearest_value = nearest_data[value_column].values[0]\r\n",
        "    \r\n",
        "    return nearest_value"
      ],
      "execution_count": 36,
      "outputs": []
    },
    {
      "cell_type": "code",
      "metadata": {
        "colab": {
          "base_uri": "https://localhost:8080/"
        },
        "id": "039pMM78v0tt",
        "outputId": "a4312542-2e9b-4bde-a713-f7d09624047b"
      },
      "source": [
        "unary_union = df2.unary_union\r\n",
        "print(unary_union)"
      ],
      "execution_count": 37,
      "outputs": [
        {
          "output_type": "stream",
          "text": [
            "MULTIPOINT (381509.3114647456 6678279.695881805, 381649.1435481719 6681009.373053129, 382108.7526298796 6678084.49032345, 382478.1415724767 6680048.201995307, 382813.2289085644 6678976.943536234, 383271.5036574116 6677528.499087724, 384626.2727378064 6670664.629381315, 384630.5635999594 6670942.089551031, 384851.2341996105 6671596.276833341, 385149.4478367225 6671962.669661295, 385352.288437208 6672079.772448166, 385434.5699603938 6675331.866078245, 385804.9853879581 6672108.604159364, 385843.7791171923 6672254.599359834, 386087.1067288672 6672327.641223467, 386259.1774244351 6673155.367903784, 386340.6675485576 6677860.971128643, 386922.0168165897 6674082.547347217, 387403.8846847538 6678661.661857004, 387834.3668702977 6673995.246252355, 388917.6086897013 6680240.421152136, 389470.0504685062 6674058.757596405, 389999.1689588365 6681077.154985747, 390724.8491512584 6674663.427798985, 390954.0967866234 6682372.571798013, 391367.1513718282 6683698.531263099, 391482.2831021842 6675671.506766344, 391526.2431674584 6680245.177761065, 393406.2553944652 6678090.017161597, 393473.9136541592 6676312.57512961, 393770.7049215588 6679114.807714522, 394273.7063376731 6676825.896046941, 395238.1471618905 6679441.814009821, 395825.9235683921 6675779.457163082, 397051.2514632875 6675969.900985452)\n"
          ],
          "name": "stdout"
        }
      ]
    },
    {
      "cell_type": "code",
      "metadata": {
        "id": "FsJqaFbGwMWb"
      },
      "source": [
        "df1[\"nearest_loc\"] = df1.apply(get_nearest_values, other_gdf=df2, point_column=\"centroid\", axis=1)"
      ],
      "execution_count": 38,
      "outputs": []
    },
    {
      "cell_type": "code",
      "metadata": {
        "id": "HG6FuyFlw1hz"
      },
      "source": [
        "df1[\"nearest_loc\"] = df1.apply(get_nearest_values, other_gdf=df2, point_column=\"centroid\", value_column=\"id\", axis=1)"
      ],
      "execution_count": 39,
      "outputs": []
    },
    {
      "cell_type": "code",
      "metadata": {
        "colab": {
          "base_uri": "https://localhost:8080/",
          "height": 204
        },
        "id": "R1JMcCuAw5p4",
        "outputId": "4d106c81-62f2-4ca5-af82-fd5b0c1b3898"
      },
      "source": [
        "df1.head()"
      ],
      "execution_count": 40,
      "outputs": [
        {
          "output_type": "execute_result",
          "data": {
            "text/html": [
              "<div>\n",
              "<style scoped>\n",
              "    .dataframe tbody tr th:only-of-type {\n",
              "        vertical-align: middle;\n",
              "    }\n",
              "\n",
              "    .dataframe tbody tr th {\n",
              "        vertical-align: top;\n",
              "    }\n",
              "\n",
              "    .dataframe thead th {\n",
              "        text-align: right;\n",
              "    }\n",
              "</style>\n",
              "<table border=\"1\" class=\"dataframe\">\n",
              "  <thead>\n",
              "    <tr style=\"text-align: right;\">\n",
              "      <th></th>\n",
              "      <th>Name</th>\n",
              "      <th>Description</th>\n",
              "      <th>geometry</th>\n",
              "      <th>centroid</th>\n",
              "      <th>nearest_loc</th>\n",
              "    </tr>\n",
              "  </thead>\n",
              "  <tbody>\n",
              "    <tr>\n",
              "      <th>0</th>\n",
              "      <td>Suur-Espoonlahti</td>\n",
              "      <td></td>\n",
              "      <td>POLYGON Z ((376322.317 6665639.417 0.000, 3764...</td>\n",
              "      <td>POINT (375676.529 6658405.261)</td>\n",
              "      <td>1005</td>\n",
              "    </tr>\n",
              "    <tr>\n",
              "      <th>1</th>\n",
              "      <td>Suur-Kauklahti</td>\n",
              "      <td></td>\n",
              "      <td>POLYGON Z ((367726.077 6673018.023 0.000, 3677...</td>\n",
              "      <td>POINT (365520.906 6675893.101)</td>\n",
              "      <td>1020</td>\n",
              "    </tr>\n",
              "    <tr>\n",
              "      <th>2</th>\n",
              "      <td>Vanha-Espoo</td>\n",
              "      <td></td>\n",
              "      <td>POLYGON Z ((371207.712 6677289.881 0.000, 3711...</td>\n",
              "      <td>POINT (367400.175 6681941.088)</td>\n",
              "      <td>1017</td>\n",
              "    </tr>\n",
              "    <tr>\n",
              "      <th>3</th>\n",
              "      <td>Pohjois-Espoo</td>\n",
              "      <td></td>\n",
              "      <td>POLYGON Z ((376528.523 6683480.345 0.000, 3766...</td>\n",
              "      <td>POINT (372191.037 6687785.458)</td>\n",
              "      <td>1017</td>\n",
              "    </tr>\n",
              "    <tr>\n",
              "      <th>4</th>\n",
              "      <td>Suur-Matinkylä</td>\n",
              "      <td></td>\n",
              "      <td>POLYGON Z ((375347.271 6672052.630 0.000, 3753...</td>\n",
              "      <td>POINT (375678.189 6670243.076)</td>\n",
              "      <td>1005</td>\n",
              "    </tr>\n",
              "  </tbody>\n",
              "</table>\n",
              "</div>"
            ],
            "text/plain": [
              "               Name Description  ...                        centroid nearest_loc\n",
              "0  Suur-Espoonlahti              ...  POINT (375676.529 6658405.261)        1005\n",
              "1    Suur-Kauklahti              ...  POINT (365520.906 6675893.101)        1020\n",
              "2       Vanha-Espoo              ...  POINT (367400.175 6681941.088)        1017\n",
              "3     Pohjois-Espoo              ...  POINT (372191.037 6687785.458)        1017\n",
              "4    Suur-Matinkylä              ...  POINT (375678.189 6670243.076)        1005\n",
              "\n",
              "[5 rows x 5 columns]"
            ]
          },
          "metadata": {
            "tags": []
          },
          "execution_count": 40
        }
      ]
    }
  ]
}