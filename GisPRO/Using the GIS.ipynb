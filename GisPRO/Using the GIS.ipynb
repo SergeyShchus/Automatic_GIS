{
 "cells": [
  {
   "cell_type": "code",
   "execution_count": 1,
   "metadata": {},
   "outputs": [],
   "source": [
    "from arcgis.gis import GIS"
   ]
  },
  {
   "cell_type": "code",
   "execution_count": 2,
   "metadata": {},
   "outputs": [
    {
     "ename": "Exception",
     "evalue": "Unable to generate token.\nInvalid username or password.\n(Error Code: 400)",
     "output_type": "error",
     "traceback": [
      "\u001b[1;31m---------------------------------------------------------------------------\u001b[0m",
      "\u001b[1;31mException\u001b[0m                                 Traceback (most recent call last)",
      "\u001b[1;32m<ipython-input-2-c3731260b4f4>\u001b[0m in \u001b[0;36m<module>\u001b[1;34m\u001b[0m\n\u001b[1;32m----> 1\u001b[1;33m \u001b[0mgis\u001b[0m \u001b[1;33m=\u001b[0m \u001b[0mGIS\u001b[0m\u001b[1;33m(\u001b[0m\u001b[1;34m\"https://shchus.maps.arcgis.com/\"\u001b[0m\u001b[1;33m,\u001b[0m \u001b[1;34m\"SergiiShchus\"\u001b[0m\u001b[1;33m,\u001b[0m \u001b[1;34m\"MedvedGIS130484\"\u001b[0m\u001b[1;33m)\u001b[0m\u001b[1;33m\u001b[0m\u001b[1;33m\u001b[0m\u001b[0m\n\u001b[0m",
      "\u001b[1;32m~\\anaconda3\\lib\\site-packages\\arcgis\\gis\\__init__.py\u001b[0m in \u001b[0;36m__init__\u001b[1;34m(self, url, username, password, key_file, cert_file, verify_cert, set_active, client_id, profile, **kwargs)\u001b[0m\n\u001b[0;32m    337\u001b[0m                                    \"argument when connecting to the GIS.\")\n\u001b[0;32m    338\u001b[0m             \u001b[1;32melse\u001b[0m\u001b[1;33m:\u001b[0m\u001b[1;33m\u001b[0m\u001b[1;33m\u001b[0m\u001b[0m\n\u001b[1;32m--> 339\u001b[1;33m                 \u001b[1;32mraise\u001b[0m \u001b[0me\u001b[0m\u001b[1;33m\u001b[0m\u001b[1;33m\u001b[0m\u001b[0m\n\u001b[0m\u001b[0;32m    340\u001b[0m         \u001b[1;32mtry\u001b[0m\u001b[1;33m:\u001b[0m\u001b[1;33m\u001b[0m\u001b[1;33m\u001b[0m\u001b[0m\n\u001b[0;32m    341\u001b[0m             \u001b[1;32mif\u001b[0m \u001b[0murl\u001b[0m\u001b[1;33m.\u001b[0m\u001b[0mlower\u001b[0m\u001b[1;33m(\u001b[0m\u001b[1;33m)\u001b[0m\u001b[1;33m.\u001b[0m\u001b[0mfind\u001b[0m\u001b[1;33m(\u001b[0m\u001b[1;34m\"arcgis.com\"\u001b[0m\u001b[1;33m)\u001b[0m \u001b[1;33m>\u001b[0m \u001b[1;33m-\u001b[0m\u001b[1;36m1\u001b[0m \u001b[1;32mand\u001b[0m\u001b[0;31m \u001b[0m\u001b[0;31m\\\u001b[0m\u001b[1;33m\u001b[0m\u001b[1;33m\u001b[0m\u001b[0m\n",
      "\u001b[1;32m~\\anaconda3\\lib\\site-packages\\arcgis\\gis\\__init__.py\u001b[0m in \u001b[0;36m__init__\u001b[1;34m(self, url, username, password, key_file, cert_file, verify_cert, set_active, client_id, profile, **kwargs)\u001b[0m\n\u001b[0;32m    312\u001b[0m             \u001b[0mself\u001b[0m\u001b[1;33m.\u001b[0m\u001b[0m_expiration\u001b[0m \u001b[1;33m=\u001b[0m \u001b[1;36m60\u001b[0m\u001b[1;33m\u001b[0m\u001b[1;33m\u001b[0m\u001b[0m\n\u001b[0;32m    313\u001b[0m         \u001b[1;32mtry\u001b[0m\u001b[1;33m:\u001b[0m\u001b[1;33m\u001b[0m\u001b[1;33m\u001b[0m\u001b[0m\n\u001b[1;32m--> 314\u001b[1;33m             self._portal = _portalpy.Portal(self._url, self._username,\n\u001b[0m\u001b[0;32m    315\u001b[0m                                            \u001b[0mself\u001b[0m\u001b[1;33m.\u001b[0m\u001b[0m_password\u001b[0m\u001b[1;33m,\u001b[0m \u001b[0mself\u001b[0m\u001b[1;33m.\u001b[0m\u001b[0m_key_file\u001b[0m\u001b[1;33m,\u001b[0m\u001b[1;33m\u001b[0m\u001b[1;33m\u001b[0m\u001b[0m\n\u001b[0;32m    316\u001b[0m                                            \u001b[0mself\u001b[0m\u001b[1;33m.\u001b[0m\u001b[0m_cert_file\u001b[0m\u001b[1;33m,\u001b[0m\u001b[1;33m\u001b[0m\u001b[1;33m\u001b[0m\u001b[0m\n",
      "\u001b[1;32m~\\anaconda3\\lib\\site-packages\\arcgis\\gis\\_impl\\_portalpy.py\u001b[0m in \u001b[0;36m__init__\u001b[1;34m(self, url, username, password, key_file, cert_file, expiration, referer, proxy_host, proxy_port, connection, workdir, tokenurl, verify_cert, client_id, custom_auth, token)\u001b[0m\n\u001b[0;32m    167\u001b[0m                                       token=token)\n\u001b[0;32m    168\u001b[0m         \u001b[1;31m#self.get_version(True)\u001b[0m\u001b[1;33m\u001b[0m\u001b[1;33m\u001b[0m\u001b[1;33m\u001b[0m\u001b[0m\n\u001b[1;32m--> 169\u001b[1;33m         \u001b[0mself\u001b[0m\u001b[1;33m.\u001b[0m\u001b[0mget_properties\u001b[0m\u001b[1;33m(\u001b[0m\u001b[1;32mTrue\u001b[0m\u001b[1;33m)\u001b[0m\u001b[1;33m\u001b[0m\u001b[1;33m\u001b[0m\u001b[0m\n\u001b[0m\u001b[0;32m    170\u001b[0m \u001b[1;33m\u001b[0m\u001b[0m\n\u001b[0;32m    171\u001b[0m \u001b[1;33m\u001b[0m\u001b[0m\n",
      "\u001b[1;32m~\\anaconda3\\lib\\site-packages\\arcgis\\gis\\_impl\\_portalpy.py\u001b[0m in \u001b[0;36mget_properties\u001b[1;34m(self, force)\u001b[0m\n\u001b[0;32m   1107\u001b[0m                     \u001b[0mresp\u001b[0m \u001b[1;33m=\u001b[0m \u001b[0mself\u001b[0m\u001b[1;33m.\u001b[0m\u001b[0mcon\u001b[0m\u001b[1;33m.\u001b[0m\u001b[0mget\u001b[0m\u001b[1;33m(\u001b[0m\u001b[0mpath\u001b[0m\u001b[1;33m,\u001b[0m \u001b[0mssl\u001b[0m\u001b[1;33m=\u001b[0m\u001b[1;32mTrue\u001b[0m\u001b[1;33m)\u001b[0m \u001b[1;31m# issue seen with key, cert auth\u001b[0m\u001b[1;33m\u001b[0m\u001b[1;33m\u001b[0m\u001b[0m\n\u001b[0;32m   1108\u001b[0m                 \u001b[1;32mif\u001b[0m \u001b[1;32mnot\u001b[0m \u001b[0mresp\u001b[0m\u001b[1;33m:\u001b[0m\u001b[1;33m\u001b[0m\u001b[1;33m\u001b[0m\u001b[0m\n\u001b[1;32m-> 1109\u001b[1;33m                     \u001b[1;32mraise\u001b[0m \u001b[0me\u001b[0m\u001b[1;33m\u001b[0m\u001b[1;33m\u001b[0m\u001b[0m\n\u001b[0m\u001b[0;32m   1110\u001b[0m \u001b[1;33m\u001b[0m\u001b[0m\n\u001b[0;32m   1111\u001b[0m             \u001b[1;32mif\u001b[0m \u001b[0mresp\u001b[0m\u001b[1;33m:\u001b[0m\u001b[1;33m\u001b[0m\u001b[1;33m\u001b[0m\u001b[0m\n",
      "\u001b[1;32m~\\anaconda3\\lib\\site-packages\\arcgis\\gis\\_impl\\_portalpy.py\u001b[0m in \u001b[0;36mget_properties\u001b[1;34m(self, force)\u001b[0m\n\u001b[0;32m   1095\u001b[0m             \u001b[0mresp\u001b[0m \u001b[1;33m=\u001b[0m \u001b[1;32mNone\u001b[0m\u001b[1;33m\u001b[0m\u001b[1;33m\u001b[0m\u001b[0m\n\u001b[0;32m   1096\u001b[0m             \u001b[1;32mtry\u001b[0m\u001b[1;33m:\u001b[0m\u001b[1;33m\u001b[0m\u001b[1;33m\u001b[0m\u001b[0m\n\u001b[1;32m-> 1097\u001b[1;33m                 \u001b[0mresp\u001b[0m \u001b[1;33m=\u001b[0m \u001b[0mself\u001b[0m\u001b[1;33m.\u001b[0m\u001b[0mcon\u001b[0m\u001b[1;33m.\u001b[0m\u001b[0mpost\u001b[0m\u001b[1;33m(\u001b[0m\u001b[0mpath\u001b[0m\u001b[1;33m,\u001b[0m \u001b[0mself\u001b[0m\u001b[1;33m.\u001b[0m\u001b[0m_postdata\u001b[0m\u001b[1;33m(\u001b[0m\u001b[1;33m)\u001b[0m\u001b[1;33m,\u001b[0m \u001b[0mssl\u001b[0m\u001b[1;33m=\u001b[0m\u001b[1;32mTrue\u001b[0m\u001b[1;33m)\u001b[0m\u001b[1;33m\u001b[0m\u001b[1;33m\u001b[0m\u001b[0m\n\u001b[0m\u001b[0;32m   1098\u001b[0m             \u001b[1;32mexcept\u001b[0m \u001b[0mException\u001b[0m \u001b[1;32mas\u001b[0m \u001b[0me\u001b[0m\u001b[1;33m:\u001b[0m\u001b[1;33m\u001b[0m\u001b[1;33m\u001b[0m\u001b[0m\n\u001b[0;32m   1099\u001b[0m                 \u001b[1;32mif\u001b[0m \u001b[1;32mnot\u001b[0m \u001b[0mself\u001b[0m\u001b[1;33m.\u001b[0m\u001b[0mcon\u001b[0m\u001b[1;33m.\u001b[0m\u001b[0m_verify_cert\u001b[0m \u001b[1;32mand\u001b[0m\u001b[0;31m \u001b[0m\u001b[0;31m\\\u001b[0m\u001b[1;33m\u001b[0m\u001b[1;33m\u001b[0m\u001b[0m\n",
      "\u001b[1;32m~\\anaconda3\\lib\\site-packages\\arcgis\\gis\\_impl\\_con\\_connection.py\u001b[0m in \u001b[0;36mpost\u001b[1;34m(self, path, params, files, **kwargs)\u001b[0m\n\u001b[0;32m    619\u001b[0m                     \u001b[0mparams\u001b[0m\u001b[1;33m.\u001b[0m\u001b[0mpop\u001b[0m\u001b[1;33m(\u001b[0m\u001b[1;34m'token'\u001b[0m\u001b[1;33m,\u001b[0m \u001b[1;32mNone\u001b[0m\u001b[1;33m)\u001b[0m\u001b[1;33m\u001b[0m\u001b[1;33m\u001b[0m\u001b[0m\n\u001b[0;32m    620\u001b[0m                     \u001b[1;31m#pass\u001b[0m\u001b[1;33m\u001b[0m\u001b[1;33m\u001b[0m\u001b[1;33m\u001b[0m\u001b[0m\n\u001b[1;32m--> 621\u001b[1;33m             \u001b[1;32melif\u001b[0m \u001b[0mtoken_as_header\u001b[0m \u001b[1;33m==\u001b[0m \u001b[1;32mFalse\u001b[0m \u001b[1;32mand\u001b[0m \u001b[0mself\u001b[0m\u001b[1;33m.\u001b[0m\u001b[0mtoken\u001b[0m \u001b[1;32mis\u001b[0m \u001b[1;32mnot\u001b[0m \u001b[1;32mNone\u001b[0m\u001b[1;33m:\u001b[0m \u001b[1;31m#as ?token=\u001b[0m\u001b[1;33m\u001b[0m\u001b[1;33m\u001b[0m\u001b[0m\n\u001b[0m\u001b[0;32m    622\u001b[0m                 \u001b[0mparams\u001b[0m\u001b[1;33m[\u001b[0m\u001b[1;34m'token'\u001b[0m\u001b[1;33m]\u001b[0m \u001b[1;33m=\u001b[0m \u001b[0mself\u001b[0m\u001b[1;33m.\u001b[0m\u001b[0mtoken\u001b[0m\u001b[1;33m\u001b[0m\u001b[1;33m\u001b[0m\u001b[0m\n\u001b[0;32m    623\u001b[0m             \u001b[1;32melif\u001b[0m \u001b[0mtoken_as_header\u001b[0m \u001b[1;32mand\u001b[0m \u001b[0mself\u001b[0m\u001b[1;33m.\u001b[0m\u001b[0mtoken\u001b[0m \u001b[1;32mis\u001b[0m \u001b[1;32mnot\u001b[0m \u001b[1;32mNone\u001b[0m\u001b[1;33m:\u001b[0m\u001b[1;31m#(token and token != _DEFAULT_TOKEN): # as X-Esri-Auth header with given token\u001b[0m\u001b[1;33m\u001b[0m\u001b[1;33m\u001b[0m\u001b[0m\n",
      "\u001b[1;32m~\\anaconda3\\lib\\site-packages\\arcgis\\gis\\_impl\\_con\\_connection.py\u001b[0m in \u001b[0;36mtoken\u001b[1;34m(self)\u001b[0m\n\u001b[0;32m   1026\u001b[0m                                    \"AGO\", \"ENTERPRISE\"] and \\\n\u001b[0;32m   1027\u001b[0m                  \u001b[0mself\u001b[0m\u001b[1;33m.\u001b[0m\u001b[0m_auth\u001b[0m \u001b[1;33m==\u001b[0m \u001b[1;34m\"BUILTIN\"\u001b[0m\u001b[1;33m:\u001b[0m\u001b[1;33m\u001b[0m\u001b[1;33m\u001b[0m\u001b[0m\n\u001b[1;32m-> 1028\u001b[1;33m                 \u001b[0mself\u001b[0m\u001b[1;33m.\u001b[0m\u001b[0m_token\u001b[0m \u001b[1;33m=\u001b[0m \u001b[0mself\u001b[0m\u001b[1;33m.\u001b[0m\u001b[0m_enterprise_token\u001b[0m\u001b[1;33m(\u001b[0m\u001b[1;33m)\u001b[0m\u001b[1;33m\u001b[0m\u001b[1;33m\u001b[0m\u001b[0m\n\u001b[0m\u001b[0;32m   1029\u001b[0m                 \u001b[1;32mreturn\u001b[0m \u001b[0mself\u001b[0m\u001b[1;33m.\u001b[0m\u001b[0m_token\u001b[0m\u001b[1;33m\u001b[0m\u001b[1;33m\u001b[0m\u001b[0m\n\u001b[0;32m   1030\u001b[0m             \u001b[1;32melse\u001b[0m\u001b[1;33m:\u001b[0m\u001b[1;33m\u001b[0m\u001b[1;33m\u001b[0m\u001b[0m\n",
      "\u001b[1;32m~\\anaconda3\\lib\\site-packages\\arcgis\\gis\\_impl\\_con\\_connection.py\u001b[0m in \u001b[0;36m_enterprise_token\u001b[1;34m(self)\u001b[0m\n\u001b[0;32m   1141\u001b[0m                                                                                 path.split('/')[0])\n\u001b[0;32m   1142\u001b[0m \u001b[1;33m\u001b[0m\u001b[0m\n\u001b[1;32m-> 1143\u001b[1;33m         res = self.post(path=self._token_url,\n\u001b[0m\u001b[0;32m   1144\u001b[0m                         \u001b[0mparams\u001b[0m\u001b[1;33m=\u001b[0m\u001b[0mpostdata\u001b[0m\u001b[1;33m,\u001b[0m\u001b[1;33m\u001b[0m\u001b[1;33m\u001b[0m\u001b[0m\n\u001b[0;32m   1145\u001b[0m                         add_token=False)\n",
      "\u001b[1;32m~\\anaconda3\\lib\\site-packages\\arcgis\\gis\\_impl\\_con\\_connection.py\u001b[0m in \u001b[0;36mpost\u001b[1;34m(self, path, params, files, **kwargs)\u001b[0m\n\u001b[0;32m    704\u001b[0m                 'An unknown error occurred: %s' % traceback.format_exc())\n\u001b[0;32m    705\u001b[0m \u001b[1;33m\u001b[0m\u001b[0m\n\u001b[1;32m--> 706\u001b[1;33m         return self._handle_response(resp=resp,\n\u001b[0m\u001b[0;32m    707\u001b[0m                                      \u001b[0mout_path\u001b[0m\u001b[1;33m=\u001b[0m\u001b[0mout_path\u001b[0m\u001b[1;33m,\u001b[0m\u001b[1;33m\u001b[0m\u001b[1;33m\u001b[0m\u001b[0m\n\u001b[0;32m    708\u001b[0m                                      \u001b[0mfile_name\u001b[0m\u001b[1;33m=\u001b[0m\u001b[0mfile_name\u001b[0m\u001b[1;33m,\u001b[0m\u001b[1;33m\u001b[0m\u001b[1;33m\u001b[0m\u001b[0m\n",
      "\u001b[1;32m~\\anaconda3\\lib\\site-packages\\arcgis\\gis\\_impl\\_con\\_connection.py\u001b[0m in \u001b[0;36m_handle_response\u001b[1;34m(self, resp, file_name, out_path, try_json, force_bytes)\u001b[0m\n\u001b[0;32m    503\u001b[0m             \u001b[1;32mif\u001b[0m \u001b[1;34m'error'\u001b[0m \u001b[1;32min\u001b[0m \u001b[0mdata\u001b[0m\u001b[1;33m:\u001b[0m\u001b[1;33m\u001b[0m\u001b[1;33m\u001b[0m\u001b[0m\n\u001b[0;32m    504\u001b[0m                 \u001b[0merrorcode\u001b[0m \u001b[1;33m=\u001b[0m \u001b[0mdata\u001b[0m\u001b[1;33m[\u001b[0m\u001b[1;34m'error'\u001b[0m\u001b[1;33m]\u001b[0m\u001b[1;33m[\u001b[0m\u001b[1;34m'code'\u001b[0m\u001b[1;33m]\u001b[0m \u001b[1;32mif\u001b[0m \u001b[1;34m'code'\u001b[0m \u001b[1;32min\u001b[0m \u001b[0mdata\u001b[0m\u001b[1;33m[\u001b[0m\u001b[1;34m'error'\u001b[0m\u001b[1;33m]\u001b[0m \u001b[1;32melse\u001b[0m \u001b[1;36m0\u001b[0m\u001b[1;33m\u001b[0m\u001b[1;33m\u001b[0m\u001b[0m\n\u001b[1;32m--> 505\u001b[1;33m                 \u001b[0mself\u001b[0m\u001b[1;33m.\u001b[0m\u001b[0m_handle_json_error\u001b[0m\u001b[1;33m(\u001b[0m\u001b[0mdata\u001b[0m\u001b[1;33m[\u001b[0m\u001b[1;34m'error'\u001b[0m\u001b[1;33m]\u001b[0m\u001b[1;33m,\u001b[0m \u001b[0merrorcode\u001b[0m\u001b[1;33m)\u001b[0m\u001b[1;33m\u001b[0m\u001b[1;33m\u001b[0m\u001b[0m\n\u001b[0m\u001b[0;32m    506\u001b[0m             \u001b[1;32mreturn\u001b[0m \u001b[0mdata\u001b[0m\u001b[1;33m\u001b[0m\u001b[1;33m\u001b[0m\u001b[0m\n\u001b[0;32m    507\u001b[0m         \u001b[1;32melse\u001b[0m\u001b[1;33m:\u001b[0m\u001b[1;33m\u001b[0m\u001b[1;33m\u001b[0m\u001b[0m\n",
      "\u001b[1;32m~\\anaconda3\\lib\\site-packages\\arcgis\\gis\\_impl\\_con\\_connection.py\u001b[0m in \u001b[0;36m_handle_json_error\u001b[1;34m(self, error, errorcode)\u001b[0m\n\u001b[0;32m    521\u001b[0m \u001b[1;33m\u001b[0m\u001b[0m\n\u001b[0;32m    522\u001b[0m         \u001b[0merrormessage\u001b[0m \u001b[1;33m=\u001b[0m \u001b[0merrormessage\u001b[0m \u001b[1;33m+\u001b[0m \u001b[1;34m\"\\n(Error Code: \"\u001b[0m \u001b[1;33m+\u001b[0m \u001b[0mstr\u001b[0m\u001b[1;33m(\u001b[0m\u001b[0merrorcode\u001b[0m\u001b[1;33m)\u001b[0m \u001b[1;33m+\u001b[0m\u001b[1;34m\")\"\u001b[0m\u001b[1;33m\u001b[0m\u001b[1;33m\u001b[0m\u001b[0m\n\u001b[1;32m--> 523\u001b[1;33m         \u001b[1;32mraise\u001b[0m \u001b[0mException\u001b[0m\u001b[1;33m(\u001b[0m\u001b[0merrormessage\u001b[0m\u001b[1;33m)\u001b[0m\u001b[1;33m\u001b[0m\u001b[1;33m\u001b[0m\u001b[0m\n\u001b[0m\u001b[0;32m    524\u001b[0m     \u001b[1;31m#----------------------------------------------------------------------\u001b[0m\u001b[1;33m\u001b[0m\u001b[1;33m\u001b[0m\u001b[1;33m\u001b[0m\u001b[0m\n\u001b[0;32m    525\u001b[0m     def post(self,\n",
      "\u001b[1;31mException\u001b[0m: Unable to generate token.\nInvalid username or password.\n(Error Code: 400)"
     ]
    }
   ],
   "source": [
    "gis = GIS(\"https://shchus.maps.arcgis.com/\", \"SergiiShchus\", \"MedvedGIS130484\")"
   ]
  },
  {
   "cell_type": "code",
   "execution_count": 8,
   "metadata": {},
   "outputs": [
    {
     "data": {
      "text/plain": [
       "<arcgis.gis.ContentManager object at 0x000001BC5B83FDD8>"
      ]
     },
     "execution_count": 8,
     "metadata": {},
     "output_type": "execute_result"
    }
   ],
   "source": [
    "gis.content"
   ]
  },
  {
   "cell_type": "code",
   "execution_count": 16,
   "metadata": {},
   "outputs": [],
   "source": [
    "user = gis.users.get('ShchusS')"
   ]
  },
  {
   "cell_type": "code",
   "execution_count": 17,
   "metadata": {},
   "outputs": [
    {
     "data": {
      "text/html": [
       "<div class=\"9item_container\" style=\"height: auto; overflow: hidden; border: 1px solid #cfcfcf; border-radius: 2px; background: #f6fafa; line-height: 1.21429em; padding: 10px;\">\n",
       "                    <div class=\"item_left\" style=\"width: 210px; float: left;\">\n",
       "                       <a href='https://gis.ulf.com.ua/portal/home/user.html?user=ShchusS' target='_blank'>\n",
       "                        <img src='data:image/png;base64,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' width='200' height='133' class=\"itemThumbnail\">\n",
       "                       </a>\n",
       "                    </div>\n",
       "\n",
       "                    <div class=\"item_right\" style=\"float: none; width: auto; overflow: hidden;\">\n",
       "                        <a href='https://gis.ulf.com.ua/portal/home/user.html?user=ShchusS' target='_blank'><b>Сергій Щусь</b>\n",
       "                        </a>\n",
       "                        <br/><br/><b>Bio</b>: \n",
       "                        <br/><b>First Name</b>: Сергій\n",
       "                        <br/><b>Last Name</b>: Щусь\n",
       "                        <br/><b>Username</b>: ShchusS\n",
       "                        <br/><b>Joined</b>: Июль 07, 2020\n",
       "\n",
       "                    </div>\n",
       "                </div>\n",
       "                "
      ],
      "text/plain": [
       "<User username:ShchusS>"
      ]
     },
     "execution_count": 17,
     "metadata": {},
     "output_type": "execute_result"
    }
   ],
   "source": [
    "user"
   ]
  },
  {
   "cell_type": "code",
   "execution_count": 18,
   "metadata": {},
   "outputs": [
    {
     "data": {
      "text/plain": [
       "'Сергій'"
      ]
     },
     "execution_count": 18,
     "metadata": {},
     "output_type": "execute_result"
    }
   ],
   "source": [
    "user['firstName']"
   ]
  },
  {
   "cell_type": "code",
   "execution_count": 20,
   "metadata": {},
   "outputs": [
    {
     "data": {
      "text/plain": [
       "'Щусь'"
      ]
     },
     "execution_count": 20,
     "metadata": {},
     "output_type": "execute_result"
    }
   ],
   "source": [
    "user.lastName"
   ]
  },
  {
   "cell_type": "code",
   "execution_count": 37,
   "metadata": {},
   "outputs": [
    {
     "data": {
      "application/vnd.jupyter.widget-view+json": {
       "model_id": "b936f5b4bbf34448a61d1f6c227a00ac",
       "version_major": 2,
       "version_minor": 0
      },
      "text/plain": [
       "MapView(layout=Layout(height='400px', width='100%'))"
      ]
     },
     "metadata": {},
     "output_type": "display_data"
    },
    {
     "data": {
      "text/html": [
       "<div class=\"map-static-img-preview-38556beb-8c88-4ccb-b476-f7c854cfadc4\"><img src=\"\"></img></div>"
      ],
      "text/plain": [
       "<display.HTML object>"
      ]
     },
     "metadata": {},
     "output_type": "display_data"
    }
   ],
   "source": [
    "map1 = gis.map(\"Palm Springs, CA\")\n",
    "map1"
   ]
  },
  {
   "cell_type": "code",
   "execution_count": 81,
   "metadata": {},
   "outputs": [
    {
     "data": {
      "text/html": [
       "<div class=\"item_container\" style=\"height: auto; overflow: hidden; border: 1px solid #cfcfcf; border-radius: 2px; background: #f6fafa; line-height: 1.21429em; padding: 10px;\">\n",
       "                    <div class=\"item_left\" style=\"width: 210px; float: left;\">\n",
       "                       <a href='https://www.arcgis.com/home/item.html?id=a745996a233f4a5ea9242742cc7091dc' target='_blank'>\n",
       "                        <img src='https://www.arcgis.com/sharing/rest//content/items/a745996a233f4a5ea9242742cc7091dc/info/thumbnail/Screen_Shot_2012-07-29_at_4.06.36_AM.png' class=\"itemThumbnail\">\n",
       "                       </a>\n",
       "                    </div>\n",
       "\n",
       "                    <div class=\"item_right\"     style=\"float: none; width: auto; overflow: hidden;\">\n",
       "                        <a href='https://www.arcgis.com/home/item.html?id=a745996a233f4a5ea9242742cc7091dc' target='_blank'><b>Palmer Mountain Bike trails</b>\n",
       "                        </a>\n",
       "                        <br/>I have started trying to digitize the trails of palmer park<img src='https://www.arcgis.com/home/js/jsapi/esri/css/images/item_type_icons/maps16.png' style=\"vertical-align:middle;\">Web Map by dontpanic42\n",
       "                        <br/>Last Modified: Июль 30, 2012\n",
       "                        <br/>2 comments, 233 views\n",
       "                    </div>\n",
       "                </div>\n",
       "                "
      ],
      "text/plain": [
       "<Item title:\"Palmer Mountain Bike trails\" type:Web Map owner:dontpanic42>"
      ]
     },
     "metadata": {},
     "output_type": "display_data"
    }
   ],
   "source": [
    "from IPython.display import display\n",
    "\n",
    "items = gis.content.search('Palm Springs Trails')\n",
    "\n",
    "display(item)\n",
    "test = item"
   ]
  },
  {
   "cell_type": "code",
   "execution_count": 82,
   "metadata": {},
   "outputs": [
    {
     "data": {
      "text/html": [
       "<div class=\"item_container\" style=\"height: auto; overflow: hidden; border: 1px solid #cfcfcf; border-radius: 2px; background: #f6fafa; line-height: 1.21429em; padding: 10px;\">\n",
       "                    <div class=\"item_left\" style=\"width: 210px; float: left;\">\n",
       "                       <a href='https://www.arcgis.com/home/item.html?id=a745996a233f4a5ea9242742cc7091dc' target='_blank'>\n",
       "                        <img src='https://www.arcgis.com/sharing/rest//content/items/a745996a233f4a5ea9242742cc7091dc/info/thumbnail/Screen_Shot_2012-07-29_at_4.06.36_AM.png' class=\"itemThumbnail\">\n",
       "                       </a>\n",
       "                    </div>\n",
       "\n",
       "                    <div class=\"item_right\"     style=\"float: none; width: auto; overflow: hidden;\">\n",
       "                        <a href='https://www.arcgis.com/home/item.html?id=a745996a233f4a5ea9242742cc7091dc' target='_blank'><b>Palmer Mountain Bike trails</b>\n",
       "                        </a>\n",
       "                        <br/>I have started trying to digitize the trails of palmer park<img src='https://www.arcgis.com/home/js/jsapi/esri/css/images/item_type_icons/maps16.png' style=\"vertical-align:middle;\">Web Map by dontpanic42\n",
       "                        <br/>Last Modified: Июль 30, 2012\n",
       "                        <br/>2 comments, 233 views\n",
       "                    </div>\n",
       "                </div>\n",
       "                "
      ],
      "text/plain": [
       "<Item title:\"Palmer Mountain Bike trails\" type:Web Map owner:dontpanic42>"
      ]
     },
     "execution_count": 82,
     "metadata": {},
     "output_type": "execute_result"
    }
   ],
   "source": [
    "test"
   ]
  },
  {
   "cell_type": "code",
   "execution_count": 75,
   "metadata": {},
   "outputs": [
    {
     "data": {
      "application/vnd.jupyter.widget-view+json": {
       "model_id": "d54317199f8548a3a600ee5953fed838",
       "version_major": 2,
       "version_minor": 0
      },
      "text/plain": [
       "MapView(layout=Layout(height='400px', width='100%'))"
      ]
     },
     "metadata": {},
     "output_type": "display_data"
    },
    {
     "data": {
      "text/html": [
       "<div class=\"map-static-img-preview-093db08b-1663-47b4-aee2-3c8712a1a7d0\"><img src=\"\"></img></div>"
      ],
      "text/plain": [
       "<display.HTML object>"
      ]
     },
     "metadata": {},
     "output_type": "display_data"
    }
   ],
   "source": [
    "map1 = gis.map(\"Palm Springs, CA\")\n",
    "map1\n",
    "\n"
   ]
  },
  {
   "cell_type": "code",
   "execution_count": 76,
   "metadata": {},
   "outputs": [],
   "source": [
    "# Let us filter out the item with title 'Trails' that we want to add\n",
    "item_to_add = [temp_item for temp_item in items if temp_item.title == \"Trails\"]"
   ]
  },
  {
   "cell_type": "code",
   "execution_count": 83,
   "metadata": {},
   "outputs": [
    {
     "ename": "KeyError",
     "evalue": "'layers'",
     "output_type": "error",
     "traceback": [
      "\u001b[0;31m---------------------------------------------------------------------------\u001b[0m\n\u001b[0;31mKeyError\u001b[0m                                  Traceback (most recent call last)",
      "In  \u001b[0;34m[83]\u001b[0m:\nLine \u001b[0;34m1\u001b[0m:     map1.add_layer(test)\n",
      "File \u001b[0;34mC:\\Program Files\\ArcGIS\\Pro\\bin\\Python\\envs\\arcgispro-py3\\Lib\\site-packages\\arcgis\\widgets\\_mapview.py\u001b[0m, in \u001b[0;32madd_layer\u001b[0m:\nLine \u001b[0;34m861\u001b[0m:   \u001b[36mself\u001b[39;49;00m._add_layer_to_widget(item, options)\n",
      "File \u001b[0;34mC:\\Program Files\\ArcGIS\\Pro\\bin\\Python\\envs\\arcgispro-py3\\Lib\\site-packages\\arcgis\\widgets\\_mapview.py\u001b[0m, in \u001b[0;32m_add_layer_to_widget\u001b[0m:\nLine \u001b[0;34m878\u001b[0m:   \u001b[34mfor\u001b[39;49;00m layer \u001b[35min\u001b[39;49;00m item.layers:\n",
      "File \u001b[0;34mC:\\Program Files\\ArcGIS\\Pro\\bin\\Python\\envs\\arcgispro-py3\\Lib\\site-packages\\arcgis\\gis\\__init__.py\u001b[0m, in \u001b[0;32m__getattribute__\u001b[0m:\nLine \u001b[0;34m6978\u001b[0m:  \u001b[34mif\u001b[39;49;00m \u001b[36mself\u001b[39;49;00m[\u001b[33m'\u001b[39;49;00m\u001b[33mlayers\u001b[39;49;00m\u001b[33m'\u001b[39;49;00m] == \u001b[34mNone\u001b[39;49;00m \u001b[35mor\u001b[39;49;00m \u001b[36mself\u001b[39;49;00m[\u001b[33m'\u001b[39;49;00m\u001b[33mlayers\u001b[39;49;00m\u001b[33m'\u001b[39;49;00m] == []:\n",
      "File \u001b[0;34mC:\\Program Files\\ArcGIS\\Pro\\bin\\Python\\envs\\arcgispro-py3\\Lib\\site-packages\\arcgis\\gis\\__init__.py\u001b[0m, in \u001b[0;32m__getitem__\u001b[0m:\nLine \u001b[0;34m7009\u001b[0m:  \u001b[34mreturn\u001b[39;49;00m \u001b[36mdict\u001b[39;49;00m.\u001b[32m__getitem__\u001b[39;49;00m(\u001b[36mself\u001b[39;49;00m, k)\n",
      "\u001b[0;31mKeyError\u001b[0m: 'layers'\n\u001b[0;31m---------------------------------------------------------------------------\u001b[0m"
     ]
    }
   ],
   "source": [
    "map1.add_layer(test)"
   ]
  },
  {
   "cell_type": "code",
   "execution_count": 68,
   "metadata": {},
   "outputs": [
    {
     "ename": "IndexError",
     "evalue": "list index out of range",
     "output_type": "error",
     "traceback": [
      "\u001b[0;31m---------------------------------------------------------------------------\u001b[0m\n\u001b[0;31mIndexError\u001b[0m                                Traceback (most recent call last)",
      "In  \u001b[0;34m[68]\u001b[0m:\nLine \u001b[0;34m1\u001b[0m:     item_to_add[\u001b[34m0\u001b[39;49;00m]\n",
      "\u001b[0;31mIndexError\u001b[0m: list index out of range\n\u001b[0;31m---------------------------------------------------------------------------\u001b[0m"
     ]
    }
   ],
   "source": [
    "item_to_add[0]"
   ]
  },
  {
   "cell_type": "code",
   "execution_count": 84,
   "metadata": {},
   "outputs": [
    {
     "name": "stdout",
     "output_type": "stream",
     "text": [
      "Portal for ArcGIS as a built in user\n"
     ]
    },
    {
     "ename": "URLError",
     "evalue": "<urlopen error Tunnel connection failed: 407 Proxy Authentication Required>",
     "output_type": "error",
     "traceback": [
      "\u001b[0;31m---------------------------------------------------------------------------\u001b[0m\n\u001b[0;31mURLError\u001b[0m                                  Traceback (most recent call last)",
      "In  \u001b[0;34m[84]\u001b[0m:\nLine \u001b[0;34m2\u001b[0m:     gis = GIS(\u001b[33m\"\u001b[39;49;00m\u001b[33mhttps://portalname.domain.com/webadapter_name\u001b[39;49;00m\u001b[33m\"\u001b[39;49;00m, \u001b[33m\"\u001b[39;49;00m\u001b[33msharinguser\u001b[39;49;00m\u001b[33m\"\u001b[39;49;00m, \u001b[33m\"\u001b[39;49;00m\u001b[33mpassword\u001b[39;49;00m\u001b[33m\"\u001b[39;49;00m)\n",
      "File \u001b[0;34mC:\\Program Files\\ArcGIS\\Pro\\bin\\Python\\envs\\arcgispro-py3\\Lib\\site-packages\\arcgis\\gis\\__init__.py\u001b[0m, in \u001b[0;32m__init__\u001b[0m:\nLine \u001b[0;34m325\u001b[0m:   \u001b[34mraise\u001b[39;49;00m e\n",
      "File \u001b[0;34mC:\\Program Files\\ArcGIS\\Pro\\bin\\Python\\envs\\arcgispro-py3\\Lib\\site-packages\\arcgis\\gis\\__init__.py\u001b[0m, in \u001b[0;32m__init__\u001b[0m:\nLine \u001b[0;34m310\u001b[0m:   referer=\u001b[36mself\u001b[39;49;00m._referer)\n",
      "File \u001b[0;34mC:\\Program Files\\ArcGIS\\Pro\\bin\\Python\\envs\\arcgispro-py3\\Lib\\site-packages\\arcgis\\_impl\\portalpy.py\u001b[0m, in \u001b[0;32m__init__\u001b[0m:\nLine \u001b[0;34m163\u001b[0m:   client_id=client_id)\n",
      "File \u001b[0;34mC:\\Program Files\\ArcGIS\\Pro\\bin\\Python\\envs\\arcgispro-py3\\Lib\\site-packages\\arcgis\\_impl\\connection.py\u001b[0m, in \u001b[0;32m__init__\u001b[0m:\nLine \u001b[0;34m308\u001b[0m:   \u001b[36mself\u001b[39;49;00m.login(username, password, expiration, client_id)\n",
      "File \u001b[0;34mC:\\Program Files\\ArcGIS\\Pro\\bin\\Python\\envs\\arcgispro-py3\\Lib\\site-packages\\arcgis\\_impl\\connection.py\u001b[0m, in \u001b[0;32mlogin\u001b[0m:\nLine \u001b[0;34m554\u001b[0m:   resp = \u001b[36mself\u001b[39;49;00m.post(\u001b[33m'\u001b[39;49;00m\u001b[33m'\u001b[39;49;00m, { \u001b[33m'\u001b[39;49;00m\u001b[33mf\u001b[39;49;00m\u001b[33m'\u001b[39;49;00m: \u001b[33m'\u001b[39;49;00m\u001b[33mjson\u001b[39;49;00m\u001b[33m'\u001b[39;49;00m }, add_token=\u001b[34mFalse\u001b[39;49;00m) \u001b[37m# probe portal to find auth scheme\u001b[39;49;00m\n",
      "File \u001b[0;34mC:\\Program Files\\ArcGIS\\Pro\\bin\\Python\\envs\\arcgispro-py3\\Lib\\site-packages\\arcgis\\_impl\\connection.py\u001b[0m, in \u001b[0;32mpost\u001b[0m:\nLine \u001b[0;34m1131\u001b[0m:  resp = opener.open(url, data=encoded_postdata.encode())\n",
      "File \u001b[0;34mC:\\Program Files\\ArcGIS\\Pro\\bin\\Python\\envs\\arcgispro-py3\\Lib\\urllib\\request.py\u001b[0m, in \u001b[0;32mopen\u001b[0m:\nLine \u001b[0;34m526\u001b[0m:   response = \u001b[36mself\u001b[39;49;00m._open(req, data)\n",
      "File \u001b[0;34mC:\\Program Files\\ArcGIS\\Pro\\bin\\Python\\envs\\arcgispro-py3\\Lib\\urllib\\request.py\u001b[0m, in \u001b[0;32m_open\u001b[0m:\nLine \u001b[0;34m544\u001b[0m:   \u001b[33m'\u001b[39;49;00m\u001b[33m_open\u001b[39;49;00m\u001b[33m'\u001b[39;49;00m, req)\n",
      "File \u001b[0;34mC:\\Program Files\\ArcGIS\\Pro\\bin\\Python\\envs\\arcgispro-py3\\Lib\\urllib\\request.py\u001b[0m, in \u001b[0;32m_call_chain\u001b[0m:\nLine \u001b[0;34m504\u001b[0m:   result = func(*args)\n",
      "File \u001b[0;34mC:\\Program Files\\ArcGIS\\Pro\\bin\\Python\\envs\\arcgispro-py3\\Lib\\urllib\\request.py\u001b[0m, in \u001b[0;32mhttps_open\u001b[0m:\nLine \u001b[0;34m1361\u001b[0m:  context=\u001b[36mself\u001b[39;49;00m._context, check_hostname=\u001b[36mself\u001b[39;49;00m._check_hostname)\n",
      "File \u001b[0;34mC:\\Program Files\\ArcGIS\\Pro\\bin\\Python\\envs\\arcgispro-py3\\Lib\\urllib\\request.py\u001b[0m, in \u001b[0;32mdo_open\u001b[0m:\nLine \u001b[0;34m1320\u001b[0m:  \u001b[34mraise\u001b[39;49;00m URLError(err)\n",
      "\u001b[0;31mURLError\u001b[0m: <urlopen error Tunnel connection failed: 407 Proxy Authentication Required>\n\u001b[0;31m---------------------------------------------------------------------------\u001b[0m"
     ]
    }
   ],
   "source": [
    "print(\"Portal for ArcGIS as a built in user\")\n",
    "gis = GIS(\"https://portalname.domain.com/webadapter_name\", \"sharinguser\", \"password\")\n",
    "print(\"Logged in as: \" + gis.properties.user.username)"
   ]
  },
  {
   "cell_type": "code",
   "execution_count": null,
   "metadata": {},
   "outputs": [],
   "source": []
  }
 ],
 "metadata": {
  "kernelspec": {
   "display_name": "Python 3",
   "language": "python",
   "name": "python3"
  },
  "language_info": {
   "codemirror_mode": {
    "name": "ipython",
    "version": 3
   },
   "file_extension": ".py",
   "mimetype": "text/x-python",
   "name": "python",
   "nbconvert_exporter": "python",
   "pygments_lexer": "ipython3",
   "version": "3.8.3"
  }
 },
 "nbformat": 4,
 "nbformat_minor": 2
}
