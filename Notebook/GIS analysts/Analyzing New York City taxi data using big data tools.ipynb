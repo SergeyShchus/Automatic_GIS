{
 "cells": [
  {
   "cell_type": "code",
   "execution_count": 1,
   "metadata": {},
   "outputs": [
    {
     "data": {
      "text/html": [
       "<div class=\"item_container\" style=\"height: auto; overflow: hidden; border: 1px solid #cfcfcf; border-radius: 2px; background: #f6fafa; line-height: 1.21429em; padding: 10px;\">\n",
       "                    <div class=\"item_left\" style=\"width: 210px; float: left;\">\n",
       "                       <a href='https://www.arcgis.com/home/item.html?id=fc1e5ebb323a401b825742314d76d1db' target='_blank'>\n",
       "                        <img src='https://www.arcgis.com/sharing/rest//content/items/fc1e5ebb323a401b825742314d76d1db/info/thumbnail/ago_downloaded.png' class=\"itemThumbnail\">\n",
       "                       </a>\n",
       "                    </div>\n",
       "\n",
       "                    <div class=\"item_right\"     style=\"float: none; width: auto; overflow: hidden;\">\n",
       "                        <a href='https://www.arcgis.com/home/item.html?id=fc1e5ebb323a401b825742314d76d1db' target='_blank'><b>NYC taxi subset</b>\n",
       "                        </a>\n",
       "                        <br/><img src='https://www.arcgis.com/home/js/jsapi/esri/css/images/item_type_icons/featureshosted16.png' style=\"vertical-align:middle;\">Feature Layer Collection by api_data_owner\n",
       "                        <br/>Last Modified: май 17, 2019\n",
       "                        <br/>0 comments, 276 views\n",
       "                    </div>\n",
       "                </div>\n",
       "                "
      ],
      "text/plain": [
       "<Item title:\"NYC taxi subset\" type:Feature Layer Collection owner:api_data_owner>"
      ]
     },
     "execution_count": 1,
     "metadata": {},
     "output_type": "execute_result"
    }
   ],
   "source": [
    "from arcgis.gis import GIS\n",
    "\n",
    "ago_gis = GIS() # Connect to ArcGIS Online as an anonymous user\n",
    "search_subset = ago_gis.content.search(\"NYC_taxi_subset\", item_type = \"Feature Layer\")\n",
    "subset_item = search_subset[0]\n",
    "subset_item"
   ]
  },
  {
   "cell_type": "code",
   "execution_count": 4,
   "metadata": {},
   "outputs": [
    {
     "data": {
      "application/vnd.jupyter.widget-view+json": {
       "model_id": "0e2ef8fcd79149368173d6e8c76ad23e",
       "version_major": 2,
       "version_minor": 0
      },
      "text/plain": [
       "MapView(layout=Layout(height='400px', width='100%'))"
      ]
     },
     "metadata": {},
     "output_type": "display_data"
    },
    {
     "data": {
      "text/html": [
       "<div class=\"map-static-img-preview-d6413931-741c-4ced-8175-fdfbb808314c\"><img src=\"\"></img></div>"
      ],
      "text/plain": [
       "<IPython.core.display.HTML object>"
      ]
     },
     "metadata": {},
     "output_type": "display_data"
    }
   ],
   "source": [
    "subset_map = ago_gis.map(\"New York, NY\", zoomlevel=11)\n",
    "subset_map"
   ]
  },
  {
   "cell_type": "code",
   "execution_count": 5,
   "metadata": {},
   "outputs": [],
   "source": [
    "subset_map.add_layer(subset_item)"
   ]
  },
  {
   "cell_type": "code",
   "execution_count": 17,
   "metadata": {},
   "outputs": [
    {
     "data": {
      "text/html": [
       "<div>\n",
       "<style scoped>\n",
       "    .dataframe tbody tr th:only-of-type {\n",
       "        vertical-align: middle;\n",
       "    }\n",
       "\n",
       "    .dataframe tbody tr th {\n",
       "        vertical-align: top;\n",
       "    }\n",
       "\n",
       "    .dataframe thead th {\n",
       "        text-align: right;\n",
       "    }\n",
       "</style>\n",
       "<table border=\"1\" class=\"dataframe\">\n",
       "  <thead>\n",
       "    <tr style=\"text-align: right;\">\n",
       "      <th></th>\n",
       "      <th>VendorID</th>\n",
       "      <th>tpep_pickup_datetime</th>\n",
       "      <th>tpep_dropoff_datetime</th>\n",
       "      <th>passenger_count</th>\n",
       "      <th>trip_distance</th>\n",
       "      <th>pickup_longitude</th>\n",
       "      <th>pickup_latitude</th>\n",
       "      <th>RateCodeID</th>\n",
       "      <th>store_and_fwd_flag</th>\n",
       "      <th>dropoff_longitude</th>\n",
       "      <th>dropoff_latitude</th>\n",
       "      <th>payment_type</th>\n",
       "      <th>fare_amount</th>\n",
       "      <th>extra</th>\n",
       "      <th>mta_tax</th>\n",
       "      <th>tip_amount</th>\n",
       "      <th>tolls_amount</th>\n",
       "      <th>improvement_surcharge</th>\n",
       "      <th>total_amount</th>\n",
       "      <th>ObjectId</th>\n",
       "    </tr>\n",
       "  </thead>\n",
       "  <tbody>\n",
       "    <tr>\n",
       "      <th>0</th>\n",
       "      <td>2</td>\n",
       "      <td>2015-01-02 19:06:46</td>\n",
       "      <td>2015-01-02 19:11:14</td>\n",
       "      <td>1</td>\n",
       "      <td>0.82</td>\n",
       "      <td>-74.005997</td>\n",
       "      <td>40.735241</td>\n",
       "      <td>1</td>\n",
       "      <td>N</td>\n",
       "      <td>-74.009720</td>\n",
       "      <td>40.725990</td>\n",
       "      <td>1</td>\n",
       "      <td>5.0</td>\n",
       "      <td>1</td>\n",
       "      <td>0.5</td>\n",
       "      <td>1.2</td>\n",
       "      <td>0</td>\n",
       "      <td>0.3</td>\n",
       "      <td>8.0</td>\n",
       "      <td>1</td>\n",
       "    </tr>\n",
       "    <tr>\n",
       "      <th>1</th>\n",
       "      <td>2</td>\n",
       "      <td>2015-01-25 13:39:51</td>\n",
       "      <td>2015-01-26 13:24:58</td>\n",
       "      <td>6</td>\n",
       "      <td>5.62</td>\n",
       "      <td>-73.984688</td>\n",
       "      <td>40.748192</td>\n",
       "      <td>1</td>\n",
       "      <td>N</td>\n",
       "      <td>-74.016289</td>\n",
       "      <td>40.704849</td>\n",
       "      <td>2</td>\n",
       "      <td>19.5</td>\n",
       "      <td>0</td>\n",
       "      <td>0.5</td>\n",
       "      <td>0.0</td>\n",
       "      <td>0</td>\n",
       "      <td>0.3</td>\n",
       "      <td>20.3</td>\n",
       "      <td>2</td>\n",
       "    </tr>\n",
       "    <tr>\n",
       "      <th>2</th>\n",
       "      <td>2</td>\n",
       "      <td>2015-01-13 09:10:38</td>\n",
       "      <td>2015-01-13 09:19:40</td>\n",
       "      <td>1</td>\n",
       "      <td>1.99</td>\n",
       "      <td>-73.967827</td>\n",
       "      <td>40.801315</td>\n",
       "      <td>1</td>\n",
       "      <td>N</td>\n",
       "      <td>-73.959618</td>\n",
       "      <td>40.782703</td>\n",
       "      <td>2</td>\n",
       "      <td>9.0</td>\n",
       "      <td>0</td>\n",
       "      <td>0.5</td>\n",
       "      <td>0.0</td>\n",
       "      <td>0</td>\n",
       "      <td>0.3</td>\n",
       "      <td>9.8</td>\n",
       "      <td>3</td>\n",
       "    </tr>\n",
       "    <tr>\n",
       "      <th>3</th>\n",
       "      <td>1</td>\n",
       "      <td>2015-01-06 10:55:08</td>\n",
       "      <td>2015-01-06 11:05:48</td>\n",
       "      <td>1</td>\n",
       "      <td>1.60</td>\n",
       "      <td>-73.967560</td>\n",
       "      <td>40.801228</td>\n",
       "      <td>1</td>\n",
       "      <td>N</td>\n",
       "      <td>-73.952980</td>\n",
       "      <td>40.819118</td>\n",
       "      <td>2</td>\n",
       "      <td>9.0</td>\n",
       "      <td>0</td>\n",
       "      <td>0.5</td>\n",
       "      <td>0.0</td>\n",
       "      <td>0</td>\n",
       "      <td>0.3</td>\n",
       "      <td>9.8</td>\n",
       "      <td>4</td>\n",
       "    </tr>\n",
       "  </tbody>\n",
       "</table>\n",
       "</div>"
      ],
      "text/plain": [
       "   VendorID tpep_pickup_datetime tpep_dropoff_datetime  passenger_count  \\\n",
       "0         2  2015-01-02 19:06:46   2015-01-02 19:11:14                1   \n",
       "1         2  2015-01-25 13:39:51   2015-01-26 13:24:58                6   \n",
       "2         2  2015-01-13 09:10:38   2015-01-13 09:19:40                1   \n",
       "3         1  2015-01-06 10:55:08   2015-01-06 11:05:48                1   \n",
       "\n",
       "   trip_distance  pickup_longitude  pickup_latitude  RateCodeID  \\\n",
       "0           0.82        -74.005997        40.735241           1   \n",
       "1           5.62        -73.984688        40.748192           1   \n",
       "2           1.99        -73.967827        40.801315           1   \n",
       "3           1.60        -73.967560        40.801228           1   \n",
       "\n",
       "  store_and_fwd_flag  dropoff_longitude  dropoff_latitude  payment_type  \\\n",
       "0                  N         -74.009720         40.725990             1   \n",
       "1                  N         -74.016289         40.704849             2   \n",
       "2                  N         -73.959618         40.782703             2   \n",
       "3                  N         -73.952980         40.819118             2   \n",
       "\n",
       "   fare_amount  extra  mta_tax  tip_amount  tolls_amount  \\\n",
       "0          5.0      1      0.5         1.2             0   \n",
       "1         19.5      0      0.5         0.0             0   \n",
       "2          9.0      0      0.5         0.0             0   \n",
       "3          9.0      0      0.5         0.0             0   \n",
       "\n",
       "   improvement_surcharge  total_amount  ObjectId  \n",
       "0                    0.3           8.0         1  \n",
       "1                    0.3          20.3         2  \n",
       "2                    0.3           9.8         3  \n",
       "3                    0.3           9.8         4  "
      ]
     },
     "execution_count": 17,
     "metadata": {},
     "output_type": "execute_result"
    }
   ],
   "source": [
    "subset_feature_layer = subset_item.layers[0]\n",
    "\n",
    "# query the attribute information. Limit to first 5 rows.\n",
    "query_result = subset_feature_layer.query(where = 'OBJECTID < 5',\n",
    "                                          out_fields = \"*\", \n",
    "                                          returnGeometry = False)\n",
    "\n",
    "att_data_frame = query_result.sdf # get as a Pandas dataframe\n",
    "att_data_frame"
   ]
  },
  {
   "cell_type": "code",
   "execution_count": 18,
   "metadata": {},
   "outputs": [],
   "source": [
    "gis = GIS(\"https://pythonapi.playground.esri.com/portal\", \"arcgis_python\", \"amazing_arcgis_123\")"
   ]
  },
  {
   "cell_type": "code",
   "execution_count": 23,
   "metadata": {},
   "outputs": [],
   "source": [
    "import arcgis"
   ]
  },
  {
   "cell_type": "code",
   "execution_count": 24,
   "metadata": {},
   "outputs": [
    {
     "data": {
      "text/plain": [
       "True"
      ]
     },
     "execution_count": 24,
     "metadata": {},
     "output_type": "execute_result"
    }
   ],
   "source": [
    "arcgis.geoanalytics.is_supported()"
   ]
  },
  {
   "cell_type": "code",
   "execution_count": 25,
   "metadata": {},
   "outputs": [],
   "source": [
    "datastores = arcgis.geoanalytics.get_datastores()"
   ]
  },
  {
   "cell_type": "code",
   "execution_count": 26,
   "metadata": {},
   "outputs": [
    {
     "data": {
      "text/plain": [
       "[<Datastore title:\"/bigDataFileShares/NYC_taxi_data15\" type:\"bigDataFileShare\">,\n",
       " <Datastore title:\"/bigDataFileShares/all_hurricanes\" type:\"bigDataFileShare\">,\n",
       " <Datastore title:\"/bigDataFileShares/NYCdata\" type:\"bigDataFileShare\">,\n",
       " <Datastore title:\"/bigDataFileShares/hurricanes_1848_1900\" type:\"bigDataFileShare\">,\n",
       " <Datastore title:\"/bigDataFileShares/ServiceCallsOrleans\" type:\"bigDataFileShare\">,\n",
       " <Datastore title:\"/bigDataFileShares/hurricanes_dask_csv\" type:\"bigDataFileShare\">,\n",
       " <Datastore title:\"/bigDataFileShares/hurricanes_dask_shp\" type:\"bigDataFileShare\">]"
      ]
     },
     "execution_count": 26,
     "metadata": {},
     "output_type": "execute_result"
    }
   ],
   "source": [
    "bigdata_fileshares = datastores.search()\n",
    "bigdata_fileshares"
   ]
  },
  {
   "cell_type": "code",
   "execution_count": 32,
   "metadata": {},
   "outputs": [],
   "source": [
    "data_item = bigdata_fileshares[0]"
   ]
  },
  {
   "cell_type": "code",
   "execution_count": 33,
   "metadata": {},
   "outputs": [
    {
     "data": {
      "text/plain": [
       "{'datasets': [{'name': '2015',\n",
       "   'format': {'quoteChar': '\"',\n",
       "    'fieldDelimiter': ',',\n",
       "    'hasHeaderRow': True,\n",
       "    'encoding': 'UTF-8',\n",
       "    'recordTerminator': '\\n',\n",
       "    'type': 'delimited',\n",
       "    'extension': 'csv'},\n",
       "   'schema': {'fields': [{'name': 'VendorID',\n",
       "      'type': 'esriFieldTypeBigInteger'},\n",
       "     {'name': 'tpep_pickup_datetime', 'type': 'esriFieldTypeString'},\n",
       "     {'name': 'tpep_dropoff_datetime', 'type': 'esriFieldTypeString'},\n",
       "     {'name': 'passenger_count', 'type': 'esriFieldTypeBigInteger'},\n",
       "     {'name': 'trip_distance', 'type': 'esriFieldTypeDouble'},\n",
       "     {'name': 'pickup_longitude', 'type': 'esriFieldTypeDouble'},\n",
       "     {'name': 'pickup_latitude', 'type': 'esriFieldTypeDouble'},\n",
       "     {'name': 'RateCodeID', 'type': 'esriFieldTypeBigInteger'},\n",
       "     {'name': 'store_and_fwd_flag', 'type': 'esriFieldTypeString'},\n",
       "     {'name': 'dropoff_longitude', 'type': 'esriFieldTypeDouble'},\n",
       "     {'name': 'dropoff_latitude', 'type': 'esriFieldTypeDouble'},\n",
       "     {'name': 'payment_type', 'type': 'esriFieldTypeBigInteger'},\n",
       "     {'name': 'fare_amount', 'type': 'esriFieldTypeDouble'},\n",
       "     {'name': 'extra', 'type': 'esriFieldTypeDouble'},\n",
       "     {'name': 'mta_tax', 'type': 'esriFieldTypeDouble'},\n",
       "     {'name': 'tip_amount', 'type': 'esriFieldTypeDouble'},\n",
       "     {'name': 'tolls_amount', 'type': 'esriFieldTypeDouble'},\n",
       "     {'name': 'improvement_surcharge', 'type': 'esriFieldTypeDouble'},\n",
       "     {'name': 'total_amount', 'type': 'esriFieldTypeDouble'}]},\n",
       "   'geometry': {'geometryType': 'esriGeometryPoint',\n",
       "    'spatialReference': {'wkid': 4326},\n",
       "    'fields': [{'name': 'pickup_longitude', 'formats': ['x']},\n",
       "     {'name': 'pickup_latitude', 'formats': ['y']}]},\n",
       "   'time': {'timeType': 'instant',\n",
       "    'timeReference': {'timeZone': 'UTC'},\n",
       "    'fields': [{'name': 'tpep_pickup_datetime',\n",
       "      'formats': ['yyyy-MM-dd HH:mm:ss']}]}}]}"
      ]
     },
     "execution_count": 33,
     "metadata": {},
     "output_type": "execute_result"
    }
   ],
   "source": [
    "data_item.manifest"
   ]
  },
  {
   "cell_type": "code",
   "execution_count": 34,
   "metadata": {},
   "outputs": [
    {
     "data": {
      "text/plain": [
       "[<Item title:\"bigDataFileShares_all_hurricanes\" type:Big Data File Share owner:api_data_owner>,\n",
       " <Item title:\"bigDataFileShares_hurricanes_dask_csv\" type:Big Data File Share owner:atma.mani>,\n",
       " <Item title:\"bigDataFileShares_hurricanes_dask_shp\" type:Big Data File Share owner:atma.mani>,\n",
       " <Item title:\"bigDataFileShares_ServiceCallsOrleans\" type:Big Data File Share owner:portaladmin>,\n",
       " <Item title:\"bigDataFileShares_NYC_taxi_data15\" type:Big Data File Share owner:api_data_owner>]"
      ]
     },
     "execution_count": 34,
     "metadata": {},
     "output_type": "execute_result"
    }
   ],
   "source": [
    "search_result = gis.content.search(\"\", item_type = \"big data file share\")\n",
    "search_result"
   ]
  },
  {
   "cell_type": "code",
   "execution_count": 35,
   "metadata": {},
   "outputs": [
    {
     "data": {
      "text/html": [
       "<div class=\"item_container\" style=\"height: auto; overflow: hidden; border: 1px solid #cfcfcf; border-radius: 2px; background: #f6fafa; line-height: 1.21429em; padding: 10px;\">\n",
       "                    <div class=\"item_left\" style=\"width: 210px; float: left;\">\n",
       "                       <a href='https://pythonapi.playground.esri.com/portal/home/item.html?id=f1b1003b6210461f9dfb8f4f96c84577' target='_blank'>\n",
       "                        <img src='https://pythonapi.playground.esri.com/portal/portalimages/desktopapp.png' class=\"itemThumbnail\">\n",
       "                       </a>\n",
       "                    </div>\n",
       "\n",
       "                    <div class=\"item_right\"     style=\"float: none; width: auto; overflow: hidden;\">\n",
       "                        <a href='https://pythonapi.playground.esri.com/portal/home/item.html?id=f1b1003b6210461f9dfb8f4f96c84577' target='_blank'><b>bigDataFileShares_hurricanes_dask_shp</b>\n",
       "                        </a>\n",
       "                        <br/><img src='https://pythonapi.playground.esri.com/portal/home/js/jsapi/esri/css/images/item_type_icons/layers16.png' style=\"vertical-align:middle;\">Big Data File Share by atma.mani\n",
       "                        <br/>Last Modified: октябрь 09, 2018\n",
       "                        <br/>0 comments, 0 views\n",
       "                    </div>\n",
       "                </div>\n",
       "                "
      ],
      "text/plain": [
       "<Item title:\"bigDataFileShares_hurricanes_dask_shp\" type:Big Data File Share owner:atma.mani>"
      ]
     },
     "execution_count": 35,
     "metadata": {},
     "output_type": "execute_result"
    }
   ],
   "source": [
    "data_item = search_result[2]\n",
    "data_item"
   ]
  },
  {
   "cell_type": "code",
   "execution_count": 36,
   "metadata": {},
   "outputs": [
    {
     "data": {
      "text/plain": [
       "[<Layer url:\"https://pythonapi.playground.esri.com/ga/rest/services/DataStoreCatalogs/bigDataFileShares_hurricanes_dask_shp/BigDataCatalogServer/hurricanes_cleaned_shp\">]"
      ]
     },
     "execution_count": 36,
     "metadata": {},
     "output_type": "execute_result"
    }
   ],
   "source": [
    "data_item.layers"
   ]
  },
  {
   "cell_type": "code",
   "execution_count": 37,
   "metadata": {},
   "outputs": [
    {
     "data": {
      "text/plain": [
       "<Layer url:\"https://pythonapi.playground.esri.com/ga/rest/services/DataStoreCatalogs/bigDataFileShares_hurricanes_dask_shp/BigDataCatalogServer/hurricanes_cleaned_shp\">"
      ]
     },
     "execution_count": 37,
     "metadata": {},
     "output_type": "execute_result"
    }
   ],
   "source": [
    "year_2015 = data_item.layers[0]\n",
    "year_2015"
   ]
  },
  {
   "cell_type": "code",
   "execution_count": 38,
   "metadata": {},
   "outputs": [],
   "source": [
    "from arcgis.geoanalytics.summarize_data import aggregate_points"
   ]
  },
  {
   "cell_type": "code",
   "execution_count": 39,
   "metadata": {},
   "outputs": [
    {
     "data": {
      "text/plain": [
       "{'wkid': 4326}"
      ]
     },
     "execution_count": 39,
     "metadata": {},
     "output_type": "execute_result"
    }
   ],
   "source": [
    "year_2015.properties['spatialReference']"
   ]
  },
  {
   "cell_type": "code",
   "execution_count": 40,
   "metadata": {},
   "outputs": [],
   "source": [
    "arcgis.env.process_spatial_reference=3857"
   ]
  },
  {
   "cell_type": "code",
   "execution_count": 41,
   "metadata": {},
   "outputs": [],
   "source": [
    "arcgis.env.verbose = True"
   ]
  },
  {
   "cell_type": "code",
   "execution_count": 42,
   "metadata": {},
   "outputs": [
    {
     "name": "stdout",
     "output_type": "stream",
     "text": [
      "Submitted.\n",
      "Executing...\n",
      "Executing (AggregatePoints): AggregatePoints \"Feature Set\" Square 1 Kilometers # # # # # # # \"{\"serviceProperties\": {\"name\": \"Aggregate_Points_Analysis_ANPWK0\", \"serviceUrl\": \"https://pythonapi.playground.esri.com/server/rest/services/Hosted/Aggregate_Points_Analysis_ANPWK0/FeatureServer\"}, \"itemProperties\": {\"itemId\": \"c4ebc161a8734824beb9e19e4d8e086a\"}}\" \"{\"defaultAggregationStyles\": false, \"processSR\": {\"wkid\": 3857}}\"\n",
      "Start Time: Thu Sep 17 19:32:46 2020\n"
     ]
    },
    {
     "name": "stderr",
     "output_type": "stream",
     "text": [
      "Attaching log redirect\n",
      "Log level set to DEBUG\n"
     ]
    },
    {
     "name": "stdout",
     "output_type": "stream",
     "text": [
      "Attaching log redirect\n",
      "Log level set to DEBUG\n",
      "[DEBUG|19:32:47] Current Service Environment: GPServiceEnvironment(jb2b73822a99041ad847f2d2d2ead8ee4,/gisdata/arcgisserver/directories/arcgisjobs/system/geoanalyticstools_gpserver/jb2b73822a99041ad847f2d2d2ead8ee4,Some(GPServiceRequest(Some(udzFXAAkTSCmtkvYGJmr6X4ufLBT8e-3zmBYaNQ68a_vhKIdG6ZJXXHgf8U6d_rzvUJ9f2FjDrjSTJY4QVw1TuaGyRD4d7FaMfU_KQ4-Wfm75Vh1UoI03zy2gdmDEVkx),None,Some(http))),System/GeoAnalyticsTools,GPServer,Map(jobsVirtualDirectory -> /rest/directories/arcgisjobs, jobsDirectory -> /gisdata/arcgisserver/directories/arcgisjobs, virtualOutputDir -> /rest/directories/arcgisoutput, showMessages -> Info, outputDir -> /gisdata/arcgisserver/directories/arcgisoutput, javaHeapSize -> 2048, maximumRecords -> 1000, toolbox -> ${AGSSERVER}/ArcToolBox/Services/GeoAnalytics Tools.tbx, executionType -> Asynchronous, renewTokens -> true, _debugModeEnabled -> true))\n",
      "[DEBUG|19:32:47] Running on 172.31.22.24\n",
      "[DEBUG|19:32:48] Computed Spark resources in 97ms\n",
      "[DEBUG|19:32:48] Acquiring GAContext\n",
      "[DEBUG|19:32:48] Cached context is null, creating\n",
      "[DEBUG|19:32:48] Creating new context\n",
      "[DEBUG|19:32:48] Destroying any running contexts\n",
      "[DEBUG|19:32:48] Adding authentication info to SparkContext\n",
      "[DEBUG|19:32:48] \n",
      " spark.cores.max = 6,\n",
      " spark.executor.memory = 25100m\n",
      " spark.dynamicAllocation.minExecutors = None\n",
      " spark.authenticate = Some(true)\n",
      " spark.ui.enabled = None\n",
      " spark.fileserver.port = Some(56540)\n",
      " spark.driver.port = Some(56541)\n",
      " spark.executor.port = Some(56542)\n",
      " spark.blockManager.port = Some(56543)\n",
      "        \n",
      "[DEBUG|19:32:49] Initialized Spark 2.2.0\n",
      "[DEBUG|19:32:49] Attaching progress listener to SparkContext\n",
      "[DEBUG|19:32:49] Using status file '/gisdata/arcgisserver/directories/arcgisjobs/system/geoanalyticstools_gpserver/jb2b73822a99041ad847f2d2d2ead8ee4/status.dat' to track cancel\n",
      "[DEBUG|19:32:49] Executing function 'AggregatePoints'\n",
      "[DEBUG|19:32:49] Client supplied query filter: fields=*;where=;extent=;interval=;spatial-filters=\n",
      "Using URL based GPRecordSet param: https://pythonapi.playground.esri.com/ga/rest/services/DataStoreCatalogs/bigDataFileShares_hurricanes_dask_shp/BigDataCatalogServer/hurricanes_cleaned_shp\n",
      "[DEBUG|19:32:49] Detected catalog server path (share=bigDataFileShares_hurricanes_dask_shp,dataset=hurricanes_cleaned_shp)\n",
      "[DEBUG|19:32:49] Generating new token to access the hosting server from this federated server\n",
      "[DEBUG|19:32:49] Found data store ID: 152253fc-bd92-4e38-b82a-b56396126dc8\n",
      "[DEBUG|19:32:49] Using input handler: ManifestDataStoreLayerInputHandler\n",
      "[DEBUG|19:32:49] Loading data store factory\n",
      "[DEBUG|19:32:49] Attempting to load data store factory for '/bigDataFileShares/hurricanes_dask_shp' of type 'fileShare'\n"
     ]
    },
    {
     "name": "stderr",
     "output_type": "stream",
     "text": [
      "{\"messageCode\":\"BD_101042\",\"message\":\"Unable to access file share.  Please verify that your ArcGIS Server user account has access to the file share.\"}\n",
      "Detaching log redirect\n",
      "Failed to execute (AggregatePoints).\n",
      "Failed.\n"
     ]
    },
    {
     "name": "stdout",
     "output_type": "stream",
     "text": [
      "[DEBUG|19:32:49] Loading data store using [com.esri.arcgis.gae.ags.datastore.manifest.ManifestDataStoreFactory]\n",
      "[DEBUG|19:32:49] Initializing file system 'file'\n",
      "{\"messageCode\":\"BD_101042\",\"message\":\"Unable to access file share.  Please verify that your ArcGIS Server user account has access to the file share.\"}\n",
      "[ERROR|19:32:49] Job 'jb2b73822a99041ad847f2d2d2ead8ee4' for tool 'AggregatePoints' failed: Unable to access file share.  Please verify that your ArcGIS Server user account has access to the file share. Path does not exist or is not accessible: file-592c5763-117e-485e-9679-f0a9b700d84b:/mnt/172.31.22.189/gisdata/geoanalytics/hurricanes_cleaned. \n",
      "[DEBUG|19:32:49] Job 'jb2b73822a99041ad847f2d2d2ead8ee4' for tool 'AggregatePoints' failed: Unable to access file share.  Please verify that your ArcGIS Server user account has access to the file share. Path does not exist or is not accessible: file-592c5763-117e-485e-9679-f0a9b700d84b:/mnt/172.31.22.189/gisdata/geoanalytics/hurricanes_cleaned. \n",
      "Unable to access file share.  Please verify that your ArcGIS Server user account has access to the file share.\n",
      "[DEBUG]com.esri.arcgis.gae.l10n.GenericLocalizableException: Unable to access file share.  Please verify that your ArcGIS Server user account has access to the file share.\n",
      "\tat com.esri.arcgis.gae.l10n.LocalizableMessage.asException(LocalizableMessage.scala:45)\n",
      "\tat com.esri.arcgis.gae.ags.datastore.manifest.ManifestDataStoreFactory$$anonfun$loadDataStore$2.apply(ManifestDataStoreFactory.scala:63)\n",
      "\tat com.esri.arcgis.gae.ags.datastore.manifest.ManifestDataStoreFactory$$anonfun$loadDataStore$2.apply(ManifestDataStoreFactory.scala:42)\n",
      "\tat scala.util.Try$.apply(Try.scala:192)\n",
      "\tat com.esri.arcgis.gae.ags.datastore.manifest.ManifestDataStoreFactory$.loadDataStore(ManifestDataStoreFactory.scala:42)\n",
      "\tat com.esri.arcgis.gae.ags.datastore.manifest.ManifestDataStoreFactory$$anonfun$loadDataStore$1.apply(ManifestDataStoreFactory.scala:39)\n",
      "\tat com.esri.arcgis.gae.ags.datastore.manifest.ManifestDataStoreFactory$$anonfun$loadDataStore$1.apply(ManifestDataStoreFactory.scala:32)\n",
      "\tat scala.util.Try$.apply(Try.scala:192)\n",
      "\tat com.esri.arcgis.gae.ags.datastore.manifest.ManifestDataStoreFactory$.loadDataStore(ManifestDataStoreFactory.scala:32)\n",
      "\tat com.esri.arcgis.gae.ags.layer.input.ManifestDataStoreLayerInputHandler.readInternal(ManifestDataStoreLayerInputHandler.scala:26)\n",
      "\tat com.esri.arcgis.gae.ags.layer.input.GPLayerInputHandler$$anonfun$read$1.apply(GPLayerInputHandler.scala:26)\n",
      "\tat com.esri.arcgis.gae.ags.layer.input.GPLayerInputHandler$$anonfun$read$1.apply(GPLayerInputHandler.scala:25)\n",
      "\tat scala.util.Try$.apply(Try.scala:192)\n",
      "\tat com.esri.arcgis.gae.ags.layer.input.GPLayerInputHandler.read(GPLayerInputHandler.scala:25)\n",
      "\tat com.esri.arcgis.gae.ags.layer.input.GPLayerInputHandler$.read(GPLayerInputHandler.scala:146)\n",
      "\tat com.esri.arcgis.gae.gp.adapt.param.LayerInputConverter.read(LayerInputConverter.scala:82)\n",
      "\tat com.esri.arcgis.gae.gp.adapt.param.GPParameterAdapter$$anon$1.readParam(GPParameterAdapter.scala:36)\n",
      "\tat com.esri.arcgis.gae.fn.api.v1.GAFunctionArgs$$anonfun$1.applyOrElse(GAFunctionArgs.scala:12)\n",
      "\tat com.esri.arcgis.gae.fn.api.v1.GAFunctionArgs$$anonfun$1.applyOrElse(GAFunctionArgs.scala:11)\n",
      "\tat scala.PartialFunction$$anonfun$runWith$1.apply(PartialFunction.scala:141)\n",
      "\tat scala.PartialFunction$$anonfun$runWith$1.apply(PartialFunction.scala:140)\n",
      "\tat scala.collection.immutable.List.foreach(List.scala:381)\n",
      "\tat scala.collection.TraversableLike$class.collect(TraversableLike.scala:271)\n",
      "\tat scala.collection.immutable.List.collect(List.scala:315)\n",
      "\tat com.esri.arcgis.gae.fn.api.v1.GAFunctionArgs.<init>(GAFunctionArgs.scala:11)\n",
      "\tat com.esri.arcgis.gae.fn.api.v1.GAFunctionArgs$.apply(GAFunctionArgs.scala:58)\n",
      "\tat com.esri.arcgis.gae.fn.api.v1.GAFunction$class.executeFunction(GAFunction.scala:20)\n",
      "\tat com.esri.arcgis.gae.fn.FnAggregatePoints$.executeFunction(FnAggregatePoints.scala:17)\n",
      "\tat com.esri.arcgis.gae.gp.GPToGAFunctionAdapter$$anonfun$execute$1$$anonfun$apply$mcV$sp$1.apply$mcV$sp(GPToGAFunctionAdapter.scala:139)\n",
      "\tat com.esri.arcgis.gae.gp.GPToGAFunctionAdapter$$anonfun$execute$1$$anonfun$apply$mcV$sp$1.apply(GPToGAFunctionAdapter.scala:139)\n",
      "\tat com.esri.arcgis.gae.gp.GPToGAFunctionAdapter$$anonfun$execute$1$$anonfun$apply$mcV$sp$1.apply(GPToGAFunctionAdapter.scala:139)\n",
      "\tat com.esri.arcgis.st.util.HasScope$.withScope(HasScope.scala:68)\n",
      "\tat com.esri.arcgis.gae.gp.GPToGAFunctionAdapter$$anonfun$execute$1.apply$mcV$sp(GPToGAFunctionAdapter.scala:138)\n",
      "\tat com.esri.arcgis.gae.gp.GPToGAFunctionAdapter$$anonfun$execute$1.apply(GPToGAFunctionAdapter.scala:64)\n",
      "\tat com.esri.arcgis.gae.gp.GPToGAFunctionAdapter$$anonfun$execute$1.apply(GPToGAFunctionAdapter.scala:64)\n",
      "\tat com.esri.arcgis.st.util.HasScope$.withScope(HasScope.scala:68)\n",
      "\tat com.esri.arcgis.gae.gp.GPToGAFunctionAdapter.execute(GPToGAFunctionAdapter.scala:64)\n",
      "\tat sun.reflect.NativeMethodAccessorImpl.invoke0(Native Method)\n",
      "\tat sun.reflect.NativeMethodAccessorImpl.invoke(NativeMethodAccessorImpl.java:62)\n",
      "\tat sun.reflect.DelegatingMethodAccessorImpl.invoke(DelegatingMethodAccessorImpl.java:43)\n",
      "\tat java.lang.reflect.Method.invoke(Method.java:498)\n",
      "\tat com.esri.arcgis.interop.NativeObjRef.nativeVtblInvokeNative(Native Method)\n",
      "\tat com.esri.arcgis.interop.NativeObjRef.nativeVtblInvoke(Unknown Source)\n",
      "\tat com.esri.arcgis.interop.NativeObjRef.invoke(Unknown Source)\n",
      "\tat com.esri.arcgis.interop.Dispatch.vtblInvoke(Unknown Source)\n",
      "\tat com.esri.arcgis.system.IRequestHandlerProxy.handleStringRequest(Unknown Source)\n",
      "\tat com.esri.arcgis.discovery.servicelib.impl.SOThread.a(SOThread.java:1044)\n",
      "\tat com.esri.arcgis.discovery.servicelib.impl.SOThread.a(SOThread.java:770)\n",
      "\tat com.esri.arcgis.discovery.servicelib.impl.SOThread.run(SOThread.java:492)\n",
      "Caused by: java.io.IOException: Path does not exist or is not accessible: file-592c5763-117e-485e-9679-f0a9b700d84b:/mnt/172.31.22.189/gisdata/geoanalytics/hurricanes_cleaned\n",
      "\tat com.esri.arcgis.st.io.fs.FileSystemDataSource.verifyAccess(FileSystemDataSource.scala:62)\n",
      "\tat com.esri.arcgis.st.io.fs.FileSystemDataSource.<init>(FileSystemDataSource.scala:35)\n",
      "\tat com.esri.arcgis.gae.ags.datastore.manifest.FileShareProvider.load(ManifestFileSystemProvider.scala:25)\n",
      "\tat com.esri.arcgis.gae.ags.datastore.manifest.ManifestDataStoreFactory$$anonfun$getDataStore$1.apply(ManifestDataStoreFactory.scala:23)\n",
      "\tat com.esri.arcgis.gae.ags.datastore.manifest.ManifestDataStoreFactory$$anonfun$getDataStore$1.apply(ManifestDataStoreFactory.scala:20)\n",
      "\tat scala.util.Try$.apply(Try.scala:192)\n",
      "\tat com.esri.arcgis.gae.ags.datastore.manifest.ManifestDataStoreFactory.getDataStore(ManifestDataStoreFactory.scala:20)\n",
      "\tat com.esri.arcgis.gae.ags.datastore.manifest.ManifestDataStoreFactory$$anonfun$loadDataStore$2.apply(ManifestDataStoreFactory.scala:56)\n",
      "\t... 47 more\n",
      "\n",
      "[DEBUG|19:32:49] Running cleanup tasks for conditions (Error,Complete)\n",
      "[DEBUG|19:32:49] Running cleanup task [? @ DebugUtil.scala:52].\n",
      "Detaching log redirect\n",
      "Failed to execute (AggregatePoints).\n",
      "Failed at Thu Sep 17 19:32:49 2020 (Elapsed Time: 3.10 seconds)\n",
      "Failed.\n"
     ]
    },
    {
     "ename": "Exception",
     "evalue": "Job failed.",
     "output_type": "error",
     "traceback": [
      "\u001b[1;31m---------------------------------------------------------------------------\u001b[0m",
      "\u001b[1;31mException\u001b[0m                                 Traceback (most recent call last)",
      "\u001b[1;32m<ipython-input-42-7421ff9fc5b7>\u001b[0m in \u001b[0;36m<module>\u001b[1;34m\u001b[0m\n\u001b[1;32m----> 1\u001b[1;33m agg_result = aggregate_points(year_2015, \n\u001b[0m\u001b[0;32m      2\u001b[0m                               \u001b[0mbin_type\u001b[0m \u001b[1;33m=\u001b[0m \u001b[1;34m'square'\u001b[0m\u001b[1;33m,\u001b[0m\u001b[1;33m\u001b[0m\u001b[1;33m\u001b[0m\u001b[0m\n\u001b[0;32m      3\u001b[0m                               \u001b[0mbin_size\u001b[0m\u001b[1;33m=\u001b[0m\u001b[1;36m1\u001b[0m\u001b[1;33m,\u001b[0m\u001b[1;33m\u001b[0m\u001b[1;33m\u001b[0m\u001b[0m\n\u001b[0;32m      4\u001b[0m                               bin_size_unit='Kilometers')\n",
      "\u001b[1;32m~\\anaconda3\\lib\\site-packages\\arcgis\\geoanalytics\\summarize_data.py\u001b[0m in \u001b[0;36maggregate_points\u001b[1;34m(point_layer, bin_type, bin_size, bin_size_unit, polygon_layer, time_step_interval, time_step_interval_unit, time_step_repeat_interval, time_step_repeat_interval_unit, time_step_reference, summary_fields, output_name, gis, future, context)\u001b[0m\n\u001b[0;32m    482\u001b[0m             \u001b[0mgpjob\u001b[0m \u001b[1;33m=\u001b[0m \u001b[0m_execute_gp_tool\u001b[0m\u001b[1;33m(\u001b[0m\u001b[0mgis\u001b[0m\u001b[1;33m,\u001b[0m \u001b[1;34m\"AggregatePoints\"\u001b[0m\u001b[1;33m,\u001b[0m \u001b[0mparams\u001b[0m\u001b[1;33m,\u001b[0m \u001b[0mparam_db\u001b[0m\u001b[1;33m,\u001b[0m \u001b[0mreturn_values\u001b[0m\u001b[1;33m,\u001b[0m \u001b[0m_use_async\u001b[0m\u001b[1;33m,\u001b[0m \u001b[0murl\u001b[0m\u001b[1;33m,\u001b[0m \u001b[1;32mTrue\u001b[0m\u001b[1;33m,\u001b[0m \u001b[0mfuture\u001b[0m\u001b[1;33m=\u001b[0m\u001b[0mfuture\u001b[0m\u001b[1;33m)\u001b[0m\u001b[1;33m\u001b[0m\u001b[1;33m\u001b[0m\u001b[0m\n\u001b[0;32m    483\u001b[0m             \u001b[1;32mreturn\u001b[0m \u001b[0mGAJob\u001b[0m\u001b[1;33m(\u001b[0m\u001b[0mgpjob\u001b[0m\u001b[1;33m=\u001b[0m\u001b[0mgpjob\u001b[0m\u001b[1;33m,\u001b[0m \u001b[0mreturn_service\u001b[0m\u001b[1;33m=\u001b[0m\u001b[0moutput_service\u001b[0m\u001b[1;33m)\u001b[0m\u001b[1;33m\u001b[0m\u001b[1;33m\u001b[0m\u001b[0m\n\u001b[1;32m--> 484\u001b[1;33m         \u001b[0m_execute_gp_tool\u001b[0m\u001b[1;33m(\u001b[0m\u001b[0mgis\u001b[0m\u001b[1;33m,\u001b[0m \u001b[1;34m\"AggregatePoints\"\u001b[0m\u001b[1;33m,\u001b[0m \u001b[0mparams\u001b[0m\u001b[1;33m,\u001b[0m \u001b[0mparam_db\u001b[0m\u001b[1;33m,\u001b[0m \u001b[0mreturn_values\u001b[0m\u001b[1;33m,\u001b[0m \u001b[0m_use_async\u001b[0m\u001b[1;33m,\u001b[0m \u001b[0murl\u001b[0m\u001b[1;33m,\u001b[0m \u001b[1;32mTrue\u001b[0m\u001b[1;33m,\u001b[0m \u001b[0mfuture\u001b[0m\u001b[1;33m=\u001b[0m\u001b[0mfuture\u001b[0m\u001b[1;33m)\u001b[0m\u001b[1;33m\u001b[0m\u001b[1;33m\u001b[0m\u001b[0m\n\u001b[0m\u001b[0;32m    485\u001b[0m         \u001b[1;32mreturn\u001b[0m \u001b[0moutput_service\u001b[0m\u001b[1;33m\u001b[0m\u001b[1;33m\u001b[0m\u001b[0m\n\u001b[0;32m    486\u001b[0m     \u001b[1;32mexcept\u001b[0m\u001b[1;33m:\u001b[0m\u001b[1;33m\u001b[0m\u001b[1;33m\u001b[0m\u001b[0m\n",
      "\u001b[1;32m~\\anaconda3\\lib\\site-packages\\arcgis\\geoprocessing\\_support.py\u001b[0m in \u001b[0;36m_execute_gp_tool\u001b[1;34m(gis, task_name, params, param_db, return_values, use_async, url, webtool, add_token, return_messages, future)\u001b[0m\n\u001b[0;32m    396\u001b[0m             \u001b[0mgpjob\u001b[0m \u001b[1;33m=\u001b[0m \u001b[0mGPJob\u001b[0m\u001b[1;33m(\u001b[0m\u001b[0mfuture\u001b[0m\u001b[1;33m=\u001b[0m\u001b[0mfuture\u001b[0m\u001b[1;33m,\u001b[0m \u001b[0mgptool\u001b[0m\u001b[1;33m=\u001b[0m\u001b[0mgptool\u001b[0m\u001b[1;33m,\u001b[0m \u001b[0mjobid\u001b[0m\u001b[1;33m=\u001b[0m\u001b[0mjob_id\u001b[0m\u001b[1;33m,\u001b[0m \u001b[0mtask_url\u001b[0m\u001b[1;33m=\u001b[0m\u001b[0mtask_url\u001b[0m\u001b[1;33m,\u001b[0m \u001b[0mgis\u001b[0m\u001b[1;33m=\u001b[0m\u001b[0mgptool\u001b[0m\u001b[1;33m.\u001b[0m\u001b[0m_gis\u001b[0m\u001b[1;33m,\u001b[0m \u001b[0mnotify\u001b[0m\u001b[1;33m=\u001b[0m\u001b[0marcgis\u001b[0m\u001b[1;33m.\u001b[0m\u001b[0menv\u001b[0m\u001b[1;33m.\u001b[0m\u001b[0mverbose\u001b[0m\u001b[1;33m)\u001b[0m\u001b[1;33m\u001b[0m\u001b[1;33m\u001b[0m\u001b[0m\n\u001b[0;32m    397\u001b[0m             \u001b[1;32mreturn\u001b[0m \u001b[0mgpjob\u001b[0m\u001b[1;33m\u001b[0m\u001b[1;33m\u001b[0m\u001b[0m\n\u001b[1;32m--> 398\u001b[1;33m         \u001b[0mjob_info\u001b[0m \u001b[1;33m=\u001b[0m \u001b[0m_analysis_job_status\u001b[0m\u001b[1;33m(\u001b[0m\u001b[0mgptool\u001b[0m\u001b[1;33m,\u001b[0m \u001b[0mtask_url\u001b[0m\u001b[1;33m,\u001b[0m \u001b[0mjob_info\u001b[0m\u001b[1;33m)\u001b[0m\u001b[1;33m\u001b[0m\u001b[1;33m\u001b[0m\u001b[0m\n\u001b[0m\u001b[0;32m    399\u001b[0m         \u001b[0mresp\u001b[0m \u001b[1;33m=\u001b[0m \u001b[0m_analysis_job_results\u001b[0m\u001b[1;33m(\u001b[0m\u001b[0mgptool\u001b[0m\u001b[1;33m,\u001b[0m \u001b[0mtask_url\u001b[0m\u001b[1;33m,\u001b[0m \u001b[0mjob_info\u001b[0m\u001b[1;33m,\u001b[0m \u001b[0mjob_id\u001b[0m\u001b[1;33m)\u001b[0m\u001b[1;33m\u001b[0m\u001b[1;33m\u001b[0m\u001b[0m\n\u001b[0;32m    400\u001b[0m \u001b[1;33m\u001b[0m\u001b[0m\n",
      "\u001b[1;32m~\\anaconda3\\lib\\site-packages\\arcgis\\geoprocessing\\_support.py\u001b[0m in \u001b[0;36m_analysis_job_status\u001b[1;34m(gptool, task_url, job_info)\u001b[0m\n\u001b[0;32m    229\u001b[0m \u001b[1;33m\u001b[0m\u001b[0m\n\u001b[0;32m    230\u001b[0m                     \u001b[1;32mif\u001b[0m \u001b[0mjob_response\u001b[0m\u001b[1;33m.\u001b[0m\u001b[0mget\u001b[0m\u001b[1;33m(\u001b[0m\u001b[1;34m\"jobStatus\"\u001b[0m\u001b[1;33m)\u001b[0m \u001b[1;33m==\u001b[0m \u001b[1;34m\"esriJobFailed\"\u001b[0m\u001b[1;33m:\u001b[0m\u001b[1;33m\u001b[0m\u001b[1;33m\u001b[0m\u001b[0m\n\u001b[1;32m--> 231\u001b[1;33m                         \u001b[1;32mraise\u001b[0m \u001b[0mException\u001b[0m\u001b[1;33m(\u001b[0m\u001b[1;34m\"Job failed.\"\u001b[0m\u001b[1;33m)\u001b[0m\u001b[1;33m\u001b[0m\u001b[1;33m\u001b[0m\u001b[0m\n\u001b[0m\u001b[0;32m    232\u001b[0m                     \u001b[1;32melif\u001b[0m \u001b[0mjob_response\u001b[0m\u001b[1;33m.\u001b[0m\u001b[0mget\u001b[0m\u001b[1;33m(\u001b[0m\u001b[1;34m\"jobStatus\"\u001b[0m\u001b[1;33m)\u001b[0m \u001b[1;33m==\u001b[0m \u001b[1;34m\"esriJobCancelled\"\u001b[0m\u001b[1;33m:\u001b[0m\u001b[1;33m\u001b[0m\u001b[1;33m\u001b[0m\u001b[0m\n\u001b[0;32m    233\u001b[0m                         \u001b[1;32mraise\u001b[0m \u001b[0mException\u001b[0m\u001b[1;33m(\u001b[0m\u001b[1;34m\"Job cancelled.\"\u001b[0m\u001b[1;33m)\u001b[0m\u001b[1;33m\u001b[0m\u001b[1;33m\u001b[0m\u001b[0m\n",
      "\u001b[1;31mException\u001b[0m: Job failed."
     ]
    }
   ],
   "source": [
    "agg_result = aggregate_points(year_2015, \n",
    "                              bin_type = 'square',\n",
    "                              bin_size=1, \n",
    "                              bin_size_unit='Kilometers')"
   ]
  },
  {
   "cell_type": "code",
   "execution_count": null,
   "metadata": {},
   "outputs": [],
   "source": []
  }
 ],
 "metadata": {
  "kernelspec": {
   "display_name": "Python 3",
   "language": "python",
   "name": "python3"
  },
  "language_info": {
   "codemirror_mode": {
    "name": "ipython",
    "version": 3
   },
   "file_extension": ".py",
   "mimetype": "text/x-python",
   "name": "python",
   "nbconvert_exporter": "python",
   "pygments_lexer": "ipython3",
   "version": "3.8.3"
  }
 },
 "nbformat": 4,
 "nbformat_minor": 4
}
