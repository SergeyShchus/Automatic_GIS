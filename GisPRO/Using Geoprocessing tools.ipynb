{
 "cells": [
  {
   "cell_type": "code",
   "execution_count": 1,
   "metadata": {},
   "outputs": [],
   "source": [
    "from arcgis.gis import GIS\n",
    "from arcgis.geocoding import geocode\n",
    "from IPython.display import display"
   ]
  },
  {
   "cell_type": "code",
   "execution_count": 13,
   "metadata": {},
   "outputs": [
    {
     "data": {
      "application/vnd.jupyter.widget-view+json": {
       "model_id": "830d279c23784c13a8d093d0c14c8b21",
       "version_major": 2,
       "version_minor": 0
      },
      "text/plain": [
       "MapView(layout=Layout(height='400px', width='100%'))"
      ]
     },
     "metadata": {},
     "output_type": "display_data"
    },
    {
     "data": {
      "text/html": [
       "<div class=\"map-static-img-preview-f8eb6a01-7746-4bc8-a90f-116ddc6aa020\"><img src=\"\"></img></div>"
      ],
      "text/plain": [
       "<IPython.core.display.HTML object>"
      ]
     },
     "metadata": {},
     "output_type": "display_data"
    }
   ],
   "source": [
    "gis = GIS()\n",
    "map1 = gis.map()\n",
    "map1"
   ]
  },
  {
   "cell_type": "code",
   "execution_count": 15,
   "metadata": {},
   "outputs": [],
   "source": [
    "# set the map's extent by geocoding the location\n",
    "diegogarcia = geocode(\"Diego Garcia\")[0]\n",
    "map1.extent = diegogarcia['extent']"
   ]
  },
  {
   "cell_type": "code",
   "execution_count": 16,
   "metadata": {},
   "outputs": [],
   "source": [
    "# geocode location of La Reunion island\n",
    "lareunion = geocode(\"La Reunion\")[0]"
   ]
  },
  {
   "cell_type": "code",
   "execution_count": 17,
   "metadata": {},
   "outputs": [],
   "source": [
    "# Annotate the map by plotting Diego Garcia, and two other search locations\n",
    "map1.draw(lareunion['location'], {\"title\": \"Reunion Island\", \"content\": \"Debris found\"})\n",
    "map1.draw(diegogarcia['location'], {\"title\": \"Diego Garcia\", \"content\": \"Naval Support Facility Diego Garcia\"})\n",
    "map1.draw([-43.5, 90.5], {\"title\":\"Search Location\", \"content\":\"Predicted crash location\"})\n",
    "\n",
    "# Render a feature layer representing the search area\n",
    "# Source: http://www.amsa.gov.au/media/incidents/images/DIGO_00718_01_14.jpg\n",
    "map1.add_layer({\"type\":\"FeatureLayer\", \n",
    "                \"url\" : \"http://services.arcgis.com/WQ9KVmV6xGGMnCiQ/arcgis/rest/services/MH370Search/FeatureServer/1\"})"
   ]
  },
  {
   "cell_type": "code",
   "execution_count": 37,
   "metadata": {},
   "outputs": [
    {
     "data": {
      "text/html": [
       "<div class=\"item_container\" style=\"height: auto; overflow: hidden; border: 1px solid #cfcfcf; border-radius: 2px; background: #f6fafa; line-height: 1.21429em; padding: 10px;\">\n",
       "                    <div class=\"item_left\" style=\"width: 210px; float: left;\">\n",
       "                       <a href='https://www.arcgis.com/home/item.html?id=cad4c67f0139406fb9c8d3ee8581fd1d' target='_blank'>\n",
       "                        <img src='https://www.arcgis.com/sharing/rest//content/items/cad4c67f0139406fb9c8d3ee8581fd1d/info/thumbnail/thumbnail.png' class=\"itemThumbnail\">\n",
       "                       </a>\n",
       "                    </div>\n",
       "\n",
       "                    <div class=\"item_right\"     style=\"float: none; width: auto; overflow: hidden;\">\n",
       "                        <a href='https://www.arcgis.com/home/item.html?id=cad4c67f0139406fb9c8d3ee8581fd1d' target='_blank'><b>Arc</b>\n",
       "                        </a>\n",
       "                        <br/>Lastknownlocationarc<img src='https://www.arcgis.com/home/js/jsapi/esri/css/images/item_type_icons/featureshosted16.png' style=\"vertical-align:middle;\">Feature Layer Collection by bflanagan_bureau\n",
       "                        <br/>Last Modified: Март 02, 2015\n",
       "                        <br/>0 comments, 18 767 views\n",
       "                    </div>\n",
       "                </div>\n",
       "                "
      ],
      "text/plain": [
       "<Item title:\"Arc\" type:Feature Layer Collection owner:bflanagan_bureau>"
      ]
     },
     "metadata": {},
     "output_type": "display_data"
    },
    {
     "data": {
      "text/html": [
       "<div class=\"item_container\" style=\"height: auto; overflow: hidden; border: 1px solid #cfcfcf; border-radius: 2px; background: #f6fafa; line-height: 1.21429em; padding: 10px;\">\n",
       "                    <div class=\"item_left\" style=\"width: 210px; float: left;\">\n",
       "                       <a href='https://www.arcgis.com/home/item.html?id=b05c13f1f0db4c41b7b0e218ce28a6df' target='_blank'>\n",
       "                        <img src='https://www.arcgis.com/sharing/rest//content/items/b05c13f1f0db4c41b7b0e218ce28a6df/info/thumbnail/ScreenCapture.JPG' class=\"itemThumbnail\">\n",
       "                       </a>\n",
       "                    </div>\n",
       "\n",
       "                    <div class=\"item_right\"     style=\"float: none; width: auto; overflow: hidden;\">\n",
       "                        <a href='https://www.arcgis.com/home/item.html?id=b05c13f1f0db4c41b7b0e218ce28a6df' target='_blank'><b>RADAR_Polylines</b>\n",
       "                        </a>\n",
       "                        <br/>Radar track showing aircraft deviation from flight-planned route.<img src='https://www.arcgis.com/home/js/jsapi/esri/css/images/item_type_icons/featureshosted16.png' style=\"vertical-align:middle;\">Feature Layer Collection by geoscienceaustralia\n",
       "                        <br/>Last Modified: Июль 24, 2018\n",
       "                        <br/>0 comments, 131 789 views\n",
       "                    </div>\n",
       "                </div>\n",
       "                "
      ],
      "text/plain": [
       "<Item title:\"RADAR_Polylines\" type:Feature Layer Collection owner:geoscienceaustralia>"
      ]
     },
     "metadata": {},
     "output_type": "display_data"
    },
    {
     "data": {
      "text/html": [
       "<div class=\"item_container\" style=\"height: auto; overflow: hidden; border: 1px solid #cfcfcf; border-radius: 2px; background: #f6fafa; line-height: 1.21429em; padding: 10px;\">\n",
       "                    <div class=\"item_left\" style=\"width: 210px; float: left;\">\n",
       "                       <a href='https://www.arcgis.com/home/item.html?id=bc2b5cad7c234ffb94d9f3cdc682a42d' target='_blank'>\n",
       "                        <img src='https://www.arcgis.com/sharing/rest//content/items/bc2b5cad7c234ffb94d9f3cdc682a42d/info/thumbnail/ScreenCapture.JPG' class=\"itemThumbnail\">\n",
       "                       </a>\n",
       "                    </div>\n",
       "\n",
       "                    <div class=\"item_right\"     style=\"float: none; width: auto; overflow: hidden;\">\n",
       "                        <a href='https://www.arcgis.com/home/item.html?id=bc2b5cad7c234ffb94d9f3cdc682a42d' target='_blank'><b>Flythru_points</b>\n",
       "                        </a>\n",
       "                        <br/>Feature-flythrough video locations<img src='https://www.arcgis.com/home/js/jsapi/esri/css/images/item_type_icons/featureshosted16.png' style=\"vertical-align:middle;\">Feature Layer Collection by geoscienceaustralia\n",
       "                        <br/>Last Modified: Июль 24, 2018\n",
       "                        <br/>0 comments, 107 468 views\n",
       "                    </div>\n",
       "                </div>\n",
       "                "
      ],
      "text/plain": [
       "<Item title:\"Flythru_points\" type:Feature Layer Collection owner:geoscienceaustralia>"
      ]
     },
     "metadata": {},
     "output_type": "display_data"
    },
    {
     "data": {
      "text/html": [
       "<div class=\"item_container\" style=\"height: auto; overflow: hidden; border: 1px solid #cfcfcf; border-radius: 2px; background: #f6fafa; line-height: 1.21429em; padding: 10px;\">\n",
       "                    <div class=\"item_left\" style=\"width: 210px; float: left;\">\n",
       "                       <a href='https://www.arcgis.com/home/item.html?id=aab7322704084ae1abe1a3d591a8bf72' target='_blank'>\n",
       "                        <img src='https://www.arcgis.com/sharing/rest//content/items/aab7322704084ae1abe1a3d591a8bf72/info/thumbnail/thumbnail.png' class=\"itemThumbnail\">\n",
       "                       </a>\n",
       "                    </div>\n",
       "\n",
       "                    <div class=\"item_right\"     style=\"float: none; width: auto; overflow: hidden;\">\n",
       "                        <a href='https://www.arcgis.com/home/item.html?id=aab7322704084ae1abe1a3d591a8bf72' target='_blank'><b>MH370Search</b>\n",
       "                        </a>\n",
       "                        <br/>MH370Search<img src='https://www.arcgis.com/home/js/jsapi/esri/css/images/item_type_icons/featureshosted16.png' style=\"vertical-align:middle;\">Feature Layer Collection by bflanagan_bureau\n",
       "                        <br/>Last Modified: Март 02, 2015\n",
       "                        <br/>0 comments, 11 031 views\n",
       "                    </div>\n",
       "                </div>\n",
       "                "
      ],
      "text/plain": [
       "<Item title:\"MH370Search\" type:Feature Layer Collection owner:bflanagan_bureau>"
      ]
     },
     "metadata": {},
     "output_type": "display_data"
    },
    {
     "data": {
      "text/html": [
       "<div class=\"item_container\" style=\"height: auto; overflow: hidden; border: 1px solid #cfcfcf; border-radius: 2px; background: #f6fafa; line-height: 1.21429em; padding: 10px;\">\n",
       "                    <div class=\"item_left\" style=\"width: 210px; float: left;\">\n",
       "                       <a href='https://www.arcgis.com/home/item.html?id=599726f0009a4dd38c06abf036b663c7' target='_blank'>\n",
       "                        <img src='https://www.arcgis.com/sharing/rest//content/items/599726f0009a4dd38c06abf036b663c7/info/thumbnail/ago_downloaded.png' class=\"itemThumbnail\">\n",
       "                       </a>\n",
       "                    </div>\n",
       "\n",
       "                    <div class=\"item_right\"     style=\"float: none; width: auto; overflow: hidden;\">\n",
       "                        <a href='https://www.arcgis.com/home/item.html?id=599726f0009a4dd38c06abf036b663c7' target='_blank'><b>mh370debris</b>\n",
       "                        </a>\n",
       "                        <br/>mh370 imagery debris<img src='https://www.arcgis.com/home/js/jsapi/esri/css/images/item_type_icons/featureshosted16.png' style=\"vertical-align:middle;\">Feature Layer Collection by bflanagan_bureau\n",
       "                        <br/>Last Modified: Март 02, 2015\n",
       "                        <br/>0 comments, 4 345 views\n",
       "                    </div>\n",
       "                </div>\n",
       "                "
      ],
      "text/plain": [
       "<Item title:\"mh370debris\" type:Feature Layer Collection owner:bflanagan_bureau>"
      ]
     },
     "metadata": {},
     "output_type": "display_data"
    },
    {
     "data": {
      "text/html": [
       "<div class=\"item_container\" style=\"height: auto; overflow: hidden; border: 1px solid #cfcfcf; border-radius: 2px; background: #f6fafa; line-height: 1.21429em; padding: 10px;\">\n",
       "                    <div class=\"item_left\" style=\"width: 210px; float: left;\">\n",
       "                       <a href='https://www.arcgis.com/home/item.html?id=a738c2c44c024b04b5db0a4209f70bb2' target='_blank'>\n",
       "                        <img src='https://www.arcgis.com/sharing/rest//content/items/a738c2c44c024b04b5db0a4209f70bb2/info/thumbnail/ScreenCapture.JPG' class=\"itemThumbnail\">\n",
       "                       </a>\n",
       "                    </div>\n",
       "\n",
       "                    <div class=\"item_right\"     style=\"float: none; width: auto; overflow: hidden;\">\n",
       "                        <a href='https://www.arcgis.com/home/item.html?id=a738c2c44c024b04b5db0a4209f70bb2' target='_blank'><b>Wide_Search_Area</b>\n",
       "                        </a>\n",
       "                        <br/>The Wide Search area.<img src='https://www.arcgis.com/home/js/jsapi/esri/css/images/item_type_icons/featureshosted16.png' style=\"vertical-align:middle;\">Feature Layer Collection by geoscienceaustralia\n",
       "                        <br/>Last Modified: Июль 24, 2018\n",
       "                        <br/>0 comments, 95 941 views\n",
       "                    </div>\n",
       "                </div>\n",
       "                "
      ],
      "text/plain": [
       "<Item title:\"Wide_Search_Area\" type:Feature Layer Collection owner:geoscienceaustralia>"
      ]
     },
     "metadata": {},
     "output_type": "display_data"
    },
    {
     "data": {
      "text/html": [
       "<div class=\"item_container\" style=\"height: auto; overflow: hidden; border: 1px solid #cfcfcf; border-radius: 2px; background: #f6fafa; line-height: 1.21429em; padding: 10px;\">\n",
       "                    <div class=\"item_left\" style=\"width: 210px; float: left;\">\n",
       "                       <a href='https://www.arcgis.com/home/item.html?id=801585227b494e1ab470e5cf10b3ec53' target='_blank'>\n",
       "                        <img src='https://www.arcgis.com/sharing/rest//content/items/801585227b494e1ab470e5cf10b3ec53/info/thumbnail/ago_downloaded.png' class=\"itemThumbnail\">\n",
       "                       </a>\n",
       "                    </div>\n",
       "\n",
       "                    <div class=\"item_right\"     style=\"float: none; width: auto; overflow: hidden;\">\n",
       "                        <a href='https://www.arcgis.com/home/item.html?id=801585227b494e1ab470e5cf10b3ec53' target='_blank'><b>UnderwaterSearch</b>\n",
       "                        </a>\n",
       "                        <br/><img src='https://www.arcgis.com/home/js/jsapi/esri/css/images/item_type_icons/featureshosted16.png' style=\"vertical-align:middle;\">Feature Layer Collection by bflanagan_bureau\n",
       "                        <br/>Last Modified: Март 02, 2015\n",
       "                        <br/>0 comments, 3 830 views\n",
       "                    </div>\n",
       "                </div>\n",
       "                "
      ],
      "text/plain": [
       "<Item title:\"UnderwaterSearch\" type:Feature Layer Collection owner:bflanagan_bureau>"
      ]
     },
     "metadata": {},
     "output_type": "display_data"
    },
    {
     "data": {
      "text/html": [
       "<div class=\"item_container\" style=\"height: auto; overflow: hidden; border: 1px solid #cfcfcf; border-radius: 2px; background: #f6fafa; line-height: 1.21429em; padding: 10px;\">\n",
       "                    <div class=\"item_left\" style=\"width: 210px; float: left;\">\n",
       "                       <a href='https://www.arcgis.com/home/item.html?id=9683ff156fc348558482a4bcff30e695' target='_blank'>\n",
       "                        <img src='https://www.arcgis.com/sharing/rest//content/items/9683ff156fc348558482a4bcff30e695/info/thumbnail/ScreenCapture.JPG' class=\"itemThumbnail\">\n",
       "                       </a>\n",
       "                    </div>\n",
       "\n",
       "                    <div class=\"item_right\"     style=\"float: none; width: auto; overflow: hidden;\">\n",
       "                        <a href='https://www.arcgis.com/home/item.html?id=9683ff156fc348558482a4bcff30e695' target='_blank'><b>Possible_MH370_Debris_Recovered</b>\n",
       "                        </a>\n",
       "                        <br/>Possible MH370 Debris Recovered<img src='https://www.arcgis.com/home/js/jsapi/esri/css/images/item_type_icons/featureshosted16.png' style=\"vertical-align:middle;\">Feature Layer Collection by geoscienceaustralia\n",
       "                        <br/>Last Modified: Июль 24, 2018\n",
       "                        <br/>0 comments, 38 043 views\n",
       "                    </div>\n",
       "                </div>\n",
       "                "
      ],
      "text/plain": [
       "<Item title:\"Possible_MH370_Debris_Recovered\" type:Feature Layer Collection owner:geoscienceaustralia>"
      ]
     },
     "metadata": {},
     "output_type": "display_data"
    },
    {
     "data": {
      "text/html": [
       "<div class=\"item_container\" style=\"height: auto; overflow: hidden; border: 1px solid #cfcfcf; border-radius: 2px; background: #f6fafa; line-height: 1.21429em; padding: 10px;\">\n",
       "                    <div class=\"item_left\" style=\"width: 210px; float: left;\">\n",
       "                       <a href='https://www.arcgis.com/home/item.html?id=4c94d33cfc144f7d8b78943dee56e29b' target='_blank'>\n",
       "                        <img src='https://www.arcgis.com/sharing/rest//content/items/4c94d33cfc144f7d8b78943dee56e29b/info/thumbnail/ScreenCapture.JPG' class=\"itemThumbnail\">\n",
       "                       </a>\n",
       "                    </div>\n",
       "\n",
       "                    <div class=\"item_right\"     style=\"float: none; width: auto; overflow: hidden;\">\n",
       "                        <a href='https://www.arcgis.com/home/item.html?id=4c94d33cfc144f7d8b78943dee56e29b' target='_blank'><b>The_7th_Arc</b>\n",
       "                        </a>\n",
       "                        <br/>The 7th Arc, Single Line version.<img src='https://www.arcgis.com/home/js/jsapi/esri/css/images/item_type_icons/featureshosted16.png' style=\"vertical-align:middle;\">Feature Layer Collection by geoscienceaustralia\n",
       "                        <br/>Last Modified: Июль 24, 2018\n",
       "                        <br/>0 comments, 300 062 views\n",
       "                    </div>\n",
       "                </div>\n",
       "                "
      ],
      "text/plain": [
       "<Item title:\"The_7th_Arc\" type:Feature Layer Collection owner:geoscienceaustralia>"
      ]
     },
     "metadata": {},
     "output_type": "display_data"
    },
    {
     "data": {
      "text/html": [
       "<div class=\"item_container\" style=\"height: auto; overflow: hidden; border: 1px solid #cfcfcf; border-radius: 2px; background: #f6fafa; line-height: 1.21429em; padding: 10px;\">\n",
       "                    <div class=\"item_left\" style=\"width: 210px; float: left;\">\n",
       "                       <a href='https://www.arcgis.com/home/item.html?id=53b12c81b3024726936859b84fa6692a' target='_blank'>\n",
       "                        <img src='https://www.arcgis.com/sharing/rest//content/items/53b12c81b3024726936859b84fa6692a/info/thumbnail/ago_downloaded.png' class=\"itemThumbnail\">\n",
       "                       </a>\n",
       "                    </div>\n",
       "\n",
       "                    <div class=\"item_right\"     style=\"float: none; width: auto; overflow: hidden;\">\n",
       "                        <a href='https://www.arcgis.com/home/item.html?id=53b12c81b3024726936859b84fa6692a' target='_blank'><b>MH370 Phase 2 contacts</b>\n",
       "                        </a>\n",
       "                        <br/>Phase two contact locations<img src='https://www.arcgis.com/home/js/jsapi/esri/css/images/item_type_icons/featureshosted16.png' style=\"vertical-align:middle;\">Feature Layer Collection by geoscienceaustralia\n",
       "                        <br/>Last Modified: Июль 24, 2018\n",
       "                        <br/>0 comments, 9 842 views\n",
       "                    </div>\n",
       "                </div>\n",
       "                "
      ],
      "text/plain": [
       "<Item title:\"MH370 Phase 2 contacts\" type:Feature Layer Collection owner:geoscienceaustralia>"
      ]
     },
     "metadata": {},
     "output_type": "display_data"
    }
   ],
   "source": [
    "mh370items = gis.content.search(\"MH370\", \"feature service\", max_items=10)\n",
    "for item in mh370items:\n",
    "    display(item)"
   ]
  },
  {
   "cell_type": "code",
   "execution_count": 42,
   "metadata": {},
   "outputs": [
    {
     "data": {
      "text/html": [
       "<div class=\"item_container\" style=\"height: auto; overflow: hidden; border: 1px solid #cfcfcf; border-radius: 2px; background: #f6fafa; line-height: 1.21429em; padding: 10px;\">\n",
       "                    <div class=\"item_left\" style=\"width: 210px; float: left;\">\n",
       "                       <a href='https://www.arcgis.com/home/item.html?id=383c2039b89d43baa0010c3bf243b144' target='_blank'>\n",
       "                        <img src='https://www.arcgis.com/sharing/rest//content/items/383c2039b89d43baa0010c3bf243b144/info/thumbnail/Ocean_Currents.png' class=\"itemThumbnail\">\n",
       "                       </a>\n",
       "                    </div>\n",
       "\n",
       "                    <div class=\"item_right\"     style=\"float: none; width: auto; overflow: hidden;\">\n",
       "                        <a href='https://www.arcgis.com/home/item.html?id=383c2039b89d43baa0010c3bf243b144' target='_blank'><b>Ocean Currents</b>\n",
       "                        </a>\n",
       "                        <br/>Calculates the path of an unpowered vessel drifiting in ocean currents from a user defined point. Excludes wind or atmospheric conditions.<img src='https://www.arcgis.com/home/js/jsapi/esri/css/images/item_type_icons/layers16.png' style=\"vertical-align:middle;\">Geoprocessing Toolbox by esri_apac\n",
       "                        <br/>Last Modified: Август 25, 2014\n",
       "                        <br/>1 comments, 176 views\n",
       "                    </div>\n",
       "                </div>\n",
       "                "
      ],
      "text/plain": [
       "<Item title:\"Ocean Currents\" type:Geoprocessing Toolbox owner:esri_apac>"
      ]
     },
     "execution_count": 42,
     "metadata": {},
     "output_type": "execute_result"
    }
   ],
   "source": [
    "toolbox_item = gis.content.search(\"Ocean Currents\", item_type=\"geoprocessing toolbox\", max_items=5)[2]\n",
    "toolbox_item"
   ]
  },
  {
   "cell_type": "code",
   "execution_count": null,
   "metadata": {},
   "outputs": [],
   "source": [
    "from arcgis.geoprocessing import import_toolbox\n",
    "\n",
    "ocean_currents = import_toolbox(toolbox_item)"
   ]
  },
  {
   "cell_type": "code",
   "execution_count": null,
   "metadata": {},
   "outputs": [],
   "source": [
    "help(ocean_currents.message_in_a_bottle)"
   ]
  },
  {
   "cell_type": "code",
   "execution_count": null,
   "metadata": {},
   "outputs": [],
   "source": [
    "from arcgis.features import FeatureSet, Feature\n",
    "\n",
    "def do_analysis(m, g):\n",
    "    print(\"Computing the path that debris would take...\")\n",
    "    \n",
    "    # Parameter `g` contains the co-ordinates of the clicked location\n",
    "    \n",
    "    # Construct a FeatureSet object from the clicked locaiton\n",
    "    my_feature_set = FeatureSet([Feature(g)])\n",
    "    \n",
    "    # Pass the input location as a FeatureSet\n",
    "    ret = ocean_currents.message_in_a_bottle(my_feature_set, 150)\n",
    "    \n",
    "    # Render the resulting FeatureSet on the map using `draw()` method\n",
    "    map1.draw(ret)\n",
    "    \n",
    "# Set the callback function that performs analysis. The `do_analysis` function is called whenever user clicks on the map.\n",
    "map1.on_click(do_analysis)"
   ]
  }
 ],
 "metadata": {
  "kernelspec": {
   "display_name": "Python 3",
   "language": "python",
   "name": "python3"
  },
  "language_info": {
   "codemirror_mode": {
    "name": "ipython",
    "version": 3
   },
   "file_extension": ".py",
   "mimetype": "text/x-python",
   "name": "python",
   "nbconvert_exporter": "python",
   "pygments_lexer": "ipython3",
   "version": "3.6.9"
  }
 },
 "nbformat": 4,
 "nbformat_minor": 2
}
