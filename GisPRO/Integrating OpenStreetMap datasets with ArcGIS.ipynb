{
 "cells": [
  {
   "cell_type": "code",
   "execution_count": 1,
   "metadata": {
    "extensions": {
     "jupyter_dashboards": {
      "version": 1,
      "views": {
       "grid_default": {},
       "report_default": {}
      }
     }
    }
   },
   "outputs": [
    {
     "name": "stdout",
     "output_type": "stream",
     "text": [
      "Requirement already satisfied: osm_runner in c:\\users\\38097\\anaconda3\\envs\\osm_dash\\lib\\site-packages (0.0.3)\n",
      "Requirement already satisfied: requests in c:\\users\\38097\\anaconda3\\envs\\osm_dash\\lib\\site-packages (from osm_runner) (2.24.0)\n",
      "Requirement already satisfied: arcgis in c:\\users\\38097\\anaconda3\\envs\\osm_dash\\lib\\site-packages (from osm_runner) (1.8.2)\n",
      "Requirement already satisfied: pandas in c:\\users\\38097\\anaconda3\\envs\\osm_dash\\lib\\site-packages (from osm_runner) (1.1.1)\n",
      "Requirement already satisfied: urllib3!=1.25.0,!=1.25.1,<1.26,>=1.21.1 in c:\\users\\38097\\anaconda3\\envs\\osm_dash\\lib\\site-packages (from requests->osm_runner) (1.25.10)\n",
      "Requirement already satisfied: chardet<4,>=3.0.2 in c:\\users\\38097\\anaconda3\\envs\\osm_dash\\lib\\site-packages (from requests->osm_runner) (3.0.4)\n",
      "Requirement already satisfied: idna<3,>=2.5 in c:\\users\\38097\\anaconda3\\envs\\osm_dash\\lib\\site-packages (from requests->osm_runner) (2.10)\n",
      "Requirement already satisfied: certifi>=2017.4.17 in c:\\users\\38097\\anaconda3\\envs\\osm_dash\\lib\\site-packages (from requests->osm_runner) (2020.6.20)\n",
      "Requirement already satisfied: python-dateutil>=2.7.3 in c:\\users\\38097\\anaconda3\\envs\\osm_dash\\lib\\site-packages (from pandas->osm_runner) (2.8.1)\n",
      "Requirement already satisfied: numpy>=1.15.4 in c:\\users\\38097\\anaconda3\\envs\\osm_dash\\lib\\site-packages (from pandas->osm_runner) (1.19.1)\n",
      "Requirement already satisfied: pytz>=2017.2 in c:\\users\\38097\\anaconda3\\envs\\osm_dash\\lib\\site-packages\\pytz-2019.3-py3.6.egg (from pandas->osm_runner) (2019.3)\n",
      "Requirement already satisfied: six>=1.5 in c:\\users\\38097\\anaconda3\\envs\\osm_dash\\lib\\site-packages (from python-dateutil>=2.7.3->pandas->osm_runner) (1.15.0)\n"
     ]
    },
    {
     "name": "stderr",
     "output_type": "stream",
     "text": [
      "C:\\Users\\38097\\anaconda3\\envs\\osm_dash\\lib\\site-packages\\IPython\\utils\\_process_win32.py:145: ResourceWarning: unclosed file <_io.BufferedWriter name=4>\n",
      "  return process_handler(cmd, _system_body)\n",
      "C:\\Users\\38097\\anaconda3\\envs\\osm_dash\\lib\\site-packages\\IPython\\utils\\_process_win32.py:145: ResourceWarning: unclosed file <_io.BufferedReader name=5>\n",
      "  return process_handler(cmd, _system_body)\n",
      "C:\\Users\\38097\\anaconda3\\envs\\osm_dash\\lib\\site-packages\\IPython\\utils\\_process_win32.py:145: ResourceWarning: unclosed file <_io.BufferedReader name=6>\n",
      "  return process_handler(cmd, _system_body)\n"
     ]
    },
    {
     "ename": "ImportError",
     "evalue": "cannot import name 'gen_osm_sdf'",
     "output_type": "error",
     "traceback": [
      "\u001b[1;31m---------------------------------------------------------------------------\u001b[0m",
      "\u001b[1;31mImportError\u001b[0m                               Traceback (most recent call last)",
      "\u001b[1;32m<ipython-input-1-ce3695f3405a>\u001b[0m in \u001b[0;36m<module>\u001b[1;34m\u001b[0m\n\u001b[0;32m      6\u001b[0m \u001b[1;32mtry\u001b[0m\u001b[1;33m:\u001b[0m\u001b[1;33m\u001b[0m\u001b[1;33m\u001b[0m\u001b[0m\n\u001b[1;32m----> 7\u001b[1;33m     \u001b[1;32mfrom\u001b[0m \u001b[0mosm_runner\u001b[0m \u001b[1;32mimport\u001b[0m \u001b[0mgen_osm_sdf\u001b[0m\u001b[1;33m\u001b[0m\u001b[1;33m\u001b[0m\u001b[0m\n\u001b[0m\u001b[0;32m      8\u001b[0m \u001b[1;32mexcept\u001b[0m\u001b[1;33m:\u001b[0m\u001b[1;33m\u001b[0m\u001b[1;33m\u001b[0m\u001b[0m\n",
      "\u001b[1;31mImportError\u001b[0m: cannot import name 'gen_osm_sdf'",
      "\nDuring handling of the above exception, another exception occurred:\n",
      "\u001b[1;31mImportError\u001b[0m                               Traceback (most recent call last)",
      "\u001b[1;32m<ipython-input-1-ce3695f3405a>\u001b[0m in \u001b[0;36m<module>\u001b[1;34m\u001b[0m\n\u001b[0;32m      8\u001b[0m \u001b[1;32mexcept\u001b[0m\u001b[1;33m:\u001b[0m\u001b[1;33m\u001b[0m\u001b[1;33m\u001b[0m\u001b[0m\n\u001b[0;32m      9\u001b[0m     \u001b[0mget_ipython\u001b[0m\u001b[1;33m(\u001b[0m\u001b[1;33m)\u001b[0m\u001b[1;33m.\u001b[0m\u001b[0msystem\u001b[0m\u001b[1;33m(\u001b[0m\u001b[1;34m'pip install osm_runner'\u001b[0m\u001b[1;33m)\u001b[0m\u001b[1;33m\u001b[0m\u001b[1;33m\u001b[0m\u001b[0m\n\u001b[1;32m---> 10\u001b[1;33m     \u001b[1;32mfrom\u001b[0m \u001b[0mosm_runner\u001b[0m \u001b[1;32mimport\u001b[0m \u001b[0mgen_osm_sdf\u001b[0m\u001b[1;33m\u001b[0m\u001b[1;33m\u001b[0m\u001b[0m\n\u001b[0m\u001b[0;32m     11\u001b[0m \u001b[1;33m\u001b[0m\u001b[0m\n\u001b[0;32m     12\u001b[0m \u001b[1;33m\u001b[0m\u001b[0m\n",
      "\u001b[1;31mImportError\u001b[0m: cannot import name 'gen_osm_sdf'"
     ]
    }
   ],
   "source": [
    "# Libraries for Creating Buttons & Handling Output\n",
    "from IPython.display import display, clear_output\n",
    "import ipywidgets as widgets\n",
    "\n",
    "# OSM Runner & GIS Object\n",
    "try:\n",
    "    from osm_runner import gen_osm_sdf\n",
    "except:\n",
    "    !pip install osm_runner\n",
    "    from osm_runner import gen_osm_sdf\n",
    "    \n",
    "    \n",
    "from arcgis.gis import GIS\n",
    "\n",
    "# Transformations & Geometries for ArcGIS Item Creation\n",
    "try:\n",
    "    from pyproj import Proj, transform\n",
    "    import shapefile\n",
    "except:\n",
    "    !conda install pyproj --yes\n",
    "    from pyproj import Proj, transform\n",
    "    import shapefile\n",
    "\n",
    "# Other Libraries\n",
    "from collections import OrderedDict\n",
    "import time\n",
    "\n",
    "# Organization Login\n",
    "gis = GIS()"
   ]
  },
  {
   "cell_type": "code",
   "execution_count": 2,
   "metadata": {
    "extensions": {
     "jupyter_dashboards": {
      "version": 1,
      "views": {
       "grid_default": {},
       "report_default": {}
      }
     }
    }
   },
   "outputs": [],
   "source": [
    "# Set OSM Tags with Friendly Names\n",
    "osm_tag_dict = {\n",
    "    \"Aerialway\":        \"aerialway\",\n",
    "    \"Aeroway\":          \"aeroway\",\n",
    "    \"Amenity\":          \"amenity\",\n",
    "    \"Barrier\":          \"barrier\",\n",
    "    \"Boundary\":         \"boundary\",\n",
    "    \"Building\":         \"building\",\n",
    "    \"Craft\":            \"craft\",\n",
    "    \"Emergency\":        \"emergency\",\n",
    "    \"Geological\":       \"geological\",\n",
    "    \"Highway\":          \"highway\",\n",
    "    \"Historic\":         \"historic\",\n",
    "    \"Landuse\":          \"landuse\",\n",
    "    \"Leisure\":          \"leisure\",\n",
    "    \"Man Made\":         \"man_made\",\n",
    "    \"Military\":         \"military\",\n",
    "    \"Natural\":          \"natural\",\n",
    "    \"Office\":           \"office\",\n",
    "    \"Place\":            \"place\",\n",
    "    \"Power\":            \"power\",\n",
    "    \"Public Transport\": \"public transport\",\n",
    "    \"Railway\":          \"railway\",\n",
    "    \"Route\":            \"route\",\n",
    "    \"Shop\":             \"shop\",\n",
    "    \"Sport\":            \"sport\",\n",
    "    \"Tourism\":          \"tourism\",\n",
    "    \"Waterway\":         \"waterway\"\n",
    "}"
   ]
  },
  {
   "cell_type": "code",
   "execution_count": 3,
   "metadata": {},
   "outputs": [],
   "source": [
    "# Converting Map Widget Extent into a Tuple for OSM Query\n",
    "def collect_extent(e):\n",
    "    \n",
    "    # Strip Min/Max For Geometry Iterable\n",
    "    min_set = {k[:1]: v for k, v in e.items() if k in ['ymin', 'xmin']}\n",
    "    max_set = {k[:1]: v for k, v in e.items() if k in ['ymax', 'xmax']}\n",
    "\n",
    "    box = []\n",
    "    \n",
    "    for geo_set in [min_set, max_set]:\n",
    "        \n",
    "        incoming_wkid = e.get('spatialReference')['latestWkid']\n",
    "        \n",
    "        if incoming_wkid == 4326:\n",
    "            box.append(geo_set['y'])\n",
    "            box.append(geo_set['x'])\n",
    "            \n",
    "        else:   \n",
    "            p1 = Proj(init='epsg:{}'.format(incoming_wkid))\n",
    "            p2 = Proj(proj='latlong',datum='WGS84')\n",
    "            x, y = transform(p1, p2, geo_set['x'], geo_set['y'])\n",
    "            box.append(y)\n",
    "            box.append(x)\n",
    "\n",
    "    return tuple(box)"
   ]
  },
  {
   "cell_type": "code",
   "execution_count": 4,
   "metadata": {},
   "outputs": [],
   "source": [
    "# on_click() Logic\n",
    "def running(button_object):\n",
    "\n",
    "    global sdf\n",
    "    \n",
    "    clear_output()\n",
    "    \n",
    "    # Pull Values From Inputs\n",
    "    geo_val = geo_sel.value\n",
    "    osm_val = osm_sel.value\n",
    "    bbox    = collect_extent(viz_map.extent)\n",
    "    \n",
    "    # Get Date YYYY-MM-DD From DatePicker\n",
    "    t_1_val = str(t_1_sel.value)[:10] if t_1_sel.value else None\n",
    "    t_2_val = str(t_2_sel.value)[:10] if t_2_sel.value else None\n",
    "    \n",
    "    try:\n",
    "        print('Fetching Data From OpenStreetMap . . .')\n",
    "        sdf = gen_osm_sdf(geo_val, bbox, osm_val, t_1_val, t_2_val)\n",
    "         \n",
    "    except Exception as e:\n",
    "        print('Request Could Not Be Completed')\n",
    "        print('{}'.format(str(e)))\n",
    "        return\n",
    "    \n",
    "    else:\n",
    "        print('Features Returned: {}'.format(len(sdf)))\n",
    "        sdf_fs = sdf.to_featureset()\n",
    "        \n",
    "        for feature in sdf_fs:\n",
    "            # Create Popup\n",
    "            viz_map.draw(\n",
    "                feature.geometry,\n",
    "                popup={\n",
    "                    'title': 'OSM ID: ' + feature.attributes['osm_id'] , \n",
    "                    'content': \"{}\".format(\n",
    "                        '<br/>'.join([\n",
    "                            '%s: %s' % (key.upper(), value) for (key, value) in feature.attributes.items()\n",
    "                        ])\n",
    "                    )\n",
    "                }\n",
    "            )"
   ]
  },
  {
   "cell_type": "code",
   "execution_count": 5,
   "metadata": {},
   "outputs": [
    {
     "data": {
      "text/html": [
       "<style>\n",
       ".intro {\n",
       "    padding: 10px; \n",
       "    color: #202020;\n",
       "    font-family: 'Helvetica'\n",
       "}\n",
       ".map {\n",
       "    border: solid;\n",
       "    height: 450px;\n",
       "}\n",
       "</style>\n"
      ],
      "text/plain": [
       "<IPython.core.display.HTML object>"
      ]
     },
     "metadata": {},
     "output_type": "display_data"
    }
   ],
   "source": [
    "%%html\n",
    "<style>\n",
    ".intro {\n",
    "    padding: 10px; \n",
    "    color: #202020;\n",
    "    font-family: 'Helvetica'\n",
    "}\n",
    ".map {\n",
    "    border: solid;\n",
    "    height: 450px;\n",
    "}\n",
    "</style>"
   ]
  },
  {
   "cell_type": "code",
   "execution_count": 6,
   "metadata": {},
   "outputs": [
    {
     "ename": "NameError",
     "evalue": "name 'gis' is not defined",
     "output_type": "error",
     "traceback": [
      "\u001b[1;31m---------------------------------------------------------------------------\u001b[0m",
      "\u001b[1;31mNameError\u001b[0m                                 Traceback (most recent call last)",
      "\u001b[1;32m<ipython-input-6-2cb497bd1460>\u001b[0m in \u001b[0;36m<module>\u001b[1;34m\u001b[0m\n\u001b[0;32m      1\u001b[0m \u001b[1;31m# Create & Display Map\u001b[0m\u001b[1;33m\u001b[0m\u001b[1;33m\u001b[0m\u001b[1;33m\u001b[0m\u001b[0m\n\u001b[1;32m----> 2\u001b[1;33m \u001b[0mviz_map\u001b[0m \u001b[1;33m=\u001b[0m \u001b[0mgis\u001b[0m\u001b[1;33m.\u001b[0m\u001b[0mmap\u001b[0m\u001b[1;33m(\u001b[0m\u001b[1;34m'Smithsonian'\u001b[0m\u001b[1;33m)\u001b[0m\u001b[1;33m\u001b[0m\u001b[1;33m\u001b[0m\u001b[0m\n\u001b[0m\u001b[0;32m      3\u001b[0m \u001b[0mdisplay\u001b[0m\u001b[1;33m(\u001b[0m\u001b[0mviz_map\u001b[0m\u001b[1;33m)\u001b[0m\u001b[1;33m\u001b[0m\u001b[1;33m\u001b[0m\u001b[0m\n\u001b[0;32m      4\u001b[0m \u001b[1;33m\u001b[0m\u001b[0m\n\u001b[0;32m      5\u001b[0m \u001b[1;31m# Set Options For Return Geometry\u001b[0m\u001b[1;33m\u001b[0m\u001b[1;33m\u001b[0m\u001b[1;33m\u001b[0m\u001b[0m\n",
      "\u001b[1;31mNameError\u001b[0m: name 'gis' is not defined"
     ]
    }
   ],
   "source": [
    "# Create & Display Map\n",
    "viz_map = gis.map('Smithsonian')\n",
    "display(viz_map)\n",
    "\n",
    "# Set Options For Return Geometry\n",
    "geo_sel = widgets.Dropdown(\n",
    "    options=['Point', 'Line', 'Polygon'],\n",
    "    description='Geometry',\n",
    "    value='Polygon'\n",
    ")\n",
    "\n",
    "# Set Options for OSM Tags\n",
    "osm_sel = widgets.Dropdown(\n",
    "    options=(sorted(osm_tag_dict.items(), key=lambda item: item[0])),\n",
    "    description='Feature',\n",
    "    value='building'\n",
    ")\n",
    "\n",
    "# Set Options for Time Selection\n",
    "t_1_sel = widgets.DatePicker(description='Start Date')\n",
    "t_2_sel = widgets.DatePicker(description='End Date')\n",
    "\n",
    "# Create Submit Button & Set on_click\n",
    "run_btn = widgets.Button(\n",
    "    description='Fetch OSM',\n",
    "    button_style='success',\n",
    "    tooltip='Query OSM and View in Map Widget',\n",
    "    layout=widgets.Layout(justify_content='center', margin='0px 0px 0px 10px')\n",
    ")\n",
    "run_btn.on_click(running)\n",
    "\n",
    "# Handle Widget Layout\n",
    "params = widgets.HBox(\n",
    "    [geo_sel, osm_sel, t_1_sel, t_2_sel, run_btn], \n",
    "    layout=widgets.Layout(justify_content='center', margin='10px')\n",
    ")\n",
    "display(params)"
   ]
  },
  {
   "cell_type": "code",
   "execution_count": 7,
   "metadata": {},
   "outputs": [],
   "source": [
    "def to_agol(button_object):\n",
    "    \n",
    "    clear_output()\n",
    "    \n",
    "    txt_val = txt_sel.value\n",
    "    \n",
    "    try:\n",
    "        sdf\n",
    "        \n",
    "    except NameError:\n",
    "        print('Please Collect Data with Fetch OSM Data First . . .')\n",
    "        \n",
    "    else:\n",
    "        print('Creating Feature Layer in ArcGIS Online . . .')\n",
    "        feat_lyr = sdf.to_featurelayer(\n",
    "            '{}_{}'.format(txt_val, int(time.time())),\n",
    "            gis=gis, \n",
    "            tags='OSM Runner'\n",
    "        )\n",
    "\n",
    "        display(feat_lyr)\n",
    "        viz_map.add_layer(feat_lyr)"
   ]
  },
  {
   "cell_type": "code",
   "execution_count": 8,
   "metadata": {},
   "outputs": [
    {
     "data": {
      "application/vnd.jupyter.widget-view+json": {
       "model_id": "a011f7bd778f449283759aa02fe838a8",
       "version_major": 2,
       "version_minor": 0
      },
      "text/plain": [
       "HBox(children=(Text(value='OSM Features', description='Name'), Button(button_style='primary', description='Pus…"
      ]
     },
     "metadata": {},
     "output_type": "display_data"
    }
   ],
   "source": [
    "txt_sel = widgets.Text(description='Name', value='OSM Features')\n",
    "\n",
    "add_btn = widgets.Button(\n",
    "    description='Push OSM to ArcGIS',\n",
    "    button_style='primary',\n",
    "    tooltip='Create Content in ArcGIS Online'\n",
    ")\n",
    "add_btn.on_click(to_agol)\n",
    "\n",
    "add_box = widgets.HBox([txt_sel, add_btn], layout=widgets.Layout(justify_content='center', margin='10px'))\n",
    "display(add_box)"
   ]
  },
  {
   "cell_type": "code",
   "execution_count": null,
   "metadata": {},
   "outputs": [],
   "source": []
  }
 ],
 "metadata": {
  "extensions": {
   "jupyter_dashboards": {
    "activeView": "grid_default",
    "version": 1,
    "views": {
     "grid_default": {
      "cellMargin": 10,
      "defaultCellHeight": 20,
      "maxColumns": 12,
      "name": "grid",
      "type": "grid"
     },
     "report_default": {
      "name": "report",
      "type": "report"
     }
    }
   }
  },
  "kernelspec": {
   "display_name": "Python 3",
   "language": "python",
   "name": "python3"
  },
  "language_info": {
   "codemirror_mode": {
    "name": "ipython",
    "version": 3
   },
   "file_extension": ".py",
   "mimetype": "text/x-python",
   "name": "python",
   "nbconvert_exporter": "python",
   "pygments_lexer": "ipython3",
   "version": "3.6.12"
  }
 },
 "nbformat": 4,
 "nbformat_minor": 4
}
