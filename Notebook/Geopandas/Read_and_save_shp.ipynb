{
  "nbformat": 4,
  "nbformat_minor": 0,
  "metadata": {
    "colab": {
      "name": "Read and save shp.ipynb",
      "provenance": [],
      "collapsed_sections": [],
      "authorship_tag": "ABX9TyPXLJ84a+8p6IS4o8uHpGR4",
      "include_colab_link": true
    },
    "kernelspec": {
      "name": "python3",
      "display_name": "Python 3"
    }
  },
  "cells": [
    {
      "cell_type": "markdown",
      "metadata": {
        "id": "view-in-github",
        "colab_type": "text"
      },
      "source": [
        "<a href=\"https://colab.research.google.com/github/SergeyShchus/Automatic_GIS/blob/master/Notebook/Geopandas/Read_and_save_shp.ipynb\" target=\"_parent\"><img src=\"https://colab.research.google.com/assets/colab-badge.svg\" alt=\"Open In Colab\"/></a>"
      ]
    },
    {
      "cell_type": "code",
      "metadata": {
        "id": "SOjI45eZO4xV"
      },
      "source": [
        "#@title\r\n",
        "# Install OpticalRS. This also installs GeoPandas because GeoPandas is a dependency of OpticalRS\r\n",
        "!apt-get install software-properties-common python-software-properties > /dev/null\r\n",
        "!add-apt-repository ppa:ubuntugis/ppa -y > /dev/null\r\n",
        "!apt-get update > /dev/null\r\n",
        "!apt-get install -y --fix-missing python-gdal gdal-bin libgdal-dev > /dev/null\r\n",
        "!pip2 install OpticalRS > /dev/null\r\n",
        "\r\n",
        "! pip install geopandas\r\n",
        "\r\n",
        "import pandas as pd\r\n",
        "import geopandas as gpd\r\n",
        "from shapely.geometry import Point\r\n",
        "\r\n",
        "from google.colab import drive\r\n",
        "drive.mount('/content/gdrive')"
      ],
      "execution_count": null,
      "outputs": []
    },
    {
      "cell_type": "code",
      "metadata": {
        "id": "5D3LohyqPKa-"
      },
      "source": [
        "!wget https://github.com/AutoGIS/data/raw/master/L2_data.zip"
      ],
      "execution_count": null,
      "outputs": []
    },
    {
      "cell_type": "code",
      "metadata": {
        "id": "5FdO2rVqPOfK"
      },
      "source": [
        "!unzip L2_data.zip"
      ],
      "execution_count": null,
      "outputs": []
    },
    {
      "cell_type": "code",
      "metadata": {
        "id": "djNvvfPOPQnx"
      },
      "source": [
        "!ls L2_data"
      ],
      "execution_count": null,
      "outputs": []
    },
    {
      "cell_type": "code",
      "metadata": {
        "id": "67CXozYFPUWT"
      },
      "source": [
        "data.head()"
      ],
      "execution_count": null,
      "outputs": []
    },
    {
      "cell_type": "code",
      "metadata": {
        "id": "HvT3lfMhPWci"
      },
      "source": [
        "data.columns.values"
      ],
      "execution_count": null,
      "outputs": []
    },
    {
      "cell_type": "code",
      "metadata": {
        "id": "dBbxt1kLPW1N"
      },
      "source": [
        "data = data[['RYHMA', 'LUOKKA',  'geometry']]\r\n",
        "colnames = {'RYHMA':'GROUP', 'LUOKKA':'CLASS'}\r\n",
        "data.rename(columns=colnames, inplace=True)\r\n",
        "data.head()"
      ],
      "execution_count": null,
      "outputs": []
    },
    {
      "cell_type": "code",
      "metadata": {
        "id": "HZJIyFAFPY-J"
      },
      "source": [
        "data.plot(figsize=(32, 16))"
      ],
      "execution_count": null,
      "outputs": []
    },
    {
      "cell_type": "code",
      "metadata": {
        "id": "6QpwDIeIPa8q"
      },
      "source": [
        "data.head()"
      ],
      "execution_count": null,
      "outputs": []
    },
    {
      "cell_type": "code",
      "metadata": {
        "id": "5qBO33_mPdaz"
      },
      "source": [
        "data['CLASS'].unique()"
      ],
      "execution_count": null,
      "outputs": []
    },
    {
      "cell_type": "code",
      "metadata": {
        "id": "4IQSsjHnPfZp"
      },
      "source": [
        "# Group the data by class\r\n",
        "grouped = data.groupby('CLASS')\r\n",
        "\r\n",
        "# Let's see what we have\r\n",
        "grouped"
      ],
      "execution_count": null,
      "outputs": []
    },
    {
      "cell_type": "code",
      "metadata": {
        "id": "EmUNwcqZPhhK"
      },
      "source": [
        "grouped.groups.keys()"
      ],
      "execution_count": null,
      "outputs": []
    },
    {
      "cell_type": "code",
      "metadata": {
        "id": "17eiFHClPjLK"
      },
      "source": [
        "# Iterate over the grouped object\r\n",
        "for key, group in grouped:\r\n",
        "\r\n",
        "    # Let's check how many rows each group has:\r\n",
        "    print('Terrain class:', key)\r\n",
        "    print('Number of rows:', len(group), \"\\n\")"
      ],
      "execution_count": null,
      "outputs": []
    },
    {
      "cell_type": "code",
      "metadata": {
        "id": "2qaly6PuPlIC"
      },
      "source": [
        "output_folder = r\"L3_data/\"\r\n",
        "\r\n",
        "# Create a new folder called 'Results' \r\n",
        "result_folder = os.path.join(output_folder, 'Results')\r\n",
        "\r\n",
        "# Check if the folder exists already\r\n",
        "if not os.path.exists(result_folder):\r\n",
        "    \r\n",
        "    print(\"Creating a folder for the results..\")\r\n",
        "    # If it does not exist, create one\r\n",
        "    os.makedirs(result_folder)\r\n",
        "    \r\n",
        "else:\r\n",
        "    print(\"Results folder exists already.\")"
      ],
      "execution_count": null,
      "outputs": []
    },
    {
      "cell_type": "code",
      "metadata": {
        "id": "gCINbBVZPpkK"
      },
      "source": [
        "# Iterate over the groups\r\n",
        "for key, group in grouped:\r\n",
        "    # Format the filename \r\n",
        "    output_name = \"terrain_{}.shp\".format(key)\r\n",
        "\r\n",
        "    # Print information about the process\r\n",
        "    print(\"Saving file\", os.path.basename(output_name))\r\n",
        "\r\n",
        "    # Create an output path\r\n",
        "    outpath = os.path.join(result_folder, output_name)\r\n",
        "\r\n",
        "    # Export the data\r\n",
        "    group.to_file(outpath)"
      ],
      "execution_count": null,
      "outputs": []
    }
  ]
}