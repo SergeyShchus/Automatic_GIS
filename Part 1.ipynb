{
 "cells": [
  {
   "cell_type": "markdown",
   "metadata": {},
   "source": [
    "# Установка Python + GIS\n",
    "Как начать работать в связке ГИС с Python на своём компьютере?\n",
    "\n",
    "Сначала вам нужно установить Python и необходимые модули, которые используются для выполнения различных задач GIS. Несмотря на то, что можно установить Python со своей домашней страницы , желательно использовать пакет Anaconda, которая очень хороша для языков программирования Python и R, а также для крупномасштабной обработки данных, интеллектуальной аналитики и научных вычислений, и направлена на упрощение управления пакетами и  их развертывание. Короче говоря, это облегчает жизнь при установке на вашем Python новых инструментов.\n",
    "\n",
    "# Установка Python + GIS в Windows\n",
    "Следующие шаги были протестированы для работы с Windows 7 и 10 с 64-разрядным Anaconda3, используя conda v4.3.29 (30 октября 2017 г.).\n",
    "\n",
    "Загрузите программу установки Anaconda (64 бит) для Windows.\n",
    "\n",
    "Установите Anaconda на свой компьютер, дважды щелкнув установщик и установите его в нужную вам директорию (нужно права администратора). Установите его всем пользователям и используйте настройки по умолчанию."
   ]
  },
  {
   "cell_type": "markdown",
   "metadata": {},
   "source": [
    "Проверьте, что пакет Anaconda определяется в командной строке, открывая командную строку в качестве пользователя администратора и запуская команду .conda --version\n",
    "\n",
    "Установите связанные с ГИС пакеты с помощью conda (и pip), запустив в командной строке следующие команды (в том же порядке, в каком они перечислены):"
   ]
  },
  {
   "cell_type": "code",
   "execution_count": null,
   "metadata": {
    "collapsed": false
   },
   "outputs": [],
   "source": [
    "# Install numpy (v 1.13.1)\n",
    "conda install numpy\n",
    "\n",
    "# Install pandas (v 0.20.3) --> bundled with python-dateutil (v 2.6.1) and pytz (v 2017.2)\n",
    "conda install pandas\n",
    "\n",
    "# Install scipy (v 0.19.1)\n",
    "conda install scipy\n",
    "\n",
    "# Install matplotlib (v 2.0.2) --> bundled with cycler, freetype, icu, jpeg, libpng, pyqt, qt, sip, sqlite, tornado, zlib\n",
    "conda install matplotlib\n",
    "\n",
    "# Install scikit-learn (v 0.19.0)\n",
    "conda install scikit-learn\n",
    "\n",
    "# Install networkx (v 1.11) --> bundled with decorator (v 4.1.2)\n",
    "conda install networkx\n",
    "\n",
    "# Install bokeh (v 0.12.9) --> bundled with jinja2, markupsafe, pyyaml, yaml -packages\n",
    "conda install bokeh\n",
    "\n",
    "# Install statsmodels (v 0.8.0) --> bundled with patsy (0.4.1)\n",
    "conda install statsmodels\n",
    "\n",
    "# Install PySpark (v 2.2.0) --> bundled with py4j (v 0.10.6)\n",
    "conda install pyspark\n",
    "\n",
    "# Install Geopandas (v 0.3.0) --> bundled with click, click-plugins, cligj, curl, descartes, expat, fiona, freexl, gdal, geos, hdf4, hdf5, kealib, krb5, libiconv, libnetcdf, libpq, libspatialindex, libspatialite, libtiff, libxml2, munch, openjpeg, pcre, proj4, psycopg2, pyproj, pysal, rtree, shapely, sqlalchemy, xerces-c\n",
    "conda install -c conda-forge geopandas\n",
    "\n",
    "# Install cartopy (v 0.15.1) --> bundled with libxslt, lxml, olefile, owslib, pillow, pyepsg, pyshp\n",
    "conda install -c conda-forge cartopy\n",
    "\n",
    "# Install geoplot (v 0.0.4) using pip (on Linux: be sure to use pip that comes with conda distribution!) --> bundled with seaborn\n",
    "pip install geoplot\n",
    "\n",
    "# Install osmnx (v 0.5.4) --> bundled with altair, bleach, branca, colorama, entrypoints, folium, geopy, html5lib, ipykernel, ipython, ipython_genutils, jedi, jsonschema, jupyter_client, jupyter_core, mistune, nbconvert, nbformat, notebook, pandoc, pandocfilters, pickleshare, prompt_toolkit, pygments, pyzmq, simplegeneric, testpath, traitlets, vega, vincent, wcwidth, webencodings\n",
    "conda install -c conda-forge osmnx\n",
    "\n",
    "# Install Folium (v 0.5.0) --> bundled with altair, vega\n",
    "conda install -c conda-forge folium\n",
    "\n",
    "# Install Dash using Pip\n",
    "pip install dash==0.19.0  # The core dash backend\n",
    "pip install dash-renderer==0.11.1  # The dash front-end\n",
    "pip install dash-html-components==0.8.0  # HTML components\n",
    "pip install dash-core-components==0.14.0  # Supercharged components\n",
    "pip install plotly --upgrade  # Plotly graphing library"
   ]
  },
  {
   "cell_type": "markdown",
   "metadata": {},
   "source": [
    "Испытайте, что все работает.\n",
    "Вы можете проверить, что установки работали, выполнив следующие команды в вашей консоли IPython."
   ]
  },
  {
   "cell_type": "code",
   "execution_count": 1,
   "metadata": {
    "collapsed": false
   },
   "outputs": [
    {
     "ename": "ImportError",
     "evalue": "DLL load failed: Не найден указанный модуль.",
     "output_type": "error",
     "traceback": [
      "\u001b[0;31m---------------------------------------------------------------------------\u001b[0m",
      "\u001b[0;31mImportError\u001b[0m                               Traceback (most recent call last)",
      "\u001b[0;32m<ipython-input-1-d4fdc7d63337>\u001b[0m in \u001b[0;36m<module>\u001b[0;34m()\u001b[0m\n\u001b[1;32m      1\u001b[0m \u001b[1;32mimport\u001b[0m \u001b[0mnumpy\u001b[0m \u001b[1;32mas\u001b[0m \u001b[0mnp\u001b[0m\u001b[1;33m\u001b[0m\u001b[0m\n\u001b[1;32m      2\u001b[0m \u001b[1;32mimport\u001b[0m \u001b[0mpandas\u001b[0m \u001b[1;32mas\u001b[0m \u001b[0mpd\u001b[0m\u001b[1;33m\u001b[0m\u001b[0m\n\u001b[0;32m----> 3\u001b[0;31m \u001b[1;32mimport\u001b[0m \u001b[0mgeopandas\u001b[0m \u001b[1;32mas\u001b[0m \u001b[0mgpd\u001b[0m\u001b[1;33m\u001b[0m\u001b[0m\n\u001b[0m\u001b[1;32m      4\u001b[0m \u001b[1;32mimport\u001b[0m \u001b[0mscipy\u001b[0m\u001b[1;33m\u001b[0m\u001b[0m\n\u001b[1;32m      5\u001b[0m \u001b[1;32mimport\u001b[0m \u001b[0mshapely\u001b[0m\u001b[1;33m\u001b[0m\u001b[0m\n",
      "\u001b[0;32mC:\\Users\\serge\\Anaconda3\\lib\\site-packages\\geopandas\\__init__.py\u001b[0m in \u001b[0;36m<module>\u001b[0;34m()\u001b[0m\n\u001b[1;32m      2\u001b[0m \u001b[1;32mfrom\u001b[0m \u001b[0mgeopandas\u001b[0m\u001b[1;33m.\u001b[0m\u001b[0mgeodataframe\u001b[0m \u001b[1;32mimport\u001b[0m \u001b[0mGeoDataFrame\u001b[0m\u001b[1;33m\u001b[0m\u001b[0m\n\u001b[1;32m      3\u001b[0m \u001b[1;33m\u001b[0m\u001b[0m\n\u001b[0;32m----> 4\u001b[0;31m \u001b[1;32mfrom\u001b[0m \u001b[0mgeopandas\u001b[0m\u001b[1;33m.\u001b[0m\u001b[0mio\u001b[0m\u001b[1;33m.\u001b[0m\u001b[0mfile\u001b[0m \u001b[1;32mimport\u001b[0m \u001b[0mread_file\u001b[0m\u001b[1;33m\u001b[0m\u001b[0m\n\u001b[0m\u001b[1;32m      5\u001b[0m \u001b[1;32mfrom\u001b[0m \u001b[0mgeopandas\u001b[0m\u001b[1;33m.\u001b[0m\u001b[0mio\u001b[0m\u001b[1;33m.\u001b[0m\u001b[0msql\u001b[0m \u001b[1;32mimport\u001b[0m \u001b[0mread_postgis\u001b[0m\u001b[1;33m\u001b[0m\u001b[0m\n\u001b[1;32m      6\u001b[0m \u001b[1;32mfrom\u001b[0m \u001b[0mgeopandas\u001b[0m\u001b[1;33m.\u001b[0m\u001b[0mtools\u001b[0m \u001b[1;32mimport\u001b[0m \u001b[0msjoin\u001b[0m\u001b[1;33m\u001b[0m\u001b[0m\n",
      "\u001b[0;32mC:\\Users\\serge\\Anaconda3\\lib\\site-packages\\geopandas\\io\\file.py\u001b[0m in \u001b[0;36m<module>\u001b[0;34m()\u001b[0m\n\u001b[1;32m      1\u001b[0m \u001b[1;32mimport\u001b[0m \u001b[0mos\u001b[0m\u001b[1;33m\u001b[0m\u001b[0m\n\u001b[1;32m      2\u001b[0m \u001b[1;33m\u001b[0m\u001b[0m\n\u001b[0;32m----> 3\u001b[0;31m \u001b[1;32mimport\u001b[0m \u001b[0mfiona\u001b[0m\u001b[1;33m\u001b[0m\u001b[0m\n\u001b[0m\u001b[1;32m      4\u001b[0m \u001b[1;32mimport\u001b[0m \u001b[0mnumpy\u001b[0m \u001b[1;32mas\u001b[0m \u001b[0mnp\u001b[0m\u001b[1;33m\u001b[0m\u001b[0m\n\u001b[1;32m      5\u001b[0m \u001b[1;33m\u001b[0m\u001b[0m\n",
      "\u001b[0;32mC:\\Users\\serge\\Anaconda3\\lib\\site-packages\\fiona\\__init__.py\u001b[0m in \u001b[0;36m<module>\u001b[0;34m()\u001b[0m\n\u001b[1;32m     67\u001b[0m \u001b[1;32mfrom\u001b[0m \u001b[0msix\u001b[0m \u001b[1;32mimport\u001b[0m \u001b[0mstring_types\u001b[0m\u001b[1;33m\u001b[0m\u001b[0m\n\u001b[1;32m     68\u001b[0m \u001b[1;33m\u001b[0m\u001b[0m\n\u001b[0;32m---> 69\u001b[0;31m \u001b[1;32mfrom\u001b[0m \u001b[0mfiona\u001b[0m\u001b[1;33m.\u001b[0m\u001b[0mcollection\u001b[0m \u001b[1;32mimport\u001b[0m \u001b[0mCollection\u001b[0m\u001b[1;33m,\u001b[0m \u001b[0mBytesCollection\u001b[0m\u001b[1;33m,\u001b[0m \u001b[0mvsi_path\u001b[0m\u001b[1;33m\u001b[0m\u001b[0m\n\u001b[0m\u001b[1;32m     70\u001b[0m \u001b[1;32mfrom\u001b[0m \u001b[0mfiona\u001b[0m\u001b[1;33m.\u001b[0m\u001b[0m_drivers\u001b[0m \u001b[1;32mimport\u001b[0m \u001b[0mdriver_count\u001b[0m\u001b[1;33m,\u001b[0m \u001b[0mGDALEnv\u001b[0m\u001b[1;33m\u001b[0m\u001b[0m\n\u001b[1;32m     71\u001b[0m \u001b[1;32mfrom\u001b[0m \u001b[0mfiona\u001b[0m\u001b[1;33m.\u001b[0m\u001b[0mdrvsupport\u001b[0m \u001b[1;32mimport\u001b[0m \u001b[0msupported_drivers\u001b[0m\u001b[1;33m\u001b[0m\u001b[0m\n",
      "\u001b[0;32mC:\\Users\\serge\\Anaconda3\\lib\\site-packages\\fiona\\collection.py\u001b[0m in \u001b[0;36m<module>\u001b[0;34m()\u001b[0m\n\u001b[1;32m      7\u001b[0m \u001b[1;33m\u001b[0m\u001b[0m\n\u001b[1;32m      8\u001b[0m \u001b[1;32mfrom\u001b[0m \u001b[0mfiona\u001b[0m \u001b[1;32mimport\u001b[0m \u001b[0mcompat\u001b[0m\u001b[1;33m\u001b[0m\u001b[0m\n\u001b[0;32m----> 9\u001b[0;31m \u001b[1;32mfrom\u001b[0m \u001b[0mfiona\u001b[0m\u001b[1;33m.\u001b[0m\u001b[0mogrext\u001b[0m \u001b[1;32mimport\u001b[0m \u001b[0mIterator\u001b[0m\u001b[1;33m,\u001b[0m \u001b[0mItemsIterator\u001b[0m\u001b[1;33m,\u001b[0m \u001b[0mKeysIterator\u001b[0m\u001b[1;33m\u001b[0m\u001b[0m\n\u001b[0m\u001b[1;32m     10\u001b[0m \u001b[1;32mfrom\u001b[0m \u001b[0mfiona\u001b[0m\u001b[1;33m.\u001b[0m\u001b[0mogrext\u001b[0m \u001b[1;32mimport\u001b[0m \u001b[0mSession\u001b[0m\u001b[1;33m,\u001b[0m \u001b[0mWritingSession\u001b[0m\u001b[1;33m\u001b[0m\u001b[0m\n\u001b[1;32m     11\u001b[0m from fiona.ogrext import (\n",
      "\u001b[0;31mImportError\u001b[0m: DLL load failed: Не найден указанный модуль."
     ]
    }
   ],
   "source": [
    "import numpy as np\n",
    "import pandas as pd\n",
    "import geopandas as gpd\n",
    "import scipy\n",
    "import shapely\n",
    "import matplotlib.pyplot as plt\n",
    "import pysal\n",
    "import bokeh\n",
    "import cartopy\n",
    "import statsmodels\n",
    "import sklearn\n",
    "import geoplot\n",
    "import osmnx\n",
    "import folium\n",
    "import dash"
   ]
  },
  {
   "cell_type": "code",
   "execution_count": null,
   "metadata": {
    "collapsed": true
   },
   "outputs": [],
   "source": []
  }
 ],
 "metadata": {
  "kernelspec": {
   "display_name": "Python 3",
   "language": "python",
   "name": "python3"
  }
 },
 "nbformat": 4,
 "nbformat_minor": 2
}
