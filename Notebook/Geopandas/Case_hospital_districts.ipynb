{
  "nbformat": 4,
  "nbformat_minor": 0,
  "metadata": {
    "colab": {
      "name": "Case: hospital districts.ipynb",
      "provenance": [],
      "authorship_tag": "ABX9TyM4PG58+1Z4eV9CCAySYAMY",
      "include_colab_link": true
    },
    "kernelspec": {
      "name": "python3",
      "display_name": "Python 3"
    }
  },
  "cells": [
    {
      "cell_type": "markdown",
      "metadata": {
        "id": "view-in-github",
        "colab_type": "text"
      },
      "source": [
        "<a href=\"https://colab.research.google.com/github/SergeyShchus/Automatic_GIS/blob/master/Notebook/Geopandas/Case_hospital_districts.ipynb\" target=\"_parent\"><img src=\"https://colab.research.google.com/assets/colab-badge.svg\" alt=\"Open In Colab\"/></a>"
      ]
    },
    {
      "cell_type": "code",
      "metadata": {
        "colab": {
          "base_uri": "https://localhost:8080/"
        },
        "id": "Fm_7VejI3ah_",
        "outputId": "86729a36-69dc-417b-9cf9-9f9ace5a1e2d"
      },
      "source": [
        "#@title\r\n",
        "# Install OpticalRS. This also installs GeoPandas because GeoPandas is a dependency of OpticalRS\r\n",
        "!apt-get install software-properties-common python-software-properties > /dev/null\r\n",
        "!add-apt-repository ppa:ubuntugis/ppa -y > /dev/null\r\n",
        "!apt-get update > /dev/null\r\n",
        "!apt-get install -y --fix-missing python-gdal gdal-bin libgdal-dev > /dev/null\r\n",
        "!pip2 install OpticalRS > /dev/null\r\n",
        "\r\n",
        "! pip install geopandas\r\n",
        "\r\n",
        "import pandas as pd\r\n",
        "import geopandas as gpd\r\n",
        "from shapely.geometry import Point\r\n",
        "\r\n",
        "from google.colab import drive\r\n",
        "drive.mount('/content/gdrive')"
      ],
      "execution_count": 1,
      "outputs": [
        {
          "output_type": "stream",
          "text": [
            "E: Package 'python-software-properties' has no installation candidate\n",
            "Extracting templates from packages: 100%\n",
            "Collecting geopandas\n",
            "\u001b[?25l  Downloading https://files.pythonhosted.org/packages/d7/bf/e9cefb69d39155d122b6ddca53893b61535fa6ffdad70bf5ef708977f53f/geopandas-0.9.0-py2.py3-none-any.whl (994kB)\n",
            "\u001b[K     |████████████████████████████████| 1.0MB 4.2MB/s \n",
            "\u001b[?25hCollecting fiona>=1.8\n",
            "\u001b[?25l  Downloading https://files.pythonhosted.org/packages/47/c2/67d1d0acbaaee3b03e5e22e3b96c33219cb5dd392531c9ff9cee7c2eb3e4/Fiona-1.8.18-cp37-cp37m-manylinux1_x86_64.whl (14.8MB)\n",
            "\u001b[K     |████████████████████████████████| 14.8MB 11.7MB/s \n",
            "\u001b[?25hRequirement already satisfied: pandas>=0.24.0 in /usr/local/lib/python3.7/dist-packages (from geopandas) (1.1.5)\n",
            "Requirement already satisfied: shapely>=1.6 in /usr/local/lib/python3.7/dist-packages (from geopandas) (1.7.1)\n",
            "Collecting pyproj>=2.2.0\n",
            "\u001b[?25l  Downloading https://files.pythonhosted.org/packages/05/0c/d7c2c7c370ea5368b813a44e772247ed1a461dc47de70c5d02e079abc7e0/pyproj-3.0.0.post1-cp37-cp37m-manylinux2010_x86_64.whl (6.4MB)\n",
            "\u001b[K     |████████████████████████████████| 6.5MB 39.9MB/s \n",
            "\u001b[?25hRequirement already satisfied: certifi in /usr/local/lib/python3.7/dist-packages (from fiona>=1.8->geopandas) (2020.12.5)\n",
            "Requirement already satisfied: click<8,>=4.0 in /usr/local/lib/python3.7/dist-packages (from fiona>=1.8->geopandas) (7.1.2)\n",
            "Requirement already satisfied: attrs>=17 in /usr/local/lib/python3.7/dist-packages (from fiona>=1.8->geopandas) (20.3.0)\n",
            "Collecting click-plugins>=1.0\n",
            "  Downloading https://files.pythonhosted.org/packages/e9/da/824b92d9942f4e472702488857914bdd50f73021efea15b4cad9aca8ecef/click_plugins-1.1.1-py2.py3-none-any.whl\n",
            "Requirement already satisfied: six>=1.7 in /usr/local/lib/python3.7/dist-packages (from fiona>=1.8->geopandas) (1.15.0)\n",
            "Collecting munch\n",
            "  Downloading https://files.pythonhosted.org/packages/cc/ab/85d8da5c9a45e072301beb37ad7f833cd344e04c817d97e0cc75681d248f/munch-2.5.0-py2.py3-none-any.whl\n",
            "Collecting cligj>=0.5\n",
            "  Downloading https://files.pythonhosted.org/packages/42/1e/947eadf10d6804bf276eb8a038bd5307996dceaaa41cfd21b7a15ec62f5d/cligj-0.7.1-py3-none-any.whl\n",
            "Requirement already satisfied: python-dateutil>=2.7.3 in /usr/local/lib/python3.7/dist-packages (from pandas>=0.24.0->geopandas) (2.8.1)\n",
            "Requirement already satisfied: numpy>=1.15.4 in /usr/local/lib/python3.7/dist-packages (from pandas>=0.24.0->geopandas) (1.19.5)\n",
            "Requirement already satisfied: pytz>=2017.2 in /usr/local/lib/python3.7/dist-packages (from pandas>=0.24.0->geopandas) (2018.9)\n",
            "Installing collected packages: click-plugins, munch, cligj, fiona, pyproj, geopandas\n",
            "Successfully installed click-plugins-1.1.1 cligj-0.7.1 fiona-1.8.18 geopandas-0.9.0 munch-2.5.0 pyproj-3.0.0.post1\n",
            "Mounted at /content/gdrive\n"
          ],
          "name": "stdout"
        }
      ]
    },
    {
      "cell_type": "code",
      "metadata": {
        "id": "s8CVdFZt5wMe"
      },
      "source": [
        "import json\r\n",
        "import numpy as np\r\n",
        "import pandas as pd\r\n",
        "import geopandas as gpd\r\n",
        "from pyproj import CRS\r\n",
        "import matplotlib.pyplot as plt"
      ],
      "execution_count": 2,
      "outputs": []
    },
    {
      "cell_type": "code",
      "metadata": {
        "id": "C-E5q4hf5wog"
      },
      "source": [
        "# For available features, see http://geo.stat.fi/geoserver/tilastointialueet/wfs?request=GetCapabilities\r\n",
        "url = \"http://geo.stat.fi/geoserver/tilastointialueet/wfs?request=GetFeature&typename=tilastointialueet:kunta1000k&outputformat=JSON\"\r\n",
        "geodata = gpd.read_file(url)"
      ],
      "execution_count": 3,
      "outputs": []
    },
    {
      "cell_type": "code",
      "metadata": {
        "colab": {
          "base_uri": "https://localhost:8080/",
          "height": 197
        },
        "id": "j4jrrZ_5527H",
        "outputId": "e89ead10-9cf4-4d3e-c3cd-1d35a64f514f"
      },
      "source": [
        "geodata.head()"
      ],
      "execution_count": 4,
      "outputs": [
        {
          "output_type": "execute_result",
          "data": {
            "text/html": [
              "<div>\n",
              "<style scoped>\n",
              "    .dataframe tbody tr th:only-of-type {\n",
              "        vertical-align: middle;\n",
              "    }\n",
              "\n",
              "    .dataframe tbody tr th {\n",
              "        vertical-align: top;\n",
              "    }\n",
              "\n",
              "    .dataframe thead th {\n",
              "        text-align: right;\n",
              "    }\n",
              "</style>\n",
              "<table border=\"1\" class=\"dataframe\">\n",
              "  <thead>\n",
              "    <tr style=\"text-align: right;\">\n",
              "      <th></th>\n",
              "      <th>id</th>\n",
              "      <th>kunta</th>\n",
              "      <th>vuosi</th>\n",
              "      <th>nimi</th>\n",
              "      <th>namn</th>\n",
              "      <th>name</th>\n",
              "      <th>geometry</th>\n",
              "    </tr>\n",
              "  </thead>\n",
              "  <tbody>\n",
              "    <tr>\n",
              "      <th>0</th>\n",
              "      <td>kunta1000k.1</td>\n",
              "      <td>005</td>\n",
              "      <td>2021</td>\n",
              "      <td>Alajärvi</td>\n",
              "      <td>Alajärvi</td>\n",
              "      <td>Alajärvi</td>\n",
              "      <td>POLYGON ((366787.924 7001300.583, 364150.540 7...</td>\n",
              "    </tr>\n",
              "    <tr>\n",
              "      <th>1</th>\n",
              "      <td>kunta1000k.2</td>\n",
              "      <td>009</td>\n",
              "      <td>2021</td>\n",
              "      <td>Alavieska</td>\n",
              "      <td>Alavieska</td>\n",
              "      <td>Alavieska</td>\n",
              "      <td>POLYGON ((382543.364 7120022.976, 380556.177 7...</td>\n",
              "    </tr>\n",
              "    <tr>\n",
              "      <th>2</th>\n",
              "      <td>kunta1000k.3</td>\n",
              "      <td>010</td>\n",
              "      <td>2021</td>\n",
              "      <td>Alavus</td>\n",
              "      <td>Alavo</td>\n",
              "      <td>Alavus</td>\n",
              "      <td>POLYGON ((343298.204 6961570.195, 340572.015 6...</td>\n",
              "    </tr>\n",
              "    <tr>\n",
              "      <th>3</th>\n",
              "      <td>kunta1000k.4</td>\n",
              "      <td>016</td>\n",
              "      <td>2021</td>\n",
              "      <td>Asikkala</td>\n",
              "      <td>Asikkala</td>\n",
              "      <td>Asikkala</td>\n",
              "      <td>POLYGON ((436139.680 6798279.085, 432732.949 6...</td>\n",
              "    </tr>\n",
              "    <tr>\n",
              "      <th>4</th>\n",
              "      <td>kunta1000k.5</td>\n",
              "      <td>018</td>\n",
              "      <td>2021</td>\n",
              "      <td>Askola</td>\n",
              "      <td>Askola</td>\n",
              "      <td>Askola</td>\n",
              "      <td>POLYGON ((426631.036 6720528.076, 425751.505 6...</td>\n",
              "    </tr>\n",
              "  </tbody>\n",
              "</table>\n",
              "</div>"
            ],
            "text/plain": [
              "             id  ...                                           geometry\n",
              "0  kunta1000k.1  ...  POLYGON ((366787.924 7001300.583, 364150.540 7...\n",
              "1  kunta1000k.2  ...  POLYGON ((382543.364 7120022.976, 380556.177 7...\n",
              "2  kunta1000k.3  ...  POLYGON ((343298.204 6961570.195, 340572.015 6...\n",
              "3  kunta1000k.4  ...  POLYGON ((436139.680 6798279.085, 432732.949 6...\n",
              "4  kunta1000k.5  ...  POLYGON ((426631.036 6720528.076, 425751.505 6...\n",
              "\n",
              "[5 rows x 7 columns]"
            ]
          },
          "metadata": {
            "tags": []
          },
          "execution_count": 4
        }
      ]
    },
    {
      "cell_type": "code",
      "metadata": {
        "colab": {
          "base_uri": "https://localhost:8080/"
        },
        "id": "b2IKC2N3557-",
        "outputId": "7dbbf23c-2b06-446f-f216-8fdd9b77b29c"
      },
      "source": [
        "# Check length (there are 310 municipalities in Finland in 2020)\r\n",
        "len(geodata)"
      ],
      "execution_count": 5,
      "outputs": [
        {
          "output_type": "execute_result",
          "data": {
            "text/plain": [
              "309"
            ]
          },
          "metadata": {
            "tags": []
          },
          "execution_count": 5
        }
      ]
    },
    {
      "cell_type": "code",
      "metadata": {
        "colab": {
          "base_uri": "https://localhost:8080/",
          "height": 197
        },
        "id": "JOV35FcP6EAV",
        "outputId": "9e6f5ab3-0a00-4386-cbe1-f6bd95798a51"
      },
      "source": [
        "#Select and rename columns\r\n",
        "geodata.rename(columns={'kunta':'code'}, inplace=True)\r\n",
        "geodata = geodata[['code','name', 'geometry']]\r\n",
        "geodata.head()"
      ],
      "execution_count": 6,
      "outputs": [
        {
          "output_type": "execute_result",
          "data": {
            "text/html": [
              "<div>\n",
              "<style scoped>\n",
              "    .dataframe tbody tr th:only-of-type {\n",
              "        vertical-align: middle;\n",
              "    }\n",
              "\n",
              "    .dataframe tbody tr th {\n",
              "        vertical-align: top;\n",
              "    }\n",
              "\n",
              "    .dataframe thead th {\n",
              "        text-align: right;\n",
              "    }\n",
              "</style>\n",
              "<table border=\"1\" class=\"dataframe\">\n",
              "  <thead>\n",
              "    <tr style=\"text-align: right;\">\n",
              "      <th></th>\n",
              "      <th>code</th>\n",
              "      <th>name</th>\n",
              "      <th>geometry</th>\n",
              "    </tr>\n",
              "  </thead>\n",
              "  <tbody>\n",
              "    <tr>\n",
              "      <th>0</th>\n",
              "      <td>005</td>\n",
              "      <td>Alajärvi</td>\n",
              "      <td>POLYGON ((366787.924 7001300.583, 364150.540 7...</td>\n",
              "    </tr>\n",
              "    <tr>\n",
              "      <th>1</th>\n",
              "      <td>009</td>\n",
              "      <td>Alavieska</td>\n",
              "      <td>POLYGON ((382543.364 7120022.976, 380556.177 7...</td>\n",
              "    </tr>\n",
              "    <tr>\n",
              "      <th>2</th>\n",
              "      <td>010</td>\n",
              "      <td>Alavus</td>\n",
              "      <td>POLYGON ((343298.204 6961570.195, 340572.015 6...</td>\n",
              "    </tr>\n",
              "    <tr>\n",
              "      <th>3</th>\n",
              "      <td>016</td>\n",
              "      <td>Asikkala</td>\n",
              "      <td>POLYGON ((436139.680 6798279.085, 432732.949 6...</td>\n",
              "    </tr>\n",
              "    <tr>\n",
              "      <th>4</th>\n",
              "      <td>018</td>\n",
              "      <td>Askola</td>\n",
              "      <td>POLYGON ((426631.036 6720528.076, 425751.505 6...</td>\n",
              "    </tr>\n",
              "  </tbody>\n",
              "</table>\n",
              "</div>"
            ],
            "text/plain": [
              "  code       name                                           geometry\n",
              "0  005   Alajärvi  POLYGON ((366787.924 7001300.583, 364150.540 7...\n",
              "1  009  Alavieska  POLYGON ((382543.364 7120022.976, 380556.177 7...\n",
              "2  010     Alavus  POLYGON ((343298.204 6961570.195, 340572.015 6...\n",
              "3  016   Asikkala  POLYGON ((436139.680 6798279.085, 432732.949 6...\n",
              "4  018     Askola  POLYGON ((426631.036 6720528.076, 425751.505 6..."
            ]
          },
          "metadata": {
            "tags": []
          },
          "execution_count": 6
        }
      ]
    },
    {
      "cell_type": "code",
      "metadata": {
        "colab": {
          "base_uri": "https://localhost:8080/",
          "height": 293
        },
        "id": "yb9RppNG6JDD",
        "outputId": "28f720c3-019c-4af3-812f-bdf3e028e15f"
      },
      "source": [
        "geodata.plot()"
      ],
      "execution_count": 7,
      "outputs": [
        {
          "output_type": "execute_result",
          "data": {
            "text/plain": [
              "<matplotlib.axes._subplots.AxesSubplot at 0x7ff5b4f16050>"
            ]
          },
          "metadata": {
            "tags": []
          },
          "execution_count": 7
        },
        {
          "output_type": "display_data",
          "data": {
            "image/png": "[encoded data removed]",
            "text/plain": [
              "<Figure size 432x288 with 1 Axes>"
            ]
          },
          "metadata": {
            "tags": [],
            "needs_background": "light"
          }
        }
      ]
    },
    {
      "cell_type": "code",
      "metadata": {
        "colab": {
          "base_uri": "https://localhost:8080/"
        },
        "id": "gIcCIyN06O5n",
        "outputId": "cc6352df-06cf-4484-a796-85d3f9fb5e8f"
      },
      "source": [
        "geodata.dtypes"
      ],
      "execution_count": 8,
      "outputs": [
        {
          "output_type": "execute_result",
          "data": {
            "text/plain": [
              "code          object\n",
              "name          object\n",
              "geometry    geometry\n",
              "dtype: object"
            ]
          },
          "metadata": {
            "tags": []
          },
          "execution_count": 8
        }
      ]
    },
    {
      "cell_type": "code",
      "metadata": {
        "colab": {
          "base_uri": "https://localhost:8080/"
        },
        "id": "EyOApG4T6aC9",
        "outputId": "2d297034-5a7f-4021-e7de-166185aa6401"
      },
      "source": [
        "!pip install xlrd"
      ],
      "execution_count": 9,
      "outputs": [
        {
          "output_type": "stream",
          "text": [
            "Requirement already satisfied: xlrd in /usr/local/lib/python3.7/dist-packages (1.1.0)\n"
          ],
          "name": "stdout"
        }
      ]
    },
    {
      "cell_type": "code",
      "metadata": {
        "id": "Zf-6aJ5h6ss0"
      },
      "source": [
        "# Read in the excel spreadsheet\r\n",
        "data = pd.read_excel(r\"/content/Shp_jäsenkunnat_2020.xls\", sheet_name=\"kunnat_shp_2020_ aakkosjärj.\", header=3)\r\n"
      ],
      "execution_count": 10,
      "outputs": []
    },
    {
      "cell_type": "code",
      "metadata": {
        "colab": {
          "base_uri": "https://localhost:8080/",
          "height": 197
        },
        "id": "azGkq69y8SWN",
        "outputId": "9b24b3eb-c05b-4b1a-b04c-2151a164faab"
      },
      "source": [
        "data.head()"
      ],
      "execution_count": 11,
      "outputs": [
        {
          "output_type": "execute_result",
          "data": {
            "text/html": [
              "<div>\n",
              "<style scoped>\n",
              "    .dataframe tbody tr th:only-of-type {\n",
              "        vertical-align: middle;\n",
              "    }\n",
              "\n",
              "    .dataframe tbody tr th {\n",
              "        vertical-align: top;\n",
              "    }\n",
              "\n",
              "    .dataframe thead th {\n",
              "        text-align: right;\n",
              "    }\n",
              "</style>\n",
              "<table border=\"1\" class=\"dataframe\">\n",
              "  <thead>\n",
              "    <tr style=\"text-align: right;\">\n",
              "      <th></th>\n",
              "      <th>kunta-\\nkoodi</th>\n",
              "      <th>kunta</th>\n",
              "      <th>shp:n koodi</th>\n",
              "      <th>sairaanhoitopiiri</th>\n",
              "      <th>erva-alue</th>\n",
              "      <th>kuntien lkm</th>\n",
              "    </tr>\n",
              "  </thead>\n",
              "  <tbody>\n",
              "    <tr>\n",
              "      <th>0</th>\n",
              "      <td>NaN</td>\n",
              "      <td>NaN</td>\n",
              "      <td>NaN</td>\n",
              "      <td>NaN</td>\n",
              "      <td>NaN</td>\n",
              "      <td>NaN</td>\n",
              "    </tr>\n",
              "    <tr>\n",
              "      <th>1</th>\n",
              "      <td>20.0</td>\n",
              "      <td>Akaa</td>\n",
              "      <td>6.0</td>\n",
              "      <td>Pirkanmaa</td>\n",
              "      <td>TAYS</td>\n",
              "      <td>1.0</td>\n",
              "    </tr>\n",
              "    <tr>\n",
              "      <th>2</th>\n",
              "      <td>5.0</td>\n",
              "      <td>Alajärvi</td>\n",
              "      <td>15.0</td>\n",
              "      <td>Etelä-Pohjanmaa</td>\n",
              "      <td>TAYS</td>\n",
              "      <td>2.0</td>\n",
              "    </tr>\n",
              "    <tr>\n",
              "      <th>3</th>\n",
              "      <td>9.0</td>\n",
              "      <td>Alavieska</td>\n",
              "      <td>18.0</td>\n",
              "      <td>Pohjois-Pohjanmaa</td>\n",
              "      <td>OYS</td>\n",
              "      <td>3.0</td>\n",
              "    </tr>\n",
              "    <tr>\n",
              "      <th>4</th>\n",
              "      <td>10.0</td>\n",
              "      <td>Alavus</td>\n",
              "      <td>15.0</td>\n",
              "      <td>Etelä-Pohjanmaa</td>\n",
              "      <td>TAYS</td>\n",
              "      <td>4.0</td>\n",
              "    </tr>\n",
              "  </tbody>\n",
              "</table>\n",
              "</div>"
            ],
            "text/plain": [
              "   kunta-\\nkoodi      kunta  ...  erva-alue kuntien lkm\n",
              "0            NaN        NaN  ...        NaN         NaN\n",
              "1           20.0       Akaa  ...       TAYS         1.0\n",
              "2            5.0   Alajärvi  ...       TAYS         2.0\n",
              "3            9.0  Alavieska  ...        OYS         3.0\n",
              "4           10.0     Alavus  ...       TAYS         4.0\n",
              "\n",
              "[5 rows x 6 columns]"
            ]
          },
          "metadata": {
            "tags": []
          },
          "execution_count": 11
        }
      ]
    },
    {
      "cell_type": "code",
      "metadata": {
        "id": "Nit01ZY78VP4"
      },
      "source": [
        "data.dropna(inplace=True)\r\n"
      ],
      "execution_count": 12,
      "outputs": []
    },
    {
      "cell_type": "code",
      "metadata": {
        "colab": {
          "base_uri": "https://localhost:8080/"
        },
        "id": "Tgd2NPD98a3F",
        "outputId": "46ddf188-2b4c-4f2d-9912-cd84169b47a8"
      },
      "source": [
        "len(data)"
      ],
      "execution_count": 13,
      "outputs": [
        {
          "output_type": "execute_result",
          "data": {
            "text/plain": [
              "294"
            ]
          },
          "metadata": {
            "tags": []
          },
          "execution_count": 13
        }
      ]
    },
    {
      "cell_type": "code",
      "metadata": {
        "id": "Nkej1a938f4m"
      },
      "source": [
        "# Rename columns from Finnish to English \r\n",
        "data.rename(columns={\"kunta-\\nkoodi\":\"code\", 'sairaanhoitopiiri':'healthCareDistrict'}, inplace=True)\r\n",
        "\r\n",
        "# Select only useful columns\r\n",
        "data = data[['code','healthCareDistrict']]"
      ],
      "execution_count": 14,
      "outputs": []
    },
    {
      "cell_type": "code",
      "metadata": {
        "colab": {
          "base_uri": "https://localhost:8080/",
          "height": 406
        },
        "id": "sYDX1k2j8kbY",
        "outputId": "3d3a8c33-936a-4cf3-c895-777bfa170f40"
      },
      "source": [
        "data"
      ],
      "execution_count": 15,
      "outputs": [
        {
          "output_type": "execute_result",
          "data": {
            "text/html": [
              "<div>\n",
              "<style scoped>\n",
              "    .dataframe tbody tr th:only-of-type {\n",
              "        vertical-align: middle;\n",
              "    }\n",
              "\n",
              "    .dataframe tbody tr th {\n",
              "        vertical-align: top;\n",
              "    }\n",
              "\n",
              "    .dataframe thead th {\n",
              "        text-align: right;\n",
              "    }\n",
              "</style>\n",
              "<table border=\"1\" class=\"dataframe\">\n",
              "  <thead>\n",
              "    <tr style=\"text-align: right;\">\n",
              "      <th></th>\n",
              "      <th>code</th>\n",
              "      <th>healthCareDistrict</th>\n",
              "    </tr>\n",
              "  </thead>\n",
              "  <tbody>\n",
              "    <tr>\n",
              "      <th>1</th>\n",
              "      <td>20.0</td>\n",
              "      <td>Pirkanmaa</td>\n",
              "    </tr>\n",
              "    <tr>\n",
              "      <th>2</th>\n",
              "      <td>5.0</td>\n",
              "      <td>Etelä-Pohjanmaa</td>\n",
              "    </tr>\n",
              "    <tr>\n",
              "      <th>3</th>\n",
              "      <td>9.0</td>\n",
              "      <td>Pohjois-Pohjanmaa</td>\n",
              "    </tr>\n",
              "    <tr>\n",
              "      <th>4</th>\n",
              "      <td>10.0</td>\n",
              "      <td>Etelä-Pohjanmaa</td>\n",
              "    </tr>\n",
              "    <tr>\n",
              "      <th>5</th>\n",
              "      <td>16.0</td>\n",
              "      <td>Päijät-Häme</td>\n",
              "    </tr>\n",
              "    <tr>\n",
              "      <th>...</th>\n",
              "      <td>...</td>\n",
              "      <td>...</td>\n",
              "    </tr>\n",
              "    <tr>\n",
              "      <th>290</th>\n",
              "      <td>977.0</td>\n",
              "      <td>Pohjois-Pohjanmaa</td>\n",
              "    </tr>\n",
              "    <tr>\n",
              "      <th>291</th>\n",
              "      <td>980.0</td>\n",
              "      <td>Pirkanmaa</td>\n",
              "    </tr>\n",
              "    <tr>\n",
              "      <th>292</th>\n",
              "      <td>981.0</td>\n",
              "      <td>Kanta-Häme</td>\n",
              "    </tr>\n",
              "    <tr>\n",
              "      <th>293</th>\n",
              "      <td>989.0</td>\n",
              "      <td>Etelä-Pohjanmaa</td>\n",
              "    </tr>\n",
              "    <tr>\n",
              "      <th>294</th>\n",
              "      <td>992.0</td>\n",
              "      <td>Keski-Suomi</td>\n",
              "    </tr>\n",
              "  </tbody>\n",
              "</table>\n",
              "<p>294 rows × 2 columns</p>\n",
              "</div>"
            ],
            "text/plain": [
              "      code healthCareDistrict\n",
              "1     20.0          Pirkanmaa\n",
              "2      5.0    Etelä-Pohjanmaa\n",
              "3      9.0  Pohjois-Pohjanmaa\n",
              "4     10.0    Etelä-Pohjanmaa\n",
              "5     16.0        Päijät-Häme\n",
              "..     ...                ...\n",
              "290  977.0  Pohjois-Pohjanmaa\n",
              "291  980.0          Pirkanmaa\n",
              "292  981.0         Kanta-Häme\n",
              "293  989.0    Etelä-Pohjanmaa\n",
              "294  992.0        Keski-Suomi\n",
              "\n",
              "[294 rows x 2 columns]"
            ]
          },
          "metadata": {
            "tags": []
          },
          "execution_count": 15
        }
      ]
    },
    {
      "cell_type": "code",
      "metadata": {
        "colab": {
          "base_uri": "https://localhost:8080/"
        },
        "id": "fm-Xeuiz9Egd",
        "outputId": "2480179c-2c06-47db-b1d9-edb53b2a2f94"
      },
      "source": [
        "data.dtypes"
      ],
      "execution_count": 16,
      "outputs": [
        {
          "output_type": "execute_result",
          "data": {
            "text/plain": [
              "code                  float64\n",
              "healthCareDistrict     object\n",
              "dtype: object"
            ]
          },
          "metadata": {
            "tags": []
          },
          "execution_count": 16
        }
      ]
    },
    {
      "cell_type": "code",
      "metadata": {
        "colab": {
          "base_uri": "https://localhost:8080/"
        },
        "id": "GNNHpUgT9VBs",
        "outputId": "68709a31-b3d1-42e6-d4b9-0f24814e73fd"
      },
      "source": [
        "# Example using one code\r\n",
        "number = data.at[1, \"code\"]\r\n",
        "number"
      ],
      "execution_count": 17,
      "outputs": [
        {
          "output_type": "execute_result",
          "data": {
            "text/plain": [
              "20.0"
            ]
          },
          "metadata": {
            "tags": []
          },
          "execution_count": 17
        }
      ]
    },
    {
      "cell_type": "code",
      "metadata": {
        "colab": {
          "base_uri": "https://localhost:8080/",
          "height": 35
        },
        "id": "W8p_R0iZ-A8c",
        "outputId": "bf24123f-20e0-402e-f84f-b176de77d629"
      },
      "source": [
        "# Conver this number to character string 020\r\n",
        "\"0\" + str(int(number))"
      ],
      "execution_count": 18,
      "outputs": [
        {
          "output_type": "execute_result",
          "data": {
            "application/vnd.google.colaboratory.intrinsic+json": {
              "type": "string"
            },
            "text/plain": [
              "'020'"
            ]
          },
          "metadata": {
            "tags": []
          },
          "execution_count": 18
        }
      ]
    },
    {
      "cell_type": "code",
      "metadata": {
        "id": "QaUvKbIY-uPJ"
      },
      "source": [
        "# Truncate and convert to character string\r\n",
        "data[\"code\"] = data[\"code\"].astype(int).astype('str')\r\n",
        "\r\n",
        "# Add missing zeros to municipality codes\r\n",
        "data[\"code\"] = data[\"code\"].apply(lambda x: \"00\" + x if len(x)==1 else x)\r\n",
        "data[\"code\"] = data[\"code\"].apply(lambda x: \"0\" + x if len(x)==2 else x)"
      ],
      "execution_count": 20,
      "outputs": []
    },
    {
      "cell_type": "code",
      "metadata": {
        "colab": {
          "base_uri": "https://localhost:8080/",
          "height": 197
        },
        "id": "jIViYPri_ZvU",
        "outputId": "1c631654-bff4-4b33-ce90-9262e1898345"
      },
      "source": [
        "data.head()"
      ],
      "execution_count": 21,
      "outputs": [
        {
          "output_type": "execute_result",
          "data": {
            "text/html": [
              "<div>\n",
              "<style scoped>\n",
              "    .dataframe tbody tr th:only-of-type {\n",
              "        vertical-align: middle;\n",
              "    }\n",
              "\n",
              "    .dataframe tbody tr th {\n",
              "        vertical-align: top;\n",
              "    }\n",
              "\n",
              "    .dataframe thead th {\n",
              "        text-align: right;\n",
              "    }\n",
              "</style>\n",
              "<table border=\"1\" class=\"dataframe\">\n",
              "  <thead>\n",
              "    <tr style=\"text-align: right;\">\n",
              "      <th></th>\n",
              "      <th>code</th>\n",
              "      <th>healthCareDistrict</th>\n",
              "    </tr>\n",
              "  </thead>\n",
              "  <tbody>\n",
              "    <tr>\n",
              "      <th>1</th>\n",
              "      <td>020</td>\n",
              "      <td>Pirkanmaa</td>\n",
              "    </tr>\n",
              "    <tr>\n",
              "      <th>2</th>\n",
              "      <td>005</td>\n",
              "      <td>Etelä-Pohjanmaa</td>\n",
              "    </tr>\n",
              "    <tr>\n",
              "      <th>3</th>\n",
              "      <td>009</td>\n",
              "      <td>Pohjois-Pohjanmaa</td>\n",
              "    </tr>\n",
              "    <tr>\n",
              "      <th>4</th>\n",
              "      <td>010</td>\n",
              "      <td>Etelä-Pohjanmaa</td>\n",
              "    </tr>\n",
              "    <tr>\n",
              "      <th>5</th>\n",
              "      <td>016</td>\n",
              "      <td>Päijät-Häme</td>\n",
              "    </tr>\n",
              "  </tbody>\n",
              "</table>\n",
              "</div>"
            ],
            "text/plain": [
              "  code healthCareDistrict\n",
              "1  020          Pirkanmaa\n",
              "2  005    Etelä-Pohjanmaa\n",
              "3  009  Pohjois-Pohjanmaa\n",
              "4  010    Etelä-Pohjanmaa\n",
              "5  016        Päijät-Häme"
            ]
          },
          "metadata": {
            "tags": []
          },
          "execution_count": 21
        }
      ]
    },
    {
      "cell_type": "code",
      "metadata": {
        "id": "dOs_kf3__dLH"
      },
      "source": [
        "# Merge health district info to geodata using \"code\" as the common key\r\n",
        "geodata = geodata.merge(data, on=\"code\", how=\"left\")"
      ],
      "execution_count": 22,
      "outputs": []
    },
    {
      "cell_type": "code",
      "metadata": {
        "colab": {
          "base_uri": "https://localhost:8080/",
          "height": 406
        },
        "id": "P0VdDMRC_36F",
        "outputId": "34561d57-f280-4561-8d34-980318fdfd10"
      },
      "source": [
        "geodata"
      ],
      "execution_count": 23,
      "outputs": [
        {
          "output_type": "execute_result",
          "data": {
            "text/html": [
              "<div>\n",
              "<style scoped>\n",
              "    .dataframe tbody tr th:only-of-type {\n",
              "        vertical-align: middle;\n",
              "    }\n",
              "\n",
              "    .dataframe tbody tr th {\n",
              "        vertical-align: top;\n",
              "    }\n",
              "\n",
              "    .dataframe thead th {\n",
              "        text-align: right;\n",
              "    }\n",
              "</style>\n",
              "<table border=\"1\" class=\"dataframe\">\n",
              "  <thead>\n",
              "    <tr style=\"text-align: right;\">\n",
              "      <th></th>\n",
              "      <th>code</th>\n",
              "      <th>name</th>\n",
              "      <th>geometry</th>\n",
              "      <th>healthCareDistrict</th>\n",
              "    </tr>\n",
              "  </thead>\n",
              "  <tbody>\n",
              "    <tr>\n",
              "      <th>0</th>\n",
              "      <td>005</td>\n",
              "      <td>Alajärvi</td>\n",
              "      <td>POLYGON ((366787.924 7001300.583, 364150.540 7...</td>\n",
              "      <td>Etelä-Pohjanmaa</td>\n",
              "    </tr>\n",
              "    <tr>\n",
              "      <th>1</th>\n",
              "      <td>009</td>\n",
              "      <td>Alavieska</td>\n",
              "      <td>POLYGON ((382543.364 7120022.976, 380556.177 7...</td>\n",
              "      <td>Pohjois-Pohjanmaa</td>\n",
              "    </tr>\n",
              "    <tr>\n",
              "      <th>2</th>\n",
              "      <td>010</td>\n",
              "      <td>Alavus</td>\n",
              "      <td>POLYGON ((343298.204 6961570.195, 340572.015 6...</td>\n",
              "      <td>Etelä-Pohjanmaa</td>\n",
              "    </tr>\n",
              "    <tr>\n",
              "      <th>3</th>\n",
              "      <td>016</td>\n",
              "      <td>Asikkala</td>\n",
              "      <td>POLYGON ((436139.680 6798279.085, 432732.949 6...</td>\n",
              "      <td>Päijät-Häme</td>\n",
              "    </tr>\n",
              "    <tr>\n",
              "      <th>4</th>\n",
              "      <td>018</td>\n",
              "      <td>Askola</td>\n",
              "      <td>POLYGON ((426631.036 6720528.076, 425751.505 6...</td>\n",
              "      <td>HUS</td>\n",
              "    </tr>\n",
              "    <tr>\n",
              "      <th>...</th>\n",
              "      <td>...</td>\n",
              "      <td>...</td>\n",
              "      <td>...</td>\n",
              "      <td>...</td>\n",
              "    </tr>\n",
              "    <tr>\n",
              "      <th>304</th>\n",
              "      <td>977</td>\n",
              "      <td>Ylivieska</td>\n",
              "      <td>POLYGON ((398010.991 7110887.267, 392464.690 7...</td>\n",
              "      <td>Pohjois-Pohjanmaa</td>\n",
              "    </tr>\n",
              "    <tr>\n",
              "      <th>305</th>\n",
              "      <td>980</td>\n",
              "      <td>Ylöjärvi</td>\n",
              "      <td>POLYGON ((313738.511 6896936.100, 311165.511 6...</td>\n",
              "      <td>Pirkanmaa</td>\n",
              "    </tr>\n",
              "    <tr>\n",
              "      <th>306</th>\n",
              "      <td>981</td>\n",
              "      <td>Ypäjä</td>\n",
              "      <td>POLYGON ((297451.456 6756204.328, 291432.640 6...</td>\n",
              "      <td>Kanta-Häme</td>\n",
              "    </tr>\n",
              "    <tr>\n",
              "      <th>307</th>\n",
              "      <td>989</td>\n",
              "      <td>Ähtäri</td>\n",
              "      <td>POLYGON ((348733.187 6959704.551, 347302.684 6...</td>\n",
              "      <td>Etelä-Pohjanmaa</td>\n",
              "    </tr>\n",
              "    <tr>\n",
              "      <th>308</th>\n",
              "      <td>992</td>\n",
              "      <td>Äänekoski</td>\n",
              "      <td>POLYGON ((452626.858 6973610.366, 451491.412 6...</td>\n",
              "      <td>Keski-Suomi</td>\n",
              "    </tr>\n",
              "  </tbody>\n",
              "</table>\n",
              "<p>309 rows × 4 columns</p>\n",
              "</div>"
            ],
            "text/plain": [
              "    code  ... healthCareDistrict\n",
              "0    005  ...    Etelä-Pohjanmaa\n",
              "1    009  ...  Pohjois-Pohjanmaa\n",
              "2    010  ...    Etelä-Pohjanmaa\n",
              "3    016  ...        Päijät-Häme\n",
              "4    018  ...                HUS\n",
              "..   ...  ...                ...\n",
              "304  977  ...  Pohjois-Pohjanmaa\n",
              "305  980  ...          Pirkanmaa\n",
              "306  981  ...         Kanta-Häme\n",
              "307  989  ...    Etelä-Pohjanmaa\n",
              "308  992  ...        Keski-Suomi\n",
              "\n",
              "[309 rows x 4 columns]"
            ]
          },
          "metadata": {
            "tags": []
          },
          "execution_count": 23
        }
      ]
    },
    {
      "cell_type": "code",
      "metadata": {
        "colab": {
          "base_uri": "https://localhost:8080/"
        },
        "id": "qVEZ8qAhAGzk",
        "outputId": "3e06e7b9-4062-4815-bcd3-89a25826ec2c"
      },
      "source": [
        "# List all municipalities that lack health district info:\r\n",
        "geodata[geodata[\"healthCareDistrict\"].isnull()].name"
      ],
      "execution_count": 31,
      "outputs": [
        {
          "output_type": "execute_result",
          "data": {
            "text/plain": [
              "7          Brändö\n",
              "8          Eckerö\n",
              "15       Finström\n",
              "17          Föglö\n",
              "18           Geta\n",
              "24     Hammarland\n",
              "57         Jomala\n",
              "111      Kumlinge\n",
              "121         Kökar\n",
              "134       Lemland\n",
              "147    Lumparland\n",
              "153     Mariehamn\n",
              "236       Saltvik\n",
              "254      Sottunga\n",
              "256          Sund\n",
              "301         Vårdö\n",
              "Name: name, dtype: object"
            ]
          },
          "metadata": {
            "tags": []
          },
          "execution_count": 31
        }
      ]
    },
    {
      "cell_type": "code",
      "metadata": {
        "id": "9XSi3F7pANfV"
      },
      "source": [
        "# Update \"Ahvenanmaa\" as the health care district for Åland municipalities (16 municipalities in total)\r\n",
        "geodata.loc[geodata[\"healthCareDistrict\"].isnull(), \"healthCareDistrict\"] = \"Ahvenanmaa\""
      ],
      "execution_count": 32,
      "outputs": []
    },
    {
      "cell_type": "code",
      "metadata": {
        "colab": {
          "base_uri": "https://localhost:8080/"
        },
        "id": "RHpIRymWAy5G",
        "outputId": "ab334f65-0015-4e10-c179-4f973f91ffce"
      },
      "source": [
        "geodata[\"healthCareDistrict\"].value_counts()"
      ],
      "execution_count": 33,
      "outputs": [
        {
          "output_type": "execute_result",
          "data": {
            "text/plain": [
              "Pohjois-Pohjanmaa    29\n",
              "Varsinais-Suomi      28\n",
              "HUS                  24\n",
              "Pirkanmaa            23\n",
              "Keski-Suomi          21\n",
              "Etelä-Pohjanmaa      18\n",
              "Pohjois-Savo         18\n",
              "Satakunta            16\n",
              "Ahvenanmaa           16\n",
              "Lappi                15\n",
              "Pohjois-Karjala      13\n",
              "Vaasa                13\n",
              "Päijät-Häme          12\n",
              "Kanta-Häme           11\n",
              "Keski-Pohjanmaa      10\n",
              "Etelä-Karjala         9\n",
              "Etelä-Savo            9\n",
              "Kainuu                8\n",
              "Kymenlaakso           6\n",
              "Länsi-Pohja           6\n",
              "Itä-Savo              4\n",
              "Name: healthCareDistrict, dtype: int64"
            ]
          },
          "metadata": {
            "tags": []
          },
          "execution_count": 33
        }
      ]
    },
    {
      "cell_type": "code",
      "metadata": {
        "id": "VsPuG2wlA_0E"
      },
      "source": [
        "# Dissolve (=combine) municipality polygon geometries for each health care district\r\n",
        "districts = geodata.dissolve(by='healthCareDistrict')"
      ],
      "execution_count": 34,
      "outputs": []
    },
    {
      "cell_type": "code",
      "metadata": {
        "id": "y0-R89I1CEu9"
      },
      "source": [
        "districts.reset_index(inplace=True)"
      ],
      "execution_count": 35,
      "outputs": []
    },
    {
      "cell_type": "code",
      "metadata": {
        "id": "bUD8FwdlCIW6"
      },
      "source": [
        "# Select useful columns\r\n",
        "districts = districts[[\"healthCareDistrict\", \"geometry\"]]"
      ],
      "execution_count": 36,
      "outputs": []
    },
    {
      "cell_type": "code",
      "metadata": {
        "colab": {
          "base_uri": "https://localhost:8080/",
          "height": 677
        },
        "id": "Nc_dcarnCPec",
        "outputId": "93585bed-2041-4294-b81f-4fb82591c1db"
      },
      "source": [
        "districts"
      ],
      "execution_count": 37,
      "outputs": [
        {
          "output_type": "execute_result",
          "data": {
            "text/html": [
              "<div>\n",
              "<style scoped>\n",
              "    .dataframe tbody tr th:only-of-type {\n",
              "        vertical-align: middle;\n",
              "    }\n",
              "\n",
              "    .dataframe tbody tr th {\n",
              "        vertical-align: top;\n",
              "    }\n",
              "\n",
              "    .dataframe thead th {\n",
              "        text-align: right;\n",
              "    }\n",
              "</style>\n",
              "<table border=\"1\" class=\"dataframe\">\n",
              "  <thead>\n",
              "    <tr style=\"text-align: right;\">\n",
              "      <th></th>\n",
              "      <th>healthCareDistrict</th>\n",
              "      <th>geometry</th>\n",
              "    </tr>\n",
              "  </thead>\n",
              "  <tbody>\n",
              "    <tr>\n",
              "      <th>0</th>\n",
              "      <td>Ahvenanmaa</td>\n",
              "      <td>MULTIPOLYGON (((173277.623 6640282.925, 173136...</td>\n",
              "    </tr>\n",
              "    <tr>\n",
              "      <th>1</th>\n",
              "      <td>Etelä-Karjala</td>\n",
              "      <td>POLYGON ((538858.650 6740202.117, 536909.932 6...</td>\n",
              "    </tr>\n",
              "    <tr>\n",
              "      <th>2</th>\n",
              "      <td>Etelä-Pohjanmaa</td>\n",
              "      <td>POLYGON ((249539.259 6894974.367, 244232.829 6...</td>\n",
              "    </tr>\n",
              "    <tr>\n",
              "      <th>3</th>\n",
              "      <td>Etelä-Savo</td>\n",
              "      <td>POLYGON ((520334.347 6786709.482, 520632.817 6...</td>\n",
              "    </tr>\n",
              "    <tr>\n",
              "      <th>4</th>\n",
              "      <td>HUS</td>\n",
              "      <td>MULTIPOLYGON (((272609.681 6632304.439, 272418...</td>\n",
              "    </tr>\n",
              "    <tr>\n",
              "      <th>5</th>\n",
              "      <td>Itä-Savo</td>\n",
              "      <td>POLYGON ((603980.674 6824572.057, 600339.558 6...</td>\n",
              "    </tr>\n",
              "    <tr>\n",
              "      <th>6</th>\n",
              "      <td>Kainuu</td>\n",
              "      <td>POLYGON ((643098.600 7165870.100, 643537.000 7...</td>\n",
              "    </tr>\n",
              "    <tr>\n",
              "      <th>7</th>\n",
              "      <td>Kanta-Häme</td>\n",
              "      <td>POLYGON ((369728.766 6728123.905, 366878.133 6...</td>\n",
              "    </tr>\n",
              "    <tr>\n",
              "      <th>8</th>\n",
              "      <td>Keski-Pohjanmaa</td>\n",
              "      <td>MULTIPOLYGON (((302835.219 7083897.220, 302801...</td>\n",
              "    </tr>\n",
              "    <tr>\n",
              "      <th>9</th>\n",
              "      <td>Keski-Suomi</td>\n",
              "      <td>POLYGON ((439110.805 6852598.036, 439300.113 6...</td>\n",
              "    </tr>\n",
              "    <tr>\n",
              "      <th>10</th>\n",
              "      <td>Kymenlaakso</td>\n",
              "      <td>MULTIPOLYGON (((501532.450 6680088.052, 501352...</td>\n",
              "    </tr>\n",
              "    <tr>\n",
              "      <th>11</th>\n",
              "      <td>Lappi</td>\n",
              "      <td>POLYGON ((518535.957 7313104.574, 515335.969 7...</td>\n",
              "    </tr>\n",
              "    <tr>\n",
              "      <th>12</th>\n",
              "      <td>Länsi-Pohja</td>\n",
              "      <td>MULTIPOLYGON (((399348.710 7271646.236, 399096...</td>\n",
              "    </tr>\n",
              "    <tr>\n",
              "      <th>13</th>\n",
              "      <td>Pirkanmaa</td>\n",
              "      <td>POLYGON ((324952.559 6773513.092, 327451.427 6...</td>\n",
              "    </tr>\n",
              "    <tr>\n",
              "      <th>14</th>\n",
              "      <td>Pohjois-Karjala</td>\n",
              "      <td>POLYGON ((681990.187 6886181.668, 680094.200 6...</td>\n",
              "    </tr>\n",
              "    <tr>\n",
              "      <th>15</th>\n",
              "      <td>Pohjois-Pohjanmaa</td>\n",
              "      <td>MULTIPOLYGON (((462785.501 7079521.042, 461527...</td>\n",
              "    </tr>\n",
              "    <tr>\n",
              "      <th>16</th>\n",
              "      <td>Pohjois-Savo</td>\n",
              "      <td>POLYGON ((568071.215 6914370.703, 570686.991 6...</td>\n",
              "    </tr>\n",
              "    <tr>\n",
              "      <th>17</th>\n",
              "      <td>Päijät-Häme</td>\n",
              "      <td>POLYGON ((441787.770 6730507.194, 442140.745 6...</td>\n",
              "    </tr>\n",
              "    <tr>\n",
              "      <th>18</th>\n",
              "      <td>Satakunta</td>\n",
              "      <td>MULTIPOLYGON (((198569.146 6782909.960, 198622...</td>\n",
              "    </tr>\n",
              "    <tr>\n",
              "      <th>19</th>\n",
              "      <td>Vaasa</td>\n",
              "      <td>MULTIPOLYGON (((201701.793 6884336.726, 201726...</td>\n",
              "    </tr>\n",
              "    <tr>\n",
              "      <th>20</th>\n",
              "      <td>Varsinais-Suomi</td>\n",
              "      <td>MULTIPOLYGON (((258767.605 6632338.388, 258668...</td>\n",
              "    </tr>\n",
              "  </tbody>\n",
              "</table>\n",
              "</div>"
            ],
            "text/plain": [
              "   healthCareDistrict                                           geometry\n",
              "0          Ahvenanmaa  MULTIPOLYGON (((173277.623 6640282.925, 173136...\n",
              "1       Etelä-Karjala  POLYGON ((538858.650 6740202.117, 536909.932 6...\n",
              "2     Etelä-Pohjanmaa  POLYGON ((249539.259 6894974.367, 244232.829 6...\n",
              "3          Etelä-Savo  POLYGON ((520334.347 6786709.482, 520632.817 6...\n",
              "4                 HUS  MULTIPOLYGON (((272609.681 6632304.439, 272418...\n",
              "5            Itä-Savo  POLYGON ((603980.674 6824572.057, 600339.558 6...\n",
              "6              Kainuu  POLYGON ((643098.600 7165870.100, 643537.000 7...\n",
              "7          Kanta-Häme  POLYGON ((369728.766 6728123.905, 366878.133 6...\n",
              "8     Keski-Pohjanmaa  MULTIPOLYGON (((302835.219 7083897.220, 302801...\n",
              "9         Keski-Suomi  POLYGON ((439110.805 6852598.036, 439300.113 6...\n",
              "10        Kymenlaakso  MULTIPOLYGON (((501532.450 6680088.052, 501352...\n",
              "11              Lappi  POLYGON ((518535.957 7313104.574, 515335.969 7...\n",
              "12        Länsi-Pohja  MULTIPOLYGON (((399348.710 7271646.236, 399096...\n",
              "13          Pirkanmaa  POLYGON ((324952.559 6773513.092, 327451.427 6...\n",
              "14    Pohjois-Karjala  POLYGON ((681990.187 6886181.668, 680094.200 6...\n",
              "15  Pohjois-Pohjanmaa  MULTIPOLYGON (((462785.501 7079521.042, 461527...\n",
              "16       Pohjois-Savo  POLYGON ((568071.215 6914370.703, 570686.991 6...\n",
              "17        Päijät-Häme  POLYGON ((441787.770 6730507.194, 442140.745 6...\n",
              "18          Satakunta  MULTIPOLYGON (((198569.146 6782909.960, 198622...\n",
              "19              Vaasa  MULTIPOLYGON (((201701.793 6884336.726, 201726...\n",
              "20    Varsinais-Suomi  MULTIPOLYGON (((258767.605 6632338.388, 258668..."
            ]
          },
          "metadata": {
            "tags": []
          },
          "execution_count": 37
        }
      ]
    },
    {
      "cell_type": "code",
      "metadata": {
        "colab": {
          "base_uri": "https://localhost:8080/"
        },
        "id": "flA-zGYCCj1V",
        "outputId": "5c4cab86-e2ff-4d93-89d6-6f0ca615c4fe"
      },
      "source": [
        "!pip install mapclassify"
      ],
      "execution_count": 40,
      "outputs": [
        {
          "output_type": "stream",
          "text": [
            "Collecting mapclassify\n",
            "  Downloading https://files.pythonhosted.org/packages/22/8e/d968c0945d41bb02de0efaa92e31e43a817dc52d30e82b4dfdda407a1903/mapclassify-2.4.2-py3-none-any.whl\n",
            "Requirement already satisfied: pandas>=1.0 in /usr/local/lib/python3.7/dist-packages (from mapclassify) (1.1.5)\n",
            "Requirement already satisfied: scikit-learn in /usr/local/lib/python3.7/dist-packages (from mapclassify) (0.22.2.post1)\n",
            "Requirement already satisfied: networkx in /usr/local/lib/python3.7/dist-packages (from mapclassify) (2.5)\n",
            "Requirement already satisfied: numpy>=1.3 in /usr/local/lib/python3.7/dist-packages (from mapclassify) (1.19.5)\n",
            "Requirement already satisfied: scipy>=1.0 in /usr/local/lib/python3.7/dist-packages (from mapclassify) (1.4.1)\n",
            "Requirement already satisfied: pytz>=2017.2 in /usr/local/lib/python3.7/dist-packages (from pandas>=1.0->mapclassify) (2018.9)\n",
            "Requirement already satisfied: python-dateutil>=2.7.3 in /usr/local/lib/python3.7/dist-packages (from pandas>=1.0->mapclassify) (2.8.1)\n",
            "Requirement already satisfied: joblib>=0.11 in /usr/local/lib/python3.7/dist-packages (from scikit-learn->mapclassify) (1.0.1)\n",
            "Requirement already satisfied: decorator>=4.3.0 in /usr/local/lib/python3.7/dist-packages (from networkx->mapclassify) (4.4.2)\n",
            "Requirement already satisfied: six>=1.5 in /usr/local/lib/python3.7/dist-packages (from python-dateutil>=2.7.3->pandas>=1.0->mapclassify) (1.15.0)\n",
            "Installing collected packages: mapclassify\n",
            "Successfully installed mapclassify-2.4.2\n"
          ],
          "name": "stdout"
        }
      ]
    },
    {
      "cell_type": "code",
      "metadata": {
        "colab": {
          "base_uri": "https://localhost:8080/",
          "height": 265
        },
        "id": "e5wp7tqUCURe",
        "outputId": "6473ee5f-c6f1-46f6-ddf5-2272bf7d504f"
      },
      "source": [
        "districts.plot(column='healthCareDistrict', scheme=\"equal_interval\",cmap='tab20', k=20)\r\n",
        "plt.axis('off')"
      ],
      "execution_count": 41,
      "outputs": [
        {
          "output_type": "execute_result",
          "data": {
            "text/plain": [
              "(40857.339215, 765862.479085, 6575077.820610001, 7833703.7515899995)"
            ]
          },
          "metadata": {
            "tags": []
          },
          "execution_count": 41
        },
        {
          "output_type": "display_data",
          "data": {
            "image/png": "[encoded data removed]",
            "text/plain": [
              "<Figure size 432x288 with 1 Axes>"
            ]
          },
          "metadata": {
            "tags": [],
            "needs_background": "light"
          }
        }
      ]
    },
    {
      "cell_type": "code",
      "metadata": {
        "id": "V3YByWy_CZre"
      },
      "source": [
        "# Write GeoJSON in original projection\r\n",
        "districts.to_file(\"healthDistrictsEPSG3067.geojson\", driver='GeoJSON', encoding='utf-8')"
      ],
      "execution_count": 42,
      "outputs": []
    },
    {
      "cell_type": "code",
      "metadata": {
        "id": "rwuZ7XWXC6hV"
      },
      "source": [
        "# Re-project to WGS84 and save again\r\n",
        "wgs84 = CRS.from_epsg(4326)\r\n",
        "districts.to_crs(wgs84).to_file(\"healthDistrictsEPSG4326.geojson\", driver='GeoJSON', encoding='utf-8')"
      ],
      "execution_count": 43,
      "outputs": []
    },
    {
      "cell_type": "code",
      "metadata": {
        "id": "NCRk0ekaDA3S"
      },
      "source": [
        ""
      ],
      "execution_count": null,
      "outputs": []
    }
  ]
}