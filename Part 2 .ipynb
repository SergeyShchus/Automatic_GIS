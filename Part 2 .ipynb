{
 "cells": [
  {
   "cell_type": "markdown",
   "metadata": {},
   "source": [
    "# Геометрические объекты - модель пространственных данных\n",
    "\n",
    "\n",
    "Обзор геометрических объектов и Shapely -module\n",
    "\n",
    "![title](https://github.com/SergeyShchus/Automatic_GIS/blob/master/img/SpatialDataModel.PNG?raw=true)\n",
    "\n",
    "http://www.helsinki.fi/science/accessibility/maintenance/Kuvia/SpatialDataModel.PNG\n",
    "Фундаментальные геометрические объекты, которые можно использовать в Python с модулем Shapely\n",
    "\n",
    "Наиболее фундаментальными геометрическими объектами являются точки , линии и многоугольники, которые являются основными компонентами при работе с пространственными данными в векторном формате. Python имеет специальный модуль Shapely, который можно использовать для создания и работы с геометрическими объектами . Существует множество полезных функций, которые вы можете сделать с Shapely, например:\n",
    "\n",
    "Создать линию или многоугольник из коллекции от точечных геометрий\n",
    "Вычислять области / длину / границы и т. Д. Геометрии ввода\n",
    "Сделайте геометрические операции на основе входных геометрий, таких как Union , Difference , Distance и т. Д.\n",
    "Сделайте пространственные запросы между геометриями, такими как пересечения , привязки , кресты , внутри и т. Д.\n",
    "Геометрические объекты состоят из координатных кортежей, где:\n",
    "\n",
    "Point -объект представляет собой единую точку в пространстве. Точки могут быть либо двумерными (x, y), либо трехмерными (x, y, z).\n",
    "LineString -объект (т.е. строка) представляет собой последовательность точек, соединенных вместе, чтобы сформировать линию. Следовательно, строка состоит из списка, по меньшей мере, двух координатных кортежей\n",
    "Объект Polygon представляет собой заполненную область, состоящую из списка, по меньшей мере, трех координатных кортежей, образующих внешнее кольцо и (возможного) списка дырчатых полигонов.\n",
    "Также возможно иметь набор геометрических объектов (например, многоугольников с несколькими частями):\n",
    "\n",
    "MultiPoint -объект представляет собой набор точек и состоит из списка координатных кортежей\n",
    "MultiLineString -объект представляет собой набор строк и состоит из списка линейных последовательностей\n",
    "MultiPolygon -объект представляет собой набор полигонов, который состоит из списка многоугольных последовательностей, которые строятся из внешнего кольца и (возможно) кортежей списка отверстий\n",
    "\n",
    "# Точка\n",
    "\n",
    "Создать точки легко, необходимо передать координаты x и y в объект Point () -объект (+, возможно, также z -координат):"
   ]
  },
  {
   "cell_type": "code",
   "execution_count": 2,
   "metadata": {},
   "outputs": [],
   "source": [
    "# Import necessary geometric objects from shapely module\n",
    "from shapely.geometry import Point, LineString, Polygon\n",
    "\n",
    "# Create Point geometric object(s) with coordinates\n",
    "point1 = Point(2.2, 4.2)\n",
    "point2 = Point(7.2, -25.1)\n",
    "point3 = Point(9.26, -2.456)\n",
    "point3D = Point(9.26, -2.456, 0.57)\n",
    "point_type = type(point1)"
   ]
  },
  {
   "cell_type": "code",
   "execution_count": 2,
   "metadata": {},
   "outputs": [
    {
     "name": "stdout",
     "output_type": "stream",
     "text": [
      "POINT (2.2 4.2)\n",
      "POINT Z (9.26 -2.456 0.57)\n",
      "<class 'shapely.geometry.point.Point'>\n"
     ]
    }
   ],
   "source": [
    "print(point1)\n",
    "print(point3D)\n",
    "print(type(point1))"
   ]
  },
  {
   "cell_type": "markdown",
   "metadata": {},
   "source": [
    "Мы видим, что тип точки - это фигурная точка, которая представлена ​​в определенном формате, основанном на библиотеке GEOS C ++, которая является одной из стандартных библиотек в ГИС. Он работает под капотом, например, в Квантовой ГИС . 3D-точка может быть распознана из столичного Z-бюллетеня перед координатами.\n",
    "\n",
    "# Точечные атрибуты и функции\n",
    "Point -объект имеет некоторые встроенные атрибуты, к которым можно получить доступ, а также некоторые полезные функции. Одной из наиболее полезных из них является способность извлекать координаты Точки и вычислять эвклидово расстояние между точками.\n",
    "\n",
    "Извлечение координат точки можно сделать несколькими способами"
   ]
  },
  {
   "cell_type": "code",
   "execution_count": 4,
   "metadata": {},
   "outputs": [
    {
     "data": {
      "text/plain": [
       "shapely.coords.CoordinateSequence"
      ]
     },
     "execution_count": 4,
     "metadata": {},
     "output_type": "execute_result"
    }
   ],
   "source": [
    "# Get the coordinates\n",
    "point_coords = point1.coords\n",
    "\n",
    "# What is the type of this?\n",
    "type(point_coords)"
   ]
  },
  {
   "cell_type": "markdown",
   "metadata": {},
   "source": [
    "Хорошо, мы видим, что выход - это Shapely CoordinateSequence. Посмотрим, как мы можем получить фактические координаты:"
   ]
  },
  {
   "cell_type": "code",
   "execution_count": 5,
   "metadata": {},
   "outputs": [],
   "source": [
    "# Get x and y coordinates\n",
    "xy = point_coords.xy\n",
    "\n",
    "# Get only x coordinates of Point1\n",
    "x = point1.x\n",
    "\n",
    "# Whatabout y coordinate?\n",
    "y = point1.y"
   ]
  },
  {
   "cell_type": "markdown",
   "metadata": {},
   "source": [
    "То, что находится внутри?"
   ]
  },
  {
   "cell_type": "code",
   "execution_count": 6,
   "metadata": {},
   "outputs": [
    {
     "name": "stdout",
     "output_type": "stream",
     "text": [
      "(array('d', [2.2]), array('d', [4.2]))\n",
      "2.2\n",
      "4.2\n"
     ]
    }
   ],
   "source": [
    "print(xy)\n",
    "\n",
    "print(x)\n",
    "\n",
    "print(y)"
   ]
  },
  {
   "cell_type": "markdown",
   "metadata": {},
   "source": [
    "переменная xy содержит кортеж, где x и y хранятся внутри массивов numpy. Однако наши переменные x и y являются равными десятичными числами.\n",
    "\n",
    "Также возможно рассчитать расстояние между точками, которое может быть полезно во многих приложениях\n",
    "возвращаемое расстояние основано на проекции точек (градусов в WGS84, метров в UTM)"
   ]
  },
  {
   "cell_type": "code",
   "execution_count": 9,
   "metadata": {},
   "outputs": [
    {
     "name": "stdout",
     "output_type": "stream",
     "text": [
      "Distance between the points is 29.72 decimal degrees\n"
     ]
    }
   ],
   "source": [
    "point_dist = point1.distance (point2)\n",
    "print(\"Distance between the points is {0:.2f} decimal degrees\".format(point_dist))"
   ]
  },
  {
   "cell_type": "markdown",
   "metadata": {},
   "source": [
    "# LineString\n",
    "Создание объекта LineString довольно похоже на то, как создается точка. Теперь вместо использования одного координатного кортежа мы можем построить линию, используя либо список фигурных объектов Point -объектов, либо пропустить координатные кортежи:"
   ]
  },
  {
   "cell_type": "code",
   "execution_count": 14,
   "metadata": {},
   "outputs": [],
   "source": [
    "line = LineString ([point1, point2, point3])\n",
    "line2 = LineString ([(2.2, 4.2), (7.2, -25.1), (9.26, -2.456)])"
   ]
  },
  {
   "cell_type": "markdown",
   "metadata": {},
   "source": [
    "# Атрибуты и функции LineString\n",
    "LineString -объект имеет много полезных встроенных атрибутов и функциональных возможностей. Например, можно извлечь координаты или длину строки LineString (строка), вычислить центр тяжести линии, создать точки вдоль линии на определенном расстоянии, рассчитать самое близкое расстояние от линии до указанной точки и упростить геометрию. См. Полный список функций из документации Shapely . Здесь мы просматриваем несколько из них.\n",
    "\n",
    "Мы можем извлечь координаты LineString так же, как и Point"
   ]
  },
  {
   "cell_type": "code",
   "execution_count": 15,
   "metadata": {},
   "outputs": [
    {
     "name": "stdout",
     "output_type": "stream",
     "text": [
      "(array('d', [2.2, 7.2, 9.26]), array('d', [4.2, -25.1, -2.456]))\n"
     ]
    }
   ],
   "source": [
    "lxy = line.xy\n",
    "print (lxy)"
   ]
  },
  {
   "cell_type": "markdown",
   "metadata": {},
   "source": [
    "координаты снова сохраняются в виде массивов numpy, где первый массив включает в себя все x-координаты и вторую все y-координаты соответственно.\n",
    "\n",
    "Мы можем извлечь только координаты x или y, обратившись к этим массивам следующим образом"
   ]
  },
  {
   "cell_type": "code",
   "execution_count": 20,
   "metadata": {},
   "outputs": [
    {
     "name": "stdout",
     "output_type": "stream",
     "text": [
      "array('d', [2.2, 7.2, 9.26])\n",
      "array('d', [2.2, 7.2, 9.26])\n",
      "array('d', [2.2, 7.2, 9.26])\n"
     ]
    }
   ],
   "source": [
    "#извлечь координаты x\n",
    "line_x = lxy [0]\n",
    "\n",
    "# Извлечь y координаты прямо из объекта LineObject, обратившись к массиву с индексом 1\n",
    "line_y = line.xy [1]\n",
    "\n",
    "print (line_x)\n",
    "print (line_x)\n",
    "print (lxy [0])"
   ]
  },
  {
   "cell_type": "markdown",
   "metadata": {},
   "source": [
    "Мы можем получить конкретные атрибуты, такие как длина линии и центра линии (центроид) прямо от самого объекта LineString"
   ]
  },
  {
   "cell_type": "code",
   "execution_count": 22,
   "metadata": {},
   "outputs": [
    {
     "name": "stdout",
     "output_type": "stream",
     "text": [
      "Length of our line: 52.46\n",
      "Centroid of our line:  POINT (6.229961354035622 -11.89241115757239)\n",
      "Type of the centroid: <class 'shapely.geometry.point.Point'>\n"
     ]
    }
   ],
   "source": [
    "# Получить длину строки\n",
    "l_lenght = line.length\n",
    "\n",
    "# Получить центр тяжести линии \n",
    "l_centroid = line.centroid\n",
    "\n",
    "# Какой тип центроида? \n",
    "centroid_type = type (l_centroid)\n",
    "\n",
    "print(\"Length of our line: {0:.2f}\".format(l_lenght))\n",
    "\n",
    "print(\"Centroid of our line: \", l_centroid)\n",
    "\n",
    "print(\"Type of the centroid:\", centroid_type)"
   ]
  },
  {
   "cell_type": "markdown",
   "metadata": {},
   "source": [
    "Это уже довольно полезная информация для многих задач ГИС, и мы еще ничего не подсчитали! Эти атрибуты встроены в каждый созданный объект LineString. Обратите внимание, что возвращаемый центроид - это объект-объект, который имеет свои собственные функции, как было описано ранее."
   ]
  },
  {
   "cell_type": "markdown",
   "metadata": {},
   "source": [
    "# Многоугольник\n",
    "Создание объекта Polygon продолжает ту же логику, что и Point и LineString, но объект Polygon принимает только координатные кортежи в качестве входных данных. Полигону требуется как минимум три координатных набора:"
   ]
  },
  {
   "cell_type": "code",
   "execution_count": 23,
   "metadata": {},
   "outputs": [
    {
     "name": "stdout",
     "output_type": "stream",
     "text": [
      "POLYGON ((2.2 4.2, 7.2 -25.1, 9.26 -2.456, 2.2 4.2))\n",
      "POLYGON ((2.2 4.2, 7.2 -25.1, 9.26 -2.456, 2.2 4.2))\n",
      "Geometry type as text: Polygon\n",
      "Geometry how Python shows it: <class 'shapely.geometry.polygon.Polygon'>\n"
     ]
    }
   ],
   "source": [
    "# Создаем многоугольник из координат \n",
    "poly = Polygon([(2.2, 4.2), (7.2, -25.1), (9.26, -2.456)])\n",
    "\n",
    "# Мы также можем использовать наши ранее созданные объекты Point (такие же результат) \n",
    "# -> заметить, что для объекта Polygon требуются координаты x, y в качестве входных данных \n",
    "poly2 = Polygon([[p.x, p.y] for p in [point1, point2, point3]])\n",
    "\n",
    "poly_type = poly.geom_type\n",
    "\n",
    "poly_type2 = type(poly)\n",
    "\n",
    "print(poly)\n",
    "\n",
    "print(poly2)\n",
    "\n",
    "print(\"Geometry type as text:\", poly_type)\n",
    "\n",
    "print(\"Geometry how Python shows it:\", poly_type2)"
   ]
  },
  {
   "cell_type": "markdown",
   "metadata": {},
   "source": [
    "Многоугольник имеет двойные скобки вокруг координат. Это потому, что Polygon также может иметь отверстия внутри него. Как сообщает Polygon-object, Polygon может быть построен с использованием внешних координат и внутренних координат (необязательно), где внутренние координаты создают отверстие внутри многоугольника:"
   ]
  },
  {
   "cell_type": "code",
   "execution_count": 24,
   "metadata": {},
   "outputs": [],
   "source": [
    "# Давайте создадим ограничительную рамку мира и сделаем целое в ней \n",
    "# Сначала мы определяем нашу внешность \n",
    "world_exterior = [(-180, 90), (-180, -90), (180, -90), (180, 90)]\n",
    "\n",
    "# Давайте создадим одну большую дыру, где мы оставим десять десятичных градусов на границах мира. \n",
    "# Примечание: может быть много отверстий, поэтому нам нужно предоставить список отверстий\n",
    "hole = [[(-170, 80), (-170, -80), (170, -80), (170, 80)]]\n",
    "\n",
    "# Мир без отверстия\n",
    "world = Polygon(shell=world_exterior)\n",
    "\n",
    "# Теперь мы можем строить многоугольник с отверстием внутри \n",
    "world_has_a_hole = Polygon(shell=world_exterior, holes=hole)"
   ]
  },
  {
   "cell_type": "markdown",
   "metadata": {},
   "source": [
    "результат:"
   ]
  },
  {
   "cell_type": "code",
   "execution_count": 26,
   "metadata": {},
   "outputs": [
    {
     "name": "stdout",
     "output_type": "stream",
     "text": [
      "POLYGON ((-180 90, -180 -90, 180 -90, 180 90, -180 90))\n",
      "POLYGON ((-180 90, -180 -90, 180 -90, 180 90, -180 90), (-170 80, -170 -80, 170 -80, 170 80, -170 80))\n"
     ]
    },
    {
     "data": {
      "text/plain": [
       "shapely.geometry.polygon.Polygon"
      ]
     },
     "execution_count": 26,
     "metadata": {},
     "output_type": "execute_result"
    }
   ],
   "source": [
    "print (world)\n",
    "\n",
    "print (world_has_a_hole)\n",
    "\n",
    "type (world_has_a_hole)"
   ]
  },
  {
   "cell_type": "markdown",
   "metadata": {},
   "source": [
    "Теперь мы видим, что многоугольник имеет два разных набора координат. Первый представляет собой внешний, а второй - отверстие внутри многоугольника.\n",
    "\n",
    "Атрибуты и функции многоугольника\n",
    "Мы можем снова получить доступ к различным атрибутам, которые действительно полезны, такие как область, центр, ограничивающий прямоугольник, внешний вид и внешняя длина многоугольника"
   ]
  },
  {
   "cell_type": "code",
   "execution_count": 31,
   "metadata": {},
   "outputs": [],
   "source": [
    "# Получить центр тяжести Polygon \n",
    "world_centroid  =  world.centroid \n",
    "\n",
    "# Получить область Polygon \n",
    "world_area  =  world.area \n",
    "\n",
    "# Получить границы полигона (т.е. ограничивающий прямоугольник) \n",
    "world_bbox  =  world.bounds\n",
    "\n",
    "# Получить внешний вид Polygon \n",
    "world_ext  =  world.exterior \n",
    "\n",
    "# Получите длину внешнего вида \n",
    "world_ext_length  =  world_ext.length"
   ]
  },
  {
   "cell_type": "markdown",
   "metadata": {},
   "source": [
    "результат:"
   ]
  },
  {
   "cell_type": "code",
   "execution_count": 32,
   "metadata": {},
   "outputs": [
    {
     "name": "stdout",
     "output_type": "stream",
     "text": [
      "Poly centroid:  POINT (-0 -0)\n",
      "Poly Area:  64800.0\n",
      "Poly Bounding Box:  (-180.0, -90.0, 180.0, 90.0)\n",
      "Poly Exterior:  LINEARRING (-180 90, -180 -90, 180 -90, 180 90, -180 90)\n",
      "Poly Exterior Length:  1080.0\n"
     ]
    }
   ],
   "source": [
    "print(\"Poly centroid: \", world_centroid)\n",
    "\n",
    "print(\"Poly Area: \", world_area)\n",
    "\n",
    "print(\"Poly Bounding Box: \", world_bbox)\n",
    "\n",
    "print(\"Poly Exterior: \", world_ext)\n",
    "\n",
    "print(\"Poly Exterior Length: \", world_ext_length)"
   ]
  },
  {
   "cell_type": "markdown",
   "metadata": {},
   "source": [
    "# Коллекции геометрии \n",
    "\n",
    "\n",
    "В некоторых случаях полезно хранить, например, несколько линий или многоугольников под одной функцией (т. Е. Одна строка в Shapefile представляет собой несколько строк или многоугольника). Коллекции точек реализованы с использованием объекта MultiPoint, коллекции кривых с использованием объекта MultiLineString и коллекции поверхностей с помощью объекта MultiPolygon. Эти коллекции не являются вычислительно значимыми, но полезны для моделирования определенных функций. Функция Y-образной линии (например, дорога) или несколько полигонов (например, островов на подобном) могут быть хорошо представлены в целом с использованием MultiLineString или MultiPolygon соответственно. Создание и визуализация минимальной ограничивающей рамки например, вокруг ваших точек данных - действительно полезная функция для многих целей (например, попытка понять объем ваших данных), здесь мы демонстрируем, как создать ее с помощью Shapely.\n",
    "\n",
    "Коллекции геометрии могут быть построены следующим образом:"
   ]
  },
  {
   "cell_type": "code",
   "execution_count": 34,
   "metadata": {},
   "outputs": [],
   "source": [
    "# Импорт коллекций геометрических объектов + ограничивающая рамка \n",
    "from shapely.geometry import MultiPoint, MultiLineString, MultiPolygon, box\n",
    "\n",
    "# Создайте объект MultiPoint наших точек 1,2 и 3\n",
    "multi_point = MultiPoint([point1, point2, point3])\n",
    "\n",
    "# Также возможно передать координатные кортежи внутри\n",
    "multi_point2 = MultiPoint([(2.2, 4.2), (7.2, -25.1), (9.26, -2.456)])\n",
    "\n",
    "\n",
    "line1 = LineString([point1, point2])\n",
    "line2 = LineString([point2, point3])\n",
    "multi_line = MultiLineString([line1, line2])\n",
    "\n",
    "# MultiPolygon можно сделать аналогичным образом \n",
    "# Давайте разделить наш мир на западное и восточное полушария с дырой в западном полушарии\n",
    "# ------------------------------------------------- ------------------------------------------------- \n",
    "# Давайте создадим внешность западной части мира. \n",
    "west_exterior = [(-180, 90), (-180, -90), (0, -90), (0, 90)]\n",
    "\n",
    "# Давайте создадим отверстие -> помните, что может быть несколько отверстий, поэтому нам нужно иметь список отверстий. \n",
    "# У нас есть только один. \n",
    "west_hole  =  [[( - 170,  80 ),  ( - 170 ,  - 80 ),  ( - 10 ,  - 80 ),  ( - 10 ,  80 )]] \n",
    "\n",
    "# Создаем многоугольник\n",
    "west_poly  =  Polygon ( shell = west_exterior ,  holes = west_hole ) \n",
    "\n",
    "# Давайте создадим многоугольник нашего многоугольника Восточного полушария, используя ограничительную рамку. \n",
    "# Для ограничивающей рамки нам нужно указать координаты нижнего левого угла и верхние правые координаты. \n",
    "min_x , min_y  =  0 ,  - 90 \n",
    "\n",
    "max_x ,  max_y  =  180 ,  90\n",
    "\n",
    "# Создание многоугольника с помощью окна () функцию\n",
    "east_poly_box = box(minx=min_x, miny=min_y, maxx=max_x, maxy=max_y)\n",
    "\n",
    "# Давайте создадим наш MultiPolygon. Мы можем передать несколько объектов Polygon в наш MultiPolygon в виде списка\n",
    "multi_poly = MultiPolygon([west_poly, east_poly_box])"
   ]
  },
  {
   "cell_type": "code",
   "execution_count": 35,
   "metadata": {},
   "outputs": [
    {
     "name": "stdout",
     "output_type": "stream",
     "text": [
      "MultiPoint: MULTIPOINT (2.2 4.2, 7.2 -25.1, 9.26 -2.456)\n",
      "MultiLine:  MULTILINESTRING ((2.2 4.2, 7.2 -25.1), (7.2 -25.1, 9.26 -2.456))\n",
      "Bounding box:  POLYGON ((180 -90, 180 90, 0 90, 0 -90, 180 -90))\n",
      "MultiPoly:  MULTIPOLYGON (((-180 90, -180 -90, 0 -90, 0 90, -180 90), (-170 80, -170 -80, -10 -80, -10 80, -170 80)), ((180 -90, 180 90, 0 90, 0 -90, 180 -90)))\n"
     ]
    }
   ],
   "source": [
    "print(\"MultiPoint:\", multi_point)\n",
    "\n",
    "print(\"MultiLine: \", multi_line)\n",
    "\n",
    "print(\"Bounding box: \", east_poly_box)\n",
    "\n",
    "print(\"MultiPoly: \", multi_poly)"
   ]
  }
 ],
 "metadata": {
  "kernelspec": {
   "display_name": "Python [default]",
   "language": "python",
   "name": "python3"
  },
  "language_info": {
   "codemirror_mode": {
    "name": "ipython",
    "version": 3
   },
   "file_extension": ".py",
   "mimetype": "text/x-python",
   "name": "python",
   "nbconvert_exporter": "python",
   "pygments_lexer": "ipython3",
   "version": "3.6.4"
  }
 },
 "nbformat": 4,
 "nbformat_minor": 2
}
