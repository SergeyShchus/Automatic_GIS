{
 "cells": [
  {
   "cell_type": "code",
   "execution_count": 1,
   "metadata": {},
   "outputs": [],
   "source": [
    "from arcgis.gis import GIS\n",
    "from arcgis.geocoding import geocode\n",
    "from arcgis.raster.functions import *\n",
    "from arcgis import geometry\n",
    "    \n",
    "import pandas as pd\n",
    "\n",
    "# connect as an anonymous user\n",
    "gis = GIS()\n",
    "\n",
    "# search for the landsat multispectral imagery layer\n",
    "landsat_item = gis.content.search('Landsat Multispectral', 'Imagery Layer', outside_org=True)[0]\n",
    "landsat = landsat_item.layers[0]\n",
    "df = None"
   ]
  },
  {
   "cell_type": "code",
   "execution_count": 2,
   "metadata": {},
   "outputs": [
    {
     "data": {
      "application/vnd.jupyter.widget-view+json": {
       "model_id": "658f1ca3e5d74c27a54236c166eaa39e",
       "version_major": 2,
       "version_minor": 0
      },
      "text/plain": [
       "HBox(children=(Text(value='Ranchi, India', description='Location:', placeholder='Ranchi, India'), Button(descr…"
      ]
     },
     "metadata": {},
     "output_type": "display_data"
    }
   ],
   "source": [
    "import ipywidgets as widgets\n",
    "\n",
    "# text box widget\n",
    "location = widgets.Text(value='Ranchi, India', placeholder='Ranchi, India',\n",
    "                        description='Location:', disabled=False)\n",
    "\n",
    "# command button widget\n",
    "gobtn = widgets.Button(description='Go', disabled=False,\n",
    "                       button_style='', tooltip='Go', icon='check')\n",
    "\n",
    "# define what happens whent the command button is clicked\n",
    "def on_gobutton_clicked(b):\n",
    "    global df\n",
    "    global m\n",
    "    global oldslider\n",
    "    \n",
    "    # geocode the place name and set that as the map's extent\n",
    "    area = geocode(location.value)[0]\n",
    "    m.extent = area['extent']\n",
    "    df = filter_images()\n",
    "    \n",
    "gobtn.on_click(on_gobutton_clicked)\n",
    "\n",
    "location_items = [location, gobtn]\n",
    "widgets.HBox(location_items)"
   ]
  },
  {
   "cell_type": "code",
   "execution_count": 3,
   "metadata": {},
   "outputs": [
    {
     "data": {
      "application/vnd.jupyter.widget-view+json": {
       "model_id": "03cdad9ad0364a38b5731567b1f0cf8d",
       "version_major": 2,
       "version_minor": 0
      },
      "text/plain": [
       "MapView(layout=Layout(height='400px', width='100%'))"
      ]
     },
     "metadata": {},
     "output_type": "display_data"
    },
    {
     "data": {
      "text/html": [
       "<div class=\"map-static-img-preview-7657ff46-aa37-4e4c-8331-879bf5c91c67\"><img src=\"\"></img></div>"
      ],
      "text/plain": [
       "<display.HTML object>"
      ]
     },
     "metadata": {},
     "output_type": "display_data"
    }
   ],
   "source": [
    "m = gis.map(location.value)\n",
    "m.add_layer(landsat)\n",
    "display(m)"
   ]
  },
  {
   "cell_type": "code",
   "execution_count": 4,
   "metadata": {},
   "outputs": [
    {
     "data": {
      "application/vnd.jupyter.widget-view+json": {
       "model_id": "1d403528a2a34abfb73ffe59e873dc98",
       "version_major": 2,
       "version_minor": 0
      },
      "text/plain": [
       "HBox(children=(IntSlider(value=0, description='Older:', max=10, readout=False, readout_format='f'), Label(valu…"
      ]
     },
     "metadata": {},
     "output_type": "display_data"
    }
   ],
   "source": [
    "oldindex =  0 # int(len(df)/2)\n",
    "\n",
    "# before image date slider\n",
    "oldslider = widgets.IntSlider(value=oldindex, min=0,max=10, #len(df) - 1,\n",
    "                              step=1, description='Older:', disabled=False,\n",
    "                              continuous_update=True, orientation='horizontal',\n",
    "                              readout=False, readout_format='f', slider_color='white')\n",
    "\n",
    "old_label = widgets.Label(value='')#str(df.Time.iloc[oldindex].date()))\n",
    "\n",
    "# define the slider behavior\n",
    "def on_old_value_change(change):\n",
    "    global df\n",
    "    i = change['new']\n",
    "    if df is not None:\n",
    "        try:\n",
    "            # print(df.Time.iloc[i].date())\n",
    "            old_label.value = str(df.Time.iloc[i].date())\n",
    "        except:\n",
    "            pass\n",
    "        \n",
    "oldslider.observe(on_old_value_change, names='value')    \n",
    "widgets.HBox([oldslider, old_label])"
   ]
  },
  {
   "cell_type": "code",
   "execution_count": 5,
   "metadata": {},
   "outputs": [
    {
     "data": {
      "application/vnd.jupyter.widget-view+json": {
       "model_id": "a9551b6cdcc1428c9b482c51aa8ce7a0",
       "version_major": 2,
       "version_minor": 0
      },
      "text/plain": [
       "HBox(children=(IntSlider(value=0, description='Newer:', max=10, readout=False, readout_format='f'), Label(valu…"
      ]
     },
     "metadata": {},
     "output_type": "display_data"
    }
   ],
   "source": [
    "newindex = 0 # len(df) - 1\n",
    "\n",
    "# after image date slider\n",
    "newslider = widgets.IntSlider(value=newindex, min=0, max=10, #len(df) - 1,\n",
    "                              step=1, description='Newer:', disabled=False,\n",
    "                              continuous_update=True, orientation='horizontal',\n",
    "                              readout=False, readout_format='f', slider_color='white')\n",
    "\n",
    "new_label = widgets.Label(value='') #str(df.Time.iloc[newindex].date()))\n",
    "\n",
    "# define the slider behavior\n",
    "def on_new_value_change(change):\n",
    "    global df\n",
    "    i = change['new']\n",
    "    if df is not None:\n",
    "        try:\n",
    "        # print(df.Time.iloc[i].date())\n",
    "            new_label.value = str(df.Time.iloc[i].date())\n",
    "        except:\n",
    "            pass\n",
    "newslider.observe(on_new_value_change, names='value')\n",
    "widgets.HBox([newslider, new_label])"
   ]
  },
  {
   "cell_type": "code",
   "execution_count": 6,
   "metadata": {},
   "outputs": [],
   "source": [
    "def update_sliders(tdf):\n",
    "    global oldslider\n",
    "    global newslider\n",
    "    \n",
    "    oldslider.max = len(tdf) - 1\n",
    "    newslider.max = len(tdf) -1\n",
    "    oldindex = int(len(tdf)/2)\n",
    "    newindex = int(len(tdf) -1)\n",
    "    oldslider.value = oldindex\n",
    "    newslider.value = newindex\n",
    "    old_label.value = str(tdf.Time.iloc[oldindex].date())\n",
    "    new_label.value = str(tdf.Time.iloc[newindex].date())\n",
    "\n",
    "\n",
    "def filter_images():\n",
    "    global df\n",
    "    area = geocode(location.value, out_sr=landsat.properties.spatialReference)[0]\n",
    "    extent = area['extent']\n",
    "\n",
    "    selected = landsat.filter_by(where=\"(Category = 1) AND (CloudCover <=0.10)\", \n",
    "                             geometry=geometry.filters.intersects(extent))\n",
    "    fs = selected.query(out_fields=\"AcquisitionDate, GroupName, Best, CloudCover, WRS_Row, WRS_Path, Month, Name\", \n",
    "                  return_geometry=True,\n",
    "                  return_distinct_values=False,\n",
    "                  order_by_fields=\"AcquisitionDate\")\n",
    "    tdf = fs.sdf\n",
    "    df = tdf\n",
    "    tdf['Time'] = pd.to_datetime(tdf['AcquisitionDate'], unit='ms')    \n",
    "    \n",
    "    if len(tdf) > 1:\n",
    "        update_sliders(tdf)\n",
    "\n",
    "    # m.draw(tdf.iloc[oldslider.value].SHAPE)\n",
    "    \n",
    "    return tdf"
   ]
  },
  {
   "cell_type": "code",
   "execution_count": 7,
   "metadata": {},
   "outputs": [],
   "source": [
    "df = filter_images()"
   ]
  },
  {
   "cell_type": "code",
   "execution_count": 8,
   "metadata": {},
   "outputs": [
    {
     "data": {
      "application/vnd.jupyter.widget-view+json": {
       "model_id": "26bc6d3f5cc4409c8810ece621114985",
       "version_major": 2,
       "version_minor": 0
      },
      "text/plain": [
       "Button(button_style='success', description='Detect changes', icon='check', style=ButtonStyle(), tooltip='Show …"
      ]
     },
     "metadata": {},
     "output_type": "display_data"
    }
   ],
   "source": [
    "# create the action button\n",
    "diffbtn = widgets.Button(description='Detect changes', disabled=False,\n",
    "                         button_style='success', tooltip='Show Different Image',\n",
    "                         icon='check')\n",
    "\n",
    "def on_diffbutton_clicked(b):\n",
    "    # m.clear_graphics()\n",
    "    first = df.iloc[oldslider.value].OBJECTID\n",
    "    last = df.iloc[newslider.value].OBJECTID\n",
    "    old = landsat.filter_by('OBJECTID='+str(first))\n",
    "    new = landsat.filter_by('OBJECTID='+str(last))\n",
    "    diff = stretch(composite_band([ndvi(old, '5 4'),\n",
    "                               ndvi(new, '5 4'),\n",
    "                               ndvi(old, '5 4')]), \n",
    "                               stretch_type='stddev',  num_stddev=3, min=0, max=255, dra=True, astype='u8')\n",
    "    m.add_layer(diff)\n",
    "    \n",
    "diffbtn.on_click(on_diffbutton_clicked)\n",
    "diffbtn"
   ]
  },
  {
   "cell_type": "code",
   "execution_count": null,
   "metadata": {},
   "outputs": [],
   "source": []
  }
 ],
 "metadata": {
  "kernelspec": {
   "display_name": "ArcGISPro",
   "language": "Python",
   "name": "python3"
  },
  "language_info": {
   "file_extension": ".py",
   "name": "python",
   "version": "3"
  }
 },
 "nbformat": 4,
 "nbformat_minor": 2
}
