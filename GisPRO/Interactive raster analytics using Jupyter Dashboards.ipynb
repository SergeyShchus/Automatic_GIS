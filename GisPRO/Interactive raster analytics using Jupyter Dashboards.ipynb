{
 "cells": [
  {
   "cell_type": "code",
   "execution_count": 2,
   "metadata": {},
   "outputs": [],
   "source": [
    "from ipywidgets import widgets\n",
    "from IPython.display import clear_output"
   ]
  },
  {
   "cell_type": "code",
   "execution_count": 3,
   "metadata": {},
   "outputs": [],
   "source": [
    "from arcgis.gis import GIS\n",
    "from arcgis.raster.functions import *\n",
    "\n",
    "gis = GIS()\n",
    "\n",
    "landsat_item = gis.content.search('Landsat Multispectral', 'Imagery Layer')[0]\n",
    "landsat = landsat_item.layers[0]"
   ]
  },
  {
   "cell_type": "code",
   "execution_count": 4,
   "metadata": {},
   "outputs": [
    {
     "data": {
      "application/vnd.jupyter.widget-view+json": {
       "model_id": "212da78c9a974673895937b99668b856",
       "version_major": 2,
       "version_minor": 0
      },
      "text/plain": [
       "MapView(layout=Layout(height='400px', width='100%'))"
      ]
     },
     "metadata": {},
     "output_type": "display_data"
    },
    {
     "data": {
      "text/html": [
       "<div class=\"map-static-img-preview-e5433655-6c47-46f7-b21e-a17706c5f44a\"><img src=\"\"></img></div>"
      ],
      "text/plain": [
       "<IPython.core.display.HTML object>"
      ]
     },
     "metadata": {},
     "output_type": "display_data"
    }
   ],
   "source": [
    "map1 = gis.map(\"California, USA\")\n",
    "map1"
   ]
  },
  {
   "cell_type": "code",
   "execution_count": 5,
   "metadata": {},
   "outputs": [],
   "source": [
    "map1.add_layer(landsat)"
   ]
  },
  {
   "cell_type": "code",
   "execution_count": 6,
   "metadata": {},
   "outputs": [],
   "source": [
    "rfts = []\n",
    "for idx,props in enumerate(landsat.properties['rasterFunctionInfos']):\n",
    "    rfts.append(landsat.properties['rasterFunctionInfos'][idx]['name'])"
   ]
  },
  {
   "cell_type": "code",
   "execution_count": 7,
   "metadata": {},
   "outputs": [
    {
     "data": {
      "application/vnd.jupyter.widget-view+json": {
       "model_id": "3a56f846ebff4c5cae926462a0c7a369",
       "version_major": 2,
       "version_minor": 0
      },
      "text/plain": [
       "Dropdown(description='Raster Function', index=2, options=('Pansharpened Enhanced with DRA', 'Pansharpened Natu…"
      ]
     },
     "metadata": {},
     "output_type": "display_data"
    }
   ],
   "source": [
    "rft_select = widgets.Dropdown(\n",
    "    options=rfts,\n",
    "    value='None',\n",
    "    description='Raster Function',\n",
    "    disabled=False,\n",
    ")\n",
    "\n",
    "def on_rft_change(change):\n",
    "    if change['type'] == 'change' and change['name'] == 'value':\n",
    "        map1.remove_layers()\n",
    "        map1.add_layer(landsat, {\"imageServiceParameters\" :{ \"renderingRule\": { \"rasterFunction\": rft_select.value}}})\n",
    "\n",
    "rft_select.observe(on_rft_change)\n",
    "display(rft_select)"
   ]
  },
  {
   "cell_type": "code",
   "execution_count": 8,
   "metadata": {},
   "outputs": [
    {
     "data": {
      "application/vnd.jupyter.widget-view+json": {
       "model_id": "193d69f16a124f97a3c84c37a5087114",
       "version_major": 2,
       "version_minor": 0
      },
      "text/plain": [
       "Dropdown(description='Region to Process:', options=('California', 'Montana', 'Nevada', 'Oregon', 'Texas'), val…"
      ]
     },
     "metadata": {},
     "output_type": "display_data"
    }
   ],
   "source": [
    "from arcgis.geocoding import geocode\n",
    "from arcgis.features import FeatureLayer\n",
    "\n",
    "study_area_dict = {'California':'http://services.arcgis.com/PpEMp4p6SBYbe0zW/arcgis/rest/services/California_Counties/FeatureServer/0',\n",
    "                   'Montana':'http://services.arcgis.com/iTQUx5ZpNUh47Geb/arcgis/rest/services/Montana_Mask/FeatureServer/0',\n",
    "                   'Nevada':'http://services.arcgis.com/pGfbNJoYypmNq86F/arcgis/rest/services/28R04_Nevada_Region/FeatureServer/5',\n",
    "                   'Oregon':'https://services.arcgis.com/uUvqNMGPm7axC2dD/arcgis/rest/services/Oregon_Boundary_generalized/FeatureServer/0',\n",
    "                   'Texas':'http://services2.arcgis.com/5MVN2jsqIrNZD4tP/arcgis/rest/services/Texas_Outline/FeatureServer/0'}\n",
    "\n",
    "study_areas = ['California',\n",
    "               'Montana',\n",
    "               'Nevada',\n",
    "               'Oregon',\n",
    "               'Texas']\n",
    "\n",
    "country = widgets.Dropdown(\n",
    "    options=study_areas,\n",
    "    value='California',\n",
    "    description='Region to Process:',\n",
    "    disabled=False,\n",
    ")\n",
    "\n",
    "def on_change(change):\n",
    "    if change['type'] == 'change' and change['name'] == 'value':\n",
    "        location = geocode(str(country.value) + ', USA')[0]\n",
    "        map1.extent = location['extent']\n",
    "        #fl = FeatureLayer(study_area_dict[country.value])\n",
    "        #map1.extent = fl.properties['extent']\n",
    "        #print(\"changed to %s\" % change['new'])\n",
    "\n",
    "country.observe(on_change)\n",
    "\n",
    "display(country)"
   ]
  },
  {
   "cell_type": "code",
   "execution_count": 10,
   "metadata": {},
   "outputs": [
    {
     "name": "stdout",
     "output_type": "stream",
     "text": [
      "Job submitted at 2020-09-08 22:07:52\n"
     ]
    }
   ],
   "source": [
    "from datetime import datetime\n",
    "\n",
    "def on_button_click(b):\n",
    "    #map1.extentx = getextent\n",
    "    clear_output()\n",
    "    print(\"Job submitted at \" + f\"{datetime.now():%Y-%m-%d %H:%M:%S}\")\n",
    "\n",
    "button = widgets.Button(description=\"Run Raster Analytics\", \n",
    "                        disabled=False,\n",
    "                        button_style='success',\n",
    "                        tooltip='Kick Off A Raster Analytics Job',\n",
    "                        icon='check')\n",
    "display(button)\n",
    "button.on_click(on_button_click)"
   ]
  },
  {
   "cell_type": "code",
   "execution_count": null,
   "metadata": {},
   "outputs": [],
   "source": []
  }
 ],
 "metadata": {
  "kernelspec": {
   "display_name": "Python 3",
   "language": "python",
   "name": "python3"
  },
  "language_info": {
   "codemirror_mode": {
    "name": "ipython",
    "version": 3
   },
   "file_extension": ".py",
   "mimetype": "text/x-python",
   "name": "python",
   "nbconvert_exporter": "python",
   "pygments_lexer": "ipython3",
   "version": "3.8.3"
  }
 },
 "nbformat": 4,
 "nbformat_minor": 4
}
