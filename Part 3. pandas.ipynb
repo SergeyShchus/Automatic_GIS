{
 "cells": [
  {
   "cell_type": "markdown",
   "metadata": {},
   "source": [
    "# Загрузка данных\n",
    "Для этого урока мы используем данные из каталога DATA. После того, как вы загрузили файл Data.zip в свой домашний каталог, вы можете разархивировать файл, например, 7Zip (в Windows).\n",
    "Папка данных включает в себя Shapefile под названием DAMSELFISH_distribution.shp (и связанные с ним файлы)."
   ]
  },
  {
   "cell_type": "markdown",
   "metadata": {},
   "source": [
    "# Чтение файла Shapefile\n",
    "Пространственные данные можно легко читать с помощью геоданных, используя -функцию gpd.from_file() :"
   ]
  },
  {
   "cell_type": "code",
   "execution_count": 2,
   "metadata": {},
   "outputs": [],
   "source": [
    "import geopandas as gpd"
   ]
  },
  {
   "cell_type": "code",
   "execution_count": 4,
   "metadata": {},
   "outputs": [],
   "source": [
    "fp = r\"C:\\Users\\s.shchus\\Documents\\GitHub\\Automatic_GIS\\DATA\\DAMSELFISH_distributions.shp\""
   ]
  },
  {
   "cell_type": "code",
   "execution_count": 5,
   "metadata": {},
   "outputs": [],
   "source": [
    "data = gpd.read_file(fp)"
   ]
  },
  {
   "cell_type": "code",
   "execution_count": 6,
   "metadata": {},
   "outputs": [
    {
     "data": {
      "text/plain": [
       "geopandas.geodataframe.GeoDataFrame"
      ]
     },
     "execution_count": 6,
     "metadata": {},
     "output_type": "execute_result"
    }
   ],
   "source": [
    "type (data)"
   ]
  },
  {
   "cell_type": "markdown",
   "metadata": {},
   "source": [
    "Okey, поэтому из вышеизложенного мы видим, что наш data-variable является GeoDataFrame . GeoDataFrame расширяет функциональные возможности pandas.DataFrame таким образом, что можно использовать и обрабатывать пространственные данные в пандах (отсюда и названия геоданных). GeoDataFrame имеет некоторые специальные функции и функции, которые полезны в ГИС.\n",
    "\n",
    "Давайте посмотрим на наши данные и напечатаем первые 5 строк, используя\n",
    "head() -функция печатает первые 5 строк по умолчанию"
   ]
  },
  {
   "cell_type": "code",
   "execution_count": 8,
   "metadata": {},
   "outputs": [
    {
     "data": {
      "text/html": [
       "<div>\n",
       "<style scoped>\n",
       "    .dataframe tbody tr th:only-of-type {\n",
       "        vertical-align: middle;\n",
       "    }\n",
       "\n",
       "    .dataframe tbody tr th {\n",
       "        vertical-align: top;\n",
       "    }\n",
       "\n",
       "    .dataframe thead th {\n",
       "        text-align: right;\n",
       "    }\n",
       "</style>\n",
       "<table border=\"1\" class=\"dataframe\">\n",
       "  <thead>\n",
       "    <tr style=\"text-align: right;\">\n",
       "      <th></th>\n",
       "      <th>ID_NO</th>\n",
       "      <th>BINOMIAL</th>\n",
       "      <th>ORIGIN</th>\n",
       "      <th>COMPILER</th>\n",
       "      <th>YEAR</th>\n",
       "      <th>CITATION</th>\n",
       "      <th>SOURCE</th>\n",
       "      <th>DIST_COMM</th>\n",
       "      <th>ISLAND</th>\n",
       "      <th>SUBSPECIES</th>\n",
       "      <th>...</th>\n",
       "      <th>RL_UPDATE</th>\n",
       "      <th>KINGDOM_NA</th>\n",
       "      <th>PHYLUM_NAM</th>\n",
       "      <th>CLASS_NAME</th>\n",
       "      <th>ORDER_NAME</th>\n",
       "      <th>FAMILY_NAM</th>\n",
       "      <th>GENUS_NAME</th>\n",
       "      <th>SPECIES_NA</th>\n",
       "      <th>CATEGORY</th>\n",
       "      <th>geometry</th>\n",
       "    </tr>\n",
       "  </thead>\n",
       "  <tbody>\n",
       "    <tr>\n",
       "      <th>0</th>\n",
       "      <td>183963.0</td>\n",
       "      <td>Stegastes leucorus</td>\n",
       "      <td>1</td>\n",
       "      <td>IUCN</td>\n",
       "      <td>2010</td>\n",
       "      <td>International Union for Conservation of Nature...</td>\n",
       "      <td>None</td>\n",
       "      <td>None</td>\n",
       "      <td>None</td>\n",
       "      <td>None</td>\n",
       "      <td>...</td>\n",
       "      <td>2012.1</td>\n",
       "      <td>ANIMALIA</td>\n",
       "      <td>CHORDATA</td>\n",
       "      <td>ACTINOPTERYGII</td>\n",
       "      <td>PERCIFORMES</td>\n",
       "      <td>POMACENTRIDAE</td>\n",
       "      <td>Stegastes</td>\n",
       "      <td>leucorus</td>\n",
       "      <td>VU</td>\n",
       "      <td>POLYGON ((-115.6437454219999 29.71392059300007...</td>\n",
       "    </tr>\n",
       "    <tr>\n",
       "      <th>1</th>\n",
       "      <td>183963.0</td>\n",
       "      <td>Stegastes leucorus</td>\n",
       "      <td>1</td>\n",
       "      <td>IUCN</td>\n",
       "      <td>2010</td>\n",
       "      <td>International Union for Conservation of Nature...</td>\n",
       "      <td>None</td>\n",
       "      <td>None</td>\n",
       "      <td>None</td>\n",
       "      <td>None</td>\n",
       "      <td>...</td>\n",
       "      <td>2012.1</td>\n",
       "      <td>ANIMALIA</td>\n",
       "      <td>CHORDATA</td>\n",
       "      <td>ACTINOPTERYGII</td>\n",
       "      <td>PERCIFORMES</td>\n",
       "      <td>POMACENTRIDAE</td>\n",
       "      <td>Stegastes</td>\n",
       "      <td>leucorus</td>\n",
       "      <td>VU</td>\n",
       "      <td>POLYGON ((-105.589950704 21.89339825500002, -1...</td>\n",
       "    </tr>\n",
       "    <tr>\n",
       "      <th>2</th>\n",
       "      <td>183963.0</td>\n",
       "      <td>Stegastes leucorus</td>\n",
       "      <td>1</td>\n",
       "      <td>IUCN</td>\n",
       "      <td>2010</td>\n",
       "      <td>International Union for Conservation of Nature...</td>\n",
       "      <td>None</td>\n",
       "      <td>None</td>\n",
       "      <td>None</td>\n",
       "      <td>None</td>\n",
       "      <td>...</td>\n",
       "      <td>2012.1</td>\n",
       "      <td>ANIMALIA</td>\n",
       "      <td>CHORDATA</td>\n",
       "      <td>ACTINOPTERYGII</td>\n",
       "      <td>PERCIFORMES</td>\n",
       "      <td>POMACENTRIDAE</td>\n",
       "      <td>Stegastes</td>\n",
       "      <td>leucorus</td>\n",
       "      <td>VU</td>\n",
       "      <td>POLYGON ((-111.159618439 19.01535626700007, -1...</td>\n",
       "    </tr>\n",
       "    <tr>\n",
       "      <th>3</th>\n",
       "      <td>183793.0</td>\n",
       "      <td>Chromis intercrusma</td>\n",
       "      <td>1</td>\n",
       "      <td>IUCN</td>\n",
       "      <td>2010</td>\n",
       "      <td>International Union for Conservation of Nature...</td>\n",
       "      <td>None</td>\n",
       "      <td>None</td>\n",
       "      <td>None</td>\n",
       "      <td>None</td>\n",
       "      <td>...</td>\n",
       "      <td>2012.1</td>\n",
       "      <td>ANIMALIA</td>\n",
       "      <td>CHORDATA</td>\n",
       "      <td>ACTINOPTERYGII</td>\n",
       "      <td>PERCIFORMES</td>\n",
       "      <td>POMACENTRIDAE</td>\n",
       "      <td>Chromis</td>\n",
       "      <td>intercrusma</td>\n",
       "      <td>LC</td>\n",
       "      <td>POLYGON ((-80.86500229899997 -0.77894492099994...</td>\n",
       "    </tr>\n",
       "    <tr>\n",
       "      <th>4</th>\n",
       "      <td>183793.0</td>\n",
       "      <td>Chromis intercrusma</td>\n",
       "      <td>1</td>\n",
       "      <td>IUCN</td>\n",
       "      <td>2010</td>\n",
       "      <td>International Union for Conservation of Nature...</td>\n",
       "      <td>None</td>\n",
       "      <td>None</td>\n",
       "      <td>None</td>\n",
       "      <td>None</td>\n",
       "      <td>...</td>\n",
       "      <td>2012.1</td>\n",
       "      <td>ANIMALIA</td>\n",
       "      <td>CHORDATA</td>\n",
       "      <td>ACTINOPTERYGII</td>\n",
       "      <td>PERCIFORMES</td>\n",
       "      <td>POMACENTRIDAE</td>\n",
       "      <td>Chromis</td>\n",
       "      <td>intercrusma</td>\n",
       "      <td>LC</td>\n",
       "      <td>POLYGON ((-67.33922225599997 -55.6761029239999...</td>\n",
       "    </tr>\n",
       "  </tbody>\n",
       "</table>\n",
       "<p>5 rows × 24 columns</p>\n",
       "</div>"
      ],
      "text/plain": [
       "      ID_NO             BINOMIAL  ORIGIN COMPILER  YEAR  \\\n",
       "0  183963.0   Stegastes leucorus       1     IUCN  2010   \n",
       "1  183963.0   Stegastes leucorus       1     IUCN  2010   \n",
       "2  183963.0   Stegastes leucorus       1     IUCN  2010   \n",
       "3  183793.0  Chromis intercrusma       1     IUCN  2010   \n",
       "4  183793.0  Chromis intercrusma       1     IUCN  2010   \n",
       "\n",
       "                                            CITATION SOURCE DIST_COMM ISLAND  \\\n",
       "0  International Union for Conservation of Nature...   None      None   None   \n",
       "1  International Union for Conservation of Nature...   None      None   None   \n",
       "2  International Union for Conservation of Nature...   None      None   None   \n",
       "3  International Union for Conservation of Nature...   None      None   None   \n",
       "4  International Union for Conservation of Nature...   None      None   None   \n",
       "\n",
       "  SUBSPECIES                        ...                         RL_UPDATE  \\\n",
       "0       None                        ...                            2012.1   \n",
       "1       None                        ...                            2012.1   \n",
       "2       None                        ...                            2012.1   \n",
       "3       None                        ...                            2012.1   \n",
       "4       None                        ...                            2012.1   \n",
       "\n",
       "  KINGDOM_NA  PHYLUM_NAM      CLASS_NAME   ORDER_NAME     FAMILY_NAM  \\\n",
       "0   ANIMALIA    CHORDATA  ACTINOPTERYGII  PERCIFORMES  POMACENTRIDAE   \n",
       "1   ANIMALIA    CHORDATA  ACTINOPTERYGII  PERCIFORMES  POMACENTRIDAE   \n",
       "2   ANIMALIA    CHORDATA  ACTINOPTERYGII  PERCIFORMES  POMACENTRIDAE   \n",
       "3   ANIMALIA    CHORDATA  ACTINOPTERYGII  PERCIFORMES  POMACENTRIDAE   \n",
       "4   ANIMALIA    CHORDATA  ACTINOPTERYGII  PERCIFORMES  POMACENTRIDAE   \n",
       "\n",
       "  GENUS_NAME   SPECIES_NA CATEGORY  \\\n",
       "0  Stegastes     leucorus       VU   \n",
       "1  Stegastes     leucorus       VU   \n",
       "2  Stegastes     leucorus       VU   \n",
       "3    Chromis  intercrusma       LC   \n",
       "4    Chromis  intercrusma       LC   \n",
       "\n",
       "                                            geometry  \n",
       "0  POLYGON ((-115.6437454219999 29.71392059300007...  \n",
       "1  POLYGON ((-105.589950704 21.89339825500002, -1...  \n",
       "2  POLYGON ((-111.159618439 19.01535626700007, -1...  \n",
       "3  POLYGON ((-80.86500229899997 -0.77894492099994...  \n",
       "4  POLYGON ((-67.33922225599997 -55.6761029239999...  \n",
       "\n",
       "[5 rows x 24 columns]"
      ]
     },
     "execution_count": 8,
     "metadata": {},
     "output_type": "execute_result"
    }
   ],
   "source": [
    "data.head()"
   ]
  },
  {
   "cell_type": "code",
   "execution_count": 10,
   "metadata": {},
   "outputs": [
    {
     "data": {
      "image/png": "[encoded data removed]",
      "text/plain": [
       "<Figure size 432x288 with 1 Axes>"
      ]
     },
     "metadata": {},
     "output_type": "display_data"
    }
   ],
   "source": [
    "data.plot();"
   ]
  },
  {
   "cell_type": "code",
   "execution_count": 11,
   "metadata": {},
   "outputs": [],
   "source": [
    "out = r\"C:\\Users\\s.shchus\\Documents\\GitHub\\Automatic_GIS\\DATA\\DAMSELFISH_distributions_out.shp\""
   ]
  },
  {
   "cell_type": "code",
   "execution_count": 12,
   "metadata": {},
   "outputs": [],
   "source": [
    "selection = data [0:50]\n",
    "selection.to_file (out)"
   ]
  },
  {
   "cell_type": "code",
   "execution_count": 16,
   "metadata": {
    "scrolled": true
   },
   "outputs": [
    {
     "data": {
      "image/png": "[encoded data removed]",
      "text/plain": [
       "<Figure size 432x288 with 1 Axes>"
      ]
     },
     "metadata": {},
     "output_type": "display_data"
    }
   ],
   "source": [
    "y = r\"C:\\Users\\s.shchus\\Documents\\GitHub\\Automatic_GIS\\DATA\\DAMSELFISH_distributions_out.shp\"\n",
    "y = gpd.read_file(y)\n",
    "\n",
    "y.plot();"
   ]
  },
  {
   "cell_type": "markdown",
   "metadata": {},
   "source": [
    "# Геометрия в геопандах\n",
    "Geopandas использует геометрические объекты Shapely. Геометрия хранится в столбце с именем geometry, который является именем столбца по умолчанию для хранения геометрической информации в геоданном.\n",
    "\n",
    "Давайте напечатаем первые 5 строк геометрии столбца:"
   ]
  },
  {
   "cell_type": "code",
   "execution_count": 17,
   "metadata": {},
   "outputs": [
    {
     "data": {
      "text/plain": [
       "0    POLYGON ((-115.6437454219999 29.71392059300007...\n",
       "1    POLYGON ((-105.589950704 21.89339825500002, -1...\n",
       "2    POLYGON ((-111.159618439 19.01535626700007, -1...\n",
       "3    POLYGON ((-80.86500229899997 -0.77894492099994...\n",
       "4    POLYGON ((-67.33922225599997 -55.6761029239999...\n",
       "Name: geometry, dtype: object"
      ]
     },
     "execution_count": 17,
     "metadata": {},
     "output_type": "execute_result"
    }
   ],
   "source": [
    "data ['geometry'].head()"
   ]
  },
  {
   "cell_type": "code",
   "execution_count": 18,
   "metadata": {},
   "outputs": [],
   "source": [
    "selection = data [0:5]"
   ]
  },
  {
   "cell_type": "code",
   "execution_count": 24,
   "metadata": {},
   "outputs": [
    {
     "name": "stdout",
     "output_type": "stream",
     "text": [
      "Polygon area at index 0 is: 19.396\n",
      "Polygon area at index 1 is: 6.146\n",
      "Polygon area at index 2 is: 2.697\n",
      "Polygon area at index 3 is: 87.461\n",
      "Polygon area at index 4 is: 0.001\n"
     ]
    }
   ],
   "source": [
    "for index, row in selection.iterrows():\n",
    "    poly_area = row ['geometry'].area\n",
    "    print (\"Polygon area at index {0} is: {1:.3f}\".format(index, poly_area))"
   ]
  },
  {
   "cell_type": "code",
   "execution_count": 26,
   "metadata": {
    "scrolled": true
   },
   "outputs": [
    {
     "data": {
      "text/plain": [
       "0    19.396254\n",
       "1     6.145902\n",
       "2     2.697207\n",
       "3    87.460621\n",
       "4     0.000918\n",
       "Name: area, dtype: float64"
      ]
     },
     "execution_count": 26,
     "metadata": {},
     "output_type": "execute_result"
    }
   ],
   "source": [
    "data ['area'] = data.area\n",
    "data ['area'].head()"
   ]
  },
  {
   "cell_type": "markdown",
   "metadata": {},
   "source": [
    "Okey, поэтому мы можем видеть, что область нашего первого многоугольника, по-видимому, составляет 19.39 и 6.14 для второго многоугольника. Они соответствуют тем, которые мы видели на предыдущем шаге при повторении строк, следовательно, все работает так, как должно. Давайте проверим, что такое min и max этих областей, используя знакомые функции из наших предыдущих сокращений Pandas."
   ]
  },
  {
   "cell_type": "code",
   "execution_count": 28,
   "metadata": {},
   "outputs": [
    {
     "name": "stdout",
     "output_type": "stream",
     "text": [
      "Max area: 1493.2\n",
      "Mean area: 19.96\n"
     ]
    }
   ],
   "source": [
    "max_area = data ['area'].max()\n",
    "\n",
    "mean_area = data ['area'].mean()\n",
    "\n",
    "print (\"Max area: %s\\nMean area: %s\" % (round (max_area, 2), round (mean_area, 2)))"
   ]
  },
  {
   "cell_type": "markdown",
   "metadata": {},
   "source": [
    "# Создание геометрий в GeoDataFrame\n",
    "Поскольку геоданные используют преимущества геометрических объектов Shapely, можно создать Shapefile с нуля, передав геометрические объекты Shapely в GeoDataFrame. Это полезно, поскольку упрощает преобразование, например, текстового файла, который содержит координаты в Shapefile.\n",
    "\n",
    "Давайте создадим пустую GeoDataFrame."
   ]
  },
  {
   "cell_type": "code",
   "execution_count": 32,
   "metadata": {},
   "outputs": [],
   "source": [
    "import pandas as pd\n",
    "import geopandas as gpd\n",
    "from shapely.geometry import Point, Polygon\n",
    "import fiona\n",
    "\n",
    "newdata = gpd.GeoDataFrame()"
   ]
  },
  {
   "cell_type": "code",
   "execution_count": 34,
   "metadata": {},
   "outputs": [
    {
     "name": "stdout",
     "output_type": "stream",
     "text": [
      "Empty GeoDataFrame\n",
      "Columns: []\n",
      "Index: []\n"
     ]
    }
   ],
   "source": [
    "print (newdata)"
   ]
  },
  {
   "cell_type": "markdown",
   "metadata": {},
   "source": [
    "GeoDataFrame пуст, поскольку мы не помещаем какие-либо данные внутри.\n",
    "\n",
    "Давайте создадим новый столбец, geometry который будет содержать наши объекты Shapely:"
   ]
  },
  {
   "cell_type": "code",
   "execution_count": 35,
   "metadata": {
    "scrolled": true
   },
   "outputs": [
    {
     "name": "stdout",
     "output_type": "stream",
     "text": [
      "Empty GeoDataFrame\n",
      "Columns: [geometry]\n",
      "Index: []\n"
     ]
    }
   ],
   "source": [
    "newdata ['geometry'] = None\n",
    "\n",
    "print (newdata)"
   ]
  },
  {
   "cell_type": "markdown",
   "metadata": {},
   "source": [
    "Теперь у нас есть геометрия в нашем GeoDataFrame, но у нас пока нет данных.\n",
    "\n",
    "Давайте создадим Shapely Polygon, воссоздающий квадрат сената Хельсинки, который мы можем вставить в наш GeoDataFrame:"
   ]
  },
  {
   "cell_type": "code",
   "execution_count": 36,
   "metadata": {},
   "outputs": [
    {
     "data": {
      "image/svg+xml": [
       "<svg xmlns=\"http://www.w3.org/2000/svg\" xmlns:xlink=\"http://www.w3.org/1999/xlink\" width=\"100.0\" height=\"100.0\" viewBox=\"24.95079456 60.16905356 0.0028198800000041047 0.0011548800000014126\" preserveAspectRatio=\"xMinYMin meet\"><g transform=\"matrix(1,0,0,-1,0,120.339262)\"><path fill-rule=\"evenodd\" fill=\"#66cc99\" stroke=\"#555555\" stroke-width=\"5.639760000008209e-05\" opacity=\"0.6\" d=\"M 24.950899,60.169158 L 24.953492,60.169158 L 24.95351,60.170104 L 24.950958,60.16999 L 24.950899,60.169158 z\" /></g></svg>"
      ],
      "text/plain": [
       "<shapely.geometry.polygon.Polygon at 0x26d9eea4e48>"
      ]
     },
     "execution_count": 36,
     "metadata": {},
     "output_type": "execute_result"
    }
   ],
   "source": [
    "coordinates = [(24.950899, 60.169158), (24.953492, 60.169158), (24.953510, 60.170104), (24.950958, 60.169990)]\n",
    "poly = Polygon (coordinates)\n",
    "poly"
   ]
  },
  {
   "cell_type": "markdown",
   "metadata": {},
   "source": [
    "Okey, так что теперь у нас есть подходящий объект Polygon.\n",
    "\n",
    "Вставим многоугольник в наш столбец «geometry» в нашем GeoDataFrame:"
   ]
  },
  {
   "cell_type": "code",
   "execution_count": 40,
   "metadata": {},
   "outputs": [
    {
     "data": {
      "image/png": "[encoded data removed]",
      "text/plain": [
       "<Figure size 432x288 with 1 Axes>"
      ]
     },
     "metadata": {},
     "output_type": "display_data"
    }
   ],
   "source": [
    "newdata.loc [0, 'geometry'] = poly\n",
    "\n",
    "newdata.plot();"
   ]
  },
  {
   "cell_type": "markdown",
   "metadata": {},
   "source": [
    "Теперь у нас есть GeoDataFrame с Polygon, который мы можем экспортировать в Shapefile.\n",
    "\n",
    "Давайте добавим еще один столбец в наш GeoDataFrame Locationс текстом Senaatintori ."
   ]
  },
  {
   "cell_type": "code",
   "execution_count": 42,
   "metadata": {},
   "outputs": [
    {
     "data": {
      "text/html": [
       "<div>\n",
       "<style scoped>\n",
       "    .dataframe tbody tr th:only-of-type {\n",
       "        vertical-align: middle;\n",
       "    }\n",
       "\n",
       "    .dataframe tbody tr th {\n",
       "        vertical-align: top;\n",
       "    }\n",
       "\n",
       "    .dataframe thead th {\n",
       "        text-align: right;\n",
       "    }\n",
       "</style>\n",
       "<table border=\"1\" class=\"dataframe\">\n",
       "  <thead>\n",
       "    <tr style=\"text-align: right;\">\n",
       "      <th></th>\n",
       "      <th>geometry</th>\n",
       "      <th>Location</th>\n",
       "    </tr>\n",
       "  </thead>\n",
       "  <tbody>\n",
       "    <tr>\n",
       "      <th>0</th>\n",
       "      <td>POLYGON ((24.950899 60.169158, 24.953492 60.16...</td>\n",
       "      <td>Senaatintori</td>\n",
       "    </tr>\n",
       "  </tbody>\n",
       "</table>\n",
       "</div>"
      ],
      "text/plain": [
       "                                            geometry      Location\n",
       "0  POLYGON ((24.950899 60.169158, 24.953492 60.16...  Senaatintori"
      ]
     },
     "execution_count": 42,
     "metadata": {},
     "output_type": "execute_result"
    }
   ],
   "source": [
    "newdata.loc [0, 'Location'] = 'Senaatintori'\n",
    "newdata"
   ]
  }
 ],
 "metadata": {
  "kernelspec": {
   "display_name": "Python [default]",
   "language": "python",
   "name": "python3"
  },
  "language_info": {
   "codemirror_mode": {
    "name": "ipython",
    "version": 3
   },
   "file_extension": ".py",
   "mimetype": "text/x-python",
   "name": "python",
   "nbconvert_exporter": "python",
   "pygments_lexer": "ipython3",
   "version": "3.6.4"
  }
 },
 "nbformat": 4,
 "nbformat_minor": 2
}
