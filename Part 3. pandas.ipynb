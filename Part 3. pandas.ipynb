{
 "cells": [
  {
   "cell_type": "markdown",
   "metadata": {},
   "source": [
    "# Загрузка данных\n",
    "Для этого урока мы используем данные из каталога DATA. После того, как вы загрузили файл Data.zip в свой домашний каталог, вы можете разархивировать файл, например, 7Zip (в Windows).\n",
    "Папка данных включает в себя Shapefile под названием DAMSELFISH_distribution.shp (и связанные с ним файлы)."
   ]
  },
  {
   "cell_type": "markdown",
   "metadata": {},
   "source": [
    "# Чтение файла Shapefile\n",
    "Пространственные данные можно легко читать с помощью геоданных, используя -функцию gpd.from_file() :"
   ]
  },
  {
   "cell_type": "code",
   "execution_count": 2,
   "metadata": {},
   "outputs": [],
   "source": [
    "import geopandas as gpd"
   ]
  },
  {
   "cell_type": "code",
   "execution_count": 6,
   "metadata": {},
   "outputs": [],
   "source": [
    "fp = r\"C:\\Users\\s.shchus\\Documents\\GitHub\\Automatic_GIS\\DATA\\DAMSELFISH_distributions.shp\""
   ]
  },
  {
   "cell_type": "code",
   "execution_count": 7,
   "metadata": {},
   "outputs": [],
   "source": [
    "data = gpd.read_file(fp)"
   ]
  },
  {
   "cell_type": "code",
   "execution_count": 6,
   "metadata": {},
   "outputs": [
    {
     "data": {
      "text/plain": [
       "geopandas.geodataframe.GeoDataFrame"
      ]
     },
     "execution_count": 6,
     "metadata": {},
     "output_type": "execute_result"
    }
   ],
   "source": [
    "type (data)"
   ]
  },
  {
   "cell_type": "markdown",
   "metadata": {},
   "source": [
    "Okey, поэтому из вышеизложенного мы видим, что наш data-variable является GeoDataFrame . GeoDataFrame расширяет функциональные возможности pandas.DataFrame таким образом, что можно использовать и обрабатывать пространственные данные в пандах (отсюда и названия геоданных). GeoDataFrame имеет некоторые специальные функции и функции, которые полезны в ГИС.\n",
    "\n",
    "Давайте посмотрим на наши данные и напечатаем первые 5 строк, используя\n",
    "head() -функция печатает первые 5 строк по умолчанию"
   ]
  },
  {
   "cell_type": "code",
   "execution_count": 15,
   "metadata": {},
   "outputs": [
    {
     "data": {
      "text/html": [
       "<div>\n",
       "<style scoped>\n",
       "    .dataframe tbody tr th:only-of-type {\n",
       "        vertical-align: middle;\n",
       "    }\n",
       "\n",
       "    .dataframe tbody tr th {\n",
       "        vertical-align: top;\n",
       "    }\n",
       "\n",
       "    .dataframe thead th {\n",
       "        text-align: right;\n",
       "    }\n",
       "</style>\n",
       "<table border=\"1\" class=\"dataframe\">\n",
       "  <thead>\n",
       "    <tr style=\"text-align: right;\">\n",
       "      <th></th>\n",
       "      <th>ID_NO</th>\n",
       "      <th>BINOMIAL</th>\n",
       "      <th>ORIGIN</th>\n",
       "      <th>COMPILER</th>\n",
       "      <th>YEAR</th>\n",
       "      <th>CITATION</th>\n",
       "      <th>SOURCE</th>\n",
       "      <th>DIST_COMM</th>\n",
       "      <th>ISLAND</th>\n",
       "      <th>SUBSPECIES</th>\n",
       "      <th>...</th>\n",
       "      <th>RL_UPDATE</th>\n",
       "      <th>KINGDOM_NA</th>\n",
       "      <th>PHYLUM_NAM</th>\n",
       "      <th>CLASS_NAME</th>\n",
       "      <th>ORDER_NAME</th>\n",
       "      <th>FAMILY_NAM</th>\n",
       "      <th>GENUS_NAME</th>\n",
       "      <th>SPECIES_NA</th>\n",
       "      <th>CATEGORY</th>\n",
       "      <th>geometry</th>\n",
       "    </tr>\n",
       "  </thead>\n",
       "  <tbody>\n",
       "    <tr>\n",
       "      <th>0</th>\n",
       "      <td>183963.0</td>\n",
       "      <td>Stegastes leucorus</td>\n",
       "      <td>1</td>\n",
       "      <td>IUCN</td>\n",
       "      <td>2010</td>\n",
       "      <td>International Union for Conservation of Nature...</td>\n",
       "      <td>None</td>\n",
       "      <td>None</td>\n",
       "      <td>None</td>\n",
       "      <td>None</td>\n",
       "      <td>...</td>\n",
       "      <td>2012.1</td>\n",
       "      <td>ANIMALIA</td>\n",
       "      <td>CHORDATA</td>\n",
       "      <td>ACTINOPTERYGII</td>\n",
       "      <td>PERCIFORMES</td>\n",
       "      <td>POMACENTRIDAE</td>\n",
       "      <td>Stegastes</td>\n",
       "      <td>leucorus</td>\n",
       "      <td>VU</td>\n",
       "      <td>POLYGON ((-115.6437454219999 29.71392059300007...</td>\n",
       "    </tr>\n",
       "    <tr>\n",
       "      <th>1</th>\n",
       "      <td>183963.0</td>\n",
       "      <td>Stegastes leucorus</td>\n",
       "      <td>1</td>\n",
       "      <td>IUCN</td>\n",
       "      <td>2010</td>\n",
       "      <td>International Union for Conservation of Nature...</td>\n",
       "      <td>None</td>\n",
       "      <td>None</td>\n",
       "      <td>None</td>\n",
       "      <td>None</td>\n",
       "      <td>...</td>\n",
       "      <td>2012.1</td>\n",
       "      <td>ANIMALIA</td>\n",
       "      <td>CHORDATA</td>\n",
       "      <td>ACTINOPTERYGII</td>\n",
       "      <td>PERCIFORMES</td>\n",
       "      <td>POMACENTRIDAE</td>\n",
       "      <td>Stegastes</td>\n",
       "      <td>leucorus</td>\n",
       "      <td>VU</td>\n",
       "      <td>POLYGON ((-105.589950704 21.89339825500002, -1...</td>\n",
       "    </tr>\n",
       "    <tr>\n",
       "      <th>2</th>\n",
       "      <td>183963.0</td>\n",
       "      <td>Stegastes leucorus</td>\n",
       "      <td>1</td>\n",
       "      <td>IUCN</td>\n",
       "      <td>2010</td>\n",
       "      <td>International Union for Conservation of Nature...</td>\n",
       "      <td>None</td>\n",
       "      <td>None</td>\n",
       "      <td>None</td>\n",
       "      <td>None</td>\n",
       "      <td>...</td>\n",
       "      <td>2012.1</td>\n",
       "      <td>ANIMALIA</td>\n",
       "      <td>CHORDATA</td>\n",
       "      <td>ACTINOPTERYGII</td>\n",
       "      <td>PERCIFORMES</td>\n",
       "      <td>POMACENTRIDAE</td>\n",
       "      <td>Stegastes</td>\n",
       "      <td>leucorus</td>\n",
       "      <td>VU</td>\n",
       "      <td>POLYGON ((-111.159618439 19.01535626700007, -1...</td>\n",
       "    </tr>\n",
       "    <tr>\n",
       "      <th>3</th>\n",
       "      <td>183793.0</td>\n",
       "      <td>Chromis intercrusma</td>\n",
       "      <td>1</td>\n",
       "      <td>IUCN</td>\n",
       "      <td>2010</td>\n",
       "      <td>International Union for Conservation of Nature...</td>\n",
       "      <td>None</td>\n",
       "      <td>None</td>\n",
       "      <td>None</td>\n",
       "      <td>None</td>\n",
       "      <td>...</td>\n",
       "      <td>2012.1</td>\n",
       "      <td>ANIMALIA</td>\n",
       "      <td>CHORDATA</td>\n",
       "      <td>ACTINOPTERYGII</td>\n",
       "      <td>PERCIFORMES</td>\n",
       "      <td>POMACENTRIDAE</td>\n",
       "      <td>Chromis</td>\n",
       "      <td>intercrusma</td>\n",
       "      <td>LC</td>\n",
       "      <td>POLYGON ((-80.86500229899997 -0.77894492099994...</td>\n",
       "    </tr>\n",
       "    <tr>\n",
       "      <th>4</th>\n",
       "      <td>183793.0</td>\n",
       "      <td>Chromis intercrusma</td>\n",
       "      <td>1</td>\n",
       "      <td>IUCN</td>\n",
       "      <td>2010</td>\n",
       "      <td>International Union for Conservation of Nature...</td>\n",
       "      <td>None</td>\n",
       "      <td>None</td>\n",
       "      <td>None</td>\n",
       "      <td>None</td>\n",
       "      <td>...</td>\n",
       "      <td>2012.1</td>\n",
       "      <td>ANIMALIA</td>\n",
       "      <td>CHORDATA</td>\n",
       "      <td>ACTINOPTERYGII</td>\n",
       "      <td>PERCIFORMES</td>\n",
       "      <td>POMACENTRIDAE</td>\n",
       "      <td>Chromis</td>\n",
       "      <td>intercrusma</td>\n",
       "      <td>LC</td>\n",
       "      <td>POLYGON ((-67.33922225599997 -55.6761029239999...</td>\n",
       "    </tr>\n",
       "  </tbody>\n",
       "</table>\n",
       "<p>5 rows × 24 columns</p>\n",
       "</div>"
      ],
      "text/plain": [
       "      ID_NO             BINOMIAL  ORIGIN COMPILER  YEAR  \\\n",
       "0  183963.0   Stegastes leucorus       1     IUCN  2010   \n",
       "1  183963.0   Stegastes leucorus       1     IUCN  2010   \n",
       "2  183963.0   Stegastes leucorus       1     IUCN  2010   \n",
       "3  183793.0  Chromis intercrusma       1     IUCN  2010   \n",
       "4  183793.0  Chromis intercrusma       1     IUCN  2010   \n",
       "\n",
       "                                            CITATION SOURCE DIST_COMM ISLAND  \\\n",
       "0  International Union for Conservation of Nature...   None      None   None   \n",
       "1  International Union for Conservation of Nature...   None      None   None   \n",
       "2  International Union for Conservation of Nature...   None      None   None   \n",
       "3  International Union for Conservation of Nature...   None      None   None   \n",
       "4  International Union for Conservation of Nature...   None      None   None   \n",
       "\n",
       "  SUBSPECIES                        ...                         RL_UPDATE  \\\n",
       "0       None                        ...                            2012.1   \n",
       "1       None                        ...                            2012.1   \n",
       "2       None                        ...                            2012.1   \n",
       "3       None                        ...                            2012.1   \n",
       "4       None                        ...                            2012.1   \n",
       "\n",
       "  KINGDOM_NA  PHYLUM_NAM      CLASS_NAME   ORDER_NAME     FAMILY_NAM  \\\n",
       "0   ANIMALIA    CHORDATA  ACTINOPTERYGII  PERCIFORMES  POMACENTRIDAE   \n",
       "1   ANIMALIA    CHORDATA  ACTINOPTERYGII  PERCIFORMES  POMACENTRIDAE   \n",
       "2   ANIMALIA    CHORDATA  ACTINOPTERYGII  PERCIFORMES  POMACENTRIDAE   \n",
       "3   ANIMALIA    CHORDATA  ACTINOPTERYGII  PERCIFORMES  POMACENTRIDAE   \n",
       "4   ANIMALIA    CHORDATA  ACTINOPTERYGII  PERCIFORMES  POMACENTRIDAE   \n",
       "\n",
       "  GENUS_NAME   SPECIES_NA CATEGORY  \\\n",
       "0  Stegastes     leucorus       VU   \n",
       "1  Stegastes     leucorus       VU   \n",
       "2  Stegastes     leucorus       VU   \n",
       "3    Chromis  intercrusma       LC   \n",
       "4    Chromis  intercrusma       LC   \n",
       "\n",
       "                                            geometry  \n",
       "0  POLYGON ((-115.6437454219999 29.71392059300007...  \n",
       "1  POLYGON ((-105.589950704 21.89339825500002, -1...  \n",
       "2  POLYGON ((-111.159618439 19.01535626700007, -1...  \n",
       "3  POLYGON ((-80.86500229899997 -0.77894492099994...  \n",
       "4  POLYGON ((-67.33922225599997 -55.6761029239999...  \n",
       "\n",
       "[5 rows x 24 columns]"
      ]
     },
     "execution_count": 15,
     "metadata": {},
     "output_type": "execute_result"
    }
   ],
   "source": [
    "data.head()"
   ]
  },
  {
   "cell_type": "code",
   "execution_count": 8,
   "metadata": {},
   "outputs": [
    {
     "data": {
      "image/png": "[encoded data removed]",
      "text/plain": [
       "<Figure size 432x288 with 1 Axes>"
      ]
     },
     "metadata": {},
     "output_type": "display_data"
    }
   ],
   "source": [
    "data.plot();"
   ]
  },
  {
   "cell_type": "code",
   "execution_count": 11,
   "metadata": {},
   "outputs": [],
   "source": [
    "out = r\"C:\\Users\\s.shchus\\Documents\\GitHub\\Automatic_GIS\\DATA\\DAMSELFISH_distributions_out.shp\""
   ]
  },
  {
   "cell_type": "code",
   "execution_count": 12,
   "metadata": {},
   "outputs": [],
   "source": [
    "selection = data [0:50]\n",
    "selection.to_file (out)"
   ]
  },
  {
   "cell_type": "code",
   "execution_count": 16,
   "metadata": {
    "scrolled": true
   },
   "outputs": [
    {
     "data": {
      "image/png": "[encoded data removed]",
      "text/plain": [
       "<Figure size 432x288 with 1 Axes>"
      ]
     },
     "metadata": {},
     "output_type": "display_data"
    }
   ],
   "source": [
    "y = r\"C:\\Users\\s.shchus\\Documents\\GitHub\\Automatic_GIS\\DATA\\DAMSELFISH_distributions_out.shp\"\n",
    "y = gpd.read_file(y)\n",
    "\n",
    "y.plot();"
   ]
  },
  {
   "cell_type": "markdown",
   "metadata": {},
   "source": [
    "# Геометрия в геопандах\n",
    "Geopandas использует геометрические объекты Shapely. Геометрия хранится в столбце с именем geometry, который является именем столбца по умолчанию для хранения геометрической информации в геоданном.\n",
    "\n",
    "Давайте напечатаем первые 5 строк геометрии столбца:"
   ]
  },
  {
   "cell_type": "code",
   "execution_count": 17,
   "metadata": {},
   "outputs": [
    {
     "data": {
      "text/plain": [
       "0    POLYGON ((-115.6437454219999 29.71392059300007...\n",
       "1    POLYGON ((-105.589950704 21.89339825500002, -1...\n",
       "2    POLYGON ((-111.159618439 19.01535626700007, -1...\n",
       "3    POLYGON ((-80.86500229899997 -0.77894492099994...\n",
       "4    POLYGON ((-67.33922225599997 -55.6761029239999...\n",
       "Name: geometry, dtype: object"
      ]
     },
     "execution_count": 17,
     "metadata": {},
     "output_type": "execute_result"
    }
   ],
   "source": [
    "data ['geometry'].head()"
   ]
  },
  {
   "cell_type": "code",
   "execution_count": 18,
   "metadata": {},
   "outputs": [],
   "source": [
    "selection = data [0:5]"
   ]
  },
  {
   "cell_type": "code",
   "execution_count": 24,
   "metadata": {},
   "outputs": [
    {
     "name": "stdout",
     "output_type": "stream",
     "text": [
      "Polygon area at index 0 is: 19.396\n",
      "Polygon area at index 1 is: 6.146\n",
      "Polygon area at index 2 is: 2.697\n",
      "Polygon area at index 3 is: 87.461\n",
      "Polygon area at index 4 is: 0.001\n"
     ]
    }
   ],
   "source": [
    "for index, row in selection.iterrows():\n",
    "    poly_area = row ['geometry'].area\n",
    "    print (\"Polygon area at index {0} is: {1:.3f}\".format(index, poly_area))"
   ]
  },
  {
   "cell_type": "code",
   "execution_count": 26,
   "metadata": {
    "scrolled": true
   },
   "outputs": [
    {
     "data": {
      "text/plain": [
       "0    19.396254\n",
       "1     6.145902\n",
       "2     2.697207\n",
       "3    87.460621\n",
       "4     0.000918\n",
       "Name: area, dtype: float64"
      ]
     },
     "execution_count": 26,
     "metadata": {},
     "output_type": "execute_result"
    }
   ],
   "source": [
    "data ['area'] = data.area\n",
    "data ['area'].head()"
   ]
  },
  {
   "cell_type": "markdown",
   "metadata": {},
   "source": [
    "Okey, поэтому мы можем видеть, что область нашего первого многоугольника, по-видимому, составляет 19.39 и 6.14 для второго многоугольника. Они соответствуют тем, которые мы видели на предыдущем шаге при повторении строк, следовательно, все работает так, как должно. Давайте проверим, что такое min и max этих областей, используя знакомые функции из наших предыдущих сокращений Pandas."
   ]
  },
  {
   "cell_type": "code",
   "execution_count": 28,
   "metadata": {},
   "outputs": [
    {
     "name": "stdout",
     "output_type": "stream",
     "text": [
      "Max area: 1493.2\n",
      "Mean area: 19.96\n"
     ]
    }
   ],
   "source": [
    "max_area = data ['area'].max()\n",
    "\n",
    "mean_area = data ['area'].mean()\n",
    "\n",
    "print (\"Max area: %s\\nMean area: %s\" % (round (max_area, 2), round (mean_area, 2)))"
   ]
  },
  {
   "cell_type": "markdown",
   "metadata": {},
   "source": [
    "# Создание геометрий в GeoDataFrame\n",
    "Поскольку геоданные используют преимущества геометрических объектов Shapely, можно создать Shapefile с нуля, передав геометрические объекты Shapely в GeoDataFrame. Это полезно, поскольку упрощает преобразование, например, текстового файла, который содержит координаты в Shapefile.\n",
    "\n",
    "Давайте создадим пустую GeoDataFrame."
   ]
  },
  {
   "cell_type": "code",
   "execution_count": 1,
   "metadata": {},
   "outputs": [],
   "source": [
    "import pandas as pd\n",
    "import geopandas as gpd\n",
    "from shapely.geometry import Point, Polygon\n",
    "import fiona\n",
    "\n",
    "newdata = gpd.GeoDataFrame()"
   ]
  },
  {
   "cell_type": "code",
   "execution_count": 2,
   "metadata": {},
   "outputs": [
    {
     "name": "stdout",
     "output_type": "stream",
     "text": [
      "Empty GeoDataFrame\n",
      "Columns: []\n",
      "Index: []\n"
     ]
    }
   ],
   "source": [
    "print (newdata)"
   ]
  },
  {
   "cell_type": "markdown",
   "metadata": {},
   "source": [
    "GeoDataFrame пуст, поскольку мы не помещаем какие-либо данные внутри.\n",
    "\n",
    "Давайте создадим новый столбец, geometry который будет содержать наши объекты Shapely:"
   ]
  },
  {
   "cell_type": "code",
   "execution_count": 3,
   "metadata": {
    "scrolled": true
   },
   "outputs": [
    {
     "name": "stdout",
     "output_type": "stream",
     "text": [
      "Empty GeoDataFrame\n",
      "Columns: [geometry]\n",
      "Index: []\n"
     ]
    }
   ],
   "source": [
    "newdata ['geometry'] = None\n",
    "\n",
    "print (newdata)"
   ]
  },
  {
   "cell_type": "markdown",
   "metadata": {},
   "source": [
    "Теперь у нас есть геометрия в нашем GeoDataFrame, но у нас пока нет данных.\n",
    "\n",
    "Давайте создадим Shapely Polygon, воссоздающий квадрат сената Хельсинки, который мы можем вставить в наш GeoDataFrame:"
   ]
  },
  {
   "cell_type": "code",
   "execution_count": 4,
   "metadata": {},
   "outputs": [
    {
     "data": {
      "image/svg+xml": [
       "<svg xmlns=\"http://www.w3.org/2000/svg\" xmlns:xlink=\"http://www.w3.org/1999/xlink\" width=\"100.0\" height=\"100.0\" viewBox=\"24.95079456 60.16905356 0.0028198800000041047 0.0011548800000014126\" preserveAspectRatio=\"xMinYMin meet\"><g transform=\"matrix(1,0,0,-1,0,120.339262)\"><path fill-rule=\"evenodd\" fill=\"#66cc99\" stroke=\"#555555\" stroke-width=\"5.639760000008209e-05\" opacity=\"0.6\" d=\"M 24.950899,60.169158 L 24.953492,60.169158 L 24.95351,60.170104 L 24.950958,60.16999 L 24.950899,60.169158 z\" /></g></svg>"
      ],
      "text/plain": [
       "<shapely.geometry.polygon.Polygon at 0x277c97e4a90>"
      ]
     },
     "execution_count": 4,
     "metadata": {},
     "output_type": "execute_result"
    }
   ],
   "source": [
    "coordinates = [(24.950899, 60.169158), (24.953492, 60.169158), (24.953510, 60.170104), (24.950958, 60.169990)]\n",
    "poly = Polygon (coordinates)\n",
    "poly"
   ]
  },
  {
   "cell_type": "markdown",
   "metadata": {},
   "source": [
    "Okey, так что теперь у нас есть подходящий объект Polygon.\n",
    "\n",
    "Вставим многоугольник в наш столбец «geometry» в нашем GeoDataFrame:"
   ]
  },
  {
   "cell_type": "code",
   "execution_count": 9,
   "metadata": {},
   "outputs": [
    {
     "data": {
      "image/png": "[encoded data removed]",
      "text/plain": [
       "<Figure size 432x288 with 1 Axes>"
      ]
     },
     "metadata": {},
     "output_type": "display_data"
    }
   ],
   "source": [
    "newdata.loc [0, 'geometry'] = poly\n",
    "\n",
    "newdata.plot();"
   ]
  },
  {
   "cell_type": "markdown",
   "metadata": {},
   "source": [
    "Теперь у нас есть GeoDataFrame с Polygon, который мы можем экспортировать в Shapefile.\n",
    "\n",
    "Давайте добавим еще один столбец в наш GeoDataFrame Locationс текстом Senaatintori ."
   ]
  },
  {
   "cell_type": "code",
   "execution_count": 10,
   "metadata": {},
   "outputs": [
    {
     "data": {
      "text/html": [
       "<div>\n",
       "<style scoped>\n",
       "    .dataframe tbody tr th:only-of-type {\n",
       "        vertical-align: middle;\n",
       "    }\n",
       "\n",
       "    .dataframe tbody tr th {\n",
       "        vertical-align: top;\n",
       "    }\n",
       "\n",
       "    .dataframe thead th {\n",
       "        text-align: right;\n",
       "    }\n",
       "</style>\n",
       "<table border=\"1\" class=\"dataframe\">\n",
       "  <thead>\n",
       "    <tr style=\"text-align: right;\">\n",
       "      <th></th>\n",
       "      <th>geometry</th>\n",
       "      <th>Location</th>\n",
       "    </tr>\n",
       "  </thead>\n",
       "  <tbody>\n",
       "    <tr>\n",
       "      <th>0</th>\n",
       "      <td>POLYGON ((24.950899 60.169158, 24.953492 60.16...</td>\n",
       "      <td>Senaatintori</td>\n",
       "    </tr>\n",
       "  </tbody>\n",
       "</table>\n",
       "</div>"
      ],
      "text/plain": [
       "                                            geometry      Location\n",
       "0  POLYGON ((24.950899 60.169158, 24.953492 60.16...  Senaatintori"
      ]
     },
     "execution_count": 10,
     "metadata": {},
     "output_type": "execute_result"
    }
   ],
   "source": [
    "newdata.loc [0, 'Location'] = 'Senaatintori'\n",
    "newdata"
   ]
  },
  {
   "cell_type": "markdown",
   "metadata": {},
   "source": [
    "Перед экспортом данных полезно определить координатную систему координат (проекции) для GeoDataFrame.\n",
    "\n",
    "GeoDataFrame имеет свойство, называемое .crs, которое (подробнее о проецировании в следующем учебнике) показывает систему координат данных, которая пуста (None) в нашем случае, поскольку мы создаем данные с нуля:"
   ]
  },
  {
   "cell_type": "code",
   "execution_count": 11,
   "metadata": {},
   "outputs": [
    {
     "name": "stdout",
     "output_type": "stream",
     "text": [
      "None\n"
     ]
    }
   ],
   "source": [
    "print (newdata.crs)"
   ]
  },
  {
   "cell_type": "markdown",
   "metadata": {},
   "source": [
    "Давайте добавим crs для нашего GeoDataFrame. Модуль Python, называемый fiona, имеет приятную функцию, предназначенную from_epsg()для прохождения системы координат для GeoDataFrame. Затем мы будем использовать это и определить проекцию на WGS84 (код epsg: 4326):"
   ]
  },
  {
   "cell_type": "code",
   "execution_count": 12,
   "metadata": {},
   "outputs": [
    {
     "data": {
      "text/plain": [
       "{'init': 'epsg:4326', 'no_defs': True}"
      ]
     },
     "execution_count": 12,
     "metadata": {},
     "output_type": "execute_result"
    }
   ],
   "source": [
    "from fiona.crs import from_epsg\n",
    "newdata.crs = from_epsg (4326)\n",
    "newdata.crs"
   ]
  },
  {
   "cell_type": "markdown",
   "metadata": {},
   "source": [
    "Наконец, мы можем экспортировать данные, используя GeoDataFrames -функцию .to_file() . Функция работает так же, как numpy или pandas, но здесь нам нужно только предоставить выходной путь для Shapefile. Легко, не так ли !:"
   ]
  },
  {
   "cell_type": "code",
   "execution_count": 13,
   "metadata": {},
   "outputs": [],
   "source": [
    "outfp = r\"C:\\Users\\s.shchus\\Documents\\GitHub\\Automatic_GIS\\DATA\\Senaatintori.shp\"\n",
    "\n",
    "newdata.to_file(outfp)"
   ]
  },
  {
   "cell_type": "markdown",
   "metadata": {},
   "source": [
    "Теперь мы успешно создали Shapefile с нуля, используя только Python-программирование. Аналогичный подход может использоваться, например, для чтения координат из текстового файла (например, точек) и автоматического создания Shapefiles."
   ]
  },
  {
   "cell_type": "markdown",
   "metadata": {},
   "source": [
    "# Практический пример: сохранение нескольких Shapefiles\n",
    "Одной действительно полезной функцией, которая может быть использована в Pandas / Geopandas, является .groupby () . Мы видели и использовали эту функцию уже в уроке 5 курса Geo-Python . Групповая функция полезна для группировки данных на основе значений в выбранных столбцах."
   ]
  },
  {
   "cell_type": "code",
   "execution_count": 17,
   "metadata": {},
   "outputs": [
    {
     "data": {
      "text/html": [
       "<div>\n",
       "<style scoped>\n",
       "    .dataframe tbody tr th:only-of-type {\n",
       "        vertical-align: middle;\n",
       "    }\n",
       "\n",
       "    .dataframe tbody tr th {\n",
       "        vertical-align: top;\n",
       "    }\n",
       "\n",
       "    .dataframe thead th {\n",
       "        text-align: right;\n",
       "    }\n",
       "</style>\n",
       "<table border=\"1\" class=\"dataframe\">\n",
       "  <thead>\n",
       "    <tr style=\"text-align: right;\">\n",
       "      <th></th>\n",
       "      <th>ID_NO</th>\n",
       "      <th>BINOMIAL</th>\n",
       "      <th>ORIGIN</th>\n",
       "      <th>COMPILER</th>\n",
       "      <th>YEAR</th>\n",
       "      <th>CITATION</th>\n",
       "      <th>SOURCE</th>\n",
       "      <th>DIST_COMM</th>\n",
       "      <th>ISLAND</th>\n",
       "      <th>SUBSPECIES</th>\n",
       "      <th>...</th>\n",
       "      <th>RL_UPDATE</th>\n",
       "      <th>KINGDOM_NA</th>\n",
       "      <th>PHYLUM_NAM</th>\n",
       "      <th>CLASS_NAME</th>\n",
       "      <th>ORDER_NAME</th>\n",
       "      <th>FAMILY_NAM</th>\n",
       "      <th>GENUS_NAME</th>\n",
       "      <th>SPECIES_NA</th>\n",
       "      <th>CATEGORY</th>\n",
       "      <th>geometry</th>\n",
       "    </tr>\n",
       "  </thead>\n",
       "  <tbody>\n",
       "    <tr>\n",
       "      <th>0</th>\n",
       "      <td>183963.0</td>\n",
       "      <td>Stegastes leucorus</td>\n",
       "      <td>1</td>\n",
       "      <td>IUCN</td>\n",
       "      <td>2010</td>\n",
       "      <td>International Union for Conservation of Nature...</td>\n",
       "      <td>None</td>\n",
       "      <td>None</td>\n",
       "      <td>None</td>\n",
       "      <td>None</td>\n",
       "      <td>...</td>\n",
       "      <td>2012.1</td>\n",
       "      <td>ANIMALIA</td>\n",
       "      <td>CHORDATA</td>\n",
       "      <td>ACTINOPTERYGII</td>\n",
       "      <td>PERCIFORMES</td>\n",
       "      <td>POMACENTRIDAE</td>\n",
       "      <td>Stegastes</td>\n",
       "      <td>leucorus</td>\n",
       "      <td>VU</td>\n",
       "      <td>POLYGON ((-115.6437454219999 29.71392059300007...</td>\n",
       "    </tr>\n",
       "    <tr>\n",
       "      <th>1</th>\n",
       "      <td>183963.0</td>\n",
       "      <td>Stegastes leucorus</td>\n",
       "      <td>1</td>\n",
       "      <td>IUCN</td>\n",
       "      <td>2010</td>\n",
       "      <td>International Union for Conservation of Nature...</td>\n",
       "      <td>None</td>\n",
       "      <td>None</td>\n",
       "      <td>None</td>\n",
       "      <td>None</td>\n",
       "      <td>...</td>\n",
       "      <td>2012.1</td>\n",
       "      <td>ANIMALIA</td>\n",
       "      <td>CHORDATA</td>\n",
       "      <td>ACTINOPTERYGII</td>\n",
       "      <td>PERCIFORMES</td>\n",
       "      <td>POMACENTRIDAE</td>\n",
       "      <td>Stegastes</td>\n",
       "      <td>leucorus</td>\n",
       "      <td>VU</td>\n",
       "      <td>POLYGON ((-105.589950704 21.89339825500002, -1...</td>\n",
       "    </tr>\n",
       "    <tr>\n",
       "      <th>2</th>\n",
       "      <td>183963.0</td>\n",
       "      <td>Stegastes leucorus</td>\n",
       "      <td>1</td>\n",
       "      <td>IUCN</td>\n",
       "      <td>2010</td>\n",
       "      <td>International Union for Conservation of Nature...</td>\n",
       "      <td>None</td>\n",
       "      <td>None</td>\n",
       "      <td>None</td>\n",
       "      <td>None</td>\n",
       "      <td>...</td>\n",
       "      <td>2012.1</td>\n",
       "      <td>ANIMALIA</td>\n",
       "      <td>CHORDATA</td>\n",
       "      <td>ACTINOPTERYGII</td>\n",
       "      <td>PERCIFORMES</td>\n",
       "      <td>POMACENTRIDAE</td>\n",
       "      <td>Stegastes</td>\n",
       "      <td>leucorus</td>\n",
       "      <td>VU</td>\n",
       "      <td>POLYGON ((-111.159618439 19.01535626700007, -1...</td>\n",
       "    </tr>\n",
       "    <tr>\n",
       "      <th>3</th>\n",
       "      <td>183793.0</td>\n",
       "      <td>Chromis intercrusma</td>\n",
       "      <td>1</td>\n",
       "      <td>IUCN</td>\n",
       "      <td>2010</td>\n",
       "      <td>International Union for Conservation of Nature...</td>\n",
       "      <td>None</td>\n",
       "      <td>None</td>\n",
       "      <td>None</td>\n",
       "      <td>None</td>\n",
       "      <td>...</td>\n",
       "      <td>2012.1</td>\n",
       "      <td>ANIMALIA</td>\n",
       "      <td>CHORDATA</td>\n",
       "      <td>ACTINOPTERYGII</td>\n",
       "      <td>PERCIFORMES</td>\n",
       "      <td>POMACENTRIDAE</td>\n",
       "      <td>Chromis</td>\n",
       "      <td>intercrusma</td>\n",
       "      <td>LC</td>\n",
       "      <td>POLYGON ((-80.86500229899997 -0.77894492099994...</td>\n",
       "    </tr>\n",
       "    <tr>\n",
       "      <th>4</th>\n",
       "      <td>183793.0</td>\n",
       "      <td>Chromis intercrusma</td>\n",
       "      <td>1</td>\n",
       "      <td>IUCN</td>\n",
       "      <td>2010</td>\n",
       "      <td>International Union for Conservation of Nature...</td>\n",
       "      <td>None</td>\n",
       "      <td>None</td>\n",
       "      <td>None</td>\n",
       "      <td>None</td>\n",
       "      <td>...</td>\n",
       "      <td>2012.1</td>\n",
       "      <td>ANIMALIA</td>\n",
       "      <td>CHORDATA</td>\n",
       "      <td>ACTINOPTERYGII</td>\n",
       "      <td>PERCIFORMES</td>\n",
       "      <td>POMACENTRIDAE</td>\n",
       "      <td>Chromis</td>\n",
       "      <td>intercrusma</td>\n",
       "      <td>LC</td>\n",
       "      <td>POLYGON ((-67.33922225599997 -55.6761029239999...</td>\n",
       "    </tr>\n",
       "  </tbody>\n",
       "</table>\n",
       "<p>5 rows × 24 columns</p>\n",
       "</div>"
      ],
      "text/plain": [
       "      ID_NO             BINOMIAL  ORIGIN COMPILER  YEAR  \\\n",
       "0  183963.0   Stegastes leucorus       1     IUCN  2010   \n",
       "1  183963.0   Stegastes leucorus       1     IUCN  2010   \n",
       "2  183963.0   Stegastes leucorus       1     IUCN  2010   \n",
       "3  183793.0  Chromis intercrusma       1     IUCN  2010   \n",
       "4  183793.0  Chromis intercrusma       1     IUCN  2010   \n",
       "\n",
       "                                            CITATION SOURCE DIST_COMM ISLAND  \\\n",
       "0  International Union for Conservation of Nature...   None      None   None   \n",
       "1  International Union for Conservation of Nature...   None      None   None   \n",
       "2  International Union for Conservation of Nature...   None      None   None   \n",
       "3  International Union for Conservation of Nature...   None      None   None   \n",
       "4  International Union for Conservation of Nature...   None      None   None   \n",
       "\n",
       "  SUBSPECIES                        ...                         RL_UPDATE  \\\n",
       "0       None                        ...                            2012.1   \n",
       "1       None                        ...                            2012.1   \n",
       "2       None                        ...                            2012.1   \n",
       "3       None                        ...                            2012.1   \n",
       "4       None                        ...                            2012.1   \n",
       "\n",
       "  KINGDOM_NA  PHYLUM_NAM      CLASS_NAME   ORDER_NAME     FAMILY_NAM  \\\n",
       "0   ANIMALIA    CHORDATA  ACTINOPTERYGII  PERCIFORMES  POMACENTRIDAE   \n",
       "1   ANIMALIA    CHORDATA  ACTINOPTERYGII  PERCIFORMES  POMACENTRIDAE   \n",
       "2   ANIMALIA    CHORDATA  ACTINOPTERYGII  PERCIFORMES  POMACENTRIDAE   \n",
       "3   ANIMALIA    CHORDATA  ACTINOPTERYGII  PERCIFORMES  POMACENTRIDAE   \n",
       "4   ANIMALIA    CHORDATA  ACTINOPTERYGII  PERCIFORMES  POMACENTRIDAE   \n",
       "\n",
       "  GENUS_NAME   SPECIES_NA CATEGORY  \\\n",
       "0  Stegastes     leucorus       VU   \n",
       "1  Stegastes     leucorus       VU   \n",
       "2  Stegastes     leucorus       VU   \n",
       "3    Chromis  intercrusma       LC   \n",
       "4    Chromis  intercrusma       LC   \n",
       "\n",
       "                                            geometry  \n",
       "0  POLYGON ((-115.6437454219999 29.71392059300007...  \n",
       "1  POLYGON ((-105.589950704 21.89339825500002, -1...  \n",
       "2  POLYGON ((-111.159618439 19.01535626700007, -1...  \n",
       "3  POLYGON ((-80.86500229899997 -0.77894492099994...  \n",
       "4  POLYGON ((-67.33922225599997 -55.6761029239999...  \n",
       "\n",
       "[5 rows x 24 columns]"
      ]
     },
     "execution_count": 17,
     "metadata": {},
     "output_type": "execute_result"
    }
   ],
   "source": [
    "data.head()"
   ]
  },
  {
   "cell_type": "code",
   "execution_count": 18,
   "metadata": {},
   "outputs": [
    {
     "data": {
      "text/plain": [
       "<pandas.core.groupby.groupby.DataFrameGroupBy object at 0x00000277CE453A58>"
      ]
     },
     "execution_count": 18,
     "metadata": {},
     "output_type": "execute_result"
    }
   ],
   "source": [
    "grouped = data.groupby ('BINOMIAL')\n",
    "grouped"
   ]
  },
  {
   "cell_type": "markdown",
   "metadata": {},
   "source": [
    "groupby-функция дает нам объект, DataFrameGroupBy который похож на список ключей и значений (в словаре), которые мы можем перебирать."
   ]
  },
  {
   "cell_type": "code",
   "execution_count": 24,
   "metadata": {},
   "outputs": [
    {
     "data": {
      "text/html": [
       "<div>\n",
       "<style scoped>\n",
       "    .dataframe tbody tr th:only-of-type {\n",
       "        vertical-align: middle;\n",
       "    }\n",
       "\n",
       "    .dataframe tbody tr th {\n",
       "        vertical-align: top;\n",
       "    }\n",
       "\n",
       "    .dataframe thead th {\n",
       "        text-align: right;\n",
       "    }\n",
       "</style>\n",
       "<table border=\"1\" class=\"dataframe\">\n",
       "  <thead>\n",
       "    <tr style=\"text-align: right;\">\n",
       "      <th></th>\n",
       "      <th>ID_NO</th>\n",
       "      <th>BINOMIAL</th>\n",
       "      <th>ORIGIN</th>\n",
       "      <th>COMPILER</th>\n",
       "      <th>YEAR</th>\n",
       "      <th>CITATION</th>\n",
       "      <th>SOURCE</th>\n",
       "      <th>DIST_COMM</th>\n",
       "      <th>ISLAND</th>\n",
       "      <th>SUBSPECIES</th>\n",
       "      <th>...</th>\n",
       "      <th>RL_UPDATE</th>\n",
       "      <th>KINGDOM_NA</th>\n",
       "      <th>PHYLUM_NAM</th>\n",
       "      <th>CLASS_NAME</th>\n",
       "      <th>ORDER_NAME</th>\n",
       "      <th>FAMILY_NAM</th>\n",
       "      <th>GENUS_NAME</th>\n",
       "      <th>SPECIES_NA</th>\n",
       "      <th>CATEGORY</th>\n",
       "      <th>geometry</th>\n",
       "    </tr>\n",
       "  </thead>\n",
       "  <tbody>\n",
       "    <tr>\n",
       "      <th>27</th>\n",
       "      <td>154915.0</td>\n",
       "      <td>Teixeirichthys jordani</td>\n",
       "      <td>1</td>\n",
       "      <td>None</td>\n",
       "      <td>2012</td>\n",
       "      <td>Red List Index (Sampled Approach), Zoological ...</td>\n",
       "      <td>None</td>\n",
       "      <td>None</td>\n",
       "      <td>None</td>\n",
       "      <td>None</td>\n",
       "      <td>...</td>\n",
       "      <td>2012.2</td>\n",
       "      <td>ANIMALIA</td>\n",
       "      <td>CHORDATA</td>\n",
       "      <td>ACTINOPTERYGII</td>\n",
       "      <td>PERCIFORMES</td>\n",
       "      <td>POMACENTRIDAE</td>\n",
       "      <td>Teixeirichthys</td>\n",
       "      <td>jordani</td>\n",
       "      <td>LC</td>\n",
       "      <td>POLYGON ((121.6300326400001 33.04248618400004,...</td>\n",
       "    </tr>\n",
       "    <tr>\n",
       "      <th>28</th>\n",
       "      <td>154915.0</td>\n",
       "      <td>Teixeirichthys jordani</td>\n",
       "      <td>1</td>\n",
       "      <td>None</td>\n",
       "      <td>2012</td>\n",
       "      <td>Red List Index (Sampled Approach), Zoological ...</td>\n",
       "      <td>None</td>\n",
       "      <td>None</td>\n",
       "      <td>None</td>\n",
       "      <td>None</td>\n",
       "      <td>...</td>\n",
       "      <td>2012.2</td>\n",
       "      <td>ANIMALIA</td>\n",
       "      <td>CHORDATA</td>\n",
       "      <td>ACTINOPTERYGII</td>\n",
       "      <td>PERCIFORMES</td>\n",
       "      <td>POMACENTRIDAE</td>\n",
       "      <td>Teixeirichthys</td>\n",
       "      <td>jordani</td>\n",
       "      <td>LC</td>\n",
       "      <td>POLYGON ((32.56219482400007 29.97488975500005,...</td>\n",
       "    </tr>\n",
       "    <tr>\n",
       "      <th>29</th>\n",
       "      <td>154915.0</td>\n",
       "      <td>Teixeirichthys jordani</td>\n",
       "      <td>1</td>\n",
       "      <td>None</td>\n",
       "      <td>2012</td>\n",
       "      <td>Red List Index (Sampled Approach), Zoological ...</td>\n",
       "      <td>None</td>\n",
       "      <td>None</td>\n",
       "      <td>None</td>\n",
       "      <td>None</td>\n",
       "      <td>...</td>\n",
       "      <td>2012.2</td>\n",
       "      <td>ANIMALIA</td>\n",
       "      <td>CHORDATA</td>\n",
       "      <td>ACTINOPTERYGII</td>\n",
       "      <td>PERCIFORMES</td>\n",
       "      <td>POMACENTRIDAE</td>\n",
       "      <td>Teixeirichthys</td>\n",
       "      <td>jordani</td>\n",
       "      <td>LC</td>\n",
       "      <td>POLYGON ((130.9052090560001 34.02498196400006,...</td>\n",
       "    </tr>\n",
       "    <tr>\n",
       "      <th>30</th>\n",
       "      <td>154915.0</td>\n",
       "      <td>Teixeirichthys jordani</td>\n",
       "      <td>1</td>\n",
       "      <td>None</td>\n",
       "      <td>2012</td>\n",
       "      <td>Red List Index (Sampled Approach), Zoological ...</td>\n",
       "      <td>None</td>\n",
       "      <td>None</td>\n",
       "      <td>None</td>\n",
       "      <td>None</td>\n",
       "      <td>...</td>\n",
       "      <td>2012.2</td>\n",
       "      <td>ANIMALIA</td>\n",
       "      <td>CHORDATA</td>\n",
       "      <td>ACTINOPTERYGII</td>\n",
       "      <td>PERCIFORMES</td>\n",
       "      <td>POMACENTRIDAE</td>\n",
       "      <td>Teixeirichthys</td>\n",
       "      <td>jordani</td>\n",
       "      <td>LC</td>\n",
       "      <td>POLYGON ((56.32233070000007 -3.707270205999976...</td>\n",
       "    </tr>\n",
       "    <tr>\n",
       "      <th>31</th>\n",
       "      <td>154915.0</td>\n",
       "      <td>Teixeirichthys jordani</td>\n",
       "      <td>1</td>\n",
       "      <td>None</td>\n",
       "      <td>2012</td>\n",
       "      <td>Red List Index (Sampled Approach), Zoological ...</td>\n",
       "      <td>None</td>\n",
       "      <td>None</td>\n",
       "      <td>None</td>\n",
       "      <td>None</td>\n",
       "      <td>...</td>\n",
       "      <td>2012.2</td>\n",
       "      <td>ANIMALIA</td>\n",
       "      <td>CHORDATA</td>\n",
       "      <td>ACTINOPTERYGII</td>\n",
       "      <td>PERCIFORMES</td>\n",
       "      <td>POMACENTRIDAE</td>\n",
       "      <td>Teixeirichthys</td>\n",
       "      <td>jordani</td>\n",
       "      <td>LC</td>\n",
       "      <td>POLYGON ((40.64476131800006 -10.85502363999996...</td>\n",
       "    </tr>\n",
       "    <tr>\n",
       "      <th>32</th>\n",
       "      <td>154915.0</td>\n",
       "      <td>Teixeirichthys jordani</td>\n",
       "      <td>1</td>\n",
       "      <td>None</td>\n",
       "      <td>2012</td>\n",
       "      <td>Red List Index (Sampled Approach), Zoological ...</td>\n",
       "      <td>None</td>\n",
       "      <td>None</td>\n",
       "      <td>None</td>\n",
       "      <td>None</td>\n",
       "      <td>...</td>\n",
       "      <td>2012.2</td>\n",
       "      <td>ANIMALIA</td>\n",
       "      <td>CHORDATA</td>\n",
       "      <td>ACTINOPTERYGII</td>\n",
       "      <td>PERCIFORMES</td>\n",
       "      <td>POMACENTRIDAE</td>\n",
       "      <td>Teixeirichthys</td>\n",
       "      <td>jordani</td>\n",
       "      <td>LC</td>\n",
       "      <td>POLYGON ((48.11258402900006 -9.335103113999935...</td>\n",
       "    </tr>\n",
       "    <tr>\n",
       "      <th>33</th>\n",
       "      <td>154915.0</td>\n",
       "      <td>Teixeirichthys jordani</td>\n",
       "      <td>1</td>\n",
       "      <td>None</td>\n",
       "      <td>2012</td>\n",
       "      <td>Red List Index (Sampled Approach), Zoological ...</td>\n",
       "      <td>None</td>\n",
       "      <td>None</td>\n",
       "      <td>None</td>\n",
       "      <td>None</td>\n",
       "      <td>...</td>\n",
       "      <td>2012.2</td>\n",
       "      <td>ANIMALIA</td>\n",
       "      <td>CHORDATA</td>\n",
       "      <td>ACTINOPTERYGII</td>\n",
       "      <td>PERCIFORMES</td>\n",
       "      <td>POMACENTRIDAE</td>\n",
       "      <td>Teixeirichthys</td>\n",
       "      <td>jordani</td>\n",
       "      <td>LC</td>\n",
       "      <td>POLYGON ((51.75403543100003 -9.21679305899994,...</td>\n",
       "    </tr>\n",
       "  </tbody>\n",
       "</table>\n",
       "<p>7 rows × 24 columns</p>\n",
       "</div>"
      ],
      "text/plain": [
       "       ID_NO                BINOMIAL  ORIGIN COMPILER  YEAR  \\\n",
       "27  154915.0  Teixeirichthys jordani       1     None  2012   \n",
       "28  154915.0  Teixeirichthys jordani       1     None  2012   \n",
       "29  154915.0  Teixeirichthys jordani       1     None  2012   \n",
       "30  154915.0  Teixeirichthys jordani       1     None  2012   \n",
       "31  154915.0  Teixeirichthys jordani       1     None  2012   \n",
       "32  154915.0  Teixeirichthys jordani       1     None  2012   \n",
       "33  154915.0  Teixeirichthys jordani       1     None  2012   \n",
       "\n",
       "                                             CITATION SOURCE DIST_COMM ISLAND  \\\n",
       "27  Red List Index (Sampled Approach), Zoological ...   None      None   None   \n",
       "28  Red List Index (Sampled Approach), Zoological ...   None      None   None   \n",
       "29  Red List Index (Sampled Approach), Zoological ...   None      None   None   \n",
       "30  Red List Index (Sampled Approach), Zoological ...   None      None   None   \n",
       "31  Red List Index (Sampled Approach), Zoological ...   None      None   None   \n",
       "32  Red List Index (Sampled Approach), Zoological ...   None      None   None   \n",
       "33  Red List Index (Sampled Approach), Zoological ...   None      None   None   \n",
       "\n",
       "   SUBSPECIES                        ...                         RL_UPDATE  \\\n",
       "27       None                        ...                            2012.2   \n",
       "28       None                        ...                            2012.2   \n",
       "29       None                        ...                            2012.2   \n",
       "30       None                        ...                            2012.2   \n",
       "31       None                        ...                            2012.2   \n",
       "32       None                        ...                            2012.2   \n",
       "33       None                        ...                            2012.2   \n",
       "\n",
       "   KINGDOM_NA  PHYLUM_NAM      CLASS_NAME   ORDER_NAME     FAMILY_NAM  \\\n",
       "27   ANIMALIA    CHORDATA  ACTINOPTERYGII  PERCIFORMES  POMACENTRIDAE   \n",
       "28   ANIMALIA    CHORDATA  ACTINOPTERYGII  PERCIFORMES  POMACENTRIDAE   \n",
       "29   ANIMALIA    CHORDATA  ACTINOPTERYGII  PERCIFORMES  POMACENTRIDAE   \n",
       "30   ANIMALIA    CHORDATA  ACTINOPTERYGII  PERCIFORMES  POMACENTRIDAE   \n",
       "31   ANIMALIA    CHORDATA  ACTINOPTERYGII  PERCIFORMES  POMACENTRIDAE   \n",
       "32   ANIMALIA    CHORDATA  ACTINOPTERYGII  PERCIFORMES  POMACENTRIDAE   \n",
       "33   ANIMALIA    CHORDATA  ACTINOPTERYGII  PERCIFORMES  POMACENTRIDAE   \n",
       "\n",
       "        GENUS_NAME SPECIES_NA CATEGORY  \\\n",
       "27  Teixeirichthys    jordani       LC   \n",
       "28  Teixeirichthys    jordani       LC   \n",
       "29  Teixeirichthys    jordani       LC   \n",
       "30  Teixeirichthys    jordani       LC   \n",
       "31  Teixeirichthys    jordani       LC   \n",
       "32  Teixeirichthys    jordani       LC   \n",
       "33  Teixeirichthys    jordani       LC   \n",
       "\n",
       "                                             geometry  \n",
       "27  POLYGON ((121.6300326400001 33.04248618400004,...  \n",
       "28  POLYGON ((32.56219482400007 29.97488975500005,...  \n",
       "29  POLYGON ((130.9052090560001 34.02498196400006,...  \n",
       "30  POLYGON ((56.32233070000007 -3.707270205999976...  \n",
       "31  POLYGON ((40.64476131800006 -10.85502363999996...  \n",
       "32  POLYGON ((48.11258402900006 -9.335103113999935...  \n",
       "33  POLYGON ((51.75403543100003 -9.21679305899994,...  \n",
       "\n",
       "[7 rows x 24 columns]"
      ]
     },
     "execution_count": 24,
     "metadata": {},
     "output_type": "execute_result"
    }
   ],
   "source": [
    "for key, values in grouped:\n",
    "    individual_fish = values\n",
    "    \n",
    "individual_fish"
   ]
  },
  {
   "cell_type": "markdown",
   "metadata": {},
   "source": [
    "Отсюда видно, что переменная individual_fish теперь содержит все строки, принадлежащие названной рыбе . Обратите внимание, что номера индексов относятся к номерам строк в исходных данных -GeoDataFrame.Teixeirichthys jordani\n",
    "\n",
    "Давайте проверим тип данных сгруппированного объекта и что keyсодержит переменная"
   ]
  },
  {
   "cell_type": "code",
   "execution_count": 26,
   "metadata": {},
   "outputs": [
    {
     "data": {
      "text/plain": [
       "geopandas.geodataframe.GeoDataFrame"
      ]
     },
     "execution_count": 26,
     "metadata": {},
     "output_type": "execute_result"
    }
   ],
   "source": [
    "type (individual_fish)"
   ]
  },
  {
   "cell_type": "code",
   "execution_count": 27,
   "metadata": {},
   "outputs": [
    {
     "name": "stdout",
     "output_type": "stream",
     "text": [
      "Teixeirichthys jordani\n"
     ]
    }
   ],
   "source": [
    "print (key)"
   ]
  },
  {
   "cell_type": "markdown",
   "metadata": {},
   "source": [
    "Как видно из приведенного выше примера, каждый набор данных теперь сгруппирован в отдельные GeoDataFrames, которые мы можем экспортировать в Shapefiles, используя переменную key для создания имен выходных файлов. Здесь мы используем специальный метод форматирования строк для создания выходного имени файла (далее здесь ). Давайте теперь экспортируем эти виды в отдельные Shapefiles.% operator"
   ]
  },
  {
   "cell_type": "code",
   "execution_count": 29,
   "metadata": {},
   "outputs": [],
   "source": [
    "import os"
   ]
  },
  {
   "cell_type": "code",
   "execution_count": 38,
   "metadata": {},
   "outputs": [
    {
     "name": "stdout",
     "output_type": "stream",
     "text": [
      "Processing: Teixeirichthys jordani\n"
     ]
    }
   ],
   "source": [
    "outFolder = r\"C:\\Users\\s.shchus\\Documents\\GitHub\\Automatic_GIS\\DATA\"\n",
    "resultFolder = os.path.join (outFolder, 'Results')\n",
    "if not os.path.exists (resultFolder):\n",
    "    os.makedirs (resultFolder)\n",
    "    \n",
    "for key, values in grouped:\n",
    "    outName = \"%s.shp\" % key.replace (\" \",\"_\")\n",
    "    \n",
    "print (\"Processing: %s\" % key)\n",
    "\n",
    "outpath = os.path.join (resultFolder, outName)\n",
    "\n",
    "values.to_file (outpath)"
   ]
  },
  {
   "cell_type": "markdown",
   "metadata": {},
   "source": [
    "# Карта прогнозов\n",
    "Координатные системы отсчета (CRS) важны, поскольку геометрические фигуры в GeoDataFrame представляют собой просто набор координат в произвольном пространстве. CRS сообщает Python, как эти координаты связаны с местами на Земле. Проекция карты (или проецированная система координат) представляет собой систематическое преобразование широт и долгот в ровную поверхность, где единицы довольно часто представлены как метры (вместо десятичных степеней).\n",
    "\n",
    "Поскольку картографические проекции gis-слоев довольно часто определяются по-разному (т. Е. Они не совпадают), общепринятая процедура переопределяет проекции карт одинаковыми в обоих слоях. Важно, чтобы слои имели одинаковую проекцию, что позволяло анализировать пространственные отношения между слоями, например, проводить пространственный запрос Point in Polygon.\n",
    "\n",
    "К счастью, определение и изменение прогнозов легко в Geopandas. В этом уроке мы увидим, как получить информацию о системе координат из данных и как ее изменить. Мы перепроектируем файл данных из WGS84 (координаты lat, lon) в проекцию Ламберта на азимутальную равную площадь, которая является рекомендуемым прогнозом для Европы Европейской комиссией."
   ]
  },
  {
   "cell_type": "markdown",
   "metadata": {},
   "source": [
    "Загрузить данные\n",
    "Для этого урока мы будем использовать Shapefile, представляющий Европу.\n",
    "\n",
    "Система координат (CRS)\n",
    "GeoDataFrame, который считывается из Shapefile, содержит всегда (ну не всегда, но должен) информацию о системе координат, в которой проецируются данные.\n",
    "\n",
    "Начнем с чтения данных из Europe_borders.shp файла."
   ]
  },
  {
   "cell_type": "code",
   "execution_count": 40,
   "metadata": {},
   "outputs": [],
   "source": [
    "import geopandas as gpd\n",
    "\n",
    "fp = r\"C:\\Users\\s.shchus\\Documents\\GitHub\\Automatic_GIS\\DATA\\Europe_borders\\Europe_borders.shp\"\n",
    "data = gpd.read_file(fp)"
   ]
  },
  {
   "cell_type": "code",
   "execution_count": 43,
   "metadata": {},
   "outputs": [
    {
     "data": {
      "image/png": "[encoded data removed]",
      "text/plain": [
       "<Figure size 432x288 with 1 Axes>"
      ]
     },
     "metadata": {},
     "output_type": "display_data"
    }
   ],
   "source": [
    "data.plot();"
   ]
  },
  {
   "cell_type": "code",
   "execution_count": 44,
   "metadata": {},
   "outputs": [
    {
     "data": {
      "text/plain": [
       "{'init': 'epsg:4326'}"
      ]
     },
     "execution_count": 44,
     "metadata": {},
     "output_type": "execute_result"
    }
   ],
   "source": [
    "data.crs"
   ]
  },
  {
   "cell_type": "markdown",
   "metadata": {},
   "source": [
    "Okey, поэтому из этой зависимости мы можем видеть, что данные - это что-то, называемое epsg: 4326 . Номер EPSG ( «European Petroleum Survey Group» ) представляет собой код, который рассказывает о системе координат набора данных. « Набор данных геодезических параметров EPSG представляет собой набор определений систем координат и преобразований координат, которые могут быть глобальными, региональными, национальными или локальными в применении». EPSG-номер 4326, который мы имеем здесь, относится к системе координат WGS84 (т.е. координаты находятся в десятичных градусах (lat, lon)).\n",
    "\n",
    "Вы можете найти много информации о различных доступных системах координат:\n",
    "\n",
    "www.spatialreference.org/n\n",
    "www.proj4.org/n\n",
    "www.mapref.org/n\n",
    "Давайте также проверим значения в нашем geometryстолбце."
   ]
  },
  {
   "cell_type": "code",
   "execution_count": 47,
   "metadata": {},
   "outputs": [
    {
     "data": {
      "text/html": [
       "<div>\n",
       "<style scoped>\n",
       "    .dataframe tbody tr th:only-of-type {\n",
       "        vertical-align: middle;\n",
       "    }\n",
       "\n",
       "    .dataframe tbody tr th {\n",
       "        vertical-align: top;\n",
       "    }\n",
       "\n",
       "    .dataframe thead th {\n",
       "        text-align: right;\n",
       "    }\n",
       "</style>\n",
       "<table border=\"1\" class=\"dataframe\">\n",
       "  <thead>\n",
       "    <tr style=\"text-align: right;\">\n",
       "      <th></th>\n",
       "      <th>TZID</th>\n",
       "      <th>geometry</th>\n",
       "    </tr>\n",
       "  </thead>\n",
       "  <tbody>\n",
       "    <tr>\n",
       "      <th>0</th>\n",
       "      <td>Europe/Berlin</td>\n",
       "      <td>POLYGON ((8.457777976989746 54.56236267089844,...</td>\n",
       "    </tr>\n",
       "    <tr>\n",
       "      <th>1</th>\n",
       "      <td>Europe/Berlin</td>\n",
       "      <td>POLYGON ((8.71992015838623 47.69664382934571, ...</td>\n",
       "    </tr>\n",
       "    <tr>\n",
       "      <th>2</th>\n",
       "      <td>Europe/Berlin</td>\n",
       "      <td>POLYGON ((6.733166694641113 53.5740852355957, ...</td>\n",
       "    </tr>\n",
       "    <tr>\n",
       "      <th>3</th>\n",
       "      <td>Europe/Berlin</td>\n",
       "      <td>POLYGON ((6.858222007751465 53.59411239624024,...</td>\n",
       "    </tr>\n",
       "    <tr>\n",
       "      <th>4</th>\n",
       "      <td>Europe/Berlin</td>\n",
       "      <td>POLYGON ((6.89894437789917 53.6256103515625, 6...</td>\n",
       "    </tr>\n",
       "  </tbody>\n",
       "</table>\n",
       "</div>"
      ],
      "text/plain": [
       "            TZID                                           geometry\n",
       "0  Europe/Berlin  POLYGON ((8.457777976989746 54.56236267089844,...\n",
       "1  Europe/Berlin  POLYGON ((8.71992015838623 47.69664382934571, ...\n",
       "2  Europe/Berlin  POLYGON ((6.733166694641113 53.5740852355957, ...\n",
       "3  Europe/Berlin  POLYGON ((6.858222007751465 53.59411239624024,...\n",
       "4  Europe/Berlin  POLYGON ((6.89894437789917 53.6256103515625, 6..."
      ]
     },
     "execution_count": 47,
     "metadata": {},
     "output_type": "execute_result"
    }
   ],
   "source": [
    "data.head()"
   ]
  },
  {
   "cell_type": "code",
   "execution_count": 48,
   "metadata": {},
   "outputs": [
    {
     "data": {
      "text/plain": [
       "0    POLYGON ((8.457777976989746 54.56236267089844,...\n",
       "1    POLYGON ((8.71992015838623 47.69664382934571, ...\n",
       "2    POLYGON ((6.733166694641113 53.5740852355957, ...\n",
       "3    POLYGON ((6.858222007751465 53.59411239624024,...\n",
       "4    POLYGON ((6.89894437789917 53.6256103515625, 6...\n",
       "Name: geometry, dtype: object"
      ]
     },
     "execution_count": 48,
     "metadata": {},
     "output_type": "execute_result"
    }
   ],
   "source": [
    "data.geometry.head()"
   ]
  },
  {
   "cell_type": "markdown",
   "metadata": {},
   "source": [
    "Okey, поэтому значения координат многоугольников действительно выглядят как значения lat-lon.\n",
    "\n",
    "Давайте преобразуем эти геометрии в проекцию Ламберта на азимутальную равную площадь ( EPSG: 3035 ). Изменение проекции очень легко сделать в Geopandas с .to_crs()-функцией. В качестве входных данных для функции вы должны определить столбец, содержащий геометрии, то есть geometry в этом случае, и epgsзначение проекции, которое вы хотите использовать."
   ]
  },
  {
   "cell_type": "code",
   "execution_count": 49,
   "metadata": {},
   "outputs": [],
   "source": [
    "data_proj = data.copy()\n",
    "\n",
    "data_proj = data_proj.to_crs (epsg = 3035)"
   ]
  },
  {
   "cell_type": "code",
   "execution_count": 51,
   "metadata": {},
   "outputs": [
    {
     "data": {
      "text/html": [
       "<div>\n",
       "<style scoped>\n",
       "    .dataframe tbody tr th:only-of-type {\n",
       "        vertical-align: middle;\n",
       "    }\n",
       "\n",
       "    .dataframe tbody tr th {\n",
       "        vertical-align: top;\n",
       "    }\n",
       "\n",
       "    .dataframe thead th {\n",
       "        text-align: right;\n",
       "    }\n",
       "</style>\n",
       "<table border=\"1\" class=\"dataframe\">\n",
       "  <thead>\n",
       "    <tr style=\"text-align: right;\">\n",
       "      <th></th>\n",
       "      <th>TZID</th>\n",
       "      <th>geometry</th>\n",
       "    </tr>\n",
       "  </thead>\n",
       "  <tbody>\n",
       "    <tr>\n",
       "      <th>0</th>\n",
       "      <td>Europe/Berlin</td>\n",
       "      <td>POLYGON ((4221214.558088431 3496203.404338956,...</td>\n",
       "    </tr>\n",
       "    <tr>\n",
       "      <th>1</th>\n",
       "      <td>Europe/Berlin</td>\n",
       "      <td>POLYGON ((4224860.478308966 2732279.319617757,...</td>\n",
       "    </tr>\n",
       "    <tr>\n",
       "      <th>2</th>\n",
       "      <td>Europe/Berlin</td>\n",
       "      <td>POLYGON ((4104652.175545862 3390034.953002084,...</td>\n",
       "    </tr>\n",
       "    <tr>\n",
       "      <th>3</th>\n",
       "      <td>Europe/Berlin</td>\n",
       "      <td>POLYGON ((4113025.664284974 3391895.755505159,...</td>\n",
       "    </tr>\n",
       "    <tr>\n",
       "      <th>4</th>\n",
       "      <td>Europe/Berlin</td>\n",
       "      <td>POLYGON ((4115871.227627173 3395282.099288368,...</td>\n",
       "    </tr>\n",
       "  </tbody>\n",
       "</table>\n",
       "</div>"
      ],
      "text/plain": [
       "            TZID                                           geometry\n",
       "0  Europe/Berlin  POLYGON ((4221214.558088431 3496203.404338956,...\n",
       "1  Europe/Berlin  POLYGON ((4224860.478308966 2732279.319617757,...\n",
       "2  Europe/Berlin  POLYGON ((4104652.175545862 3390034.953002084,...\n",
       "3  Europe/Berlin  POLYGON ((4113025.664284974 3391895.755505159,...\n",
       "4  Europe/Berlin  POLYGON ((4115871.227627173 3395282.099288368,..."
      ]
     },
     "execution_count": 51,
     "metadata": {},
     "output_type": "execute_result"
    }
   ],
   "source": [
    "data_proj.head()"
   ]
  },
  {
   "cell_type": "code",
   "execution_count": 52,
   "metadata": {},
   "outputs": [
    {
     "data": {
      "text/plain": [
       "<matplotlib.axes._subplots.AxesSubplot at 0x277cbcf3208>"
      ]
     },
     "execution_count": 52,
     "metadata": {},
     "output_type": "execute_result"
    },
    {
     "data": {
      "image/png": "[encoded data removed]",
      "text/plain": [
       "<Figure size 432x288 with 1 Axes>"
      ]
     },
     "metadata": {},
     "output_type": "display_data"
    }
   ],
   "source": [
    "data_proj.plot()"
   ]
  },
  {
   "cell_type": "code",
   "execution_count": 58,
   "metadata": {},
   "outputs": [
    {
     "data": {
      "image/png": "[encoded data removed]",
      "text/plain": [
       "<Figure size 432x288 with 1 Axes>"
      ]
     },
     "metadata": {},
     "output_type": "display_data"
    },
    {
     "data": {
      "image/png": "[encoded data removed]",
      "text/plain": [
       "<Figure size 432x288 with 1 Axes>"
      ]
     },
     "metadata": {},
     "output_type": "display_data"
    }
   ],
   "source": [
    "import matplotlib.pyplot as plt\n",
    "\n",
    "data.plot(facecolor = 'gray');\n",
    "plt.title (\"WGS84 projection\")\n",
    "plt.tight_layout()\n",
    "\n",
    "data_proj.plot();\n",
    "plt.title(\"ETRS Lambert Azimuthal Equal Area projection\");\n",
    "plt.tight_layout()"
   ]
  },
  {
   "cell_type": "code",
   "execution_count": 59,
   "metadata": {},
   "outputs": [],
   "source": [
    "outfp = r\"C:\\Users\\s.shchus\\Documents\\GitHub\\Automatic_GIS\\DATA\\Europe_borders\\Europe_borders_epsg3035.shp\"\n",
    "\n",
    "data_proj.to_file (outfp)"
   ]
  },
  {
   "cell_type": "markdown",
   "metadata": {},
   "source": [
    "# Расчет расстояний\n",
    "Давайте продолжим работу с нашим Europe_borders.shpфайлом и узнаем евклидовы расстояния от центроидов европейских стран до Хельсинки, Финляндия. Мы рассчитаем расстояние между Хельсинки и другими европейскими странами (центроидами), используя метрическую проекцию (World Equidistant Cylindrical), которая дает нам расстояние в метрах.\n",
    "\n",
    "Давайте сначала импортируем необходимые пакеты."
   ]
  },
  {
   "cell_type": "code",
   "execution_count": 60,
   "metadata": {},
   "outputs": [],
   "source": [
    "from shapely.geometry import Point\n",
    "from fiona.crs import from_epsg"
   ]
  },
  {
   "cell_type": "markdown",
   "metadata": {},
   "source": [
    "Далее нам нужно указать нашу проекцию на метрическую систему, используя World Equidistant Cylindrical -projection, где расстояния представлены правильно от центральной долготы и широты.\n",
    "\n",
    "Давайте укажем наше целевое местоположение как координаты Хельсинки (lon = 24.9417 и lat = 60.1666)."
   ]
  },
  {
   "cell_type": "code",
   "execution_count": 61,
   "metadata": {},
   "outputs": [],
   "source": [
    "hki_lon = 24.9417\n",
    "hki_lat = 60.1666"
   ]
  },
  {
   "cell_type": "markdown",
   "metadata": {},
   "source": [
    "Затем нам нужно указать строку Proj4 для перепрограммирования наших данных в World Equidistant Cylindrical, в которой мы хотим сосредоточить нашу проекцию на Хельсинки. Для этого нам нужно указать параметры +lat_0и +lon_0параметры в строке Proj4."
   ]
  },
  {
   "cell_type": "code",
   "execution_count": 62,
   "metadata": {},
   "outputs": [],
   "source": [
    "proj4_txt = '+proj=eqc +lat_ts=60 +lat_0=60.1666 +lon_0=24.9417 +x_0=0 +y_0=0 +ellps=WGS84 +datum=WGS84 +units=m +no_defs'"
   ]
  },
  {
   "cell_type": "markdown",
   "metadata": {},
   "source": [
    "Okey, теперь мы готовы преобразовать наши Europe_borders.shpданные в желаемую проекцию. Давайте создадим новую копию нашего GeoDataFrame, которая называется data_d(d для «расстояния»)."
   ]
  },
  {
   "cell_type": "code",
   "execution_count": 63,
   "metadata": {},
   "outputs": [],
   "source": [
    "data_d = data.to_crs (proj4_txt)"
   ]
  },
  {
   "cell_type": "code",
   "execution_count": 65,
   "metadata": {},
   "outputs": [
    {
     "data": {
      "image/png": "[encoded data removed]",
      "text/plain": [
       "<Figure size 432x288 with 1 Axes>"
      ]
     },
     "metadata": {},
     "output_type": "display_data"
    }
   ],
   "source": [
    "data_d.plot (facecolor = 'white');\n",
    "plt.tight_layout();"
   ]
  },
  {
   "cell_type": "markdown",
   "metadata": {},
   "source": [
    "Okey, отсюда мы видим, что на самом деле наша карта теперь сосредоточена в Хельсинки, поскольку 0-позиция в х и у находится на вершине Хельсинки.\n",
    "\n",
    "Продолжим наш анализ, создав объект Point из Хельсинки и введем его в GeoPandas GeoSeries. Мы также указываем, что CRS GeoSeries - это WGS84. Вы можете сделать это, используя crsпараметр при создании GeoSeries."
   ]
  },
  {
   "cell_type": "code",
   "execution_count": 67,
   "metadata": {},
   "outputs": [
    {
     "name": "stdout",
     "output_type": "stream",
     "text": [
      "0    POINT (0 0)\n",
      "dtype: object\n"
     ]
    }
   ],
   "source": [
    "hki = gpd.GeoSeries([Point(hki_lon, hki_lat)], crs=from_epsg(4326))\n",
    "\n",
    "hki = hki.to_crs(proj4_txt)\n",
    "print (hki)"
   ]
  },
  {
   "cell_type": "markdown",
   "metadata": {},
   "source": [
    "Ага! Таким образом, координаты Точки Хельсинки равны 0. Это подтверждает нам, что центром нашей проекции является действительно Хельсинки.\n",
    "\n",
    "Затем нам нужно вычислить центроиды для всех полигонов европейских стран. Это можно сделать легко в Geopandas, используя centroidатрибут."
   ]
  },
  {
   "cell_type": "code",
   "execution_count": 71,
   "metadata": {},
   "outputs": [
    {
     "data": {
      "text/html": [
       "<div>\n",
       "<style scoped>\n",
       "    .dataframe tbody tr th:only-of-type {\n",
       "        vertical-align: middle;\n",
       "    }\n",
       "\n",
       "    .dataframe tbody tr th {\n",
       "        vertical-align: top;\n",
       "    }\n",
       "\n",
       "    .dataframe thead th {\n",
       "        text-align: right;\n",
       "    }\n",
       "</style>\n",
       "<table border=\"1\" class=\"dataframe\">\n",
       "  <thead>\n",
       "    <tr style=\"text-align: right;\">\n",
       "      <th></th>\n",
       "      <th>TZID</th>\n",
       "      <th>geometry</th>\n",
       "      <th>country_centroid</th>\n",
       "    </tr>\n",
       "  </thead>\n",
       "  <tbody>\n",
       "    <tr>\n",
       "      <th>0</th>\n",
       "      <td>Europe/Berlin</td>\n",
       "      <td>POLYGON ((-917490.902938765 -623860.8457602418...</td>\n",
       "      <td>POINT (-917903.9422464954 -622642.5405510699)</td>\n",
       "    </tr>\n",
       "    <tr>\n",
       "      <th>1</th>\n",
       "      <td>Europe/Berlin</td>\n",
       "      <td>POLYGON ((-902900.1358645177 -1388149.17113167...</td>\n",
       "      <td>POINT (-904392.5030473378 -1387445.472292878)</td>\n",
       "    </tr>\n",
       "    <tr>\n",
       "      <th>2</th>\n",
       "      <td>Europe/Berlin</td>\n",
       "      <td>POLYGON ((-1013482.327822457 -733875.386620624...</td>\n",
       "      <td>POINT (-1013828.626127739 -731163.5049818818)</td>\n",
       "    </tr>\n",
       "    <tr>\n",
       "      <th>3</th>\n",
       "      <td>Europe/Berlin</td>\n",
       "      <td>POLYGON ((-1006521.780934238 -731645.973295638...</td>\n",
       "      <td>POINT (-1006121.183784871 -731061.5275938646)</td>\n",
       "    </tr>\n",
       "    <tr>\n",
       "      <th>4</th>\n",
       "      <td>Europe/Berlin</td>\n",
       "      <td>POLYGON ((-1004255.184179869 -728139.636948135...</td>\n",
       "      <td>POINT (-1004463.866293951 -726347.5551024198)</td>\n",
       "    </tr>\n",
       "  </tbody>\n",
       "</table>\n",
       "</div>"
      ],
      "text/plain": [
       "            TZID                                           geometry  \\\n",
       "0  Europe/Berlin  POLYGON ((-917490.902938765 -623860.8457602418...   \n",
       "1  Europe/Berlin  POLYGON ((-902900.1358645177 -1388149.17113167...   \n",
       "2  Europe/Berlin  POLYGON ((-1013482.327822457 -733875.386620624...   \n",
       "3  Europe/Berlin  POLYGON ((-1006521.780934238 -731645.973295638...   \n",
       "4  Europe/Berlin  POLYGON ((-1004255.184179869 -728139.636948135...   \n",
       "\n",
       "                                country_centroid  \n",
       "0  POINT (-917903.9422464954 -622642.5405510699)  \n",
       "1  POINT (-904392.5030473378 -1387445.472292878)  \n",
       "2  POINT (-1013828.626127739 -731163.5049818818)  \n",
       "3  POINT (-1006121.183784871 -731061.5275938646)  \n",
       "4  POINT (-1004463.866293951 -726347.5551024198)  "
      ]
     },
     "execution_count": 71,
     "metadata": {},
     "output_type": "execute_result"
    }
   ],
   "source": [
    "data_d['country_centroid'] = data_d.centroid\n",
    "data_d.head()"
   ]
  },
  {
   "cell_type": "markdown",
   "metadata": {},
   "source": [
    "Okey, так что теперь у нас есть новый столбец country_centroidс геометриями точек, представляющими центроиды каждого многоугольника.\n",
    "\n",
    "Теперь мы можем рассчитать расстояния между центроидами и Хельсинки. В конце урока 6 курса Geo-Python мы увидели пример, в котором мы использовали apply()функцию для выполнения цикла вместо использования iterrows()функции.\n",
    "\n",
    "В (Geo) Pandas apply()функция использует numpy при циклировании и, следовательно, намного быстрее, что может принести много преимуществ скорости, когда у вас много строк для перебора. Здесь мы увидим, как мы можем использовать это для расчета расстояния между центроидами и Хельсинки. Мы создадим нашу собственную функцию для выполнения этого расчета.\n",
    "\n",
    "Давайте сначала создадим нашу функцию calculateDistance()."
   ]
  },
  {
   "cell_type": "code",
   "execution_count": 73,
   "metadata": {},
   "outputs": [],
   "source": [
    "def calculateDistance(row, dest_geom, src_col='geometry', target_col='distance'):\n",
    "    \"\"\"\n",
    "Вычисляет расстояние между одной геометрией Shapely Point и GeoDataFrame с геометриями точки. \n",
    "\n",
    "    Параметры \n",
    "    ---------- \n",
    "    dest_geom: shapely.Point \n",
    "        Единая геометрия Shapely Point, на которую рассчитываются расстояния. \n",
    "    src_col: str \n",
    "        Имя столбца, в котором есть объекты Shapely Point, из которых будут вычислены расстояния. \n",
    "    target_col: str\n",
    "        Имя целевого столбца, в котором будет сохранен результат. \n",
    "    \"\"\" \n",
    "    # Вычислить расстояния \n",
    "    dist = row[src_col].distance(dest_geom)\n",
    "    # Tranform into kilometers\n",
    "    dist_km = dist/1000\n",
    "    # Assign the distance to the original data\n",
    "    row[target_col] = dist_km\n",
    "    return row"
   ]
  },
  {
   "cell_type": "markdown",
   "metadata": {},
   "source": [
    "Строка параметров используется для передачи данных из каждой строки нашего GeoDataFrame в нашу функцию, а затем другие параметры используются для передачи другой необходимой информации для использования нашей функции.\n",
    "\n",
    "Прежде чем использовать нашу функцию и вычислить расстояния между Хельсинки и центроидами, нам нужно получить геометрию Шапилы из перепроектированной центральной точки Хельсинки. Мы можем использовать get()функцию для извлечения значения из определенного индекса (здесь индекс 0)."
   ]
  },
  {
   "cell_type": "code",
   "execution_count": 74,
   "metadata": {},
   "outputs": [
    {
     "name": "stdout",
     "output_type": "stream",
     "text": [
      "POINT (0 0)\n"
     ]
    }
   ],
   "source": [
    "hki_geom  =  hki . get ( 0 ) \n",
    "print (hki_geom)"
   ]
  },
  {
   "cell_type": "markdown",
   "metadata": {},
   "source": [
    "Теперь мы готовы использовать нашу функцию с apply()функцией. При использовании функции важно указать, что axis=1. Это указывает, что вычисления должны выполняться по строкам (вместо столбцов)."
   ]
  },
  {
   "cell_type": "code",
   "execution_count": 75,
   "metadata": {},
   "outputs": [
    {
     "data": {
      "text/html": [
       "<div>\n",
       "<style scoped>\n",
       "    .dataframe tbody tr th:only-of-type {\n",
       "        vertical-align: middle;\n",
       "    }\n",
       "\n",
       "    .dataframe tbody tr th {\n",
       "        vertical-align: top;\n",
       "    }\n",
       "\n",
       "    .dataframe thead th {\n",
       "        text-align: right;\n",
       "    }\n",
       "</style>\n",
       "<table border=\"1\" class=\"dataframe\">\n",
       "  <thead>\n",
       "    <tr style=\"text-align: right;\">\n",
       "      <th></th>\n",
       "      <th>TZID</th>\n",
       "      <th>geometry</th>\n",
       "      <th>country_centroid</th>\n",
       "      <th>dist_to_Hki</th>\n",
       "    </tr>\n",
       "  </thead>\n",
       "  <tbody>\n",
       "    <tr>\n",
       "      <th>0</th>\n",
       "      <td>Europe/Berlin</td>\n",
       "      <td>POLYGON ((-917490.902938765 -623860.8457602418...</td>\n",
       "      <td>POINT (-917903.9422464954 -622642.5405510699)</td>\n",
       "      <td>1109.157960</td>\n",
       "    </tr>\n",
       "    <tr>\n",
       "      <th>1</th>\n",
       "      <td>Europe/Berlin</td>\n",
       "      <td>POLYGON ((-902900.1358645177 -1388149.17113167...</td>\n",
       "      <td>POINT (-904392.5030473378 -1387445.472292878)</td>\n",
       "      <td>1656.179561</td>\n",
       "    </tr>\n",
       "    <tr>\n",
       "      <th>2</th>\n",
       "      <td>Europe/Berlin</td>\n",
       "      <td>POLYGON ((-1013482.327822457 -733875.386620624...</td>\n",
       "      <td>POINT (-1013828.626127739 -731163.5049818818)</td>\n",
       "      <td>1249.979421</td>\n",
       "    </tr>\n",
       "    <tr>\n",
       "      <th>3</th>\n",
       "      <td>Europe/Berlin</td>\n",
       "      <td>POLYGON ((-1006521.780934238 -731645.973295638...</td>\n",
       "      <td>POINT (-1006121.183784871 -731061.5275938646)</td>\n",
       "      <td>1243.676322</td>\n",
       "    </tr>\n",
       "    <tr>\n",
       "      <th>4</th>\n",
       "      <td>Europe/Berlin</td>\n",
       "      <td>POLYGON ((-1004255.184179869 -728139.636948135...</td>\n",
       "      <td>POINT (-1004463.866293951 -726347.5551024198)</td>\n",
       "      <td>1239.567840</td>\n",
       "    </tr>\n",
       "    <tr>\n",
       "      <th>5</th>\n",
       "      <td>Europe/Berlin</td>\n",
       "      <td>POLYGON ((-997180.2206149361 -722391.147770933...</td>\n",
       "      <td>POINT (-999775.4899468391 -722302.4737289525)</td>\n",
       "      <td>1233.398514</td>\n",
       "    </tr>\n",
       "    <tr>\n",
       "      <th>6</th>\n",
       "      <td>Europe/Berlin</td>\n",
       "      <td>POLYGON ((-989533.173666431 -717672.4352247954...</td>\n",
       "      <td>POINT (-985175.7406942118 -717933.3742549553)</td>\n",
       "      <td>1219.015820</td>\n",
       "    </tr>\n",
       "    <tr>\n",
       "      <th>7</th>\n",
       "      <td>Europe/Berlin</td>\n",
       "      <td>POLYGON ((-961035.3793522014 -713655.669388409...</td>\n",
       "      <td>POINT (-957746.955721946 -712083.932425452)</td>\n",
       "      <td>1193.458319</td>\n",
       "    </tr>\n",
       "    <tr>\n",
       "      <th>8</th>\n",
       "      <td>Europe/Berlin</td>\n",
       "      <td>POLYGON ((-944257.0800747176 -711076.768984098...</td>\n",
       "      <td>POINT (-948110.4245212735 -710339.9995444618)</td>\n",
       "      <td>1184.692488</td>\n",
       "    </tr>\n",
       "    <tr>\n",
       "      <th>9</th>\n",
       "      <td>Europe/Berlin</td>\n",
       "      <td>POLYGON ((-594066.0369506076 -719534.101513696...</td>\n",
       "      <td>POINT (-594503.8965858476 -719314.699591184)</td>\n",
       "      <td>933.192649</td>\n",
       "    </tr>\n",
       "    <tr>\n",
       "      <th>10</th>\n",
       "      <td>Europe/Berlin</td>\n",
       "      <td>POLYGON ((-934566.085757359 -718401.9841947617...</td>\n",
       "      <td>POINT (-934480.2189034087 -716904.3600333786)</td>\n",
       "      <td>1177.796732</td>\n",
       "    </tr>\n",
       "    <tr>\n",
       "      <th>11</th>\n",
       "      <td>Europe/Berlin</td>\n",
       "      <td>POLYGON ((-974160.2540840019 -717325.920696569...</td>\n",
       "      <td>POINT (-976077.0968128638 -716541.5216027802)</td>\n",
       "      <td>1210.850218</td>\n",
       "    </tr>\n",
       "    <tr>\n",
       "      <th>12</th>\n",
       "      <td>Europe/Berlin</td>\n",
       "      <td>POLYGON ((-965664.4110932787 -714496.901349703...</td>\n",
       "      <td>POINT (-968828.5116021439 -714641.7252458768)</td>\n",
       "      <td>1203.885991</td>\n",
       "    </tr>\n",
       "    <tr>\n",
       "      <th>13</th>\n",
       "      <td>Europe/Berlin</td>\n",
       "      <td>POLYGON ((-916036.0515004036 -630766.081965493...</td>\n",
       "      <td>POINT (-916878.258929198 -627947.1865208992)</td>\n",
       "      <td>1111.298075</td>\n",
       "    </tr>\n",
       "    <tr>\n",
       "      <th>14</th>\n",
       "      <td>Europe/Berlin</td>\n",
       "      <td>POLYGON ((-655225.2672885539 -629875.165935813...</td>\n",
       "      <td>POINT (-655580.9439993564 -629842.8746313635)</td>\n",
       "      <td>909.114086</td>\n",
       "    </tr>\n",
       "    <tr>\n",
       "      <th>15</th>\n",
       "      <td>Europe/Berlin</td>\n",
       "      <td>POLYGON ((-904298.0311005524 -627652.122363186...</td>\n",
       "      <td>POINT (-906674.3648090622 -627818.4406636404)</td>\n",
       "      <td>1102.821109</td>\n",
       "    </tr>\n",
       "    <tr>\n",
       "      <th>16</th>\n",
       "      <td>Europe/Berlin</td>\n",
       "      <td>POLYGON ((-658150.5229772815 -625320.368350331...</td>\n",
       "      <td>POINT (-657926.3986486319 -625671.7867475639)</td>\n",
       "      <td>907.927492</td>\n",
       "    </tr>\n",
       "    <tr>\n",
       "      <th>17</th>\n",
       "      <td>Europe/Berlin</td>\n",
       "      <td>POLYGON ((-896867.4495696494 -625422.709038200...</td>\n",
       "      <td>POINT (-897297.9395623092 -624666.5743959992)</td>\n",
       "      <td>1093.321509</td>\n",
       "    </tr>\n",
       "    <tr>\n",
       "      <th>18</th>\n",
       "      <td>Europe/Berlin</td>\n",
       "      <td>POLYGON ((-912490.806582252 -623922.8446831841...</td>\n",
       "      <td>POINT (-912527.7817372135 -622531.9121725294)</td>\n",
       "      <td>1104.650594</td>\n",
       "    </tr>\n",
       "    <tr>\n",
       "      <th>19</th>\n",
       "      <td>Europe/Berlin</td>\n",
       "      <td>POLYGON ((-923712.4523910211 -617722.952388942...</td>\n",
       "      <td>POINT (-924048.3756371824 -613308.359169716)</td>\n",
       "      <td>1109.059306</td>\n",
       "    </tr>\n",
       "  </tbody>\n",
       "</table>\n",
       "</div>"
      ],
      "text/plain": [
       "             TZID                                           geometry  \\\n",
       "0   Europe/Berlin  POLYGON ((-917490.902938765 -623860.8457602418...   \n",
       "1   Europe/Berlin  POLYGON ((-902900.1358645177 -1388149.17113167...   \n",
       "2   Europe/Berlin  POLYGON ((-1013482.327822457 -733875.386620624...   \n",
       "3   Europe/Berlin  POLYGON ((-1006521.780934238 -731645.973295638...   \n",
       "4   Europe/Berlin  POLYGON ((-1004255.184179869 -728139.636948135...   \n",
       "5   Europe/Berlin  POLYGON ((-997180.2206149361 -722391.147770933...   \n",
       "6   Europe/Berlin  POLYGON ((-989533.173666431 -717672.4352247954...   \n",
       "7   Europe/Berlin  POLYGON ((-961035.3793522014 -713655.669388409...   \n",
       "8   Europe/Berlin  POLYGON ((-944257.0800747176 -711076.768984098...   \n",
       "9   Europe/Berlin  POLYGON ((-594066.0369506076 -719534.101513696...   \n",
       "10  Europe/Berlin  POLYGON ((-934566.085757359 -718401.9841947617...   \n",
       "11  Europe/Berlin  POLYGON ((-974160.2540840019 -717325.920696569...   \n",
       "12  Europe/Berlin  POLYGON ((-965664.4110932787 -714496.901349703...   \n",
       "13  Europe/Berlin  POLYGON ((-916036.0515004036 -630766.081965493...   \n",
       "14  Europe/Berlin  POLYGON ((-655225.2672885539 -629875.165935813...   \n",
       "15  Europe/Berlin  POLYGON ((-904298.0311005524 -627652.122363186...   \n",
       "16  Europe/Berlin  POLYGON ((-658150.5229772815 -625320.368350331...   \n",
       "17  Europe/Berlin  POLYGON ((-896867.4495696494 -625422.709038200...   \n",
       "18  Europe/Berlin  POLYGON ((-912490.806582252 -623922.8446831841...   \n",
       "19  Europe/Berlin  POLYGON ((-923712.4523910211 -617722.952388942...   \n",
       "\n",
       "                                 country_centroid  dist_to_Hki  \n",
       "0   POINT (-917903.9422464954 -622642.5405510699)  1109.157960  \n",
       "1   POINT (-904392.5030473378 -1387445.472292878)  1656.179561  \n",
       "2   POINT (-1013828.626127739 -731163.5049818818)  1249.979421  \n",
       "3   POINT (-1006121.183784871 -731061.5275938646)  1243.676322  \n",
       "4   POINT (-1004463.866293951 -726347.5551024198)  1239.567840  \n",
       "5   POINT (-999775.4899468391 -722302.4737289525)  1233.398514  \n",
       "6   POINT (-985175.7406942118 -717933.3742549553)  1219.015820  \n",
       "7     POINT (-957746.955721946 -712083.932425452)  1193.458319  \n",
       "8   POINT (-948110.4245212735 -710339.9995444618)  1184.692488  \n",
       "9    POINT (-594503.8965858476 -719314.699591184)   933.192649  \n",
       "10  POINT (-934480.2189034087 -716904.3600333786)  1177.796732  \n",
       "11  POINT (-976077.0968128638 -716541.5216027802)  1210.850218  \n",
       "12  POINT (-968828.5116021439 -714641.7252458768)  1203.885991  \n",
       "13   POINT (-916878.258929198 -627947.1865208992)  1111.298075  \n",
       "14  POINT (-655580.9439993564 -629842.8746313635)   909.114086  \n",
       "15  POINT (-906674.3648090622 -627818.4406636404)  1102.821109  \n",
       "16  POINT (-657926.3986486319 -625671.7867475639)   907.927492  \n",
       "17  POINT (-897297.9395623092 -624666.5743959992)  1093.321509  \n",
       "18  POINT (-912527.7817372135 -622531.9121725294)  1104.650594  \n",
       "19   POINT (-924048.3756371824 -613308.359169716)  1109.059306  "
      ]
     },
     "execution_count": 75,
     "metadata": {},
     "output_type": "execute_result"
    }
   ],
   "source": [
    "data_d = data_d.apply(calculateDistance, dest_geom=hki_geom, src_col='country_centroid', target_col='dist_to_Hki', axis=1)\n",
    "data_d.head(20)"
   ]
  },
  {
   "cell_type": "code",
   "execution_count": 76,
   "metadata": {},
   "outputs": [
    {
     "name": "stdout",
     "output_type": "stream",
     "text": [
      "Maximum distance to Helsinki is 3199 km, and the mean distance is 1185 km.\n"
     ]
    }
   ],
   "source": [
    "max_dist = data_d['dist_to_Hki'].max()\n",
    "\n",
    "mean_dist = data_d['dist_to_Hki'].mean()\n",
    "\n",
    "print(\"Maximum distance to Helsinki is %.0f km, and the mean distance is %.0f km.\" % (max_dist, mean_dist))"
   ]
  },
  {
   "cell_type": "code",
   "execution_count": null,
   "metadata": {},
   "outputs": [],
   "source": []
  }
 ],
 "metadata": {
  "kernelspec": {
   "display_name": "Python [default]",
   "language": "python",
   "name": "python3"
  },
  "language_info": {
   "codemirror_mode": {
    "name": "ipython",
    "version": 3
   },
   "file_extension": ".py",
   "mimetype": "text/x-python",
   "name": "python",
   "nbconvert_exporter": "python",
   "pygments_lexer": "ipython3",
   "version": "3.6.4"
  }
 },
 "nbformat": 4,
 "nbformat_minor": 2
}
