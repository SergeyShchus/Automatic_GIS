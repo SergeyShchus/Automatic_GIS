{
  "nbformat": 4,
  "nbformat_minor": 0,
  "metadata": {
    "colab": {
      "name": "create new shp.ipynb",
      "provenance": [],
      "collapsed_sections": [],
      "authorship_tag": "ABX9TyNGFYJfkhAx+DMq/VGV5hJE",
      "include_colab_link": true
    },
    "kernelspec": {
      "name": "python3",
      "display_name": "Python 3"
    }
  },
  "cells": [
    {
      "cell_type": "markdown",
      "metadata": {
        "id": "view-in-github",
        "colab_type": "text"
      },
      "source": [
        "<a href=\"https://colab.research.google.com/github/SergeyShchus/Automatic_GIS/blob/master/Notebook/Geopandas/create_new_shp.ipynb\" target=\"_parent\"><img src=\"https://colab.research.google.com/assets/colab-badge.svg\" alt=\"Open In Colab\"/></a>"
      ]
    },
    {
      "cell_type": "code",
      "metadata": {
        "id": "DpYl3t60WrQu"
      },
      "source": [
        "#@title\r\n",
        "# Install OpticalRS. This also installs GeoPandas because GeoPandas is a dependency of OpticalRS\r\n",
        "!apt-get install software-properties-common python-software-properties > /dev/null\r\n",
        "!add-apt-repository ppa:ubuntugis/ppa -y > /dev/null\r\n",
        "!apt-get update > /dev/null\r\n",
        "!apt-get install -y --fix-missing python-gdal gdal-bin libgdal-dev > /dev/null\r\n",
        "!pip2 install OpticalRS > /dev/null\r\n",
        "\r\n",
        "! pip install geopandas\r\n",
        "\r\n",
        "import pandas as pd\r\n",
        "import geopandas as gpd\r\n",
        "from shapely.geometry import Point\r\n",
        "\r\n",
        "from google.colab import drive\r\n",
        "drive.mount('/content/gdrive')"
      ],
      "execution_count": null,
      "outputs": []
    },
    {
      "cell_type": "code",
      "metadata": {
        "id": "wkt53yZIXsbN"
      },
      "source": [
        "import geopandas as gpd\r\n",
        "from shapely.geometry import Point, Polygon\r\n",
        "from pyproj import CRS"
      ],
      "execution_count": 2,
      "outputs": []
    },
    {
      "cell_type": "code",
      "metadata": {
        "id": "BFcHEkOgX3Ds"
      },
      "source": [
        "newdata = gpd.GeoDataFrame()"
      ],
      "execution_count": 3,
      "outputs": []
    },
    {
      "cell_type": "code",
      "metadata": {
        "colab": {
          "base_uri": "https://localhost:8080/"
        },
        "id": "iSJGDlg_X3ql",
        "outputId": "982c1712-8991-40fc-99e1-929769df3f89"
      },
      "source": [
        "print(newdata)"
      ],
      "execution_count": 4,
      "outputs": [
        {
          "output_type": "stream",
          "text": [
            "Empty GeoDataFrame\n",
            "Columns: []\n",
            "Index: []\n"
          ],
          "name": "stdout"
        }
      ]
    },
    {
      "cell_type": "code",
      "metadata": {
        "id": "psbV8OjCX7OF"
      },
      "source": [
        "# Create a new column called 'geometry' to the GeoDataFrame\r\n",
        "newdata['geometry'] = None"
      ],
      "execution_count": 5,
      "outputs": []
    },
    {
      "cell_type": "code",
      "metadata": {
        "colab": {
          "base_uri": "https://localhost:8080/"
        },
        "id": "hHMFovQYYUxq",
        "outputId": "4ae6930a-08b3-4955-891a-5ccbf6865200"
      },
      "source": [
        "print(newdata)"
      ],
      "execution_count": 6,
      "outputs": [
        {
          "output_type": "stream",
          "text": [
            "Empty GeoDataFrame\n",
            "Columns: [geometry]\n",
            "Index: []\n"
          ],
          "name": "stdout"
        }
      ]
    },
    {
      "cell_type": "code",
      "metadata": {
        "id": "fYuP4_njYVNm"
      },
      "source": [
        "# Coordinates of the Helsinki Senate square in decimal degrees\r\n",
        "coordinates = [(24.950899, 60.169158), (24.953492, 60.169158), (24.953510, 60.170104), (24.950958, 60.169990)]"
      ],
      "execution_count": 7,
      "outputs": []
    },
    {
      "cell_type": "code",
      "metadata": {
        "id": "GQQnWWp6YdWa"
      },
      "source": [
        "# Create a Shapely polygon from the coordinate-tuple list\r\n",
        "poly = Polygon(coordinates)"
      ],
      "execution_count": 8,
      "outputs": []
    },
    {
      "cell_type": "code",
      "metadata": {
        "colab": {
          "base_uri": "https://localhost:8080/"
        },
        "id": "rpYi5ZDxYdzU",
        "outputId": "bfcc4d9b-b8ad-4542-f181-26e2d6f0a793"
      },
      "source": [
        "# Check the polyogon\r\n",
        "print(poly)"
      ],
      "execution_count": 9,
      "outputs": [
        {
          "output_type": "stream",
          "text": [
            "POLYGON ((24.950899 60.169158, 24.953492 60.169158, 24.95351 60.170104, 24.950958 60.16999, 24.950899 60.169158))\n"
          ],
          "name": "stdout"
        }
      ]
    },
    {
      "cell_type": "code",
      "metadata": {
        "id": "U9caFksEYfz3"
      },
      "source": [
        "# Insert the polygon into 'geometry' -column at row 0\r\n",
        "newdata.at[0, 'geometry'] = poly"
      ],
      "execution_count": 10,
      "outputs": []
    },
    {
      "cell_type": "code",
      "metadata": {
        "colab": {
          "base_uri": "https://localhost:8080/"
        },
        "id": "ql-EX6-RYl5E",
        "outputId": "59d84bfb-86bf-4a5b-cb73-8d76816755c1"
      },
      "source": [
        "# Let's see what we have now\r\n",
        "print(newdata)"
      ],
      "execution_count": 11,
      "outputs": [
        {
          "output_type": "stream",
          "text": [
            "                                            geometry\n",
            "0  POLYGON ((24.95090 60.16916, 24.95349 60.16916...\n"
          ],
          "name": "stdout"
        }
      ]
    },
    {
      "cell_type": "code",
      "metadata": {
        "colab": {
          "base_uri": "https://localhost:8080/",
          "height": 210
        },
        "id": "MDXfUfMRYn50",
        "outputId": "273de855-a00e-4a12-f31e-5c0d02a38694"
      },
      "source": [
        "newdata.plot()"
      ],
      "execution_count": 12,
      "outputs": [
        {
          "output_type": "execute_result",
          "data": {
            "text/plain": [
              "<matplotlib.axes._subplots.AxesSubplot at 0x7f6b59714160>"
            ]
          },
          "metadata": {
            "tags": []
          },
          "execution_count": 12
        },
        {
          "output_type": "display_data",
          "data": {
            "image/png": "[encoded data removed]",
            "text/plain": [
              "<Figure size 432x288 with 1 Axes>"
            ]
          },
          "metadata": {
            "tags": [],
            "needs_background": "light"
          }
        }
      ]
    },
    {
      "cell_type": "code",
      "metadata": {
        "colab": {
          "base_uri": "https://localhost:8080/"
        },
        "id": "nLMCmQF9Y0CT",
        "outputId": "e3d18cb3-8c55-45a1-ca21-eca9683ca20b"
      },
      "source": [
        "# Add a new column and insert data \r\n",
        "newdata.at[0, 'location'] = 'Senaatintori'\r\n",
        "\r\n",
        "# Let's check the data\r\n",
        "print(newdata)"
      ],
      "execution_count": 13,
      "outputs": [
        {
          "output_type": "stream",
          "text": [
            "                                            geometry      location\n",
            "0  POLYGON ((24.95090 60.16916, 24.95349 60.16916...  Senaatintori\n"
          ],
          "name": "stdout"
        }
      ]
    },
    {
      "cell_type": "code",
      "metadata": {
        "colab": {
          "base_uri": "https://localhost:8080/"
        },
        "id": "_O-31KOFZE8B",
        "outputId": "68d2349d-d6c9-4089-e41c-e4ff219e1642"
      },
      "source": [
        "print(newdata.crs)"
      ],
      "execution_count": 14,
      "outputs": [
        {
          "output_type": "stream",
          "text": [
            "None\n"
          ],
          "name": "stdout"
        }
      ]
    },
    {
      "cell_type": "code",
      "metadata": {
        "id": "Jzna0RwmZFTj"
      },
      "source": [
        "# Set the GeoDataFrame's coordinate system to WGS84 (i.e. epsg code 4326)\r\n",
        "newdata.crs = CRS.from_epsg(4326).to_wkt()"
      ],
      "execution_count": 15,
      "outputs": []
    },
    {
      "cell_type": "code",
      "metadata": {
        "colab": {
          "base_uri": "https://localhost:8080/"
        },
        "id": "4UvllzV1ZInU",
        "outputId": "0915088b-b15e-42d2-ce16-53a0831b5ca7"
      },
      "source": [
        "print(newdata.crs)"
      ],
      "execution_count": 16,
      "outputs": [
        {
          "output_type": "stream",
          "text": [
            "GEOGCRS[\"WGS 84\",DATUM[\"World Geodetic System 1984\",ELLIPSOID[\"WGS 84\",6378137,298.257223563,LENGTHUNIT[\"metre\",1]]],PRIMEM[\"Greenwich\",0,ANGLEUNIT[\"degree\",0.0174532925199433]],CS[ellipsoidal,2],AXIS[\"geodetic latitude (Lat)\",north,ORDER[1],ANGLEUNIT[\"degree\",0.0174532925199433]],AXIS[\"geodetic longitude (Lon)\",east,ORDER[2],ANGLEUNIT[\"degree\",0.0174532925199433]],USAGE[SCOPE[\"Horizontal component of 3D system.\"],AREA[\"World.\"],BBOX[-90,-180,90,180]],ID[\"EPSG\",4326]]\n"
          ],
          "name": "stdout"
        }
      ]
    },
    {
      "cell_type": "code",
      "metadata": {
        "colab": {
          "base_uri": "https://localhost:8080/",
          "height": 306
        },
        "id": "TmVMCT-3ZKBD",
        "outputId": "8363db58-3b7c-48f1-d394-269cfaebe518"
      },
      "source": [
        "newdata.plot()"
      ],
      "execution_count": 17,
      "outputs": [
        {
          "output_type": "execute_result",
          "data": {
            "text/plain": [
              "<matplotlib.axes._subplots.AxesSubplot at 0x7f6b507ce470>"
            ]
          },
          "metadata": {
            "tags": []
          },
          "execution_count": 17
        },
        {
          "output_type": "display_data",
          "data": {
            "image/png": "[encoded data removed]",
            "text/plain": [
              "<Figure size 432x288 with 1 Axes>"
            ]
          },
          "metadata": {
            "tags": [],
            "needs_background": "light"
          }
        }
      ]
    },
    {
      "cell_type": "code",
      "metadata": {
        "colab": {
          "base_uri": "https://localhost:8080/"
        },
        "id": "EJKwLJjgZk-6",
        "outputId": "561e596b-6d29-4737-d2fd-e3310ca03fdf"
      },
      "source": [
        "import os\r\n",
        "output_folder = r\"L3_data/\"\r\n",
        "\r\n",
        "# Create a new folder called 'Results' \r\n",
        "result_folder = os.path.join(output_folder, 'Results')\r\n",
        "\r\n",
        "# Check if the folder exists already\r\n",
        "if not os.path.exists(result_folder):\r\n",
        "    \r\n",
        "    print(\"Creating a folder for the results..\")\r\n",
        "    # If it does not exist, create one\r\n",
        "    os.makedirs(result_folder)\r\n",
        "    \r\n",
        "else:\r\n",
        "    print(\"Results folder exists already.\")"
      ],
      "execution_count": 20,
      "outputs": [
        {
          "output_type": "stream",
          "text": [
            "Creating a folder for the results..\n"
          ],
          "name": "stdout"
        }
      ]
    },
    {
      "cell_type": "code",
      "metadata": {
        "id": "uXsgjrnmZMsn"
      },
      "source": [
        "# Determine the output path for the Shapefile\r\n",
        "outfp = \"L3_data/Senaatintori.shp\"\r\n",
        "\r\n",
        "# Write the data into that Shapefile\r\n",
        "newdata.to_file(outfp)"
      ],
      "execution_count": 21,
      "outputs": []
    }
  ]
}